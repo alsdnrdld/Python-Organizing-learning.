{
 "cells": [
  {
   "cell_type": "markdown",
   "metadata": {
    "id": "pOdYzjmEAGhg"
   },
   "source": [
    "## 네이버 금융 개별종목 수집\n",
    "* FinanceDataReader를 통해 수집했던 데이터를 네이버 증권 웹 페이지를 통해 직접 수집합니다.\n",
    "\n",
    "\n",
    "### Keyword\n",
    "\n",
    "* html 파일 읽어오기\n",
    "    * pd.read_html(url, encoding=\"cp949\")\n",
    "\n",
    "* 결측 데이터 제거하기(axis 0:행, 1:열)\n",
    "    * table[0].dropna()\n",
    "\n",
    "* 데이터 프레임 합치기\n",
    "    * pd.concat([df1, df2, df3])\n",
    "\n",
    "* 중복데이터 제거\n",
    "    * df.drop_duplicates()\n",
    "\n",
    "* 과학적 기수법\n",
    "    * 1.210000e+02 => 121\n",
    "\n",
    "* 날짜 column의 첫 row값 확인\n",
    "    * date = df.iloc[0][\"날짜\"]\n",
    "\n",
    "* 파일로 저장하기 \n",
    "    * df.to_csv(file_name, index=False)\n",
    "\n",
    "* 파일 읽어오기\n",
    "    * pd.read_csv(file_name)"
   ]
  },
  {
   "cell_type": "markdown",
   "metadata": {
    "id": "-lIn4AdJTMkA"
   },
   "source": [
    "## 수집할 페이지 보기\n",
    "\n",
    "* 네이버 금융 국내증시 : https://finance.naver.com/sise/\n",
    "* 2020년 주요 상장종목\n",
    "    * 하이브 : https://finance.naver.com/item/main.nhn?code=352820\n",
    "    * 카카오게임즈 : https://finance.naver.com/item/main.nhn?code=293490\n",
    "    * SK바이오팜 : https://finance.naver.com/item/main.nhn?code=326030"
   ]
  },
  {
   "cell_type": "markdown",
   "metadata": {
    "id": "2TQ3QBpMpzJ7"
   },
   "source": [
    "## 라이브러리 로드"
   ]
  },
  {
   "cell_type": "code",
   "execution_count": 1,
   "metadata": {
    "id": "6Mm8vuymTMkA"
   },
   "outputs": [],
   "source": [
    "# 라이브러리 로드\n",
    "import pandas as pd"
   ]
  },
  {
   "cell_type": "markdown",
   "metadata": {
    "id": "u6LPTaoRpzJ8"
   },
   "source": [
    "## 수집할 URL 정하기"
   ]
  },
  {
   "cell_type": "code",
   "execution_count": 21,
   "metadata": {
    "id": "QzZJoAvoTMkA"
   },
   "outputs": [
    {
     "data": {
      "text/plain": [
       "'https://finance.naver.com/item/sise_day.nhn?code=352820&page=1'"
      ]
     },
     "execution_count": 21,
     "metadata": {},
     "output_type": "execute_result"
    }
   ],
   "source": [
    "# 종목번호와 상장사 이름을 item_code와 item_name으로 설정\n",
    "item_code = \"352820\"\n",
    "item_name = \"하이브\"\n",
    "\n",
    "#item_code = \"326030\"\n",
    "#item_name = \"SK바이오팜\"\n",
    "\n",
    "# 종목 URL 만들기\n",
    "url = \"https://finance.naver.com/item/sise_day.nhn?code=352820&page=1\"\n",
    "url"
   ]
  },
  {
   "cell_type": "markdown",
   "metadata": {
    "id": "omqDL0q0pzJ9"
   },
   "source": [
    "## requests를 통한 HTTP 요청\n",
    "* [Requests: HTTP for Humans™ — Requests documentation](https://requests.readthedocs.io/en/master/)\n",
    "* [Quickstart — Requests documentation # custom-headers](https://requests.readthedocs.io/en/latest/user/quickstart/#custom-headers)\n",
    "\n",
    "\n",
    "url이 안나오는 이유는 무분별한 접근을 막기위해 header를 숨겨 놨기 때문이다 \n",
    "\n",
    "f12 ->  가지고 오려는 url에 있는 테이블 항목 아무거나 클릭 -> 네트워크 ->headers -> 쿼리스트링 항목 위에있는 user-agent내용 복사\n",
    "\n",
    "{\"key\":\"value\"}형태로 가지고온 user-agent를 초기화 해주고 url의 headers에 초기화 하면 된다.\n",
    "\n",
    "headers = {\"user-agent\":\"복사주소\"}  -> 이값을 url의 headers옵션에 초기화해주면 된다."
   ]
  },
  {
   "cell_type": "code",
   "execution_count": 31,
   "metadata": {
    "id": "4N9pP-4EpzJ-"
   },
   "outputs": [],
   "source": [
    "import requests"
   ]
  },
  {
   "cell_type": "code",
   "execution_count": 39,
   "metadata": {},
   "outputs": [
    {
     "data": {
      "text/plain": [
       "{'user-agent': 'Mozilla/5.0 (Windows NT 10.0; Win64; x64) AppleWebKit/537.36 (KHTML, like Gecko) Chrome/91.0.4472.114 Safari/537.36'}"
      ]
     },
     "execution_count": 39,
     "metadata": {},
     "output_type": "execute_result"
    }
   ],
   "source": [
    "headers={\"user-agent\": \"Mozilla/5.0 (Windows NT 10.0; Win64; x64) AppleWebKit/537.36 (KHTML, like Gecko) Chrome/91.0.4472.114 Safari/537.36\"}\n",
    "headers"
   ]
  },
  {
   "cell_type": "code",
   "execution_count": 43,
   "metadata": {},
   "outputs": [
    {
     "data": {
      "text/plain": [
       "dict"
      ]
     },
     "execution_count": 43,
     "metadata": {},
     "output_type": "execute_result"
    }
   ],
   "source": [
    "type(headers)"
   ]
  },
  {
   "cell_type": "code",
   "execution_count": 40,
   "metadata": {},
   "outputs": [
    {
     "data": {
      "text/plain": [
       "<Response [200]>"
      ]
     },
     "execution_count": 40,
     "metadata": {},
     "output_type": "execute_result"
    }
   ],
   "source": [
    "response = requests.get(url,headers=headers)\n",
    "response"
   ]
  },
  {
   "cell_type": "code",
   "execution_count": 44,
   "metadata": {},
   "outputs": [
    {
     "data": {
      "text/plain": [
       "'\\n<html lang=\"ko\">\\n<head>\\n<meta http-equiv=\"Content-Type\" content=\"text/html; charset=euc-kr\">\\n<title>네이버 금융</title>\\n\\n<link rel=\"stylesheet\" type=\"text/css\" href=\"https://ssl.pstatic.net/imgstock/static.pc/20210624194556/css/newstock.css\">\\n<link rel=\"stylesheet\" type=\"text/css\" href=\"https://ssl.pstatic.net/imgstock/static.pc/20210624194556/css/common.css\">\\n<link rel=\"stylesheet\" type=\"text/css\" href=\"https://ssl.pstatic.net/imgstock/static.pc/20210624194556/css/layout.css\">\\n<link rel=\"stylesheet\" type=\"text/css\" href=\"https://ssl.pstatic.net/imgstock/static.pc/20210624194556/css/main.css\">\\n<link rel=\"stylesheet\" type=\"text/css\" href=\"https://ssl.pstatic.net/imgstock/static.pc/20210624194556/css/newstock2.css\">\\n<link rel=\"stylesheet\" type=\"text/css\" href=\"https://ssl.pstatic.net/imgstock/static.pc/20210624194556/css/newstock3.css\">\\n<link rel=\"stylesheet\" type=\"text/css\" href=\"https://ssl.pstatic.net/imgstock/static.pc/20210624194556/css/world.css\">\\n</head>\\n<body>\\n<script language=\"JavaScript\">\\nfunction mouseOver(obj){\\n  obj.style.backgroundColor=\"#f6f4e5\";\\n}\\nfunction mouseOut(obj){\\n  obj.style.backgroundColor=\"#ffffff\";\\n}\\n</script>\\n\\t\\t\\t\\t<h4 class=\"tlline2\"><strong><span class=\"red03\">일별</span>시세</strong></h4>\\t\\t\\t\\n\\t\\t\\t\\t<table cellspacing=\"0\" class=\"type2\">\\n\\t\\t\\t\\t<tr>\\n\\t\\t\\t\\t<th>날짜</th>\\n\\t\\t\\t\\t<th>종가</th>\\n\\t\\t\\t\\t<th>전일비</th>\\n\\t\\t\\t\\t<th>시가</th>\\n\\t\\t\\t\\t<th>고가</th>\\n\\t\\t\\t\\t<th>저가</th>\\n\\t\\t\\t\\t<th>거래량</th>\\n\\t\\t\\t\\t</tr>\\n\\t\\t\\t\\t<tr>\\n\\t\\t\\t\\t<td colspan=\"7\" height=\"8\"></td>\\n\\t\\t\\t\\t</tr>\\n\\n\\n\\t\\n\\t\\t\\t\\t<tr onMouseOver=\"mouseOver(this)\" onMouseOut=\"mouseOut(this)\">\\n\\t\\t\\t\\t<td align=\"center\"><span class=\"tah p10 gray03\">2021.06.28</span></td>\\n\\t\\t\\t\\t<td class=\"num\"><span class=\"tah p11\">312,000</span></td>\\n\\t\\t\\t\\t<td class=\"num\">\\n\\t\\t\\t\\t<img src=\"https://ssl.pstatic.net/imgstock/images/images4/ico_down.gif\" width=\"7\" height=\"6\" style=\"margin-right:4px;\" alt=\"하락\"><span class=\"tah p11 nv01\">\\n\\t\\t\\t\\t2,000\\n\\t\\t\\t\\t</span>\\n\\t\\t\\t</td>\\n\\t\\t\\t\\t<td class=\"num\"><span class=\"tah p11\">310,500</span></td>\\n\\t\\t\\t\\t<td class=\"num\"><span class=\"tah p11\">317,000</span></td>\\n\\t\\t\\t\\t<td class=\"num\"><span class=\"tah p11\">307,500</span></td>\\n\\t\\t\\t\\t<td class=\"num\"><span class=\"tah p11\">262,112</span></td>\\n\\t\\t\\t\\t</tr>\\n\\t\\t\\n\\t\\t\\t\\n\\t\\t\\t\\t\\n\\t\\t\\t\\t\\t<tr onMouseOver=\"mouseOver(this)\" onMouseOut=\"mouseOut(this)\">\\n\\t\\t\\t\\t\\t<td align=\"center\"><span class=\"tah p10 gray03\">2021.06.25</span></td>\\n\\t\\t\\t\\t\\t<td class=\"num\"><span class=\"tah p11\">314,000</span></td>\\n\\t\\t\\t\\t\\t<td class=\"num\">\\n\\t\\t\\t\\t<img src=\"https://ssl.pstatic.net/imgstock/images/images4/ico_down.gif\" width=\"7\" height=\"6\" style=\"margin-right:4px;\" alt=\"하락\"><span class=\"tah p11 nv01\">\\n\\t\\t\\t\\t8,000\\n\\t\\t\\t\\t</span>\\n\\t\\t\\t</td>\\n\\t\\t\\t\\t\\t<td class=\"num\"><span class=\"tah p11\">326,000</span></td>\\n\\t\\t\\t\\t\\t<td class=\"num\"><span class=\"tah p11\">326,500</span></td>\\n\\t\\t\\t\\t\\t<td class=\"num\"><span class=\"tah p11\">312,000</span></td>\\n\\t\\t\\t\\t\\t<td class=\"num\"><span class=\"tah p11\">354,850</span></td>\\n\\t\\t\\t\\t\\t</tr>\\n\\t\\t\\t\\t\\n\\t\\t\\t\\t\\n\\t\\t\\t\\n\\t\\t\\t\\n\\t\\t\\t\\n\\t\\t\\t\\n\\t\\t\\t\\n\\t\\n\\t\\t\\n\\t\\t\\t\\n\\t\\t\\t\\t\\n\\t\\t\\t\\t\\t<tr onMouseOver=\"mouseOver(this)\" onMouseOut=\"mouseOut(this)\">\\n\\t\\t\\t\\t\\t<td align=\"center\"><span class=\"tah p10 gray03\">2021.06.24</span></td>\\n\\t\\t\\t\\t\\t<td class=\"num\"><span class=\"tah p11\">322,000</span></td>\\n\\t\\t\\t\\t\\t<td class=\"num\">\\n\\t\\t\\t\\t<img src=\"https://ssl.pstatic.net/imgstock/images/images4/ico_up.gif\" width=\"7\" height=\"6\" style=\"margin-right:4px;\" alt=\"상승\"><span class=\"tah p11 red02\">\\n\\t\\t\\t\\t500\\n\\t\\t\\t\\t</span>\\n\\t\\t\\t</td>\\n\\t\\t\\t\\t\\t<td class=\"num\"><span class=\"tah p11\">326,000</span></td>\\n\\t\\t\\t\\t\\t<td class=\"num\"><span class=\"tah p11\">329,500</span></td>\\n\\t\\t\\t\\t\\t<td class=\"num\"><span class=\"tah p11\">317,500</span></td>\\n\\t\\t\\t\\t\\t<td class=\"num\"><span class=\"tah p11\">375,522</span></td>\\n\\t\\t\\t\\t\\t</tr>\\n\\t\\t\\t\\t\\n\\t\\t\\t\\t\\n\\t\\t\\t\\n\\t\\t\\t\\n\\t\\t\\t\\n\\t\\t\\t\\n\\t\\t\\t\\n\\t\\n\\t\\t\\n\\t\\t\\t\\n\\t\\t\\t\\t\\n\\t\\t\\t\\t\\t<tr onMouseOver=\"mouseOver(this)\" onMouseOut=\"mouseOut(this)\">\\n\\t\\t\\t\\t\\t<td align=\"center\"><span class=\"tah p10 gray03\">2021.06.23</span></td>\\n\\t\\t\\t\\t\\t<td class=\"num\"><span class=\"tah p11\">321,500</span></td>\\n\\t\\t\\t\\t\\t<td class=\"num\">\\n\\t\\t\\t\\t<img src=\"https://ssl.pstatic.net/imgstock/images/images4/ico_down.gif\" width=\"7\" height=\"6\" style=\"margin-right:4px;\" alt=\"하락\"><span class=\"tah p11 nv01\">\\n\\t\\t\\t\\t3,000\\n\\t\\t\\t\\t</span>\\n\\t\\t\\t</td>\\n\\t\\t\\t\\t\\t<td class=\"num\"><span class=\"tah p11\">334,500</span></td>\\n\\t\\t\\t\\t\\t<td class=\"num\"><span class=\"tah p11\">337,000</span></td>\\n\\t\\t\\t\\t\\t<td class=\"num\"><span class=\"tah p11\">318,500</span></td>\\n\\t\\t\\t\\t\\t<td class=\"num\"><span class=\"tah p11\">687,701</span></td>\\n\\t\\t\\t\\t\\t</tr>\\n\\t\\t\\t\\t\\n\\t\\t\\t\\t\\n\\t\\t\\t\\n\\t\\t\\t\\n\\t\\t\\t\\n\\t\\t\\t\\n\\t\\t\\t\\n\\t\\n\\t\\t\\n\\t\\t\\t\\n\\t\\t\\t\\t\\n\\t\\t\\t\\t\\t<tr onMouseOver=\"mouseOver(this)\" onMouseOut=\"mouseOut(this)\">\\n\\t\\t\\t\\t\\t<td align=\"center\"><span class=\"tah p10 gray03\">2021.06.22</span></td>\\n\\t\\t\\t\\t\\t<td class=\"num\"><span class=\"tah p11\">324,500</span></td>\\n\\t\\t\\t\\t\\t<td class=\"num\">\\n\\t\\t\\t\\t<img src=\"https://ssl.pstatic.net/imgstock/images/images4/ico_up.gif\" width=\"7\" height=\"6\" style=\"margin-right:4px;\" alt=\"상승\"><span class=\"tah p11 red02\">\\n\\t\\t\\t\\t16,500\\n\\t\\t\\t\\t</span>\\n\\t\\t\\t</td>\\n\\t\\t\\t\\t\\t<td class=\"num\"><span class=\"tah p11\">311,000</span></td>\\n\\t\\t\\t\\t\\t<td class=\"num\"><span class=\"tah p11\">324,500</span></td>\\n\\t\\t\\t\\t\\t<td class=\"num\"><span class=\"tah p11\">311,000</span></td>\\n\\t\\t\\t\\t\\t<td class=\"num\"><span class=\"tah p11\">607,966</span></td>\\n\\t\\t\\t\\t\\t</tr>\\n\\t\\t\\t\\t\\n\\t\\t\\t\\t\\n\\t\\t\\t\\n\\t\\t\\t\\n\\t\\t\\t\\n\\t\\t\\t\\n\\t\\t\\t\\t<tr>\\n\\t\\t\\t\\t<td colspan=\"7\" height=\"8\"></td>\\n\\t\\t\\t\\t</tr>\\n\\t\\t\\t\\t<tr>\\n\\t\\t\\t\\t<td colspan=\"7\" height=\"1\" bgcolor=\"#e1e1e1\"></td>\\n\\t\\t\\t\\t</tr>\\n\\t\\t\\t\\t<tr>\\n\\t\\t\\t\\t<td colspan=\"7\" height=\"8\"></td>\\n\\t\\t\\t\\t</tr>\\n\\t\\t\\t\\n\\t\\t\\t\\n\\t\\n\\t\\t\\n\\t\\t\\t\\n\\t\\t\\t\\t\\n\\t\\t\\t\\t\\t<tr onMouseOver=\"mouseOver(this)\" onMouseOut=\"mouseOut(this)\">\\n\\t\\t\\t\\t\\t<td align=\"center\"><span class=\"tah p10 gray03\">2021.06.21</span></td>\\n\\t\\t\\t\\t\\t<td class=\"num\"><span class=\"tah p11\">308,000</span></td>\\n\\t\\t\\t\\t\\t<td class=\"num\">\\n\\t\\t\\t\\t<img src=\"https://ssl.pstatic.net/imgstock/images/images4/ico_down.gif\" width=\"7\" height=\"6\" style=\"margin-right:4px;\" alt=\"하락\"><span class=\"tah p11 nv01\">\\n\\t\\t\\t\\t5,000\\n\\t\\t\\t\\t</span>\\n\\t\\t\\t</td>\\n\\t\\t\\t\\t\\t<td class=\"num\"><span class=\"tah p11\">313,000</span></td>\\n\\t\\t\\t\\t\\t<td class=\"num\"><span class=\"tah p11\">321,000</span></td>\\n\\t\\t\\t\\t\\t<td class=\"num\"><span class=\"tah p11\">299,500</span></td>\\n\\t\\t\\t\\t\\t<td class=\"num\"><span class=\"tah p11\">556,480</span></td>\\n\\t\\t\\t\\t\\t</tr>\\n\\t\\t\\t\\t\\n\\t\\t\\t\\t\\n\\t\\t\\t\\n\\t\\t\\t\\n\\t\\t\\t\\n\\t\\t\\t\\n\\t\\t\\t\\n\\t\\n\\t\\t\\n\\t\\t\\t\\n\\t\\t\\t\\t\\n\\t\\t\\t\\t\\t<tr onMouseOver=\"mouseOver(this)\" onMouseOut=\"mouseOut(this)\">\\n\\t\\t\\t\\t\\t<td align=\"center\"><span class=\"tah p10 gray03\">2021.06.18</span></td>\\n\\t\\t\\t\\t\\t<td class=\"num\"><span class=\"tah p11\">313,000</span></td>\\n\\t\\t\\t\\t\\t<td class=\"num\">\\n\\t\\t\\t\\t<img src=\"https://ssl.pstatic.net/imgstock/images/images4/ico_up.gif\" width=\"7\" height=\"6\" style=\"margin-right:4px;\" alt=\"상승\"><span class=\"tah p11 red02\">\\n\\t\\t\\t\\t16,000\\n\\t\\t\\t\\t</span>\\n\\t\\t\\t</td>\\n\\t\\t\\t\\t\\t<td class=\"num\"><span class=\"tah p11\">298,500</span></td>\\n\\t\\t\\t\\t\\t<td class=\"num\"><span class=\"tah p11\">326,500</span></td>\\n\\t\\t\\t\\t\\t<td class=\"num\"><span class=\"tah p11\">297,500</span></td>\\n\\t\\t\\t\\t\\t<td class=\"num\"><span class=\"tah p11\">1,630,734</span></td>\\n\\t\\t\\t\\t\\t</tr>\\n\\t\\t\\t\\t\\n\\t\\t\\t\\t\\n\\t\\t\\t\\n\\t\\t\\t\\n\\t\\t\\t\\n\\t\\t\\t\\n\\t\\t\\t\\n\\t\\n\\t\\t\\n\\t\\t\\t\\n\\t\\t\\t\\t\\n\\t\\t\\t\\t\\t<tr onMouseOver=\"mouseOver(this)\" onMouseOut=\"mouseOut(this)\">\\n\\t\\t\\t\\t\\t<td align=\"center\"><span class=\"tah p10 gray03\">2021.06.17</span></td>\\n\\t\\t\\t\\t\\t<td class=\"num\"><span class=\"tah p11\">297,000</span></td>\\n\\t\\t\\t\\t\\t<td class=\"num\">\\n\\t\\t\\t\\t<img src=\"https://ssl.pstatic.net/imgstock/images/images4/ico_up.gif\" width=\"7\" height=\"6\" style=\"margin-right:4px;\" alt=\"상승\"><span class=\"tah p11 red02\">\\n\\t\\t\\t\\t5,000\\n\\t\\t\\t\\t</span>\\n\\t\\t\\t</td>\\n\\t\\t\\t\\t\\t<td class=\"num\"><span class=\"tah p11\">292,000</span></td>\\n\\t\\t\\t\\t\\t<td class=\"num\"><span class=\"tah p11\">301,000</span></td>\\n\\t\\t\\t\\t\\t<td class=\"num\"><span class=\"tah p11\">289,000</span></td>\\n\\t\\t\\t\\t\\t<td class=\"num\"><span class=\"tah p11\">567,305</span></td>\\n\\t\\t\\t\\t\\t</tr>\\n\\t\\t\\t\\t\\n\\t\\t\\t\\t\\n\\t\\t\\t\\n\\t\\t\\t\\n\\t\\t\\t\\n\\t\\t\\t\\n\\t\\t\\t\\n\\t\\n\\t\\t\\n\\t\\t\\t\\n\\t\\t\\t\\t\\n\\t\\t\\t\\t\\t<tr onMouseOver=\"mouseOver(this)\" onMouseOut=\"mouseOut(this)\">\\n\\t\\t\\t\\t\\t<td align=\"center\"><span class=\"tah p10 gray03\">2021.06.16</span></td>\\n\\t\\t\\t\\t\\t<td class=\"num\"><span class=\"tah p11\">292,000</span></td>\\n\\t\\t\\t\\t\\t<td class=\"num\">\\n\\t\\t\\t\\t<img src=\"https://ssl.pstatic.net/imgstock/images/images4/ico_up.gif\" width=\"7\" height=\"6\" style=\"margin-right:4px;\" alt=\"상승\"><span class=\"tah p11 red02\">\\n\\t\\t\\t\\t3,000\\n\\t\\t\\t\\t</span>\\n\\t\\t\\t</td>\\n\\t\\t\\t\\t\\t<td class=\"num\"><span class=\"tah p11\">290,500</span></td>\\n\\t\\t\\t\\t\\t<td class=\"num\"><span class=\"tah p11\">298,000</span></td>\\n\\t\\t\\t\\t\\t<td class=\"num\"><span class=\"tah p11\">287,000</span></td>\\n\\t\\t\\t\\t\\t<td class=\"num\"><span class=\"tah p11\">478,261</span></td>\\n\\t\\t\\t\\t\\t</tr>\\n\\t\\t\\t\\t\\n\\t\\t\\t\\t\\n\\t\\t\\t\\n\\t\\t\\t\\n\\t\\t\\t\\n\\t\\t\\t\\n\\t\\t\\t\\n\\t\\n\\t\\t\\n\\t\\t\\t\\n\\t\\t\\t\\t\\n\\t\\t\\t\\t\\t<tr onMouseOver=\"mouseOver(this)\" onMouseOut=\"mouseOut(this)\">\\n\\t\\t\\t\\t\\t<td align=\"center\"><span class=\"tah p10 gray03\">2021.06.15</span></td>\\n\\t\\t\\t\\t\\t<td class=\"num\"><span class=\"tah p11\">289,000</span></td>\\n\\t\\t\\t\\t\\t<td class=\"num\">\\n\\t\\t\\t\\t<img src=\"https://ssl.pstatic.net/imgstock/images/images4/ico_up.gif\" width=\"7\" height=\"6\" style=\"margin-right:4px;\" alt=\"상승\"><span class=\"tah p11 red02\">\\n\\t\\t\\t\\t7,000\\n\\t\\t\\t\\t</span>\\n\\t\\t\\t</td>\\n\\t\\t\\t\\t\\t<td class=\"num\"><span class=\"tah p11\">285,000</span></td>\\n\\t\\t\\t\\t\\t<td class=\"num\"><span class=\"tah p11\">293,000</span></td>\\n\\t\\t\\t\\t\\t<td class=\"num\"><span class=\"tah p11\">279,500</span></td>\\n\\t\\t\\t\\t\\t<td class=\"num\"><span class=\"tah p11\">461,455</span></td>\\n\\t\\t\\t\\t\\t</tr>\\n\\t\\t\\t\\t\\n\\t\\t\\t\\t\\n\\t\\t\\t\\n\\t\\t\\t\\n\\t\\t\\t\\n\\t\\t\\t\\n\\t\\t\\t\\n\\t\\n\\t\\t\\n\\t\\n\\t\\n\\t\\n\\n\\t\\t\\t\\t<tr>\\n\\t\\t\\t\\t<td colspan=\"7\" height=\"8\"></td>\\n\\t\\t\\t\\t</tr>\\n\\t\\t\\t\\t</table>\\n\\t\\t\\t\\t<!--- 페이지 네비게이션 시작--->\\n\\t\\t\\t\\t<table summary=\"페이지 네비게이션 리스트\" class=\"Nnavi\" align=\"center\">\\n\\t\\t\\t\\t<caption>페이지 네비게이션</caption>\\n\\t\\t\\t\\t<tr>\\t\\t\\n\\t\\t\\t\\n\\t\\t\\t\\t\\n                \\n                <td class=\"on\">\\n\\t\\t\\t\\t<a href=\"/item/sise_day.nhn?code=352820&amp;page=1\"  >1</a>\\n\\t\\t\\t\\t</td>\\n<td>\\n\\t\\t\\t\\t<a href=\"/item/sise_day.nhn?code=352820&amp;page=2\"  >2</a>\\n\\t\\t\\t\\t</td>\\n<td>\\n\\t\\t\\t\\t<a href=\"/item/sise_day.nhn?code=352820&amp;page=3\"  >3</a>\\n\\t\\t\\t\\t</td>\\n<td>\\n\\t\\t\\t\\t<a href=\"/item/sise_day.nhn?code=352820&amp;page=4\"  >4</a>\\n\\t\\t\\t\\t</td>\\n<td>\\n\\t\\t\\t\\t<a href=\"/item/sise_day.nhn?code=352820&amp;page=5\"  >5</a>\\n\\t\\t\\t\\t</td>\\n<td>\\n\\t\\t\\t\\t<a href=\"/item/sise_day.nhn?code=352820&amp;page=6\"  >6</a>\\n\\t\\t\\t\\t</td>\\n<td>\\n\\t\\t\\t\\t<a href=\"/item/sise_day.nhn?code=352820&amp;page=7\"  >7</a>\\n\\t\\t\\t\\t</td>\\n<td>\\n\\t\\t\\t\\t<a href=\"/item/sise_day.nhn?code=352820&amp;page=8\"  >8</a>\\n\\t\\t\\t\\t</td>\\n<td>\\n\\t\\t\\t\\t<a href=\"/item/sise_day.nhn?code=352820&amp;page=9\"  >9</a>\\n\\t\\t\\t\\t</td>\\n<td>\\n\\t\\t\\t\\t<a href=\"/item/sise_day.nhn?code=352820&amp;page=10\"  >10</a>\\n\\t\\t\\t\\t</td>\\n\\n                <td class=\"pgR\">\\n\\t\\t\\t\\t<a href=\"/item/sise_day.nhn?code=352820&amp;page=11\"  >\\n\\t\\t\\t\\t다음<img src=\"https://ssl.pstatic.net/static/n/cmn/bu_pgarR.gif\" width=\"3\" height=\"5\" alt=\"\" border=\"0\">\\n\\t\\t\\t\\t</a>\\n\\t\\t\\t\\t</td>\\n\\n                <td class=\"pgRR\">\\n\\t\\t\\t\\t<a href=\"/item/sise_day.nhn?code=352820&amp;page=18\"  >맨뒤\\n\\t\\t\\t\\t<img src=\"https://ssl.pstatic.net/static/n/cmn/bu_pgarRR.gif\" width=\"8\" height=\"5\" alt=\"\" border=\"0\">\\n\\t\\t\\t\\t</a>\\n\\t\\t\\t\\t</td>\\n\\n            \\n\\t\\t\\t\\t</tr>\\n\\t\\t\\t\\t</table>\\n\\t\\t\\t\\t<!--- 페이지 네비게이션 끝--->\\n\\n\\n\\t<script type=\"text/javascript\" src=\"https://ssl.pstatic.net/imgstock/static.pc/20210624194556/js/jindo.min.ns.1.5.3.euckr.js\"></script>\\n\\t<script type=\"text/javascript\" src=\"https://ssl.pstatic.net/imgstock/static.pc/20210624194556/js/lcslog.js\"></script>\\n\\t<script type=\"text/javascript\">\\n        ;(function(){\\n            var eventType = \"onpageshow\" in window ? \"pageshow\" : \"load\";\\n            jindo.$Fn(function(){\\n                lcs_do();\\n            }).attach(window, eventType);\\n        })();\\n\\t</script>\\n\\n</body>'"
      ]
     },
     "execution_count": 44,
     "metadata": {},
     "output_type": "execute_result"
    }
   ],
   "source": [
    "response.text"
   ]
  },
  {
   "cell_type": "markdown",
   "metadata": {
    "id": "IGxRB1hgpzJ-"
   },
   "source": [
    "## BeautifulSoup 을 통한 table 태그 찾기"
   ]
  },
  {
   "cell_type": "code",
   "execution_count": 45,
   "metadata": {
    "id": "e8xvhBcKpzJ-"
   },
   "outputs": [],
   "source": [
    "from bs4 import BeautifulSoup as bs"
   ]
  },
  {
   "cell_type": "code",
   "execution_count": 46,
   "metadata": {
    "id": "AvLHkpkOpzJ_"
   },
   "outputs": [
    {
     "data": {
      "text/plain": [
       "bs4.BeautifulSoup"
      ]
     },
     "execution_count": 46,
     "metadata": {},
     "output_type": "execute_result"
    }
   ],
   "source": [
    "bs"
   ]
  },
  {
   "cell_type": "code",
   "execution_count": 49,
   "metadata": {},
   "outputs": [
    {
     "data": {
      "text/plain": [
       "<html lang=\"ko\">\n",
       "<head>\n",
       "<meta content=\"text/html; charset=utf-8\" http-equiv=\"Content-Type\"/>\n",
       "<title>네이버 금융</title>\n",
       "<link href=\"https://ssl.pstatic.net/imgstock/static.pc/20210624194556/css/newstock.css\" rel=\"stylesheet\" type=\"text/css\"/>\n",
       "<link href=\"https://ssl.pstatic.net/imgstock/static.pc/20210624194556/css/common.css\" rel=\"stylesheet\" type=\"text/css\"/>\n",
       "<link href=\"https://ssl.pstatic.net/imgstock/static.pc/20210624194556/css/layout.css\" rel=\"stylesheet\" type=\"text/css\"/>\n",
       "<link href=\"https://ssl.pstatic.net/imgstock/static.pc/20210624194556/css/main.css\" rel=\"stylesheet\" type=\"text/css\"/>\n",
       "<link href=\"https://ssl.pstatic.net/imgstock/static.pc/20210624194556/css/newstock2.css\" rel=\"stylesheet\" type=\"text/css\"/>\n",
       "<link href=\"https://ssl.pstatic.net/imgstock/static.pc/20210624194556/css/newstock3.css\" rel=\"stylesheet\" type=\"text/css\"/>\n",
       "<link href=\"https://ssl.pstatic.net/imgstock/static.pc/20210624194556/css/world.css\" rel=\"stylesheet\" type=\"text/css\"/>\n",
       "</head>\n",
       "<body>\n",
       "<script language=\"JavaScript\">\n",
       "function mouseOver(obj){\n",
       "  obj.style.backgroundColor=\"#f6f4e5\";\n",
       "}\n",
       "function mouseOut(obj){\n",
       "  obj.style.backgroundColor=\"#ffffff\";\n",
       "}\n",
       "</script>\n",
       "<h4 class=\"tlline2\"><strong><span class=\"red03\">일별</span>시세</strong></h4>\n",
       "<table cellspacing=\"0\" class=\"type2\">\n",
       "<tr>\n",
       "<th>날짜</th>\n",
       "<th>종가</th>\n",
       "<th>전일비</th>\n",
       "<th>시가</th>\n",
       "<th>고가</th>\n",
       "<th>저가</th>\n",
       "<th>거래량</th>\n",
       "</tr>\n",
       "<tr>\n",
       "<td colspan=\"7\" height=\"8\"></td>\n",
       "</tr>\n",
       "<tr onmouseout=\"mouseOut(this)\" onmouseover=\"mouseOver(this)\">\n",
       "<td align=\"center\"><span class=\"tah p10 gray03\">2021.06.28</span></td>\n",
       "<td class=\"num\"><span class=\"tah p11\">312,000</span></td>\n",
       "<td class=\"num\">\n",
       "<img alt=\"하락\" height=\"6\" src=\"https://ssl.pstatic.net/imgstock/images/images4/ico_down.gif\" style=\"margin-right:4px;\" width=\"7\"/><span class=\"tah p11 nv01\">\n",
       "\t\t\t\t2,000\n",
       "\t\t\t\t</span>\n",
       "</td>\n",
       "<td class=\"num\"><span class=\"tah p11\">310,500</span></td>\n",
       "<td class=\"num\"><span class=\"tah p11\">317,000</span></td>\n",
       "<td class=\"num\"><span class=\"tah p11\">307,500</span></td>\n",
       "<td class=\"num\"><span class=\"tah p11\">262,112</span></td>\n",
       "</tr>\n",
       "<tr onmouseout=\"mouseOut(this)\" onmouseover=\"mouseOver(this)\">\n",
       "<td align=\"center\"><span class=\"tah p10 gray03\">2021.06.25</span></td>\n",
       "<td class=\"num\"><span class=\"tah p11\">314,000</span></td>\n",
       "<td class=\"num\">\n",
       "<img alt=\"하락\" height=\"6\" src=\"https://ssl.pstatic.net/imgstock/images/images4/ico_down.gif\" style=\"margin-right:4px;\" width=\"7\"/><span class=\"tah p11 nv01\">\n",
       "\t\t\t\t8,000\n",
       "\t\t\t\t</span>\n",
       "</td>\n",
       "<td class=\"num\"><span class=\"tah p11\">326,000</span></td>\n",
       "<td class=\"num\"><span class=\"tah p11\">326,500</span></td>\n",
       "<td class=\"num\"><span class=\"tah p11\">312,000</span></td>\n",
       "<td class=\"num\"><span class=\"tah p11\">354,850</span></td>\n",
       "</tr>\n",
       "<tr onmouseout=\"mouseOut(this)\" onmouseover=\"mouseOver(this)\">\n",
       "<td align=\"center\"><span class=\"tah p10 gray03\">2021.06.24</span></td>\n",
       "<td class=\"num\"><span class=\"tah p11\">322,000</span></td>\n",
       "<td class=\"num\">\n",
       "<img alt=\"상승\" height=\"6\" src=\"https://ssl.pstatic.net/imgstock/images/images4/ico_up.gif\" style=\"margin-right:4px;\" width=\"7\"/><span class=\"tah p11 red02\">\n",
       "\t\t\t\t500\n",
       "\t\t\t\t</span>\n",
       "</td>\n",
       "<td class=\"num\"><span class=\"tah p11\">326,000</span></td>\n",
       "<td class=\"num\"><span class=\"tah p11\">329,500</span></td>\n",
       "<td class=\"num\"><span class=\"tah p11\">317,500</span></td>\n",
       "<td class=\"num\"><span class=\"tah p11\">375,522</span></td>\n",
       "</tr>\n",
       "<tr onmouseout=\"mouseOut(this)\" onmouseover=\"mouseOver(this)\">\n",
       "<td align=\"center\"><span class=\"tah p10 gray03\">2021.06.23</span></td>\n",
       "<td class=\"num\"><span class=\"tah p11\">321,500</span></td>\n",
       "<td class=\"num\">\n",
       "<img alt=\"하락\" height=\"6\" src=\"https://ssl.pstatic.net/imgstock/images/images4/ico_down.gif\" style=\"margin-right:4px;\" width=\"7\"/><span class=\"tah p11 nv01\">\n",
       "\t\t\t\t3,000\n",
       "\t\t\t\t</span>\n",
       "</td>\n",
       "<td class=\"num\"><span class=\"tah p11\">334,500</span></td>\n",
       "<td class=\"num\"><span class=\"tah p11\">337,000</span></td>\n",
       "<td class=\"num\"><span class=\"tah p11\">318,500</span></td>\n",
       "<td class=\"num\"><span class=\"tah p11\">687,701</span></td>\n",
       "</tr>\n",
       "<tr onmouseout=\"mouseOut(this)\" onmouseover=\"mouseOver(this)\">\n",
       "<td align=\"center\"><span class=\"tah p10 gray03\">2021.06.22</span></td>\n",
       "<td class=\"num\"><span class=\"tah p11\">324,500</span></td>\n",
       "<td class=\"num\">\n",
       "<img alt=\"상승\" height=\"6\" src=\"https://ssl.pstatic.net/imgstock/images/images4/ico_up.gif\" style=\"margin-right:4px;\" width=\"7\"/><span class=\"tah p11 red02\">\n",
       "\t\t\t\t16,500\n",
       "\t\t\t\t</span>\n",
       "</td>\n",
       "<td class=\"num\"><span class=\"tah p11\">311,000</span></td>\n",
       "<td class=\"num\"><span class=\"tah p11\">324,500</span></td>\n",
       "<td class=\"num\"><span class=\"tah p11\">311,000</span></td>\n",
       "<td class=\"num\"><span class=\"tah p11\">607,966</span></td>\n",
       "</tr>\n",
       "<tr>\n",
       "<td colspan=\"7\" height=\"8\"></td>\n",
       "</tr>\n",
       "<tr>\n",
       "<td bgcolor=\"#e1e1e1\" colspan=\"7\" height=\"1\"></td>\n",
       "</tr>\n",
       "<tr>\n",
       "<td colspan=\"7\" height=\"8\"></td>\n",
       "</tr>\n",
       "<tr onmouseout=\"mouseOut(this)\" onmouseover=\"mouseOver(this)\">\n",
       "<td align=\"center\"><span class=\"tah p10 gray03\">2021.06.21</span></td>\n",
       "<td class=\"num\"><span class=\"tah p11\">308,000</span></td>\n",
       "<td class=\"num\">\n",
       "<img alt=\"하락\" height=\"6\" src=\"https://ssl.pstatic.net/imgstock/images/images4/ico_down.gif\" style=\"margin-right:4px;\" width=\"7\"/><span class=\"tah p11 nv01\">\n",
       "\t\t\t\t5,000\n",
       "\t\t\t\t</span>\n",
       "</td>\n",
       "<td class=\"num\"><span class=\"tah p11\">313,000</span></td>\n",
       "<td class=\"num\"><span class=\"tah p11\">321,000</span></td>\n",
       "<td class=\"num\"><span class=\"tah p11\">299,500</span></td>\n",
       "<td class=\"num\"><span class=\"tah p11\">556,480</span></td>\n",
       "</tr>\n",
       "<tr onmouseout=\"mouseOut(this)\" onmouseover=\"mouseOver(this)\">\n",
       "<td align=\"center\"><span class=\"tah p10 gray03\">2021.06.18</span></td>\n",
       "<td class=\"num\"><span class=\"tah p11\">313,000</span></td>\n",
       "<td class=\"num\">\n",
       "<img alt=\"상승\" height=\"6\" src=\"https://ssl.pstatic.net/imgstock/images/images4/ico_up.gif\" style=\"margin-right:4px;\" width=\"7\"/><span class=\"tah p11 red02\">\n",
       "\t\t\t\t16,000\n",
       "\t\t\t\t</span>\n",
       "</td>\n",
       "<td class=\"num\"><span class=\"tah p11\">298,500</span></td>\n",
       "<td class=\"num\"><span class=\"tah p11\">326,500</span></td>\n",
       "<td class=\"num\"><span class=\"tah p11\">297,500</span></td>\n",
       "<td class=\"num\"><span class=\"tah p11\">1,630,734</span></td>\n",
       "</tr>\n",
       "<tr onmouseout=\"mouseOut(this)\" onmouseover=\"mouseOver(this)\">\n",
       "<td align=\"center\"><span class=\"tah p10 gray03\">2021.06.17</span></td>\n",
       "<td class=\"num\"><span class=\"tah p11\">297,000</span></td>\n",
       "<td class=\"num\">\n",
       "<img alt=\"상승\" height=\"6\" src=\"https://ssl.pstatic.net/imgstock/images/images4/ico_up.gif\" style=\"margin-right:4px;\" width=\"7\"/><span class=\"tah p11 red02\">\n",
       "\t\t\t\t5,000\n",
       "\t\t\t\t</span>\n",
       "</td>\n",
       "<td class=\"num\"><span class=\"tah p11\">292,000</span></td>\n",
       "<td class=\"num\"><span class=\"tah p11\">301,000</span></td>\n",
       "<td class=\"num\"><span class=\"tah p11\">289,000</span></td>\n",
       "<td class=\"num\"><span class=\"tah p11\">567,305</span></td>\n",
       "</tr>\n",
       "<tr onmouseout=\"mouseOut(this)\" onmouseover=\"mouseOver(this)\">\n",
       "<td align=\"center\"><span class=\"tah p10 gray03\">2021.06.16</span></td>\n",
       "<td class=\"num\"><span class=\"tah p11\">292,000</span></td>\n",
       "<td class=\"num\">\n",
       "<img alt=\"상승\" height=\"6\" src=\"https://ssl.pstatic.net/imgstock/images/images4/ico_up.gif\" style=\"margin-right:4px;\" width=\"7\"/><span class=\"tah p11 red02\">\n",
       "\t\t\t\t3,000\n",
       "\t\t\t\t</span>\n",
       "</td>\n",
       "<td class=\"num\"><span class=\"tah p11\">290,500</span></td>\n",
       "<td class=\"num\"><span class=\"tah p11\">298,000</span></td>\n",
       "<td class=\"num\"><span class=\"tah p11\">287,000</span></td>\n",
       "<td class=\"num\"><span class=\"tah p11\">478,261</span></td>\n",
       "</tr>\n",
       "<tr onmouseout=\"mouseOut(this)\" onmouseover=\"mouseOver(this)\">\n",
       "<td align=\"center\"><span class=\"tah p10 gray03\">2021.06.15</span></td>\n",
       "<td class=\"num\"><span class=\"tah p11\">289,000</span></td>\n",
       "<td class=\"num\">\n",
       "<img alt=\"상승\" height=\"6\" src=\"https://ssl.pstatic.net/imgstock/images/images4/ico_up.gif\" style=\"margin-right:4px;\" width=\"7\"/><span class=\"tah p11 red02\">\n",
       "\t\t\t\t7,000\n",
       "\t\t\t\t</span>\n",
       "</td>\n",
       "<td class=\"num\"><span class=\"tah p11\">285,000</span></td>\n",
       "<td class=\"num\"><span class=\"tah p11\">293,000</span></td>\n",
       "<td class=\"num\"><span class=\"tah p11\">279,500</span></td>\n",
       "<td class=\"num\"><span class=\"tah p11\">461,455</span></td>\n",
       "</tr>\n",
       "<tr>\n",
       "<td colspan=\"7\" height=\"8\"></td>\n",
       "</tr>\n",
       "</table>\n",
       "<!--- 페이지 네비게이션 시작--->\n",
       "<table align=\"center\" class=\"Nnavi\" summary=\"페이지 네비게이션 리스트\">\n",
       "<caption>페이지 네비게이션</caption>\n",
       "<tr>\n",
       "<td class=\"on\">\n",
       "<a href=\"/item/sise_day.nhn?code=352820&amp;page=1\">1</a>\n",
       "</td>\n",
       "<td>\n",
       "<a href=\"/item/sise_day.nhn?code=352820&amp;page=2\">2</a>\n",
       "</td>\n",
       "<td>\n",
       "<a href=\"/item/sise_day.nhn?code=352820&amp;page=3\">3</a>\n",
       "</td>\n",
       "<td>\n",
       "<a href=\"/item/sise_day.nhn?code=352820&amp;page=4\">4</a>\n",
       "</td>\n",
       "<td>\n",
       "<a href=\"/item/sise_day.nhn?code=352820&amp;page=5\">5</a>\n",
       "</td>\n",
       "<td>\n",
       "<a href=\"/item/sise_day.nhn?code=352820&amp;page=6\">6</a>\n",
       "</td>\n",
       "<td>\n",
       "<a href=\"/item/sise_day.nhn?code=352820&amp;page=7\">7</a>\n",
       "</td>\n",
       "<td>\n",
       "<a href=\"/item/sise_day.nhn?code=352820&amp;page=8\">8</a>\n",
       "</td>\n",
       "<td>\n",
       "<a href=\"/item/sise_day.nhn?code=352820&amp;page=9\">9</a>\n",
       "</td>\n",
       "<td>\n",
       "<a href=\"/item/sise_day.nhn?code=352820&amp;page=10\">10</a>\n",
       "</td>\n",
       "<td class=\"pgR\">\n",
       "<a href=\"/item/sise_day.nhn?code=352820&amp;page=11\">\n",
       "\t\t\t\t다음<img alt=\"\" border=\"0\" height=\"5\" src=\"https://ssl.pstatic.net/static/n/cmn/bu_pgarR.gif\" width=\"3\"/>\n",
       "</a>\n",
       "</td>\n",
       "<td class=\"pgRR\">\n",
       "<a href=\"/item/sise_day.nhn?code=352820&amp;page=18\">맨뒤\n",
       "\t\t\t\t<img alt=\"\" border=\"0\" height=\"5\" src=\"https://ssl.pstatic.net/static/n/cmn/bu_pgarRR.gif\" width=\"8\"/>\n",
       "</a>\n",
       "</td>\n",
       "</tr>\n",
       "</table>\n",
       "<!--- 페이지 네비게이션 끝--->\n",
       "<script src=\"https://ssl.pstatic.net/imgstock/static.pc/20210624194556/js/jindo.min.ns.1.5.3.euckr.js\" type=\"text/javascript\"></script>\n",
       "<script src=\"https://ssl.pstatic.net/imgstock/static.pc/20210624194556/js/lcslog.js\" type=\"text/javascript\"></script>\n",
       "<script type=\"text/javascript\">\n",
       "        ;(function(){\n",
       "            var eventType = \"onpageshow\" in window ? \"pageshow\" : \"load\";\n",
       "            jindo.$Fn(function(){\n",
       "                lcs_do();\n",
       "            }).attach(window, eventType);\n",
       "        })();\n",
       "\t</script>\n",
       "</body></html>"
      ]
     },
     "execution_count": 49,
     "metadata": {},
     "output_type": "execute_result"
    }
   ],
   "source": [
    "html = bs(response.text,\"lxml\")\n",
    "html"
   ]
  },
  {
   "cell_type": "code",
   "execution_count": 53,
   "metadata": {},
   "outputs": [
    {
     "data": {
      "text/plain": [
       "2"
      ]
     },
     "execution_count": 53,
     "metadata": {},
     "output_type": "execute_result"
    }
   ],
   "source": [
    "temp=html.select(\"table\")\n",
    "len(temp)"
   ]
  },
  {
   "cell_type": "code",
   "execution_count": 58,
   "metadata": {},
   "outputs": [
    {
     "data": {
      "text/plain": [
       "[<table cellspacing=\"0\" class=\"type2\">\n",
       " <tr>\n",
       " <th>날짜</th>\n",
       " <th>종가</th>\n",
       " <th>전일비</th>\n",
       " <th>시가</th>\n",
       " <th>고가</th>\n",
       " <th>저가</th>\n",
       " <th>거래량</th>\n",
       " </tr>\n",
       " <tr>\n",
       " <td colspan=\"7\" height=\"8\"></td>\n",
       " </tr>\n",
       " <tr onmouseout=\"mouseOut(this)\" onmouseover=\"mouseOver(this)\">\n",
       " <td align=\"center\"><span class=\"tah p10 gray03\">2021.06.28</span></td>\n",
       " <td class=\"num\"><span class=\"tah p11\">312,000</span></td>\n",
       " <td class=\"num\">\n",
       " <img alt=\"하락\" height=\"6\" src=\"https://ssl.pstatic.net/imgstock/images/images4/ico_down.gif\" style=\"margin-right:4px;\" width=\"7\"/><span class=\"tah p11 nv01\">\n",
       " \t\t\t\t2,000\n",
       " \t\t\t\t</span>\n",
       " </td>\n",
       " <td class=\"num\"><span class=\"tah p11\">310,500</span></td>\n",
       " <td class=\"num\"><span class=\"tah p11\">317,000</span></td>\n",
       " <td class=\"num\"><span class=\"tah p11\">307,500</span></td>\n",
       " <td class=\"num\"><span class=\"tah p11\">262,112</span></td>\n",
       " </tr>\n",
       " <tr onmouseout=\"mouseOut(this)\" onmouseover=\"mouseOver(this)\">\n",
       " <td align=\"center\"><span class=\"tah p10 gray03\">2021.06.25</span></td>\n",
       " <td class=\"num\"><span class=\"tah p11\">314,000</span></td>\n",
       " <td class=\"num\">\n",
       " <img alt=\"하락\" height=\"6\" src=\"https://ssl.pstatic.net/imgstock/images/images4/ico_down.gif\" style=\"margin-right:4px;\" width=\"7\"/><span class=\"tah p11 nv01\">\n",
       " \t\t\t\t8,000\n",
       " \t\t\t\t</span>\n",
       " </td>\n",
       " <td class=\"num\"><span class=\"tah p11\">326,000</span></td>\n",
       " <td class=\"num\"><span class=\"tah p11\">326,500</span></td>\n",
       " <td class=\"num\"><span class=\"tah p11\">312,000</span></td>\n",
       " <td class=\"num\"><span class=\"tah p11\">354,850</span></td>\n",
       " </tr>\n",
       " <tr onmouseout=\"mouseOut(this)\" onmouseover=\"mouseOver(this)\">\n",
       " <td align=\"center\"><span class=\"tah p10 gray03\">2021.06.24</span></td>\n",
       " <td class=\"num\"><span class=\"tah p11\">322,000</span></td>\n",
       " <td class=\"num\">\n",
       " <img alt=\"상승\" height=\"6\" src=\"https://ssl.pstatic.net/imgstock/images/images4/ico_up.gif\" style=\"margin-right:4px;\" width=\"7\"/><span class=\"tah p11 red02\">\n",
       " \t\t\t\t500\n",
       " \t\t\t\t</span>\n",
       " </td>\n",
       " <td class=\"num\"><span class=\"tah p11\">326,000</span></td>\n",
       " <td class=\"num\"><span class=\"tah p11\">329,500</span></td>\n",
       " <td class=\"num\"><span class=\"tah p11\">317,500</span></td>\n",
       " <td class=\"num\"><span class=\"tah p11\">375,522</span></td>\n",
       " </tr>\n",
       " <tr onmouseout=\"mouseOut(this)\" onmouseover=\"mouseOver(this)\">\n",
       " <td align=\"center\"><span class=\"tah p10 gray03\">2021.06.23</span></td>\n",
       " <td class=\"num\"><span class=\"tah p11\">321,500</span></td>\n",
       " <td class=\"num\">\n",
       " <img alt=\"하락\" height=\"6\" src=\"https://ssl.pstatic.net/imgstock/images/images4/ico_down.gif\" style=\"margin-right:4px;\" width=\"7\"/><span class=\"tah p11 nv01\">\n",
       " \t\t\t\t3,000\n",
       " \t\t\t\t</span>\n",
       " </td>\n",
       " <td class=\"num\"><span class=\"tah p11\">334,500</span></td>\n",
       " <td class=\"num\"><span class=\"tah p11\">337,000</span></td>\n",
       " <td class=\"num\"><span class=\"tah p11\">318,500</span></td>\n",
       " <td class=\"num\"><span class=\"tah p11\">687,701</span></td>\n",
       " </tr>\n",
       " <tr onmouseout=\"mouseOut(this)\" onmouseover=\"mouseOver(this)\">\n",
       " <td align=\"center\"><span class=\"tah p10 gray03\">2021.06.22</span></td>\n",
       " <td class=\"num\"><span class=\"tah p11\">324,500</span></td>\n",
       " <td class=\"num\">\n",
       " <img alt=\"상승\" height=\"6\" src=\"https://ssl.pstatic.net/imgstock/images/images4/ico_up.gif\" style=\"margin-right:4px;\" width=\"7\"/><span class=\"tah p11 red02\">\n",
       " \t\t\t\t16,500\n",
       " \t\t\t\t</span>\n",
       " </td>\n",
       " <td class=\"num\"><span class=\"tah p11\">311,000</span></td>\n",
       " <td class=\"num\"><span class=\"tah p11\">324,500</span></td>\n",
       " <td class=\"num\"><span class=\"tah p11\">311,000</span></td>\n",
       " <td class=\"num\"><span class=\"tah p11\">607,966</span></td>\n",
       " </tr>\n",
       " <tr>\n",
       " <td colspan=\"7\" height=\"8\"></td>\n",
       " </tr>\n",
       " <tr>\n",
       " <td bgcolor=\"#e1e1e1\" colspan=\"7\" height=\"1\"></td>\n",
       " </tr>\n",
       " <tr>\n",
       " <td colspan=\"7\" height=\"8\"></td>\n",
       " </tr>\n",
       " <tr onmouseout=\"mouseOut(this)\" onmouseover=\"mouseOver(this)\">\n",
       " <td align=\"center\"><span class=\"tah p10 gray03\">2021.06.21</span></td>\n",
       " <td class=\"num\"><span class=\"tah p11\">308,000</span></td>\n",
       " <td class=\"num\">\n",
       " <img alt=\"하락\" height=\"6\" src=\"https://ssl.pstatic.net/imgstock/images/images4/ico_down.gif\" style=\"margin-right:4px;\" width=\"7\"/><span class=\"tah p11 nv01\">\n",
       " \t\t\t\t5,000\n",
       " \t\t\t\t</span>\n",
       " </td>\n",
       " <td class=\"num\"><span class=\"tah p11\">313,000</span></td>\n",
       " <td class=\"num\"><span class=\"tah p11\">321,000</span></td>\n",
       " <td class=\"num\"><span class=\"tah p11\">299,500</span></td>\n",
       " <td class=\"num\"><span class=\"tah p11\">556,480</span></td>\n",
       " </tr>\n",
       " <tr onmouseout=\"mouseOut(this)\" onmouseover=\"mouseOver(this)\">\n",
       " <td align=\"center\"><span class=\"tah p10 gray03\">2021.06.18</span></td>\n",
       " <td class=\"num\"><span class=\"tah p11\">313,000</span></td>\n",
       " <td class=\"num\">\n",
       " <img alt=\"상승\" height=\"6\" src=\"https://ssl.pstatic.net/imgstock/images/images4/ico_up.gif\" style=\"margin-right:4px;\" width=\"7\"/><span class=\"tah p11 red02\">\n",
       " \t\t\t\t16,000\n",
       " \t\t\t\t</span>\n",
       " </td>\n",
       " <td class=\"num\"><span class=\"tah p11\">298,500</span></td>\n",
       " <td class=\"num\"><span class=\"tah p11\">326,500</span></td>\n",
       " <td class=\"num\"><span class=\"tah p11\">297,500</span></td>\n",
       " <td class=\"num\"><span class=\"tah p11\">1,630,734</span></td>\n",
       " </tr>\n",
       " <tr onmouseout=\"mouseOut(this)\" onmouseover=\"mouseOver(this)\">\n",
       " <td align=\"center\"><span class=\"tah p10 gray03\">2021.06.17</span></td>\n",
       " <td class=\"num\"><span class=\"tah p11\">297,000</span></td>\n",
       " <td class=\"num\">\n",
       " <img alt=\"상승\" height=\"6\" src=\"https://ssl.pstatic.net/imgstock/images/images4/ico_up.gif\" style=\"margin-right:4px;\" width=\"7\"/><span class=\"tah p11 red02\">\n",
       " \t\t\t\t5,000\n",
       " \t\t\t\t</span>\n",
       " </td>\n",
       " <td class=\"num\"><span class=\"tah p11\">292,000</span></td>\n",
       " <td class=\"num\"><span class=\"tah p11\">301,000</span></td>\n",
       " <td class=\"num\"><span class=\"tah p11\">289,000</span></td>\n",
       " <td class=\"num\"><span class=\"tah p11\">567,305</span></td>\n",
       " </tr>\n",
       " <tr onmouseout=\"mouseOut(this)\" onmouseover=\"mouseOver(this)\">\n",
       " <td align=\"center\"><span class=\"tah p10 gray03\">2021.06.16</span></td>\n",
       " <td class=\"num\"><span class=\"tah p11\">292,000</span></td>\n",
       " <td class=\"num\">\n",
       " <img alt=\"상승\" height=\"6\" src=\"https://ssl.pstatic.net/imgstock/images/images4/ico_up.gif\" style=\"margin-right:4px;\" width=\"7\"/><span class=\"tah p11 red02\">\n",
       " \t\t\t\t3,000\n",
       " \t\t\t\t</span>\n",
       " </td>\n",
       " <td class=\"num\"><span class=\"tah p11\">290,500</span></td>\n",
       " <td class=\"num\"><span class=\"tah p11\">298,000</span></td>\n",
       " <td class=\"num\"><span class=\"tah p11\">287,000</span></td>\n",
       " <td class=\"num\"><span class=\"tah p11\">478,261</span></td>\n",
       " </tr>\n",
       " <tr onmouseout=\"mouseOut(this)\" onmouseover=\"mouseOver(this)\">\n",
       " <td align=\"center\"><span class=\"tah p10 gray03\">2021.06.15</span></td>\n",
       " <td class=\"num\"><span class=\"tah p11\">289,000</span></td>\n",
       " <td class=\"num\">\n",
       " <img alt=\"상승\" height=\"6\" src=\"https://ssl.pstatic.net/imgstock/images/images4/ico_up.gif\" style=\"margin-right:4px;\" width=\"7\"/><span class=\"tah p11 red02\">\n",
       " \t\t\t\t7,000\n",
       " \t\t\t\t</span>\n",
       " </td>\n",
       " <td class=\"num\"><span class=\"tah p11\">285,000</span></td>\n",
       " <td class=\"num\"><span class=\"tah p11\">293,000</span></td>\n",
       " <td class=\"num\"><span class=\"tah p11\">279,500</span></td>\n",
       " <td class=\"num\"><span class=\"tah p11\">461,455</span></td>\n",
       " </tr>\n",
       " <tr>\n",
       " <td colspan=\"7\" height=\"8\"></td>\n",
       " </tr>\n",
       " </table>,\n",
       " <table align=\"center\" class=\"Nnavi\" summary=\"페이지 네비게이션 리스트\">\n",
       " <caption>페이지 네비게이션</caption>\n",
       " <tr>\n",
       " <td class=\"on\">\n",
       " <a href=\"/item/sise_day.nhn?code=352820&amp;page=1\">1</a>\n",
       " </td>\n",
       " <td>\n",
       " <a href=\"/item/sise_day.nhn?code=352820&amp;page=2\">2</a>\n",
       " </td>\n",
       " <td>\n",
       " <a href=\"/item/sise_day.nhn?code=352820&amp;page=3\">3</a>\n",
       " </td>\n",
       " <td>\n",
       " <a href=\"/item/sise_day.nhn?code=352820&amp;page=4\">4</a>\n",
       " </td>\n",
       " <td>\n",
       " <a href=\"/item/sise_day.nhn?code=352820&amp;page=5\">5</a>\n",
       " </td>\n",
       " <td>\n",
       " <a href=\"/item/sise_day.nhn?code=352820&amp;page=6\">6</a>\n",
       " </td>\n",
       " <td>\n",
       " <a href=\"/item/sise_day.nhn?code=352820&amp;page=7\">7</a>\n",
       " </td>\n",
       " <td>\n",
       " <a href=\"/item/sise_day.nhn?code=352820&amp;page=8\">8</a>\n",
       " </td>\n",
       " <td>\n",
       " <a href=\"/item/sise_day.nhn?code=352820&amp;page=9\">9</a>\n",
       " </td>\n",
       " <td>\n",
       " <a href=\"/item/sise_day.nhn?code=352820&amp;page=10\">10</a>\n",
       " </td>\n",
       " <td class=\"pgR\">\n",
       " <a href=\"/item/sise_day.nhn?code=352820&amp;page=11\">\n",
       " \t\t\t\t다음<img alt=\"\" border=\"0\" height=\"5\" src=\"https://ssl.pstatic.net/static/n/cmn/bu_pgarR.gif\" width=\"3\"/>\n",
       " </a>\n",
       " </td>\n",
       " <td class=\"pgRR\">\n",
       " <a href=\"/item/sise_day.nhn?code=352820&amp;page=18\">맨뒤\n",
       " \t\t\t\t<img alt=\"\" border=\"0\" height=\"5\" src=\"https://ssl.pstatic.net/static/n/cmn/bu_pgarRR.gif\" width=\"8\"/>\n",
       " </a>\n",
       " </td>\n",
       " </tr>\n",
       " </table>]"
      ]
     },
     "execution_count": 58,
     "metadata": {},
     "output_type": "execute_result"
    }
   ],
   "source": [
    "temp"
   ]
  },
  {
   "cell_type": "markdown",
   "metadata": {
    "id": "wUczQAoFpzJ_"
   },
   "source": [
    "## pandas 코드 한 줄로 데이터 수집하기"
   ]
  },
  {
   "cell_type": "code",
   "execution_count": 59,
   "metadata": {
    "id": "T3e0Jt0mTMkA"
   },
   "outputs": [
    {
     "data": {
      "text/plain": [
       "2"
      ]
     },
     "execution_count": 59,
     "metadata": {},
     "output_type": "execute_result"
    }
   ],
   "source": [
    "# read_html을 이용하여 url의 page내의 값을 DataFrame으로 받아옵니다.\n",
    "# cp949는 한글 인코딩을 위해 사용합니다. 기본 인코딩 설정은 utf-8 이며, \n",
    "# 네이버의 일별 시세는 cp949 인코딩으로 불러올 수 있습니다.\n",
    "# 데이터를 로드 했을 때 한글 인코딩이 깨진다면 대부분 cp949 로 불러올 수 있습니다.\n",
    "# table\n",
    "\n",
    "table=pd.read_html(str(temp))\n",
    "len(table)"
   ]
  },
  {
   "cell_type": "code",
   "execution_count": 22,
   "metadata": {},
   "outputs": [
    {
     "name": "stdout",
     "output_type": "stream",
     "text": [
      "https://finance.naver.com/item/sise_day.nhn?code=352820&page=1\n"
     ]
    }
   ],
   "source": [
    "print(url)"
   ]
  },
  {
   "cell_type": "code",
   "execution_count": 62,
   "metadata": {
    "id": "GQ_LCYp0TMkA",
    "scrolled": true
   },
   "outputs": [
    {
     "data": {
      "text/html": [
       "<div>\n",
       "<style scoped>\n",
       "    .dataframe tbody tr th:only-of-type {\n",
       "        vertical-align: middle;\n",
       "    }\n",
       "\n",
       "    .dataframe tbody tr th {\n",
       "        vertical-align: top;\n",
       "    }\n",
       "\n",
       "    .dataframe thead th {\n",
       "        text-align: right;\n",
       "    }\n",
       "</style>\n",
       "<table border=\"1\" class=\"dataframe\">\n",
       "  <thead>\n",
       "    <tr style=\"text-align: right;\">\n",
       "      <th></th>\n",
       "      <th>날짜</th>\n",
       "      <th>종가</th>\n",
       "      <th>전일비</th>\n",
       "      <th>시가</th>\n",
       "      <th>고가</th>\n",
       "      <th>저가</th>\n",
       "      <th>거래량</th>\n",
       "    </tr>\n",
       "  </thead>\n",
       "  <tbody>\n",
       "    <tr>\n",
       "      <th>0</th>\n",
       "      <td>NaN</td>\n",
       "      <td>NaN</td>\n",
       "      <td>NaN</td>\n",
       "      <td>NaN</td>\n",
       "      <td>NaN</td>\n",
       "      <td>NaN</td>\n",
       "      <td>NaN</td>\n",
       "    </tr>\n",
       "    <tr>\n",
       "      <th>1</th>\n",
       "      <td>2021.06.28</td>\n",
       "      <td>312000.0</td>\n",
       "      <td>2000.0</td>\n",
       "      <td>310500.0</td>\n",
       "      <td>317000.0</td>\n",
       "      <td>307500.0</td>\n",
       "      <td>262112.0</td>\n",
       "    </tr>\n",
       "    <tr>\n",
       "      <th>2</th>\n",
       "      <td>2021.06.25</td>\n",
       "      <td>314000.0</td>\n",
       "      <td>8000.0</td>\n",
       "      <td>326000.0</td>\n",
       "      <td>326500.0</td>\n",
       "      <td>312000.0</td>\n",
       "      <td>354850.0</td>\n",
       "    </tr>\n",
       "    <tr>\n",
       "      <th>3</th>\n",
       "      <td>2021.06.24</td>\n",
       "      <td>322000.0</td>\n",
       "      <td>500.0</td>\n",
       "      <td>326000.0</td>\n",
       "      <td>329500.0</td>\n",
       "      <td>317500.0</td>\n",
       "      <td>375522.0</td>\n",
       "    </tr>\n",
       "    <tr>\n",
       "      <th>4</th>\n",
       "      <td>2021.06.23</td>\n",
       "      <td>321500.0</td>\n",
       "      <td>3000.0</td>\n",
       "      <td>334500.0</td>\n",
       "      <td>337000.0</td>\n",
       "      <td>318500.0</td>\n",
       "      <td>687701.0</td>\n",
       "    </tr>\n",
       "    <tr>\n",
       "      <th>5</th>\n",
       "      <td>2021.06.22</td>\n",
       "      <td>324500.0</td>\n",
       "      <td>16500.0</td>\n",
       "      <td>311000.0</td>\n",
       "      <td>324500.0</td>\n",
       "      <td>311000.0</td>\n",
       "      <td>607966.0</td>\n",
       "    </tr>\n",
       "    <tr>\n",
       "      <th>6</th>\n",
       "      <td>NaN</td>\n",
       "      <td>NaN</td>\n",
       "      <td>NaN</td>\n",
       "      <td>NaN</td>\n",
       "      <td>NaN</td>\n",
       "      <td>NaN</td>\n",
       "      <td>NaN</td>\n",
       "    </tr>\n",
       "    <tr>\n",
       "      <th>7</th>\n",
       "      <td>NaN</td>\n",
       "      <td>NaN</td>\n",
       "      <td>NaN</td>\n",
       "      <td>NaN</td>\n",
       "      <td>NaN</td>\n",
       "      <td>NaN</td>\n",
       "      <td>NaN</td>\n",
       "    </tr>\n",
       "    <tr>\n",
       "      <th>8</th>\n",
       "      <td>NaN</td>\n",
       "      <td>NaN</td>\n",
       "      <td>NaN</td>\n",
       "      <td>NaN</td>\n",
       "      <td>NaN</td>\n",
       "      <td>NaN</td>\n",
       "      <td>NaN</td>\n",
       "    </tr>\n",
       "    <tr>\n",
       "      <th>9</th>\n",
       "      <td>2021.06.21</td>\n",
       "      <td>308000.0</td>\n",
       "      <td>5000.0</td>\n",
       "      <td>313000.0</td>\n",
       "      <td>321000.0</td>\n",
       "      <td>299500.0</td>\n",
       "      <td>556480.0</td>\n",
       "    </tr>\n",
       "    <tr>\n",
       "      <th>10</th>\n",
       "      <td>2021.06.18</td>\n",
       "      <td>313000.0</td>\n",
       "      <td>16000.0</td>\n",
       "      <td>298500.0</td>\n",
       "      <td>326500.0</td>\n",
       "      <td>297500.0</td>\n",
       "      <td>1630734.0</td>\n",
       "    </tr>\n",
       "    <tr>\n",
       "      <th>11</th>\n",
       "      <td>2021.06.17</td>\n",
       "      <td>297000.0</td>\n",
       "      <td>5000.0</td>\n",
       "      <td>292000.0</td>\n",
       "      <td>301000.0</td>\n",
       "      <td>289000.0</td>\n",
       "      <td>567305.0</td>\n",
       "    </tr>\n",
       "    <tr>\n",
       "      <th>12</th>\n",
       "      <td>2021.06.16</td>\n",
       "      <td>292000.0</td>\n",
       "      <td>3000.0</td>\n",
       "      <td>290500.0</td>\n",
       "      <td>298000.0</td>\n",
       "      <td>287000.0</td>\n",
       "      <td>478261.0</td>\n",
       "    </tr>\n",
       "    <tr>\n",
       "      <th>13</th>\n",
       "      <td>2021.06.15</td>\n",
       "      <td>289000.0</td>\n",
       "      <td>7000.0</td>\n",
       "      <td>285000.0</td>\n",
       "      <td>293000.0</td>\n",
       "      <td>279500.0</td>\n",
       "      <td>461455.0</td>\n",
       "    </tr>\n",
       "    <tr>\n",
       "      <th>14</th>\n",
       "      <td>NaN</td>\n",
       "      <td>NaN</td>\n",
       "      <td>NaN</td>\n",
       "      <td>NaN</td>\n",
       "      <td>NaN</td>\n",
       "      <td>NaN</td>\n",
       "      <td>NaN</td>\n",
       "    </tr>\n",
       "  </tbody>\n",
       "</table>\n",
       "</div>"
      ],
      "text/plain": [
       "            날짜        종가      전일비        시가        고가        저가        거래량\n",
       "0          NaN       NaN      NaN       NaN       NaN       NaN        NaN\n",
       "1   2021.06.28  312000.0   2000.0  310500.0  317000.0  307500.0   262112.0\n",
       "2   2021.06.25  314000.0   8000.0  326000.0  326500.0  312000.0   354850.0\n",
       "3   2021.06.24  322000.0    500.0  326000.0  329500.0  317500.0   375522.0\n",
       "4   2021.06.23  321500.0   3000.0  334500.0  337000.0  318500.0   687701.0\n",
       "5   2021.06.22  324500.0  16500.0  311000.0  324500.0  311000.0   607966.0\n",
       "6          NaN       NaN      NaN       NaN       NaN       NaN        NaN\n",
       "7          NaN       NaN      NaN       NaN       NaN       NaN        NaN\n",
       "8          NaN       NaN      NaN       NaN       NaN       NaN        NaN\n",
       "9   2021.06.21  308000.0   5000.0  313000.0  321000.0  299500.0   556480.0\n",
       "10  2021.06.18  313000.0  16000.0  298500.0  326500.0  297500.0  1630734.0\n",
       "11  2021.06.17  297000.0   5000.0  292000.0  301000.0  289000.0   567305.0\n",
       "12  2021.06.16  292000.0   3000.0  290500.0  298000.0  287000.0   478261.0\n",
       "13  2021.06.15  289000.0   7000.0  285000.0  293000.0  279500.0   461455.0\n",
       "14         NaN       NaN      NaN       NaN       NaN       NaN        NaN"
      ]
     },
     "execution_count": 62,
     "metadata": {},
     "output_type": "execute_result"
    }
   ],
   "source": [
    "# table[0]와 table[1]을 확인하여 보면 table[0]에 필요한 데이터들이 있습니다.\n",
    "df_temp = table[0]\n",
    "df_temp"
   ]
  },
  {
   "cell_type": "code",
   "execution_count": 65,
   "metadata": {
    "id": "0gI1rNUbTMkA"
   },
   "outputs": [
    {
     "data": {
      "text/html": [
       "<div>\n",
       "<style scoped>\n",
       "    .dataframe tbody tr th:only-of-type {\n",
       "        vertical-align: middle;\n",
       "    }\n",
       "\n",
       "    .dataframe tbody tr th {\n",
       "        vertical-align: top;\n",
       "    }\n",
       "\n",
       "    .dataframe thead th {\n",
       "        text-align: right;\n",
       "    }\n",
       "</style>\n",
       "<table border=\"1\" class=\"dataframe\">\n",
       "  <thead>\n",
       "    <tr style=\"text-align: right;\">\n",
       "      <th></th>\n",
       "      <th>날짜</th>\n",
       "      <th>종가</th>\n",
       "      <th>전일비</th>\n",
       "      <th>시가</th>\n",
       "      <th>고가</th>\n",
       "      <th>저가</th>\n",
       "      <th>거래량</th>\n",
       "    </tr>\n",
       "  </thead>\n",
       "  <tbody>\n",
       "    <tr>\n",
       "      <th>1</th>\n",
       "      <td>2021.06.28</td>\n",
       "      <td>312000.0</td>\n",
       "      <td>2000.0</td>\n",
       "      <td>310500.0</td>\n",
       "      <td>317000.0</td>\n",
       "      <td>307500.0</td>\n",
       "      <td>262112.0</td>\n",
       "    </tr>\n",
       "    <tr>\n",
       "      <th>2</th>\n",
       "      <td>2021.06.25</td>\n",
       "      <td>314000.0</td>\n",
       "      <td>8000.0</td>\n",
       "      <td>326000.0</td>\n",
       "      <td>326500.0</td>\n",
       "      <td>312000.0</td>\n",
       "      <td>354850.0</td>\n",
       "    </tr>\n",
       "    <tr>\n",
       "      <th>3</th>\n",
       "      <td>2021.06.24</td>\n",
       "      <td>322000.0</td>\n",
       "      <td>500.0</td>\n",
       "      <td>326000.0</td>\n",
       "      <td>329500.0</td>\n",
       "      <td>317500.0</td>\n",
       "      <td>375522.0</td>\n",
       "    </tr>\n",
       "    <tr>\n",
       "      <th>4</th>\n",
       "      <td>2021.06.23</td>\n",
       "      <td>321500.0</td>\n",
       "      <td>3000.0</td>\n",
       "      <td>334500.0</td>\n",
       "      <td>337000.0</td>\n",
       "      <td>318500.0</td>\n",
       "      <td>687701.0</td>\n",
       "    </tr>\n",
       "    <tr>\n",
       "      <th>5</th>\n",
       "      <td>2021.06.22</td>\n",
       "      <td>324500.0</td>\n",
       "      <td>16500.0</td>\n",
       "      <td>311000.0</td>\n",
       "      <td>324500.0</td>\n",
       "      <td>311000.0</td>\n",
       "      <td>607966.0</td>\n",
       "    </tr>\n",
       "    <tr>\n",
       "      <th>9</th>\n",
       "      <td>2021.06.21</td>\n",
       "      <td>308000.0</td>\n",
       "      <td>5000.0</td>\n",
       "      <td>313000.0</td>\n",
       "      <td>321000.0</td>\n",
       "      <td>299500.0</td>\n",
       "      <td>556480.0</td>\n",
       "    </tr>\n",
       "    <tr>\n",
       "      <th>10</th>\n",
       "      <td>2021.06.18</td>\n",
       "      <td>313000.0</td>\n",
       "      <td>16000.0</td>\n",
       "      <td>298500.0</td>\n",
       "      <td>326500.0</td>\n",
       "      <td>297500.0</td>\n",
       "      <td>1630734.0</td>\n",
       "    </tr>\n",
       "    <tr>\n",
       "      <th>11</th>\n",
       "      <td>2021.06.17</td>\n",
       "      <td>297000.0</td>\n",
       "      <td>5000.0</td>\n",
       "      <td>292000.0</td>\n",
       "      <td>301000.0</td>\n",
       "      <td>289000.0</td>\n",
       "      <td>567305.0</td>\n",
       "    </tr>\n",
       "    <tr>\n",
       "      <th>12</th>\n",
       "      <td>2021.06.16</td>\n",
       "      <td>292000.0</td>\n",
       "      <td>3000.0</td>\n",
       "      <td>290500.0</td>\n",
       "      <td>298000.0</td>\n",
       "      <td>287000.0</td>\n",
       "      <td>478261.0</td>\n",
       "    </tr>\n",
       "    <tr>\n",
       "      <th>13</th>\n",
       "      <td>2021.06.15</td>\n",
       "      <td>289000.0</td>\n",
       "      <td>7000.0</td>\n",
       "      <td>285000.0</td>\n",
       "      <td>293000.0</td>\n",
       "      <td>279500.0</td>\n",
       "      <td>461455.0</td>\n",
       "    </tr>\n",
       "  </tbody>\n",
       "</table>\n",
       "</div>"
      ],
      "text/plain": [
       "            날짜        종가      전일비        시가        고가        저가        거래량\n",
       "1   2021.06.28  312000.0   2000.0  310500.0  317000.0  307500.0   262112.0\n",
       "2   2021.06.25  314000.0   8000.0  326000.0  326500.0  312000.0   354850.0\n",
       "3   2021.06.24  322000.0    500.0  326000.0  329500.0  317500.0   375522.0\n",
       "4   2021.06.23  321500.0   3000.0  334500.0  337000.0  318500.0   687701.0\n",
       "5   2021.06.22  324500.0  16500.0  311000.0  324500.0  311000.0   607966.0\n",
       "9   2021.06.21  308000.0   5000.0  313000.0  321000.0  299500.0   556480.0\n",
       "10  2021.06.18  313000.0  16000.0  298500.0  326500.0  297500.0  1630734.0\n",
       "11  2021.06.17  297000.0   5000.0  292000.0  301000.0  289000.0   567305.0\n",
       "12  2021.06.16  292000.0   3000.0  290500.0  298000.0  287000.0   478261.0\n",
       "13  2021.06.15  289000.0   7000.0  285000.0  293000.0  279500.0   461455.0"
      ]
     },
     "execution_count": 65,
     "metadata": {},
     "output_type": "execute_result"
    }
   ],
   "source": [
    "# dropna를 통해 결측치가 들어있는 row를 제거합니다.\n",
    "df_day = df_temp.dropna()\n",
    "df_day"
   ]
  },
  {
   "cell_type": "markdown",
   "metadata": {
    "id": "CKhsb94wTMkA"
   },
   "source": [
    "## 페이지별 데이터 수집 함수 만들기"
   ]
  },
  {
   "cell_type": "code",
   "execution_count": 78,
   "metadata": {
    "id": "gJugcyoiTMkA"
   },
   "outputs": [],
   "source": [
    "# 종목 번호를 이용해 page에 따라 데이터를 읽어오는 함수\n",
    "# \"\"\" 는 이 두개 사이의 행들은 주석 처리되며, 함수의 docstring 으로 사용됩니다.\n",
    "\n",
    "def get_day_list(item_code, page_no):\n",
    "    url= f\"https://finance.naver.com/item/sise_day.nhn?code={item_code}&page={page_no}\"\n",
    "    headers={\"user-agent\": \"Mozilla/5.0 (Windows NT 10.0; Win64; x64) AppleWebKit/537.36 (KHTML, like Gecko) Chrome/91.0.4472.114 Safari/537.36\"}\n",
    "    response = requests.get(url,headers=headers)\n",
    "    html = bs(response.text,\"lxml\")\n",
    "    temp = html.select(\"table\")\n",
    "    table=pd.read_html(str(temp))\n",
    "    df_day=table[0].dropna()\n",
    "    return df_day\n"
   ]
  },
  {
   "cell_type": "code",
   "execution_count": 82,
   "metadata": {
    "id": "evjinapgTMkA"
   },
   "outputs": [
    {
     "data": {
      "text/html": [
       "<div>\n",
       "<style scoped>\n",
       "    .dataframe tbody tr th:only-of-type {\n",
       "        vertical-align: middle;\n",
       "    }\n",
       "\n",
       "    .dataframe tbody tr th {\n",
       "        vertical-align: top;\n",
       "    }\n",
       "\n",
       "    .dataframe thead th {\n",
       "        text-align: right;\n",
       "    }\n",
       "</style>\n",
       "<table border=\"1\" class=\"dataframe\">\n",
       "  <thead>\n",
       "    <tr style=\"text-align: right;\">\n",
       "      <th></th>\n",
       "      <th>날짜</th>\n",
       "      <th>종가</th>\n",
       "      <th>전일비</th>\n",
       "      <th>시가</th>\n",
       "      <th>고가</th>\n",
       "      <th>저가</th>\n",
       "      <th>거래량</th>\n",
       "    </tr>\n",
       "  </thead>\n",
       "  <tbody>\n",
       "    <tr>\n",
       "      <th>1</th>\n",
       "      <td>2021.05.31</td>\n",
       "      <td>80500.0</td>\n",
       "      <td>400.0</td>\n",
       "      <td>80300.0</td>\n",
       "      <td>80600.0</td>\n",
       "      <td>79600.0</td>\n",
       "      <td>13321324.0</td>\n",
       "    </tr>\n",
       "    <tr>\n",
       "      <th>2</th>\n",
       "      <td>2021.05.28</td>\n",
       "      <td>80100.0</td>\n",
       "      <td>500.0</td>\n",
       "      <td>79800.0</td>\n",
       "      <td>80400.0</td>\n",
       "      <td>79400.0</td>\n",
       "      <td>12360199.0</td>\n",
       "    </tr>\n",
       "    <tr>\n",
       "      <th>3</th>\n",
       "      <td>2021.05.27</td>\n",
       "      <td>79600.0</td>\n",
       "      <td>200.0</td>\n",
       "      <td>80000.0</td>\n",
       "      <td>80000.0</td>\n",
       "      <td>79100.0</td>\n",
       "      <td>23198510.0</td>\n",
       "    </tr>\n",
       "    <tr>\n",
       "      <th>4</th>\n",
       "      <td>2021.05.26</td>\n",
       "      <td>79800.0</td>\n",
       "      <td>100.0</td>\n",
       "      <td>80400.0</td>\n",
       "      <td>80500.0</td>\n",
       "      <td>79700.0</td>\n",
       "      <td>11984359.0</td>\n",
       "    </tr>\n",
       "    <tr>\n",
       "      <th>5</th>\n",
       "      <td>2021.05.25</td>\n",
       "      <td>79900.0</td>\n",
       "      <td>200.0</td>\n",
       "      <td>80000.0</td>\n",
       "      <td>80400.0</td>\n",
       "      <td>79800.0</td>\n",
       "      <td>13628942.0</td>\n",
       "    </tr>\n",
       "    <tr>\n",
       "      <th>9</th>\n",
       "      <td>2021.05.24</td>\n",
       "      <td>79700.0</td>\n",
       "      <td>400.0</td>\n",
       "      <td>80100.0</td>\n",
       "      <td>80400.0</td>\n",
       "      <td>79500.0</td>\n",
       "      <td>13398666.0</td>\n",
       "    </tr>\n",
       "    <tr>\n",
       "      <th>10</th>\n",
       "      <td>2021.05.21</td>\n",
       "      <td>80100.0</td>\n",
       "      <td>600.0</td>\n",
       "      <td>80100.0</td>\n",
       "      <td>81500.0</td>\n",
       "      <td>79800.0</td>\n",
       "      <td>20961714.0</td>\n",
       "    </tr>\n",
       "    <tr>\n",
       "      <th>11</th>\n",
       "      <td>2021.05.20</td>\n",
       "      <td>79500.0</td>\n",
       "      <td>100.0</td>\n",
       "      <td>79400.0</td>\n",
       "      <td>79700.0</td>\n",
       "      <td>79100.0</td>\n",
       "      <td>16541828.0</td>\n",
       "    </tr>\n",
       "    <tr>\n",
       "      <th>12</th>\n",
       "      <td>2021.05.18</td>\n",
       "      <td>79600.0</td>\n",
       "      <td>0.0</td>\n",
       "      <td>79600.0</td>\n",
       "      <td>80000.0</td>\n",
       "      <td>79100.0</td>\n",
       "      <td>17494407.0</td>\n",
       "    </tr>\n",
       "    <tr>\n",
       "      <th>13</th>\n",
       "      <td>2021.05.17</td>\n",
       "      <td>79600.0</td>\n",
       "      <td>500.0</td>\n",
       "      <td>80800.0</td>\n",
       "      <td>80900.0</td>\n",
       "      <td>79200.0</td>\n",
       "      <td>17740855.0</td>\n",
       "    </tr>\n",
       "  </tbody>\n",
       "</table>\n",
       "</div>"
      ],
      "text/plain": [
       "            날짜       종가    전일비       시가       고가       저가         거래량\n",
       "1   2021.05.31  80500.0  400.0  80300.0  80600.0  79600.0  13321324.0\n",
       "2   2021.05.28  80100.0  500.0  79800.0  80400.0  79400.0  12360199.0\n",
       "3   2021.05.27  79600.0  200.0  80000.0  80000.0  79100.0  23198510.0\n",
       "4   2021.05.26  79800.0  100.0  80400.0  80500.0  79700.0  11984359.0\n",
       "5   2021.05.25  79900.0  200.0  80000.0  80400.0  79800.0  13628942.0\n",
       "9   2021.05.24  79700.0  400.0  80100.0  80400.0  79500.0  13398666.0\n",
       "10  2021.05.21  80100.0  600.0  80100.0  81500.0  79800.0  20961714.0\n",
       "11  2021.05.20  79500.0  100.0  79400.0  79700.0  79100.0  16541828.0\n",
       "12  2021.05.18  79600.0    0.0  79600.0  80000.0  79100.0  17494407.0\n",
       "13  2021.05.17  79600.0  500.0  80800.0  80900.0  79200.0  17740855.0"
      ]
     },
     "execution_count": 82,
     "metadata": {},
     "output_type": "execute_result"
    }
   ],
   "source": [
    "# 함수가 잘 만들어졌는지 확인하기\n",
    "page_no=3\n",
    "item_code = \"005930\"\n",
    "get_day_list(item_code,page_no)"
   ]
  },
  {
   "cell_type": "markdown",
   "metadata": {
    "id": "uuaac8XTTMkA"
   },
   "source": [
    "## 반복문을 통한 전체 일자 데이터 수집하기\n",
    "* (주의) 기간이 긴 데이터를 수집할때는 서버에 부담을 주지 않기 위해 time.sleep()값을 주세요."
   ]
  },
  {
   "cell_type": "code",
   "execution_count": 94,
   "metadata": {},
   "outputs": [
    {
     "data": {
      "text/plain": [
       "0.4068344682667483"
      ]
     },
     "execution_count": 94,
     "metadata": {},
     "output_type": "execute_result"
    }
   ],
   "source": [
    "import numpy as np\n",
    "random_sleep = np.random.uniform(0,1)\n",
    "random_sleep"
   ]
  },
  {
   "cell_type": "code",
   "execution_count": 95,
   "metadata": {
    "id": "EQs1C6C_TMkA"
   },
   "outputs": [],
   "source": [
    "import time\n",
    "# web page 시작번호\n",
    "page_no = 1\n",
    "start_page = 1\n",
    "end_page = 10\n",
    "# 데이터를 저장할 빈 변수 선언\n",
    "item_list = []\n",
    "for page_no in range(start_page, end_page+1):\n",
    "    df_temp_day= get_day_list(item_code,page_no)\n",
    "    item_list.append(df_temp_day)\n",
    "    random_sleep = np.random.uniform(0,1)\n",
    "    time.sleep(random_sleep)"
   ]
  },
  {
   "cell_type": "code",
   "execution_count": 96,
   "metadata": {
    "id": "CyMHyxTcpzKB"
   },
   "outputs": [
    {
     "data": {
      "text/plain": [
       "10"
      ]
     },
     "execution_count": 96,
     "metadata": {},
     "output_type": "execute_result"
    }
   ],
   "source": [
    "len(item_list)"
   ]
  },
  {
   "cell_type": "code",
   "execution_count": 97,
   "metadata": {},
   "outputs": [
    {
     "data": {
      "text/plain": [
       "[            날짜       종가     전일비       시가       고가       저가         거래량\n",
       " 1   2021.06.28  81900.0   300.0  81700.0  82000.0  81600.0  11315720.0\n",
       " 2   2021.06.25  81600.0   400.0  81500.0  81900.0  81200.0  13481405.0\n",
       " 3   2021.06.24  81200.0  1100.0  80400.0  81400.0  80100.0  18771080.0\n",
       " 4   2021.06.23  80100.0   100.0  80500.0  80600.0  79900.0  13856548.0\n",
       " 5   2021.06.22  80000.0   100.0  80200.0  80300.0  79900.0  11773365.0\n",
       " 9   2021.06.21  79900.0   600.0  79700.0  80000.0  79600.0  16063340.0\n",
       " 10  2021.06.18  80500.0   400.0  81100.0  81100.0  80500.0  14916721.0\n",
       " 11  2021.06.17  80900.0   900.0  81100.0  81300.0  80700.0  14007385.0\n",
       " 12  2021.06.16  81800.0   900.0  81500.0  81900.0  81100.0  14999855.0\n",
       " 13  2021.06.15  80900.0   400.0  80900.0  81200.0  80600.0  10075685.0,\n",
       "             날짜       종가     전일비       시가       고가       저가         거래량\n",
       " 1   2021.06.14  80500.0   500.0  80800.0  80900.0  80500.0  10550078.0\n",
       " 2   2021.06.11  81000.0     0.0  81200.0  81700.0  80700.0  14087962.0\n",
       " 3   2021.06.10  81000.0   100.0  81300.0  81400.0  80900.0  17586995.0\n",
       " 4   2021.06.09  81100.0   800.0  81500.0  82000.0  81100.0  14908823.0\n",
       " 5   2021.06.08  81900.0     0.0  82300.0  82600.0  81800.0  12781226.0\n",
       " 9   2021.06.07  81900.0   300.0  82700.0  82800.0  81600.0  16496197.0\n",
       " 10  2021.06.04  82200.0   600.0  82700.0  82700.0  81500.0  18112259.0\n",
       " 11  2021.06.03  82800.0  2000.0  81300.0  83000.0  81100.0  29546007.0\n",
       " 12  2021.06.02  80800.0   200.0  80400.0  81400.0  80300.0  16414644.0\n",
       " 13  2021.06.01  80600.0   100.0  80500.0  81300.0  80100.0  14058401.0,\n",
       "             날짜       종가    전일비       시가       고가       저가         거래량\n",
       " 1   2021.05.31  80500.0  400.0  80300.0  80600.0  79600.0  13321324.0\n",
       " 2   2021.05.28  80100.0  500.0  79800.0  80400.0  79400.0  12360199.0\n",
       " 3   2021.05.27  79600.0  200.0  80000.0  80000.0  79100.0  23198510.0\n",
       " 4   2021.05.26  79800.0  100.0  80400.0  80500.0  79700.0  11984359.0\n",
       " 5   2021.05.25  79900.0  200.0  80000.0  80400.0  79800.0  13628942.0\n",
       " 9   2021.05.24  79700.0  400.0  80100.0  80400.0  79500.0  13398666.0\n",
       " 10  2021.05.21  80100.0  600.0  80100.0  81500.0  79800.0  20961714.0\n",
       " 11  2021.05.20  79500.0  100.0  79400.0  79700.0  79100.0  16541828.0\n",
       " 12  2021.05.18  79600.0    0.0  79600.0  80000.0  79100.0  17494407.0\n",
       " 13  2021.05.17  79600.0  500.0  80800.0  80900.0  79200.0  17740855.0,\n",
       "             날짜       종가     전일비       시가       고가       저가         거래량\n",
       " 1   2021.05.14  80100.0  1600.0  79000.0  80300.0  78900.0  16450920.0\n",
       " 2   2021.05.13  78500.0  1500.0  78900.0  79600.0  78400.0  31490096.0\n",
       " 3   2021.05.12  80000.0  1200.0  80800.0  81200.0  79800.0  35812268.0\n",
       " 4   2021.05.11  81200.0  2000.0  82500.0  82600.0  81100.0  28996680.0\n",
       " 5   2021.05.10  83200.0  1300.0  82300.0  83500.0  81800.0  19385027.0\n",
       " 9   2021.05.07  81900.0   400.0  81800.0  82100.0  81500.0  14154882.0\n",
       " 10  2021.05.06  82300.0   300.0  81700.0  82300.0  81700.0  17047511.0\n",
       " 11  2021.05.04  82600.0   900.0  81900.0  82600.0  81800.0  12532550.0\n",
       " 12  2021.05.03  81700.0   200.0  81000.0  82400.0  81000.0  15710336.0\n",
       " 13  2021.04.30  81500.0   200.0  81900.0  82100.0  81500.0  18673197.0,\n",
       "             날짜       종가     전일비       시가       고가       저가         거래량\n",
       " 1   2021.04.29  81700.0   400.0  82400.0  82500.0  81500.0  20000973.0\n",
       " 2   2021.04.28  82100.0   800.0  83200.0  83200.0  82100.0  15596759.0\n",
       " 3   2021.04.27  82900.0   600.0  83200.0  83300.0  82500.0  12941533.0\n",
       " 4   2021.04.26  83500.0   700.0  82900.0  83500.0  82600.0  15489938.0\n",
       " 5   2021.04.23  82800.0   400.0  81900.0  82900.0  81600.0  17805080.0\n",
       " 9   2021.04.22  82400.0   200.0  82900.0  83000.0  82400.0  13934746.0\n",
       " 10  2021.04.21  82600.0  1300.0  83300.0  83500.0  82500.0  21636079.0\n",
       " 11  2021.04.20  83900.0   600.0  83300.0  84000.0  83100.0  15521965.0\n",
       " 12  2021.04.19  83300.0   600.0  83800.0  84000.0  83300.0  15287311.0\n",
       " 13  2021.04.16  83900.0   200.0  84700.0  84700.0  83600.0  15429522.0,\n",
       "             날짜       종가     전일비       시가       고가       저가         거래량\n",
       " 1   2021.04.15  84100.0   100.0  83700.0  84500.0  83400.0  16377412.0\n",
       " 2   2021.04.14  84000.0     0.0  84000.0  84300.0  83400.0  13794652.0\n",
       " 3   2021.04.13  84000.0   800.0  83000.0  84500.0  82800.0  15238206.0\n",
       " 4   2021.04.12  83200.0   400.0  84100.0  84100.0  83100.0  12915282.0\n",
       " 5   2021.04.09  83600.0  1100.0  84700.0  84900.0  83400.0  18193707.0\n",
       " 9   2021.04.08  84700.0   900.0  85700.0  85700.0  84100.0  19244259.0\n",
       " 10  2021.04.07  85600.0   400.0  86100.0  86200.0  85400.0  17885538.0\n",
       " 11  2021.04.06  86000.0   600.0  86200.0  86200.0  85100.0  19042023.0\n",
       " 12  2021.04.05  85400.0   600.0  85800.0  86000.0  84800.0  16255990.0\n",
       " 13  2021.04.02  84800.0  1900.0  84000.0  85200.0  83900.0  22997538.0,\n",
       "             날짜       종가     전일비       시가       고가       저가         거래량\n",
       " 1   2021.04.01  82900.0  1500.0  82500.0  83000.0  82000.0  18676461.0\n",
       " 2   2021.03.31  81400.0   800.0  82400.0  82700.0  81400.0  17240518.0\n",
       " 3   2021.03.30  82200.0   600.0  81600.0  82300.0  81300.0  13121698.0\n",
       " 4   2021.03.29  81600.0   100.0  81700.0  81700.0  81000.0  14952134.0\n",
       " 5   2021.03.26  81500.0   300.0  81400.0  81600.0  81000.0  12845778.0\n",
       " 9   2021.03.25  81200.0   200.0  81000.0  82100.0  80800.0  14758826.0\n",
       " 10  2021.03.24  81000.0   800.0  81000.0  81600.0  80700.0  17926638.0\n",
       " 11  2021.03.23  81800.0   200.0  82600.0  82900.0  81800.0  13299907.0\n",
       " 12  2021.03.22  82000.0   100.0  82000.0  82300.0  81700.0  12670506.0\n",
       " 13  2021.03.19  81900.0  1000.0  82100.0  82500.0  81800.0  15869700.0,\n",
       "             날짜       종가     전일비       시가       고가       저가         거래량\n",
       " 1   2021.03.18  82900.0   600.0  82800.0  83800.0  82600.0  18585244.0\n",
       " 2   2021.03.17  82300.0   500.0  82800.0  82900.0  82000.0  11625146.0\n",
       " 3   2021.03.16  82800.0  1000.0  82200.0  83000.0  82100.0  12293537.0\n",
       " 4   2021.03.15  81800.0  1000.0  82800.0  82900.0  81800.0  13735798.0\n",
       " 5   2021.03.12  82800.0   800.0  83100.0  83500.0  82400.0  13530573.0\n",
       " 9   2021.03.11  82000.0  1100.0  81000.0  82500.0  81000.0  23818297.0\n",
       " 10  2021.03.10  80900.0   500.0  82400.0  82500.0  80700.0  20038422.0\n",
       " 11  2021.03.09  81400.0   600.0  81400.0  81900.0  80600.0  25420764.0\n",
       " 12  2021.03.08  82000.0   100.0  82900.0  83000.0  81600.0  17641256.0\n",
       " 13  2021.03.05  82100.0   300.0  81100.0  82600.0  81100.0  20508971.0,\n",
       "             날짜       종가     전일비       시가       고가       저가         거래량\n",
       " 1   2021.03.04  82400.0  1600.0  82600.0  83200.0  82200.0  24348331.0\n",
       " 2   2021.03.03  84000.0   400.0  83500.0  84000.0  82800.0  19882132.0\n",
       " 3   2021.03.02  83600.0  1100.0  85100.0  85300.0  83000.0  33498180.0\n",
       " 4   2021.02.26  82500.0  2800.0  82800.0  83400.0  82000.0  38520800.0\n",
       " 5   2021.02.25  85300.0  3300.0  84000.0  85400.0  83000.0  34155986.0\n",
       " 9   2021.02.24  82000.0     0.0  81800.0  83600.0  81300.0  26807651.0\n",
       " 10  2021.02.23  82000.0   200.0  81200.0  82900.0  81100.0  20587314.0\n",
       " 11  2021.02.22  82200.0   400.0  83800.0  84200.0  82200.0  25419886.0\n",
       " 12  2021.02.19  82600.0   500.0  82300.0  82800.0  81000.0  25880879.0\n",
       " 13  2021.02.18  82100.0  1100.0  83200.0  83600.0  82100.0  21327683.0,\n",
       "             날짜       종가     전일비       시가       고가       저가         거래량\n",
       " 1   2021.02.17  83200.0  1700.0  83900.0  84200.0  83000.0  18307735.0\n",
       " 2   2021.02.16  84900.0   700.0  84500.0  86000.0  84200.0  20483100.0\n",
       " 3   2021.02.15  84200.0  2600.0  83800.0  84500.0  83300.0  23529706.0\n",
       " 4   2021.02.10  81600.0  1100.0  82600.0  82600.0  81600.0  23025766.0\n",
       " 5   2021.02.09  82700.0   300.0  84000.0  84800.0  82700.0  20898332.0\n",
       " 9   2021.02.08  83000.0   500.0  83800.0  84200.0  83000.0  15338765.0\n",
       " 10  2021.02.05  83500.0  1000.0  83100.0  84000.0  82500.0  18036835.0\n",
       " 11  2021.02.04  82500.0  2100.0  83500.0  83800.0  82100.0  24171688.0\n",
       " 12  2021.02.03  84600.0   200.0  84800.0  85400.0  83400.0  22112205.0\n",
       " 13  2021.02.02  84400.0  1400.0  84100.0  86400.0  83700.0  26302077.0]"
      ]
     },
     "execution_count": 97,
     "metadata": {},
     "output_type": "execute_result"
    }
   ],
   "source": [
    "item_list"
   ]
  },
  {
   "cell_type": "markdown",
   "metadata": {
    "id": "iEFBJv5XTMkA"
   },
   "source": [
    "## 수집한 데이터 하나의 데이터프레임으로 합치기\n",
    "\n",
    "<img src=\"https://pandas.pydata.org/docs/_images/merging_concat_basic.png\">\n",
    "\n",
    "* [Merge, join, concatenate and compare documentation](https://pandas.pydata.org/docs/user_guide/merging.html#merge-join-concatenate-and-compare)"
   ]
  },
  {
   "cell_type": "code",
   "execution_count": 106,
   "metadata": {
    "id": "mUcxeTMFTMkA"
   },
   "outputs": [
    {
     "data": {
      "text/html": [
       "<div>\n",
       "<style scoped>\n",
       "    .dataframe tbody tr th:only-of-type {\n",
       "        vertical-align: middle;\n",
       "    }\n",
       "\n",
       "    .dataframe tbody tr th {\n",
       "        vertical-align: top;\n",
       "    }\n",
       "\n",
       "    .dataframe thead th {\n",
       "        text-align: right;\n",
       "    }\n",
       "</style>\n",
       "<table border=\"1\" class=\"dataframe\">\n",
       "  <thead>\n",
       "    <tr style=\"text-align: right;\">\n",
       "      <th></th>\n",
       "      <th>날짜</th>\n",
       "      <th>종가</th>\n",
       "      <th>전일비</th>\n",
       "      <th>시가</th>\n",
       "      <th>고가</th>\n",
       "      <th>저가</th>\n",
       "      <th>거래량</th>\n",
       "    </tr>\n",
       "  </thead>\n",
       "  <tbody>\n",
       "    <tr>\n",
       "      <th>1</th>\n",
       "      <td>2021.06.28</td>\n",
       "      <td>81900.0</td>\n",
       "      <td>300.0</td>\n",
       "      <td>81700.0</td>\n",
       "      <td>82000.0</td>\n",
       "      <td>81600.0</td>\n",
       "      <td>11315720.0</td>\n",
       "    </tr>\n",
       "    <tr>\n",
       "      <th>2</th>\n",
       "      <td>2021.06.25</td>\n",
       "      <td>81600.0</td>\n",
       "      <td>400.0</td>\n",
       "      <td>81500.0</td>\n",
       "      <td>81900.0</td>\n",
       "      <td>81200.0</td>\n",
       "      <td>13481405.0</td>\n",
       "    </tr>\n",
       "    <tr>\n",
       "      <th>3</th>\n",
       "      <td>2021.06.24</td>\n",
       "      <td>81200.0</td>\n",
       "      <td>1100.0</td>\n",
       "      <td>80400.0</td>\n",
       "      <td>81400.0</td>\n",
       "      <td>80100.0</td>\n",
       "      <td>18771080.0</td>\n",
       "    </tr>\n",
       "    <tr>\n",
       "      <th>4</th>\n",
       "      <td>2021.06.23</td>\n",
       "      <td>80100.0</td>\n",
       "      <td>100.0</td>\n",
       "      <td>80500.0</td>\n",
       "      <td>80600.0</td>\n",
       "      <td>79900.0</td>\n",
       "      <td>13856548.0</td>\n",
       "    </tr>\n",
       "    <tr>\n",
       "      <th>5</th>\n",
       "      <td>2021.06.22</td>\n",
       "      <td>80000.0</td>\n",
       "      <td>100.0</td>\n",
       "      <td>80200.0</td>\n",
       "      <td>80300.0</td>\n",
       "      <td>79900.0</td>\n",
       "      <td>11773365.0</td>\n",
       "    </tr>\n",
       "    <tr>\n",
       "      <th>...</th>\n",
       "      <td>...</td>\n",
       "      <td>...</td>\n",
       "      <td>...</td>\n",
       "      <td>...</td>\n",
       "      <td>...</td>\n",
       "      <td>...</td>\n",
       "      <td>...</td>\n",
       "    </tr>\n",
       "    <tr>\n",
       "      <th>9</th>\n",
       "      <td>2021.02.08</td>\n",
       "      <td>83000.0</td>\n",
       "      <td>500.0</td>\n",
       "      <td>83800.0</td>\n",
       "      <td>84200.0</td>\n",
       "      <td>83000.0</td>\n",
       "      <td>15338765.0</td>\n",
       "    </tr>\n",
       "    <tr>\n",
       "      <th>10</th>\n",
       "      <td>2021.02.05</td>\n",
       "      <td>83500.0</td>\n",
       "      <td>1000.0</td>\n",
       "      <td>83100.0</td>\n",
       "      <td>84000.0</td>\n",
       "      <td>82500.0</td>\n",
       "      <td>18036835.0</td>\n",
       "    </tr>\n",
       "    <tr>\n",
       "      <th>11</th>\n",
       "      <td>2021.02.04</td>\n",
       "      <td>82500.0</td>\n",
       "      <td>2100.0</td>\n",
       "      <td>83500.0</td>\n",
       "      <td>83800.0</td>\n",
       "      <td>82100.0</td>\n",
       "      <td>24171688.0</td>\n",
       "    </tr>\n",
       "    <tr>\n",
       "      <th>12</th>\n",
       "      <td>2021.02.03</td>\n",
       "      <td>84600.0</td>\n",
       "      <td>200.0</td>\n",
       "      <td>84800.0</td>\n",
       "      <td>85400.0</td>\n",
       "      <td>83400.0</td>\n",
       "      <td>22112205.0</td>\n",
       "    </tr>\n",
       "    <tr>\n",
       "      <th>13</th>\n",
       "      <td>2021.02.02</td>\n",
       "      <td>84400.0</td>\n",
       "      <td>1400.0</td>\n",
       "      <td>84100.0</td>\n",
       "      <td>86400.0</td>\n",
       "      <td>83700.0</td>\n",
       "      <td>26302077.0</td>\n",
       "    </tr>\n",
       "  </tbody>\n",
       "</table>\n",
       "<p>100 rows × 7 columns</p>\n",
       "</div>"
      ],
      "text/plain": [
       "            날짜       종가     전일비       시가       고가       저가         거래량\n",
       "1   2021.06.28  81900.0   300.0  81700.0  82000.0  81600.0  11315720.0\n",
       "2   2021.06.25  81600.0   400.0  81500.0  81900.0  81200.0  13481405.0\n",
       "3   2021.06.24  81200.0  1100.0  80400.0  81400.0  80100.0  18771080.0\n",
       "4   2021.06.23  80100.0   100.0  80500.0  80600.0  79900.0  13856548.0\n",
       "5   2021.06.22  80000.0   100.0  80200.0  80300.0  79900.0  11773365.0\n",
       "..         ...      ...     ...      ...      ...      ...         ...\n",
       "9   2021.02.08  83000.0   500.0  83800.0  84200.0  83000.0  15338765.0\n",
       "10  2021.02.05  83500.0  1000.0  83100.0  84000.0  82500.0  18036835.0\n",
       "11  2021.02.04  82500.0  2100.0  83500.0  83800.0  82100.0  24171688.0\n",
       "12  2021.02.03  84600.0   200.0  84800.0  85400.0  83400.0  22112205.0\n",
       "13  2021.02.02  84400.0  1400.0  84100.0  86400.0  83700.0  26302077.0\n",
       "\n",
       "[100 rows x 7 columns]"
      ]
     },
     "execution_count": 106,
     "metadata": {},
     "output_type": "execute_result"
    }
   ],
   "source": [
    "# DataFrame들이 list의 형태로 저장된 것을 concat을 이용하여 합치면서 하나의 DataFrame으로 만듭니다.\n",
    "a = pd.concat(item_list)\n",
    "a"
   ]
  },
  {
   "cell_type": "markdown",
   "metadata": {
    "id": "xbV1ou_cpzKB"
   },
   "source": [
    "<img src=\"https://pandas.pydata.org/docs/_images/02_io_readwrite.svg\">"
   ]
  },
  {
   "cell_type": "code",
   "execution_count": 108,
   "metadata": {
    "id": "Ep3NWfM-TMkA"
   },
   "outputs": [
    {
     "data": {
      "text/html": [
       "<div>\n",
       "<style scoped>\n",
       "    .dataframe tbody tr th:only-of-type {\n",
       "        vertical-align: middle;\n",
       "    }\n",
       "\n",
       "    .dataframe tbody tr th {\n",
       "        vertical-align: top;\n",
       "    }\n",
       "\n",
       "    .dataframe thead th {\n",
       "        text-align: right;\n",
       "    }\n",
       "</style>\n",
       "<table border=\"1\" class=\"dataframe\">\n",
       "  <thead>\n",
       "    <tr style=\"text-align: right;\">\n",
       "      <th></th>\n",
       "      <th>날짜</th>\n",
       "      <th>종가</th>\n",
       "      <th>전일비</th>\n",
       "      <th>시가</th>\n",
       "      <th>고가</th>\n",
       "      <th>저가</th>\n",
       "      <th>거래량</th>\n",
       "    </tr>\n",
       "  </thead>\n",
       "  <tbody>\n",
       "    <tr>\n",
       "      <th>9</th>\n",
       "      <td>2021.02.08</td>\n",
       "      <td>83000.0</td>\n",
       "      <td>500.0</td>\n",
       "      <td>83800.0</td>\n",
       "      <td>84200.0</td>\n",
       "      <td>83000.0</td>\n",
       "      <td>15338765.0</td>\n",
       "    </tr>\n",
       "    <tr>\n",
       "      <th>10</th>\n",
       "      <td>2021.02.05</td>\n",
       "      <td>83500.0</td>\n",
       "      <td>1000.0</td>\n",
       "      <td>83100.0</td>\n",
       "      <td>84000.0</td>\n",
       "      <td>82500.0</td>\n",
       "      <td>18036835.0</td>\n",
       "    </tr>\n",
       "    <tr>\n",
       "      <th>11</th>\n",
       "      <td>2021.02.04</td>\n",
       "      <td>82500.0</td>\n",
       "      <td>2100.0</td>\n",
       "      <td>83500.0</td>\n",
       "      <td>83800.0</td>\n",
       "      <td>82100.0</td>\n",
       "      <td>24171688.0</td>\n",
       "    </tr>\n",
       "    <tr>\n",
       "      <th>12</th>\n",
       "      <td>2021.02.03</td>\n",
       "      <td>84600.0</td>\n",
       "      <td>200.0</td>\n",
       "      <td>84800.0</td>\n",
       "      <td>85400.0</td>\n",
       "      <td>83400.0</td>\n",
       "      <td>22112205.0</td>\n",
       "    </tr>\n",
       "    <tr>\n",
       "      <th>13</th>\n",
       "      <td>2021.02.02</td>\n",
       "      <td>84400.0</td>\n",
       "      <td>1400.0</td>\n",
       "      <td>84100.0</td>\n",
       "      <td>86400.0</td>\n",
       "      <td>83700.0</td>\n",
       "      <td>26302077.0</td>\n",
       "    </tr>\n",
       "  </tbody>\n",
       "</table>\n",
       "</div>"
      ],
      "text/plain": [
       "            날짜       종가     전일비       시가       고가       저가         거래량\n",
       "9   2021.02.08  83000.0   500.0  83800.0  84200.0  83000.0  15338765.0\n",
       "10  2021.02.05  83500.0  1000.0  83100.0  84000.0  82500.0  18036835.0\n",
       "11  2021.02.04  82500.0  2100.0  83500.0  83800.0  82100.0  24171688.0\n",
       "12  2021.02.03  84600.0   200.0  84800.0  85400.0  83400.0  22112205.0\n",
       "13  2021.02.02  84400.0  1400.0  84100.0  86400.0  83700.0  26302077.0"
      ]
     },
     "execution_count": 108,
     "metadata": {},
     "output_type": "execute_result"
    }
   ],
   "source": [
    "# head와 tail로 데이터의 일부를 가져와서 봅니다.\n",
    "a.head()"
   ]
  },
  {
   "cell_type": "code",
   "execution_count": 109,
   "metadata": {
    "id": "hHcKUo8iTMkA"
   },
   "outputs": [
    {
     "data": {
      "text/html": [
       "<div>\n",
       "<style scoped>\n",
       "    .dataframe tbody tr th:only-of-type {\n",
       "        vertical-align: middle;\n",
       "    }\n",
       "\n",
       "    .dataframe tbody tr th {\n",
       "        vertical-align: top;\n",
       "    }\n",
       "\n",
       "    .dataframe thead th {\n",
       "        text-align: right;\n",
       "    }\n",
       "</style>\n",
       "<table border=\"1\" class=\"dataframe\">\n",
       "  <thead>\n",
       "    <tr style=\"text-align: right;\">\n",
       "      <th></th>\n",
       "      <th>날짜</th>\n",
       "      <th>종가</th>\n",
       "      <th>전일비</th>\n",
       "      <th>시가</th>\n",
       "      <th>고가</th>\n",
       "      <th>저가</th>\n",
       "      <th>거래량</th>\n",
       "    </tr>\n",
       "  </thead>\n",
       "  <tbody>\n",
       "    <tr>\n",
       "      <th>9</th>\n",
       "      <td>2021.02.08</td>\n",
       "      <td>83000.0</td>\n",
       "      <td>500.0</td>\n",
       "      <td>83800.0</td>\n",
       "      <td>84200.0</td>\n",
       "      <td>83000.0</td>\n",
       "      <td>15338765.0</td>\n",
       "    </tr>\n",
       "    <tr>\n",
       "      <th>10</th>\n",
       "      <td>2021.02.05</td>\n",
       "      <td>83500.0</td>\n",
       "      <td>1000.0</td>\n",
       "      <td>83100.0</td>\n",
       "      <td>84000.0</td>\n",
       "      <td>82500.0</td>\n",
       "      <td>18036835.0</td>\n",
       "    </tr>\n",
       "    <tr>\n",
       "      <th>11</th>\n",
       "      <td>2021.02.04</td>\n",
       "      <td>82500.0</td>\n",
       "      <td>2100.0</td>\n",
       "      <td>83500.0</td>\n",
       "      <td>83800.0</td>\n",
       "      <td>82100.0</td>\n",
       "      <td>24171688.0</td>\n",
       "    </tr>\n",
       "    <tr>\n",
       "      <th>12</th>\n",
       "      <td>2021.02.03</td>\n",
       "      <td>84600.0</td>\n",
       "      <td>200.0</td>\n",
       "      <td>84800.0</td>\n",
       "      <td>85400.0</td>\n",
       "      <td>83400.0</td>\n",
       "      <td>22112205.0</td>\n",
       "    </tr>\n",
       "    <tr>\n",
       "      <th>13</th>\n",
       "      <td>2021.02.02</td>\n",
       "      <td>84400.0</td>\n",
       "      <td>1400.0</td>\n",
       "      <td>84100.0</td>\n",
       "      <td>86400.0</td>\n",
       "      <td>83700.0</td>\n",
       "      <td>26302077.0</td>\n",
       "    </tr>\n",
       "  </tbody>\n",
       "</table>\n",
       "</div>"
      ],
      "text/plain": [
       "            날짜       종가     전일비       시가       고가       저가         거래량\n",
       "9   2021.02.08  83000.0   500.0  83800.0  84200.0  83000.0  15338765.0\n",
       "10  2021.02.05  83500.0  1000.0  83100.0  84000.0  82500.0  18036835.0\n",
       "11  2021.02.04  82500.0  2100.0  83500.0  83800.0  82100.0  24171688.0\n",
       "12  2021.02.03  84600.0   200.0  84800.0  85400.0  83400.0  22112205.0\n",
       "13  2021.02.02  84400.0  1400.0  84100.0  86400.0  83700.0  26302077.0"
      ]
     },
     "execution_count": 109,
     "metadata": {},
     "output_type": "execute_result"
    }
   ],
   "source": [
    "a.tail()"
   ]
  },
  {
   "cell_type": "markdown",
   "metadata": {
    "id": "DdML6w8yTMkA"
   },
   "source": [
    "## 데이터프레임에 종목코드와 종목명을 추가하기\n",
    "* 파생변수 만들기"
   ]
  },
  {
   "cell_type": "code",
   "execution_count": null,
   "metadata": {
    "id": "-yIDnlZHTMkA"
   },
   "outputs": [],
   "source": [
    "# '종목코드'와 '종목명' column을 추가하면서 각각 item_code와 item_name 값을 입력합니다.\n",
    "# df[\"종목코드\"]\n",
    "# df[\"종목명\"]"
   ]
  },
  {
   "cell_type": "code",
   "execution_count": null,
   "metadata": {
    "id": "bwDA0C4PTMkA"
   },
   "outputs": [],
   "source": []
  },
  {
   "cell_type": "markdown",
   "metadata": {
    "id": "3RlnKPE1TMkA"
   },
   "source": [
    "## 컬럼 순서 변경하기"
   ]
  },
  {
   "cell_type": "code",
   "execution_count": null,
   "metadata": {
    "id": "JblNSbuRTMkA"
   },
   "outputs": [],
   "source": [
    "# DataFrame에서 column 들의 이름을 순서를 조정하여 column순서를 변경할 수 있습니다.\n"
   ]
  },
  {
   "cell_type": "code",
   "execution_count": 115,
   "metadata": {
    "id": "K1GYLvjzpzKD"
   },
   "outputs": [],
   "source": [
    "cols = ['종목코드', '종목명', '날짜', '종가', '전일비', '시가', '고가', '저가', '거래량']"
   ]
  },
  {
   "cell_type": "markdown",
   "metadata": {
    "id": "_-SXjeiSTMkA"
   },
   "source": [
    "## 중복데이터 제거하기\n",
    "* drop_duplicates 를 통해 중복된 데이터가 있다면 제거합니다."
   ]
  },
  {
   "cell_type": "code",
   "execution_count": null,
   "metadata": {
    "id": "F0VZGMNRTMkA"
   },
   "outputs": [],
   "source": [
    "# drop_duplicates : row들 끼리 data를 비교하여 같은 값이 있으면 row중 하나를 삭제\n",
    "# df.shape를 전/후로 출력하여 삭제된 row가 있는지 확인\n"
   ]
  },
  {
   "cell_type": "markdown",
   "metadata": {
    "id": "viEbEi4iTMkB"
   },
   "source": [
    "## 기술통계값 구하기"
   ]
  },
  {
   "cell_type": "code",
   "execution_count": null,
   "metadata": {
    "id": "Q-gV-QPPTMkB"
   },
   "outputs": [],
   "source": [
    "# describe는 기본적으로 수치데이터에 대한 기술통계값을 구하게 됩니다.\n"
   ]
  },
  {
   "cell_type": "markdown",
   "metadata": {
    "id": "MZYL5CNcpzKD"
   },
   "source": [
    "* 참고 : E notation\n",
    "[과학적 기수법 - 위키백과, 우리 모두의 백과사전](https://ko.wikipedia.org/wiki/%EA%B3%BC%ED%95%99%EC%A0%81_%EA%B8%B0%EC%88%98%EB%B2%95)\n",
    "\n",
    "과학적 기수법, 과학적 표기법(scientific notation, scientific form, standard index form, standard form)은 너무 크거나 너무 작은 숫자들을 십진법으로 편하게 작성하여 표현하는 방법이다. 과학자, 수학자, 공학자들이 공통적으로 사용하는데, 부분적인 이유는 특정한 산술을 단순화시켜 주기 때문이다. 과학 계산기에서는 \"SCI\" 디스플레이 모드라는 이름으로 알려져 있다."
   ]
  },
  {
   "cell_type": "code",
   "execution_count": null,
   "metadata": {
    "id": "bRrv4mutpzKE"
   },
   "outputs": [],
   "source": [
    "# 거래량의 과학적 기수법 읽기\n"
   ]
  },
  {
   "cell_type": "markdown",
   "metadata": {
    "id": "Ql0phnyuTMkB"
   },
   "source": [
    "## 최근 날짜 구해서 파일명 만들기"
   ]
  },
  {
   "cell_type": "code",
   "execution_count": null,
   "metadata": {
    "id": "_dyLUpVVTMkB"
   },
   "outputs": [],
   "source": [
    "# 날짜 column의 첫 row값 확인\n",
    "# date"
   ]
  },
  {
   "cell_type": "code",
   "execution_count": null,
   "metadata": {
    "id": "teInPugvTMkB"
   },
   "outputs": [],
   "source": [
    "# 종목명, 종목코드, 날짜를 이름으로 하는 csv 파일명 만들기\n",
    "# file_name\n"
   ]
  },
  {
   "cell_type": "markdown",
   "metadata": {
    "id": "1LXe-dutTMkB"
   },
   "source": [
    "## 파일로 저장하기"
   ]
  },
  {
   "cell_type": "code",
   "execution_count": null,
   "metadata": {
    "id": "dBRXOwIxTMkB"
   },
   "outputs": [],
   "source": [
    "# 파일로 저장하기 \n",
    "# index=False 로 데이터프레임의 기본 index 는 저장하지 않도록 합니다.\n"
   ]
  },
  {
   "cell_type": "code",
   "execution_count": null,
   "metadata": {
    "id": "EEfm9Yk9TMkB"
   },
   "outputs": [],
   "source": [
    "# 제대로 저장되었는지 파일을 읽어서 확인합니다.\n"
   ]
  },
  {
   "cell_type": "markdown",
   "metadata": {
    "id": "ns71GJrepzKF"
   },
   "source": [
    "## 전체 과정을 하나의 함수로 만들기"
   ]
  },
  {
   "cell_type": "code",
   "execution_count": null,
   "metadata": {
    "id": "p0ZnJR2vpzKF"
   },
   "outputs": [],
   "source": [
    "# def get_item_list(item_code, item_name):\n",
    "#     \"\"\"\n",
    "#     일별 시세를 수집하는 함수\n",
    "#     \"\"\""
   ]
  },
  {
   "cell_type": "code",
   "execution_count": null,
   "metadata": {
    "id": "dWsnom_CpzKF"
   },
   "outputs": [],
   "source": [
    "# item_code = \"352820\"\n",
    "# item_name = \"하이브\"\n",
    "\n",
    "item_code = \"326030\"\n",
    "item_name = \"SK바이오팜\"\n"
   ]
  },
  {
   "cell_type": "markdown",
   "metadata": {
    "id": "sMn_Jv2BpzKF"
   },
   "source": [
    "## 내가 만든 함수의 기능과 소스코드가 궁금하다면?"
   ]
  },
  {
   "cell_type": "code",
   "execution_count": null,
   "metadata": {
    "id": "Do91XzYdpzKF"
   },
   "outputs": [],
   "source": [
    "# 도움말 보기\n",
    "# get_item_list?\n"
   ]
  },
  {
   "cell_type": "code",
   "execution_count": null,
   "metadata": {
    "id": "ZEgR39pVpzKG"
   },
   "outputs": [],
   "source": [
    "# 소스코드 보기\n",
    "# get_item_list??\n"
   ]
  },
  {
   "cell_type": "code",
   "execution_count": null,
   "metadata": {
    "id": "mKNWBkWKpzKG"
   },
   "outputs": [],
   "source": []
  }
 ],
 "metadata": {
  "colab": {
   "collapsed_sections": [],
   "name": "0603-naver-finance-daily-price-web-scraping-input.ipynb",
   "provenance": [],
   "toc_visible": true
  },
  "hide_input": false,
  "kernelspec": {
   "display_name": "Python 3",
   "language": "python",
   "name": "python3"
  },
  "language_info": {
   "codemirror_mode": {
    "name": "ipython",
    "version": 3
   },
   "file_extension": ".py",
   "mimetype": "text/x-python",
   "name": "python",
   "nbconvert_exporter": "python",
   "pygments_lexer": "ipython3",
   "version": "3.8.8"
  },
  "latex_envs": {
   "LaTeX_envs_menu_present": true,
   "autoclose": false,
   "autocomplete": true,
   "bibliofile": "biblio.bib",
   "cite_by": "apalike",
   "current_citInitial": 1,
   "eqLabelWithNumbers": true,
   "eqNumInitial": 1,
   "hotkeys": {
    "equation": "Ctrl-E",
    "itemize": "Ctrl-I"
   },
   "labels_anchors": false,
   "latex_user_defs": false,
   "report_style_numbering": false,
   "user_envs_cfg": false
  },
  "toc": {
   "base_numbering": 1,
   "nav_menu": {},
   "number_sections": true,
   "sideBar": true,
   "skip_h1_title": false,
   "title_cell": "Table of Contents",
   "title_sidebar": "Contents",
   "toc_cell": false,
   "toc_position": {
    "height": "calc(100% - 180px)",
    "left": "10px",
    "top": "150px",
    "width": "204.8px"
   },
   "toc_section_display": true,
   "toc_window_display": false
  },
  "varInspector": {
   "cols": {
    "lenName": 16,
    "lenType": 16,
    "lenVar": 40
   },
   "kernels_config": {
    "python": {
     "delete_cmd_postfix": "",
     "delete_cmd_prefix": "del ",
     "library": "var_list.py",
     "varRefreshCmd": "print(var_dic_list())"
    },
    "r": {
     "delete_cmd_postfix": ") ",
     "delete_cmd_prefix": "rm(",
     "library": "var_list.r",
     "varRefreshCmd": "cat(var_dic_list()) "
    }
   },
   "types_to_exclude": [
    "module",
    "function",
    "builtin_function_or_method",
    "instance",
    "_Feature"
   ],
   "window_display": false
  }
 },
 "nbformat": 4,
 "nbformat_minor": 1
}
