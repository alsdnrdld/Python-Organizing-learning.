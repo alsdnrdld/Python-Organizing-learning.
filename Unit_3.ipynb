{
  "nbformat": 4,
  "nbformat_minor": 0,
  "metadata": {
    "colab": {
      "name": "Unit_3.ipynb",
      "provenance": [],
      "collapsed_sections": [],
      "include_colab_link": true
    },
    "kernelspec": {
      "name": "python3",
      "display_name": "Python 3"
    },
    "language_info": {
      "name": "python"
    }
  },
  "cells": [
    {
      "cell_type": "markdown",
      "metadata": {
        "id": "view-in-github",
        "colab_type": "text"
      },
      "source": [
        "<a href=\"https://colab.research.google.com/github/alsdnrdld/python/blob/main/Unit_3.ipynb\" target=\"_parent\"><img src=\"https://colab.research.google.com/assets/colab-badge.svg\" alt=\"Open In Colab\"/></a>"
      ]
    },
    {
      "cell_type": "code",
      "metadata": {
        "colab": {
          "base_uri": "https://localhost:8080/"
        },
        "id": "ggOfOPMdJFww",
        "outputId": "4d2a094f-2b51-4028-df3f-d13a9e2c16c5"
      },
      "source": [
        "from google.colab import drive\n",
        "drive.mount('/content/drive')"
      ],
      "execution_count": 7,
      "outputs": [
        {
          "output_type": "stream",
          "name": "stdout",
          "text": [
            "Mounted at /content/drive\n"
          ]
        }
      ]
    },
    {
      "cell_type": "code",
      "metadata": {
        "colab": {
          "base_uri": "https://localhost:8080/",
          "height": 241
        },
        "id": "3j34goE2KLLx",
        "outputId": "ed1a9122-0368-416f-f928-1f725f089791"
      },
      "source": [
        "import cv2\n",
        "import numpy as np\n",
        "\n",
        "src_img = cv2.imread('./data/input/image.jpg')\n",
        "src_gray = cv2.cvtColor(src_img, cv2.COLOR_BGR2GRAY)\n",
        "\n",
        "fast_detector = cv2.FastFeatureDetector_create(500)\n",
        "kpts = fast_detector.detect(src_gray, None)\n",
        "\n",
        "src_kpts = cv2.drawKeypoints(src_img, kpts, None)\n",
        "cv2.imshow('FAST detection result', src_kpts)"
      ],
      "execution_count": 10,
      "outputs": [
        {
          "output_type": "error",
          "ename": "error",
          "evalue": "ignored",
          "traceback": [
            "\u001b[0;31m---------------------------------------------------------------------------\u001b[0m",
            "\u001b[0;31merror\u001b[0m                                     Traceback (most recent call last)",
            "\u001b[0;32m<ipython-input-10-593a86582b79>\u001b[0m in \u001b[0;36m<module>\u001b[0;34m()\u001b[0m\n\u001b[1;32m      3\u001b[0m \u001b[0;34m\u001b[0m\u001b[0m\n\u001b[1;32m      4\u001b[0m \u001b[0msrc_img\u001b[0m \u001b[0;34m=\u001b[0m \u001b[0mcv2\u001b[0m\u001b[0;34m.\u001b[0m\u001b[0mimread\u001b[0m\u001b[0;34m(\u001b[0m\u001b[0;34m'./data/input/image.jpg'\u001b[0m\u001b[0;34m)\u001b[0m\u001b[0;34m\u001b[0m\u001b[0;34m\u001b[0m\u001b[0m\n\u001b[0;32m----> 5\u001b[0;31m \u001b[0msrc_gray\u001b[0m \u001b[0;34m=\u001b[0m \u001b[0mcv2\u001b[0m\u001b[0;34m.\u001b[0m\u001b[0mcvtColor\u001b[0m\u001b[0;34m(\u001b[0m\u001b[0msrc_img\u001b[0m\u001b[0;34m,\u001b[0m \u001b[0mcv2\u001b[0m\u001b[0;34m.\u001b[0m\u001b[0mCOLOR_BGR2GRAY\u001b[0m\u001b[0;34m)\u001b[0m\u001b[0;34m\u001b[0m\u001b[0;34m\u001b[0m\u001b[0m\n\u001b[0m\u001b[1;32m      6\u001b[0m \u001b[0;34m\u001b[0m\u001b[0m\n\u001b[1;32m      7\u001b[0m \u001b[0mfast_detector\u001b[0m \u001b[0;34m=\u001b[0m \u001b[0mcv2\u001b[0m\u001b[0;34m.\u001b[0m\u001b[0mFastFeatureDetector_create\u001b[0m\u001b[0;34m(\u001b[0m\u001b[0;36m500\u001b[0m\u001b[0;34m)\u001b[0m\u001b[0;34m\u001b[0m\u001b[0;34m\u001b[0m\u001b[0m\n",
            "\u001b[0;31merror\u001b[0m: OpenCV(4.1.2) /io/opencv/modules/imgproc/src/color.cpp:182: error: (-215:Assertion failed) !_src.empty() in function 'cvtColor'\n"
          ]
        }
      ]
    },
    {
      "cell_type": "code",
      "metadata": {
        "id": "KJz0_zTbQx4a",
        "colab": {
          "base_uri": "https://localhost:8080/"
        },
        "outputId": "e1566d5c-8377-4809-a809-c83c940e30bb"
      },
      "source": [
        "import numpy as np\n",
        "from sklearn.decomposition import PCA\n",
        "\n",
        "x = np.array([[-1, -1], [-2, -1], [-3, -2], [1, 1], [2, 1], [3, 2]])\n",
        "pca = PCA(n_components=2)\n",
        "pca.fit(x)\n",
        "\n",
        "print(pca.explained_variance_ratio_)\n",
        "print(pca.singular_values_)"
      ],
      "execution_count": 11,
      "outputs": [
        {
          "output_type": "stream",
          "name": "stdout",
          "text": [
            "[0.99244289 0.00755711]\n",
            "[6.30061232 0.54980396]\n"
          ]
        }
      ]
    },
    {
      "cell_type": "code",
      "metadata": {
        "id": "gY940iRtS-23"
      },
      "source": [
        "from sklearn.manifold import TSNE\n",
        "\n",
        "tsne = TSNE(n_components=2)\n",
        "y = tsne.fit_transform(x)"
      ],
      "execution_count": 12,
      "outputs": []
    },
    {
      "cell_type": "markdown",
      "metadata": {
        "id": "zltTGDSd9OAW"
      },
      "source": [
        "# 결정트리를 이용한 멜버른 집값 예측"
      ]
    },
    {
      "cell_type": "markdown",
      "metadata": {
        "id": "U_aKh2ktVvnz"
      },
      "source": [
        "Decision Tree: 0.405412915944668 <br/>\n",
        "Light GBM: 0.7166618912536572"
      ]
    },
    {
      "cell_type": "markdown",
      "metadata": {
        "id": "P3o4aWGb9R_W"
      },
      "source": [
        "## mount Google Drive and unzip zip file"
      ]
    },
    {
      "cell_type": "code",
      "metadata": {
        "id": "RD3KiwD26w0T",
        "colab": {
          "base_uri": "https://localhost:8080/"
        },
        "outputId": "81b49c58-08ac-489b-eaaf-b11636adf894"
      },
      "source": [
        "!ls drive/MyDrive/21_ls"
      ],
      "execution_count": 13,
      "outputs": [
        {
          "output_type": "stream",
          "name": "stdout",
          "text": [
            "ls: cannot access 'drive/MyDrive/21_ls': No such file or directory\n"
          ]
        }
      ]
    },
    {
      "cell_type": "code",
      "metadata": {
        "id": "QGJYoCLj1M5G",
        "colab": {
          "base_uri": "https://localhost:8080/"
        },
        "outputId": "9e2e26b8-18b6-4223-dcc0-40294c39a966"
      },
      "source": [
        "!unzip drive/MyDrive/21_ls/melbourne_data.zip -d drive/MyDrive/21_ls/input/"
      ],
      "execution_count": null,
      "outputs": [
        {
          "output_type": "stream",
          "name": "stdout",
          "text": [
            "Archive:  drive/MyDrive/21_ls/melbourne_data.zip\n",
            "replace drive/MyDrive/21_ls/input/melb_data.csv? [y]es, [n]o, [A]ll, [N]one, [r]ename: N\n"
          ]
        }
      ]
    },
    {
      "cell_type": "markdown",
      "metadata": {
        "id": "sLOI9cdG9YTu"
      },
      "source": [
        "## 데이터 불러오기, 모델 학습 및 예측"
      ]
    },
    {
      "cell_type": "code",
      "metadata": {
        "id": "nw24J9z21WI-"
      },
      "source": [
        "import numpy as np\n",
        "import pandas as pd\n",
        "\n",
        "from sklearn.tree import DecisionTreeRegressor\n",
        "from sklearn.model_selection import train_test_split\n",
        "from sklearn.metrics import mean_squared_error, r2_score\n",
        "\n",
        "from sklearn.preprocessing import LabelEncoder, OneHotEncoder, MinMaxScaler\n",
        "\n",
        "from matplotlib import pyplot as plt\n",
        "import seaborn as sns"
      ],
      "execution_count": 14,
      "outputs": []
    },
    {
      "cell_type": "code",
      "metadata": {
        "id": "0ew6Uyh61fNr",
        "colab": {
          "base_uri": "https://localhost:8080/"
        },
        "outputId": "39373bd4-ec9e-4f7e-88d7-e7a222881105"
      },
      "source": [
        "melbourne_file_path = 'drive/MyDrive/머신러닝 나노디그리/2일차 수업자료/data/melb_data.csv'\n",
        "melbourne_data = pd.read_csv(melbourne_file_path)\n",
        "melbourne_data.columns"
      ],
      "execution_count": 18,
      "outputs": [
        {
          "output_type": "execute_result",
          "data": {
            "text/plain": [
              "Index(['Suburb', 'Address', 'Rooms', 'Type', 'Price', 'Method', 'SellerG',\n",
              "       'Date', 'Distance', 'Postcode', 'Bedroom2', 'Bathroom', 'Car',\n",
              "       'Landsize', 'BuildingArea', 'YearBuilt', 'CouncilArea', 'Lattitude',\n",
              "       'Longtitude', 'Regionname', 'Propertycount'],\n",
              "      dtype='object')"
            ]
          },
          "metadata": {},
          "execution_count": 18
        }
      ]
    },
    {
      "cell_type": "code",
      "metadata": {
        "id": "_tJ293OU1p38",
        "colab": {
          "base_uri": "https://localhost:8080/"
        },
        "outputId": "16e6cbbd-e7f5-46a5-a0a5-aa58071bad94"
      },
      "source": [
        "y = melbourne_data.Price\n",
        "y"
      ],
      "execution_count": 19,
      "outputs": [
        {
          "output_type": "execute_result",
          "data": {
            "text/plain": [
              "0        1480000.0\n",
              "1        1035000.0\n",
              "2        1465000.0\n",
              "3         850000.0\n",
              "4        1600000.0\n",
              "           ...    \n",
              "13575    1245000.0\n",
              "13576    1031000.0\n",
              "13577    1170000.0\n",
              "13578    2500000.0\n",
              "13579    1285000.0\n",
              "Name: Price, Length: 13580, dtype: float64"
            ]
          },
          "metadata": {},
          "execution_count": 19
        }
      ]
    },
    {
      "cell_type": "code",
      "metadata": {
        "id": "Chfon_aZ16p9",
        "colab": {
          "base_uri": "https://localhost:8080/",
          "height": 342
        },
        "outputId": "b30dadd2-c997-47a3-d8a8-94dad2f38f05"
      },
      "source": [
        "melbourne_data.head()"
      ],
      "execution_count": 20,
      "outputs": [
        {
          "output_type": "execute_result",
          "data": {
            "text/html": [
              "<div>\n",
              "<style scoped>\n",
              "    .dataframe tbody tr th:only-of-type {\n",
              "        vertical-align: middle;\n",
              "    }\n",
              "\n",
              "    .dataframe tbody tr th {\n",
              "        vertical-align: top;\n",
              "    }\n",
              "\n",
              "    .dataframe thead th {\n",
              "        text-align: right;\n",
              "    }\n",
              "</style>\n",
              "<table border=\"1\" class=\"dataframe\">\n",
              "  <thead>\n",
              "    <tr style=\"text-align: right;\">\n",
              "      <th></th>\n",
              "      <th>Suburb</th>\n",
              "      <th>Address</th>\n",
              "      <th>Rooms</th>\n",
              "      <th>Type</th>\n",
              "      <th>Price</th>\n",
              "      <th>Method</th>\n",
              "      <th>SellerG</th>\n",
              "      <th>Date</th>\n",
              "      <th>Distance</th>\n",
              "      <th>Postcode</th>\n",
              "      <th>Bedroom2</th>\n",
              "      <th>Bathroom</th>\n",
              "      <th>Car</th>\n",
              "      <th>Landsize</th>\n",
              "      <th>BuildingArea</th>\n",
              "      <th>YearBuilt</th>\n",
              "      <th>CouncilArea</th>\n",
              "      <th>Lattitude</th>\n",
              "      <th>Longtitude</th>\n",
              "      <th>Regionname</th>\n",
              "      <th>Propertycount</th>\n",
              "    </tr>\n",
              "  </thead>\n",
              "  <tbody>\n",
              "    <tr>\n",
              "      <th>0</th>\n",
              "      <td>Abbotsford</td>\n",
              "      <td>85 Turner St</td>\n",
              "      <td>2</td>\n",
              "      <td>h</td>\n",
              "      <td>1480000.0</td>\n",
              "      <td>S</td>\n",
              "      <td>Biggin</td>\n",
              "      <td>3/12/2016</td>\n",
              "      <td>2.5</td>\n",
              "      <td>3067.0</td>\n",
              "      <td>2.0</td>\n",
              "      <td>1.0</td>\n",
              "      <td>1.0</td>\n",
              "      <td>202.0</td>\n",
              "      <td>NaN</td>\n",
              "      <td>NaN</td>\n",
              "      <td>Yarra</td>\n",
              "      <td>-37.7996</td>\n",
              "      <td>144.9984</td>\n",
              "      <td>Northern Metropolitan</td>\n",
              "      <td>4019.0</td>\n",
              "    </tr>\n",
              "    <tr>\n",
              "      <th>1</th>\n",
              "      <td>Abbotsford</td>\n",
              "      <td>25 Bloomburg St</td>\n",
              "      <td>2</td>\n",
              "      <td>h</td>\n",
              "      <td>1035000.0</td>\n",
              "      <td>S</td>\n",
              "      <td>Biggin</td>\n",
              "      <td>4/02/2016</td>\n",
              "      <td>2.5</td>\n",
              "      <td>3067.0</td>\n",
              "      <td>2.0</td>\n",
              "      <td>1.0</td>\n",
              "      <td>0.0</td>\n",
              "      <td>156.0</td>\n",
              "      <td>79.0</td>\n",
              "      <td>1900.0</td>\n",
              "      <td>Yarra</td>\n",
              "      <td>-37.8079</td>\n",
              "      <td>144.9934</td>\n",
              "      <td>Northern Metropolitan</td>\n",
              "      <td>4019.0</td>\n",
              "    </tr>\n",
              "    <tr>\n",
              "      <th>2</th>\n",
              "      <td>Abbotsford</td>\n",
              "      <td>5 Charles St</td>\n",
              "      <td>3</td>\n",
              "      <td>h</td>\n",
              "      <td>1465000.0</td>\n",
              "      <td>SP</td>\n",
              "      <td>Biggin</td>\n",
              "      <td>4/03/2017</td>\n",
              "      <td>2.5</td>\n",
              "      <td>3067.0</td>\n",
              "      <td>3.0</td>\n",
              "      <td>2.0</td>\n",
              "      <td>0.0</td>\n",
              "      <td>134.0</td>\n",
              "      <td>150.0</td>\n",
              "      <td>1900.0</td>\n",
              "      <td>Yarra</td>\n",
              "      <td>-37.8093</td>\n",
              "      <td>144.9944</td>\n",
              "      <td>Northern Metropolitan</td>\n",
              "      <td>4019.0</td>\n",
              "    </tr>\n",
              "    <tr>\n",
              "      <th>3</th>\n",
              "      <td>Abbotsford</td>\n",
              "      <td>40 Federation La</td>\n",
              "      <td>3</td>\n",
              "      <td>h</td>\n",
              "      <td>850000.0</td>\n",
              "      <td>PI</td>\n",
              "      <td>Biggin</td>\n",
              "      <td>4/03/2017</td>\n",
              "      <td>2.5</td>\n",
              "      <td>3067.0</td>\n",
              "      <td>3.0</td>\n",
              "      <td>2.0</td>\n",
              "      <td>1.0</td>\n",
              "      <td>94.0</td>\n",
              "      <td>NaN</td>\n",
              "      <td>NaN</td>\n",
              "      <td>Yarra</td>\n",
              "      <td>-37.7969</td>\n",
              "      <td>144.9969</td>\n",
              "      <td>Northern Metropolitan</td>\n",
              "      <td>4019.0</td>\n",
              "    </tr>\n",
              "    <tr>\n",
              "      <th>4</th>\n",
              "      <td>Abbotsford</td>\n",
              "      <td>55a Park St</td>\n",
              "      <td>4</td>\n",
              "      <td>h</td>\n",
              "      <td>1600000.0</td>\n",
              "      <td>VB</td>\n",
              "      <td>Nelson</td>\n",
              "      <td>4/06/2016</td>\n",
              "      <td>2.5</td>\n",
              "      <td>3067.0</td>\n",
              "      <td>3.0</td>\n",
              "      <td>1.0</td>\n",
              "      <td>2.0</td>\n",
              "      <td>120.0</td>\n",
              "      <td>142.0</td>\n",
              "      <td>2014.0</td>\n",
              "      <td>Yarra</td>\n",
              "      <td>-37.8072</td>\n",
              "      <td>144.9941</td>\n",
              "      <td>Northern Metropolitan</td>\n",
              "      <td>4019.0</td>\n",
              "    </tr>\n",
              "  </tbody>\n",
              "</table>\n",
              "</div>"
            ],
            "text/plain": [
              "       Suburb           Address  ...             Regionname Propertycount\n",
              "0  Abbotsford      85 Turner St  ...  Northern Metropolitan        4019.0\n",
              "1  Abbotsford   25 Bloomburg St  ...  Northern Metropolitan        4019.0\n",
              "2  Abbotsford      5 Charles St  ...  Northern Metropolitan        4019.0\n",
              "3  Abbotsford  40 Federation La  ...  Northern Metropolitan        4019.0\n",
              "4  Abbotsford       55a Park St  ...  Northern Metropolitan        4019.0\n",
              "\n",
              "[5 rows x 21 columns]"
            ]
          },
          "metadata": {},
          "execution_count": 20
        }
      ]
    },
    {
      "cell_type": "code",
      "metadata": {
        "id": "5FbAOr4c19VD",
        "colab": {
          "base_uri": "https://localhost:8080/"
        },
        "outputId": "60e82a17-2b0a-41ce-d86c-8cbfb06023f8"
      },
      "source": [
        "# NaN의 갯수를 범주별로 더하고, 정렬하여 어떤 것 항목에 많이 있는지 확인\n",
        "melbourne_data.isna().sum().sort_values(ascending=False) "
      ],
      "execution_count": 21,
      "outputs": [
        {
          "output_type": "execute_result",
          "data": {
            "text/plain": [
              "BuildingArea     6450\n",
              "YearBuilt        5375\n",
              "CouncilArea      1369\n",
              "Car                62\n",
              "Propertycount       0\n",
              "Date                0\n",
              "Address             0\n",
              "Rooms               0\n",
              "Type                0\n",
              "Price               0\n",
              "Method              0\n",
              "SellerG             0\n",
              "Bedroom2            0\n",
              "Distance            0\n",
              "Postcode            0\n",
              "Regionname          0\n",
              "Bathroom            0\n",
              "Landsize            0\n",
              "Lattitude           0\n",
              "Longtitude          0\n",
              "Suburb              0\n",
              "dtype: int64"
            ]
          },
          "metadata": {},
          "execution_count": 21
        }
      ]
    },
    {
      "cell_type": "code",
      "metadata": {
        "id": "rcE-IB2W2X5L",
        "colab": {
          "base_uri": "https://localhost:8080/"
        },
        "outputId": "7fab037f-53a2-450d-8537-469dd775a576"
      },
      "source": [
        "# 갯수로 보는 것보다 비율로 보는게 더 이해하기 쉬울 수 있으므로 전체 결측치 수의 비율로 계싼\n",
        "(melbourne_data.isna().sum() * 100 / melbourne_data.isna().count()).sort_values(ascending=False)"
      ],
      "execution_count": 22,
      "outputs": [
        {
          "output_type": "execute_result",
          "data": {
            "text/plain": [
              "BuildingArea     47.496318\n",
              "YearBuilt        39.580265\n",
              "CouncilArea      10.081001\n",
              "Car               0.456554\n",
              "Propertycount     0.000000\n",
              "Date              0.000000\n",
              "Address           0.000000\n",
              "Rooms             0.000000\n",
              "Type              0.000000\n",
              "Price             0.000000\n",
              "Method            0.000000\n",
              "SellerG           0.000000\n",
              "Bedroom2          0.000000\n",
              "Distance          0.000000\n",
              "Postcode          0.000000\n",
              "Regionname        0.000000\n",
              "Bathroom          0.000000\n",
              "Landsize          0.000000\n",
              "Lattitude         0.000000\n",
              "Longtitude        0.000000\n",
              "Suburb            0.000000\n",
              "dtype: float64"
            ]
          },
          "metadata": {},
          "execution_count": 22
        }
      ]
    },
    {
      "cell_type": "code",
      "metadata": {
        "colab": {
          "base_uri": "https://localhost:8080/",
          "height": 389
        },
        "id": "uUqcHSz-V8Qq",
        "outputId": "bdc613c1-7228-44a8-ec3e-180d5da878cb"
      },
      "source": [
        "# 결측치가 있는 클래스들에 대해서 출력\n",
        "melbourne_data[['BuildingArea', 'YearBuilt', 'CouncilArea', 'Car']].describe(include='all')"
      ],
      "execution_count": 23,
      "outputs": [
        {
          "output_type": "execute_result",
          "data": {
            "text/html": [
              "<div>\n",
              "<style scoped>\n",
              "    .dataframe tbody tr th:only-of-type {\n",
              "        vertical-align: middle;\n",
              "    }\n",
              "\n",
              "    .dataframe tbody tr th {\n",
              "        vertical-align: top;\n",
              "    }\n",
              "\n",
              "    .dataframe thead th {\n",
              "        text-align: right;\n",
              "    }\n",
              "</style>\n",
              "<table border=\"1\" class=\"dataframe\">\n",
              "  <thead>\n",
              "    <tr style=\"text-align: right;\">\n",
              "      <th></th>\n",
              "      <th>BuildingArea</th>\n",
              "      <th>YearBuilt</th>\n",
              "      <th>CouncilArea</th>\n",
              "      <th>Car</th>\n",
              "    </tr>\n",
              "  </thead>\n",
              "  <tbody>\n",
              "    <tr>\n",
              "      <th>count</th>\n",
              "      <td>7130.000000</td>\n",
              "      <td>8205.000000</td>\n",
              "      <td>12211</td>\n",
              "      <td>13518.000000</td>\n",
              "    </tr>\n",
              "    <tr>\n",
              "      <th>unique</th>\n",
              "      <td>NaN</td>\n",
              "      <td>NaN</td>\n",
              "      <td>33</td>\n",
              "      <td>NaN</td>\n",
              "    </tr>\n",
              "    <tr>\n",
              "      <th>top</th>\n",
              "      <td>NaN</td>\n",
              "      <td>NaN</td>\n",
              "      <td>Moreland</td>\n",
              "      <td>NaN</td>\n",
              "    </tr>\n",
              "    <tr>\n",
              "      <th>freq</th>\n",
              "      <td>NaN</td>\n",
              "      <td>NaN</td>\n",
              "      <td>1163</td>\n",
              "      <td>NaN</td>\n",
              "    </tr>\n",
              "    <tr>\n",
              "      <th>mean</th>\n",
              "      <td>151.967650</td>\n",
              "      <td>1964.684217</td>\n",
              "      <td>NaN</td>\n",
              "      <td>1.610075</td>\n",
              "    </tr>\n",
              "    <tr>\n",
              "      <th>std</th>\n",
              "      <td>541.014538</td>\n",
              "      <td>37.273762</td>\n",
              "      <td>NaN</td>\n",
              "      <td>0.962634</td>\n",
              "    </tr>\n",
              "    <tr>\n",
              "      <th>min</th>\n",
              "      <td>0.000000</td>\n",
              "      <td>1196.000000</td>\n",
              "      <td>NaN</td>\n",
              "      <td>0.000000</td>\n",
              "    </tr>\n",
              "    <tr>\n",
              "      <th>25%</th>\n",
              "      <td>93.000000</td>\n",
              "      <td>1940.000000</td>\n",
              "      <td>NaN</td>\n",
              "      <td>1.000000</td>\n",
              "    </tr>\n",
              "    <tr>\n",
              "      <th>50%</th>\n",
              "      <td>126.000000</td>\n",
              "      <td>1970.000000</td>\n",
              "      <td>NaN</td>\n",
              "      <td>2.000000</td>\n",
              "    </tr>\n",
              "    <tr>\n",
              "      <th>75%</th>\n",
              "      <td>174.000000</td>\n",
              "      <td>1999.000000</td>\n",
              "      <td>NaN</td>\n",
              "      <td>2.000000</td>\n",
              "    </tr>\n",
              "    <tr>\n",
              "      <th>max</th>\n",
              "      <td>44515.000000</td>\n",
              "      <td>2018.000000</td>\n",
              "      <td>NaN</td>\n",
              "      <td>10.000000</td>\n",
              "    </tr>\n",
              "  </tbody>\n",
              "</table>\n",
              "</div>"
            ],
            "text/plain": [
              "        BuildingArea    YearBuilt CouncilArea           Car\n",
              "count    7130.000000  8205.000000       12211  13518.000000\n",
              "unique           NaN          NaN          33           NaN\n",
              "top              NaN          NaN    Moreland           NaN\n",
              "freq             NaN          NaN        1163           NaN\n",
              "mean      151.967650  1964.684217         NaN      1.610075\n",
              "std       541.014538    37.273762         NaN      0.962634\n",
              "min         0.000000  1196.000000         NaN      0.000000\n",
              "25%        93.000000  1940.000000         NaN      1.000000\n",
              "50%       126.000000  1970.000000         NaN      2.000000\n",
              "75%       174.000000  1999.000000         NaN      2.000000\n",
              "max     44515.000000  2018.000000         NaN     10.000000"
            ]
          },
          "metadata": {},
          "execution_count": 23
        }
      ]
    },
    {
      "cell_type": "code",
      "metadata": {
        "colab": {
          "base_uri": "https://localhost:8080/"
        },
        "id": "SqW_SfT9jl5P",
        "outputId": "309f5810-6399-4aa8-f33a-5fc94d99fef9"
      },
      "source": [
        "melbourne_data['CouncilArea'].value_counts()"
      ],
      "execution_count": 24,
      "outputs": [
        {
          "output_type": "execute_result",
          "data": {
            "text/plain": [
              "Moreland             1163\n",
              "Boroondara           1160\n",
              "Moonee Valley         997\n",
              "Darebin               934\n",
              "Glen Eira             848\n",
              "Stonnington           719\n",
              "Maribyrnong           692\n",
              "Yarra                 647\n",
              "Port Phillip          628\n",
              "Banyule               594\n",
              "Bayside               489\n",
              "Melbourne             470\n",
              "Hobsons Bay           434\n",
              "Brimbank              424\n",
              "Monash                333\n",
              "Manningham            311\n",
              "Whitehorse            304\n",
              "Kingston              207\n",
              "Whittlesea            167\n",
              "Hume                  164\n",
              "Wyndham                86\n",
              "Maroondah              80\n",
              "Knox                   80\n",
              "Melton                 66\n",
              "Frankston              53\n",
              "Greater Dandenong      52\n",
              "Casey                  38\n",
              "Nillumbik              36\n",
              "Yarra Ranges           18\n",
              "Cardinia                8\n",
              "Macedon Ranges          7\n",
              "Unavailable             1\n",
              "Moorabool               1\n",
              "Name: CouncilArea, dtype: int64"
            ]
          },
          "metadata": {},
          "execution_count": 24
        }
      ]
    },
    {
      "cell_type": "code",
      "metadata": {
        "id": "qYj6fhvtV_KM"
      },
      "source": [
        "melbourne_data['CouncilArea'] = melbourne_data['CouncilArea'].fillna('Moreland') # 가장 많이 등장한 값인 moreland도 채움"
      ],
      "execution_count": 25,
      "outputs": []
    },
    {
      "cell_type": "code",
      "metadata": {
        "id": "kHwfuFyBV_H9"
      },
      "source": [
        "melbourne_data['YearBuilt'] = melbourne_data['YearBuilt'].fillna(melbourne_data['YearBuilt'].median())"
      ],
      "execution_count": 26,
      "outputs": []
    },
    {
      "cell_type": "code",
      "metadata": {
        "id": "u9M5VI4JV_F7"
      },
      "source": [
        "melbourne_data['BuildingArea'] = melbourne_data['BuildingArea'].fillna(melbourne_data['BuildingArea'].mean()) # 평균"
      ],
      "execution_count": 27,
      "outputs": []
    },
    {
      "cell_type": "code",
      "metadata": {
        "id": "dpI6mW8-V_Dz"
      },
      "source": [
        "melbourne_data['Car'] = melbourne_data['Car'].fillna(melbourne_data['Car'].median()) # 중간값"
      ],
      "execution_count": 28,
      "outputs": []
    },
    {
      "cell_type": "code",
      "metadata": {
        "colab": {
          "base_uri": "https://localhost:8080/"
        },
        "id": "HGFQ5jx-V_B6",
        "outputId": "9a6272a5-3ff7-4b28-8974-8a9398b3fce7"
      },
      "source": [
        "melbourne_data.isna().any()"
      ],
      "execution_count": 29,
      "outputs": [
        {
          "output_type": "execute_result",
          "data": {
            "text/plain": [
              "Suburb           False\n",
              "Address          False\n",
              "Rooms            False\n",
              "Type             False\n",
              "Price            False\n",
              "Method           False\n",
              "SellerG          False\n",
              "Date             False\n",
              "Distance         False\n",
              "Postcode         False\n",
              "Bedroom2         False\n",
              "Bathroom         False\n",
              "Car              False\n",
              "Landsize         False\n",
              "BuildingArea     False\n",
              "YearBuilt        False\n",
              "CouncilArea      False\n",
              "Lattitude        False\n",
              "Longtitude       False\n",
              "Regionname       False\n",
              "Propertycount    False\n",
              "dtype: bool"
            ]
          },
          "metadata": {},
          "execution_count": 29
        }
      ]
    },
    {
      "cell_type": "code",
      "metadata": {
        "colab": {
          "base_uri": "https://localhost:8080/"
        },
        "id": "SWQg1t16WuZU",
        "outputId": "2836ae55-1b99-4d4d-d2da-846374e23fdd"
      },
      "source": [
        "categorical_features = melbourne_data.select_dtypes('object').columns\n",
        "numeric_features = melbourne_data.select_dtypes(['int', 'float']).columns\n",
        "\n",
        "print( categorical_features, len(categorical_features) )\n",
        "print( numeric_features , len(numeric_features) )"
      ],
      "execution_count": 30,
      "outputs": [
        {
          "output_type": "stream",
          "name": "stdout",
          "text": [
            "Index(['Suburb', 'Address', 'Type', 'Method', 'SellerG', 'Date', 'CouncilArea',\n",
            "       'Regionname'],\n",
            "      dtype='object') 8\n",
            "Index(['Rooms', 'Price', 'Distance', 'Postcode', 'Bedroom2', 'Bathroom', 'Car',\n",
            "       'Landsize', 'BuildingArea', 'YearBuilt', 'Lattitude', 'Longtitude',\n",
            "       'Propertycount'],\n",
            "      dtype='object') 13\n"
          ]
        }
      ]
    },
    {
      "cell_type": "code",
      "metadata": {
        "colab": {
          "base_uri": "https://localhost:8080/"
        },
        "id": "0H0vr5dCV-_k",
        "outputId": "f1ac22c9-f3c5-4e9c-f567-f31ac76199ae"
      },
      "source": [
        "for col in categorical_features:\n",
        "    print(\"Uniq val of \"+ col + \" =\",  len(melbourne_data[col].unique()))"
      ],
      "execution_count": 31,
      "outputs": [
        {
          "output_type": "stream",
          "name": "stdout",
          "text": [
            "Uniq val of Suburb = 314\n",
            "Uniq val of Address = 13378\n",
            "Uniq val of Type = 3\n",
            "Uniq val of Method = 5\n",
            "Uniq val of SellerG = 268\n",
            "Uniq val of Date = 58\n",
            "Uniq val of CouncilArea = 33\n",
            "Uniq val of Regionname = 8\n"
          ]
        }
      ]
    },
    {
      "cell_type": "code",
      "metadata": {
        "id": "kAiSw5i6V-9f"
      },
      "source": [
        "categorical_features = categorical_features.drop('Address')\n",
        "categorical_features = categorical_features.drop('SellerG')\n",
        "categorical_features = categorical_features.drop('Suburb')"
      ],
      "execution_count": 32,
      "outputs": []
    },
    {
      "cell_type": "code",
      "metadata": {
        "colab": {
          "base_uri": "https://localhost:8080/",
          "height": 547
        },
        "id": "JaxyNHNRV-4E",
        "outputId": "a9458174-e4ae-4c59-e030-bebaf601afe9"
      },
      "source": [
        "corr_ = melbourne_data[numeric_features].corr()\n",
        "\n",
        "plt.figure(figsize=(15, 8))\n",
        "sns.heatmap(corr_, fmt='.2f', linewidths=.1, annot=True, cmap='coolwarm')\n",
        "plt.show()"
      ],
      "execution_count": 33,
      "outputs": [
        {
          "output_type": "display_data",
          "data": {
            "image/png": "[encoded data removed]",
            "text/plain": [
              "<Figure size 1080x576 with 2 Axes>"
            ]
          },
          "metadata": {
            "needs_background": "light"
          }
        }
      ]
    },
    {
      "cell_type": "code",
      "metadata": {
        "id": "ptD7VLhsXZmO"
      },
      "source": [
        "for column in categorical_features:    \n",
        "    l_encoder = LabelEncoder()\n",
        "    melbourne_data[column] = l_encoder.fit_transform(melbourne_data[column])"
      ],
      "execution_count": 34,
      "outputs": []
    },
    {
      "cell_type": "code",
      "metadata": {
        "id": "KGa-vuhvXZfy"
      },
      "source": [
        "training_features = list(numeric_features) + list(categorical_features)\n",
        "training_features.remove('Price')"
      ],
      "execution_count": 35,
      "outputs": []
    },
    {
      "cell_type": "code",
      "metadata": {
        "colab": {
          "base_uri": "https://localhost:8080/"
        },
        "id": "Uopzjb_5XZYD",
        "outputId": "1f46f29a-7a9b-4066-fe09-4d9a9eba8afe"
      },
      "source": [
        "minMaxNorm = MinMaxScaler()\n",
        "minMaxNorm.fit(melbourne_data[training_features])"
      ],
      "execution_count": 36,
      "outputs": [
        {
          "output_type": "execute_result",
          "data": {
            "text/plain": [
              "MinMaxScaler(copy=True, feature_range=(0, 1))"
            ]
          },
          "metadata": {},
          "execution_count": 36
        }
      ]
    },
    {
      "cell_type": "code",
      "metadata": {
        "id": "XPZYrroNXYoX"
      },
      "source": [
        "X = minMaxNorm.transform(melbourne_data[training_features]) "
      ],
      "execution_count": 37,
      "outputs": []
    },
    {
      "cell_type": "code",
      "metadata": {
        "colab": {
          "base_uri": "https://localhost:8080/"
        },
        "id": "lOteIBBte_CU",
        "outputId": "1ff6517e-f2b3-4eb2-b12f-139f835848e0"
      },
      "source": [
        "from sklearn.decomposition import PCA\n",
        "\n",
        "pca = PCA(n_components=4)\n",
        "pca.fit(X)\n",
        "\n",
        "print(pca.explained_variance_ratio_)\n",
        "print(np.sum(pca.explained_variance_ratio_))\n",
        "print(pca.singular_values_)\n",
        "\n",
        "X_pca = pca.transform(X)\n",
        "X_all = np.concatenate([X, X_pca], axis=1)"
      ],
      "execution_count": 38,
      "outputs": [
        {
          "output_type": "stream",
          "name": "stdout",
          "text": [
            "[0.29195837 0.15611568 0.13516507 0.12974959]\n",
            "0.7129887026224889\n",
            "[49.79484692 36.41222315 33.88099647 33.19532538]\n"
          ]
        }
      ]
    },
    {
      "cell_type": "code",
      "metadata": {
        "id": "0jZV7Kp37G35",
        "colab": {
          "base_uri": "https://localhost:8080/"
        },
        "outputId": "8155fce8-a43e-4a80-864e-fb7c1af1a25d"
      },
      "source": [
        "X_train, X_test, y_train, y_test = train_test_split(X_all, y, test_size=0.1, random_state=0)\n",
        "\n",
        "print(X_train.shape, y_train.shape)\n",
        "print(X_test.shape, y_test.shape)"
      ],
      "execution_count": 39,
      "outputs": [
        {
          "output_type": "stream",
          "name": "stdout",
          "text": [
            "(12222, 21) (12222,)\n",
            "(1358, 21) (1358,)\n"
          ]
        }
      ]
    },
    {
      "cell_type": "code",
      "metadata": {
        "id": "L93mwDIN7vzs",
        "colab": {
          "base_uri": "https://localhost:8080/"
        },
        "outputId": "f16d8c2f-f084-428b-af35-be18ca1c9a81"
      },
      "source": [
        "melbourne_model = DecisionTreeRegressor(random_state=2021)\n",
        "\n",
        "melbourne_model.fit(X_train, y_train)\n",
        "\n",
        "dt_r2 = melbourne_model.score(X_test, y_test)\n",
        "dt_r2"
      ],
      "execution_count": 40,
      "outputs": [
        {
          "output_type": "execute_result",
          "data": {
            "text/plain": [
              "0.4367750922739503"
            ]
          },
          "metadata": {},
          "execution_count": 40
        }
      ]
    },
    {
      "cell_type": "markdown",
      "metadata": {
        "id": "TJ-iWjAo9iFm"
      },
      "source": [
        "### 바꿔보기\n",
        "1. Light GBM 모델로 변경\n",
        "2. 사용하는 feature 변경\n",
        "3. 모델 파라미터 조정\n",
        "4. Dataset split 비율 조정\n",
        "5. 여러분들이 배우셨던 통계 지식 활용"
      ]
    },
    {
      "cell_type": "markdown",
      "metadata": {
        "id": "rPs0_zvs-_wo"
      },
      "source": [
        "## Light GBM"
      ]
    },
    {
      "cell_type": "code",
      "metadata": {
        "id": "HIlcb6gu9AmK"
      },
      "source": [
        "import lightgbm"
      ],
      "execution_count": 41,
      "outputs": []
    },
    {
      "cell_type": "code",
      "metadata": {
        "id": "if2cBCfW_DnW"
      },
      "source": [
        "train_data = lightgbm.Dataset(X_train, label=y_train) #, categorical_feature=categorical_features)\n",
        "test_data = lightgbm.Dataset(X_test, label=y_test)"
      ],
      "execution_count": 42,
      "outputs": []
    },
    {
      "cell_type": "code",
      "metadata": {
        "id": "LSTiDDsF_T3c"
      },
      "source": [
        "parameters = {\n",
        "    'objective': 'regression',\n",
        "    'metric': 'rmse',\n",
        "    'boosting': 'gbdt',\n",
        "    'learning_rate': 0.05,\n",
        "    'feature_fraction': 0.6,\n",
        "}"
      ],
      "execution_count": 43,
      "outputs": []
    },
    {
      "cell_type": "code",
      "metadata": {
        "id": "D37HF2OB_RKY",
        "colab": {
          "base_uri": "https://localhost:8080/"
        },
        "outputId": "24111dbf-5986-4c52-ad4e-fe4edbb60e01"
      },
      "source": [
        "lgbm_model = lightgbm.train(parameters,\n",
        "                       train_data,\n",
        "                       valid_sets=test_data,\n",
        "                       num_boost_round=500,\n",
        "                       early_stopping_rounds=10)"
      ],
      "execution_count": 44,
      "outputs": [
        {
          "output_type": "stream",
          "name": "stdout",
          "text": [
            "[1]\tvalid_0's rmse: 607873\n",
            "Training until validation scores don't improve for 10 rounds.\n",
            "[2]\tvalid_0's rmse: 588286\n",
            "[3]\tvalid_0's rmse: 570082\n",
            "[4]\tvalid_0's rmse: 554948\n",
            "[5]\tvalid_0's rmse: 538939\n",
            "[6]\tvalid_0's rmse: 523849\n",
            "[7]\tvalid_0's rmse: 510096\n",
            "[8]\tvalid_0's rmse: 496474\n",
            "[9]\tvalid_0's rmse: 484827\n",
            "[10]\tvalid_0's rmse: 473293\n",
            "[11]\tvalid_0's rmse: 461611\n",
            "[12]\tvalid_0's rmse: 450570\n",
            "[13]\tvalid_0's rmse: 441357\n",
            "[14]\tvalid_0's rmse: 432714\n",
            "[15]\tvalid_0's rmse: 423107\n",
            "[16]\tvalid_0's rmse: 414512\n",
            "[17]\tvalid_0's rmse: 405991\n",
            "[18]\tvalid_0's rmse: 398411\n",
            "[19]\tvalid_0's rmse: 392176\n",
            "[20]\tvalid_0's rmse: 386480\n",
            "[21]\tvalid_0's rmse: 380701\n",
            "[22]\tvalid_0's rmse: 374451\n",
            "[23]\tvalid_0's rmse: 370031\n",
            "[24]\tvalid_0's rmse: 364569\n",
            "[25]\tvalid_0's rmse: 359393\n",
            "[26]\tvalid_0's rmse: 354989\n",
            "[27]\tvalid_0's rmse: 350739\n",
            "[28]\tvalid_0's rmse: 346426\n",
            "[29]\tvalid_0's rmse: 342371\n",
            "[30]\tvalid_0's rmse: 338476\n",
            "[31]\tvalid_0's rmse: 335425\n",
            "[32]\tvalid_0's rmse: 333092\n",
            "[33]\tvalid_0's rmse: 330267\n",
            "[34]\tvalid_0's rmse: 327180\n",
            "[35]\tvalid_0's rmse: 324416\n",
            "[36]\tvalid_0's rmse: 322428\n",
            "[37]\tvalid_0's rmse: 319540\n",
            "[38]\tvalid_0's rmse: 317115\n",
            "[39]\tvalid_0's rmse: 315099\n",
            "[40]\tvalid_0's rmse: 313452\n",
            "[41]\tvalid_0's rmse: 310935\n",
            "[42]\tvalid_0's rmse: 308322\n",
            "[43]\tvalid_0's rmse: 306249\n",
            "[44]\tvalid_0's rmse: 304606\n",
            "[45]\tvalid_0's rmse: 303175\n",
            "[46]\tvalid_0's rmse: 301375\n",
            "[47]\tvalid_0's rmse: 299977\n",
            "[48]\tvalid_0's rmse: 298061\n",
            "[49]\tvalid_0's rmse: 296297\n",
            "[50]\tvalid_0's rmse: 295228\n",
            "[51]\tvalid_0's rmse: 293512\n",
            "[52]\tvalid_0's rmse: 292346\n",
            "[53]\tvalid_0's rmse: 290665\n",
            "[54]\tvalid_0's rmse: 289664\n",
            "[55]\tvalid_0's rmse: 288225\n",
            "[56]\tvalid_0's rmse: 287665\n",
            "[57]\tvalid_0's rmse: 286397\n",
            "[58]\tvalid_0's rmse: 285551\n",
            "[59]\tvalid_0's rmse: 284895\n",
            "[60]\tvalid_0's rmse: 284602\n",
            "[61]\tvalid_0's rmse: 283661\n",
            "[62]\tvalid_0's rmse: 282942\n",
            "[63]\tvalid_0's rmse: 282114\n",
            "[64]\tvalid_0's rmse: 281451\n",
            "[65]\tvalid_0's rmse: 280594\n",
            "[66]\tvalid_0's rmse: 279742\n",
            "[67]\tvalid_0's rmse: 279304\n",
            "[68]\tvalid_0's rmse: 278334\n",
            "[69]\tvalid_0's rmse: 277686\n",
            "[70]\tvalid_0's rmse: 276891\n",
            "[71]\tvalid_0's rmse: 276357\n",
            "[72]\tvalid_0's rmse: 275980\n",
            "[73]\tvalid_0's rmse: 275399\n",
            "[74]\tvalid_0's rmse: 274912\n",
            "[75]\tvalid_0's rmse: 274494\n",
            "[76]\tvalid_0's rmse: 273910\n",
            "[77]\tvalid_0's rmse: 273363\n",
            "[78]\tvalid_0's rmse: 273045\n",
            "[79]\tvalid_0's rmse: 272807\n",
            "[80]\tvalid_0's rmse: 272501\n",
            "[81]\tvalid_0's rmse: 272437\n",
            "[82]\tvalid_0's rmse: 272134\n",
            "[83]\tvalid_0's rmse: 271865\n",
            "[84]\tvalid_0's rmse: 271530\n",
            "[85]\tvalid_0's rmse: 271154\n",
            "[86]\tvalid_0's rmse: 271056\n",
            "[87]\tvalid_0's rmse: 270505\n",
            "[88]\tvalid_0's rmse: 270455\n",
            "[89]\tvalid_0's rmse: 269774\n",
            "[90]\tvalid_0's rmse: 269401\n",
            "[91]\tvalid_0's rmse: 269234\n",
            "[92]\tvalid_0's rmse: 268587\n",
            "[93]\tvalid_0's rmse: 268396\n",
            "[94]\tvalid_0's rmse: 268107\n",
            "[95]\tvalid_0's rmse: 267663\n",
            "[96]\tvalid_0's rmse: 267276\n",
            "[97]\tvalid_0's rmse: 266662\n",
            "[98]\tvalid_0's rmse: 266427\n",
            "[99]\tvalid_0's rmse: 266450\n",
            "[100]\tvalid_0's rmse: 266419\n",
            "[101]\tvalid_0's rmse: 266279\n",
            "[102]\tvalid_0's rmse: 265965\n",
            "[103]\tvalid_0's rmse: 265731\n",
            "[104]\tvalid_0's rmse: 265365\n",
            "[105]\tvalid_0's rmse: 265269\n",
            "[106]\tvalid_0's rmse: 265074\n",
            "[107]\tvalid_0's rmse: 264875\n",
            "[108]\tvalid_0's rmse: 264510\n",
            "[109]\tvalid_0's rmse: 264374\n",
            "[110]\tvalid_0's rmse: 264305\n",
            "[111]\tvalid_0's rmse: 264181\n",
            "[112]\tvalid_0's rmse: 264044\n",
            "[113]\tvalid_0's rmse: 264028\n",
            "[114]\tvalid_0's rmse: 263906\n",
            "[115]\tvalid_0's rmse: 263483\n",
            "[116]\tvalid_0's rmse: 263190\n",
            "[117]\tvalid_0's rmse: 263116\n",
            "[118]\tvalid_0's rmse: 263128\n",
            "[119]\tvalid_0's rmse: 262753\n",
            "[120]\tvalid_0's rmse: 262718\n",
            "[121]\tvalid_0's rmse: 262704\n",
            "[122]\tvalid_0's rmse: 262536\n",
            "[123]\tvalid_0's rmse: 262619\n",
            "[124]\tvalid_0's rmse: 262560\n",
            "[125]\tvalid_0's rmse: 262382\n",
            "[126]\tvalid_0's rmse: 262318\n",
            "[127]\tvalid_0's rmse: 262192\n",
            "[128]\tvalid_0's rmse: 261945\n",
            "[129]\tvalid_0's rmse: 261860\n",
            "[130]\tvalid_0's rmse: 261956\n",
            "[131]\tvalid_0's rmse: 261934\n",
            "[132]\tvalid_0's rmse: 261809\n",
            "[133]\tvalid_0's rmse: 261770\n",
            "[134]\tvalid_0's rmse: 261712\n",
            "[135]\tvalid_0's rmse: 261724\n",
            "[136]\tvalid_0's rmse: 261761\n",
            "[137]\tvalid_0's rmse: 261636\n",
            "[138]\tvalid_0's rmse: 261393\n",
            "[139]\tvalid_0's rmse: 261422\n",
            "[140]\tvalid_0's rmse: 261185\n",
            "[141]\tvalid_0's rmse: 261102\n",
            "[142]\tvalid_0's rmse: 260952\n",
            "[143]\tvalid_0's rmse: 260765\n",
            "[144]\tvalid_0's rmse: 260704\n",
            "[145]\tvalid_0's rmse: 260485\n",
            "[146]\tvalid_0's rmse: 260458\n",
            "[147]\tvalid_0's rmse: 260391\n",
            "[148]\tvalid_0's rmse: 260380\n",
            "[149]\tvalid_0's rmse: 260268\n",
            "[150]\tvalid_0's rmse: 260131\n",
            "[151]\tvalid_0's rmse: 260104\n",
            "[152]\tvalid_0's rmse: 259876\n",
            "[153]\tvalid_0's rmse: 259775\n",
            "[154]\tvalid_0's rmse: 259818\n",
            "[155]\tvalid_0's rmse: 259878\n",
            "[156]\tvalid_0's rmse: 259724\n",
            "[157]\tvalid_0's rmse: 259556\n",
            "[158]\tvalid_0's rmse: 259511\n",
            "[159]\tvalid_0's rmse: 259385\n",
            "[160]\tvalid_0's rmse: 259305\n",
            "[161]\tvalid_0's rmse: 259289\n",
            "[162]\tvalid_0's rmse: 259208\n",
            "[163]\tvalid_0's rmse: 258985\n",
            "[164]\tvalid_0's rmse: 258809\n",
            "[165]\tvalid_0's rmse: 258741\n",
            "[166]\tvalid_0's rmse: 258596\n",
            "[167]\tvalid_0's rmse: 258590\n",
            "[168]\tvalid_0's rmse: 258521\n",
            "[169]\tvalid_0's rmse: 258370\n",
            "[170]\tvalid_0's rmse: 258385\n",
            "[171]\tvalid_0's rmse: 258292\n",
            "[172]\tvalid_0's rmse: 258130\n",
            "[173]\tvalid_0's rmse: 258132\n",
            "[174]\tvalid_0's rmse: 258073\n",
            "[175]\tvalid_0's rmse: 257955\n",
            "[176]\tvalid_0's rmse: 258005\n",
            "[177]\tvalid_0's rmse: 257952\n",
            "[178]\tvalid_0's rmse: 257862\n",
            "[179]\tvalid_0's rmse: 257848\n",
            "[180]\tvalid_0's rmse: 257752\n",
            "[181]\tvalid_0's rmse: 257667\n",
            "[182]\tvalid_0's rmse: 257581\n",
            "[183]\tvalid_0's rmse: 257544\n",
            "[184]\tvalid_0's rmse: 257553\n",
            "[185]\tvalid_0's rmse: 257542\n",
            "[186]\tvalid_0's rmse: 257552\n",
            "[187]\tvalid_0's rmse: 257406\n",
            "[188]\tvalid_0's rmse: 257356\n",
            "[189]\tvalid_0's rmse: 257341\n",
            "[190]\tvalid_0's rmse: 257205\n",
            "[191]\tvalid_0's rmse: 257163\n",
            "[192]\tvalid_0's rmse: 257022\n",
            "[193]\tvalid_0's rmse: 256858\n",
            "[194]\tvalid_0's rmse: 256682\n",
            "[195]\tvalid_0's rmse: 256594\n",
            "[196]\tvalid_0's rmse: 256632\n",
            "[197]\tvalid_0's rmse: 256411\n",
            "[198]\tvalid_0's rmse: 256489\n",
            "[199]\tvalid_0's rmse: 256386\n",
            "[200]\tvalid_0's rmse: 256305\n",
            "[201]\tvalid_0's rmse: 256139\n",
            "[202]\tvalid_0's rmse: 255983\n",
            "[203]\tvalid_0's rmse: 256022\n",
            "[204]\tvalid_0's rmse: 255964\n",
            "[205]\tvalid_0's rmse: 255974\n",
            "[206]\tvalid_0's rmse: 255962\n",
            "[207]\tvalid_0's rmse: 255899\n",
            "[208]\tvalid_0's rmse: 255676\n",
            "[209]\tvalid_0's rmse: 255681\n",
            "[210]\tvalid_0's rmse: 255563\n",
            "[211]\tvalid_0's rmse: 255492\n",
            "[212]\tvalid_0's rmse: 255498\n",
            "[213]\tvalid_0's rmse: 255488\n",
            "[214]\tvalid_0's rmse: 255444\n",
            "[215]\tvalid_0's rmse: 255375\n",
            "[216]\tvalid_0's rmse: 255427\n",
            "[217]\tvalid_0's rmse: 255417\n",
            "[218]\tvalid_0's rmse: 255318\n",
            "[219]\tvalid_0's rmse: 255141\n",
            "[220]\tvalid_0's rmse: 254911\n",
            "[221]\tvalid_0's rmse: 254990\n",
            "[222]\tvalid_0's rmse: 254975\n",
            "[223]\tvalid_0's rmse: 254755\n",
            "[224]\tvalid_0's rmse: 254618\n",
            "[225]\tvalid_0's rmse: 254500\n",
            "[226]\tvalid_0's rmse: 254438\n",
            "[227]\tvalid_0's rmse: 254394\n",
            "[228]\tvalid_0's rmse: 254381\n",
            "[229]\tvalid_0's rmse: 254413\n",
            "[230]\tvalid_0's rmse: 254473\n",
            "[231]\tvalid_0's rmse: 254494\n",
            "[232]\tvalid_0's rmse: 254354\n",
            "[233]\tvalid_0's rmse: 254288\n",
            "[234]\tvalid_0's rmse: 254270\n",
            "[235]\tvalid_0's rmse: 254191\n",
            "[236]\tvalid_0's rmse: 254123\n",
            "[237]\tvalid_0's rmse: 254115\n",
            "[238]\tvalid_0's rmse: 254070\n",
            "[239]\tvalid_0's rmse: 254006\n",
            "[240]\tvalid_0's rmse: 253968\n",
            "[241]\tvalid_0's rmse: 253937\n",
            "[242]\tvalid_0's rmse: 253902\n",
            "[243]\tvalid_0's rmse: 253954\n",
            "[244]\tvalid_0's rmse: 253811\n",
            "[245]\tvalid_0's rmse: 253744\n",
            "[246]\tvalid_0's rmse: 253769\n",
            "[247]\tvalid_0's rmse: 253629\n",
            "[248]\tvalid_0's rmse: 253501\n",
            "[249]\tvalid_0's rmse: 253373\n",
            "[250]\tvalid_0's rmse: 253343\n",
            "[251]\tvalid_0's rmse: 253412\n",
            "[252]\tvalid_0's rmse: 253377\n",
            "[253]\tvalid_0's rmse: 253456\n",
            "[254]\tvalid_0's rmse: 253459\n",
            "[255]\tvalid_0's rmse: 253411\n",
            "[256]\tvalid_0's rmse: 253385\n",
            "[257]\tvalid_0's rmse: 253416\n",
            "[258]\tvalid_0's rmse: 253362\n",
            "[259]\tvalid_0's rmse: 253334\n",
            "[260]\tvalid_0's rmse: 253332\n",
            "[261]\tvalid_0's rmse: 253228\n",
            "[262]\tvalid_0's rmse: 253126\n",
            "[263]\tvalid_0's rmse: 253068\n",
            "[264]\tvalid_0's rmse: 252874\n",
            "[265]\tvalid_0's rmse: 252773\n",
            "[266]\tvalid_0's rmse: 252736\n",
            "[267]\tvalid_0's rmse: 252649\n",
            "[268]\tvalid_0's rmse: 252618\n",
            "[269]\tvalid_0's rmse: 252550\n",
            "[270]\tvalid_0's rmse: 252454\n",
            "[271]\tvalid_0's rmse: 252420\n",
            "[272]\tvalid_0's rmse: 252298\n",
            "[273]\tvalid_0's rmse: 252288\n",
            "[274]\tvalid_0's rmse: 252258\n",
            "[275]\tvalid_0's rmse: 252205\n",
            "[276]\tvalid_0's rmse: 252210\n",
            "[277]\tvalid_0's rmse: 252196\n",
            "[278]\tvalid_0's rmse: 252172\n",
            "[279]\tvalid_0's rmse: 252112\n",
            "[280]\tvalid_0's rmse: 252016\n",
            "[281]\tvalid_0's rmse: 251936\n",
            "[282]\tvalid_0's rmse: 251889\n",
            "[283]\tvalid_0's rmse: 251870\n",
            "[284]\tvalid_0's rmse: 251863\n",
            "[285]\tvalid_0's rmse: 251796\n",
            "[286]\tvalid_0's rmse: 251727\n",
            "[287]\tvalid_0's rmse: 251701\n",
            "[288]\tvalid_0's rmse: 251708\n",
            "[289]\tvalid_0's rmse: 251602\n",
            "[290]\tvalid_0's rmse: 251525\n",
            "[291]\tvalid_0's rmse: 251484\n",
            "[292]\tvalid_0's rmse: 251519\n",
            "[293]\tvalid_0's rmse: 251388\n",
            "[294]\tvalid_0's rmse: 251298\n",
            "[295]\tvalid_0's rmse: 251231\n",
            "[296]\tvalid_0's rmse: 251175\n",
            "[297]\tvalid_0's rmse: 251073\n",
            "[298]\tvalid_0's rmse: 250991\n",
            "[299]\tvalid_0's rmse: 250954\n",
            "[300]\tvalid_0's rmse: 250874\n",
            "[301]\tvalid_0's rmse: 250833\n",
            "[302]\tvalid_0's rmse: 250802\n",
            "[303]\tvalid_0's rmse: 250736\n",
            "[304]\tvalid_0's rmse: 250715\n",
            "[305]\tvalid_0's rmse: 250716\n",
            "[306]\tvalid_0's rmse: 250738\n",
            "[307]\tvalid_0's rmse: 250716\n",
            "[308]\tvalid_0's rmse: 250638\n",
            "[309]\tvalid_0's rmse: 250584\n",
            "[310]\tvalid_0's rmse: 250543\n",
            "[311]\tvalid_0's rmse: 250563\n",
            "[312]\tvalid_0's rmse: 250477\n",
            "[313]\tvalid_0's rmse: 250439\n",
            "[314]\tvalid_0's rmse: 250443\n",
            "[315]\tvalid_0's rmse: 250409\n",
            "[316]\tvalid_0's rmse: 250417\n",
            "[317]\tvalid_0's rmse: 250383\n",
            "[318]\tvalid_0's rmse: 250272\n",
            "[319]\tvalid_0's rmse: 250257\n",
            "[320]\tvalid_0's rmse: 250307\n",
            "[321]\tvalid_0's rmse: 250225\n",
            "[322]\tvalid_0's rmse: 250210\n",
            "[323]\tvalid_0's rmse: 250211\n",
            "[324]\tvalid_0's rmse: 250176\n",
            "[325]\tvalid_0's rmse: 250132\n",
            "[326]\tvalid_0's rmse: 250091\n",
            "[327]\tvalid_0's rmse: 250165\n",
            "[328]\tvalid_0's rmse: 250080\n",
            "[329]\tvalid_0's rmse: 250024\n",
            "[330]\tvalid_0's rmse: 249968\n",
            "[331]\tvalid_0's rmse: 249911\n",
            "[332]\tvalid_0's rmse: 249940\n",
            "[333]\tvalid_0's rmse: 249901\n",
            "[334]\tvalid_0's rmse: 249980\n",
            "[335]\tvalid_0's rmse: 249999\n",
            "[336]\tvalid_0's rmse: 249975\n",
            "[337]\tvalid_0's rmse: 249794\n",
            "[338]\tvalid_0's rmse: 249823\n",
            "[339]\tvalid_0's rmse: 249826\n",
            "[340]\tvalid_0's rmse: 249802\n",
            "[341]\tvalid_0's rmse: 249785\n",
            "[342]\tvalid_0's rmse: 249726\n",
            "[343]\tvalid_0's rmse: 249650\n",
            "[344]\tvalid_0's rmse: 249643\n",
            "[345]\tvalid_0's rmse: 249613\n",
            "[346]\tvalid_0's rmse: 249632\n",
            "[347]\tvalid_0's rmse: 249630\n",
            "[348]\tvalid_0's rmse: 249488\n",
            "[349]\tvalid_0's rmse: 249421\n",
            "[350]\tvalid_0's rmse: 249460\n",
            "[351]\tvalid_0's rmse: 249475\n",
            "[352]\tvalid_0's rmse: 249445\n",
            "[353]\tvalid_0's rmse: 249425\n",
            "[354]\tvalid_0's rmse: 249357\n",
            "[355]\tvalid_0's rmse: 249356\n",
            "[356]\tvalid_0's rmse: 249308\n",
            "[357]\tvalid_0's rmse: 249337\n",
            "[358]\tvalid_0's rmse: 249341\n",
            "[359]\tvalid_0's rmse: 249304\n",
            "[360]\tvalid_0's rmse: 249246\n",
            "[361]\tvalid_0's rmse: 249226\n",
            "[362]\tvalid_0's rmse: 249253\n",
            "[363]\tvalid_0's rmse: 249239\n",
            "[364]\tvalid_0's rmse: 249202\n",
            "[365]\tvalid_0's rmse: 249185\n",
            "[366]\tvalid_0's rmse: 249165\n",
            "[367]\tvalid_0's rmse: 249133\n",
            "[368]\tvalid_0's rmse: 249183\n",
            "[369]\tvalid_0's rmse: 249170\n",
            "[370]\tvalid_0's rmse: 249251\n",
            "[371]\tvalid_0's rmse: 249189\n",
            "[372]\tvalid_0's rmse: 249157\n",
            "[373]\tvalid_0's rmse: 249115\n",
            "[374]\tvalid_0's rmse: 249061\n",
            "[375]\tvalid_0's rmse: 249100\n",
            "[376]\tvalid_0's rmse: 249041\n",
            "[377]\tvalid_0's rmse: 248954\n",
            "[378]\tvalid_0's rmse: 248895\n",
            "[379]\tvalid_0's rmse: 248908\n",
            "[380]\tvalid_0's rmse: 248871\n",
            "[381]\tvalid_0's rmse: 248780\n",
            "[382]\tvalid_0's rmse: 248689\n",
            "[383]\tvalid_0's rmse: 248678\n",
            "[384]\tvalid_0's rmse: 248675\n",
            "[385]\tvalid_0's rmse: 248612\n",
            "[386]\tvalid_0's rmse: 248612\n",
            "[387]\tvalid_0's rmse: 248655\n",
            "[388]\tvalid_0's rmse: 248613\n",
            "[389]\tvalid_0's rmse: 248628\n",
            "[390]\tvalid_0's rmse: 248542\n",
            "[391]\tvalid_0's rmse: 248438\n",
            "[392]\tvalid_0's rmse: 248322\n",
            "[393]\tvalid_0's rmse: 248303\n",
            "[394]\tvalid_0's rmse: 248219\n",
            "[395]\tvalid_0's rmse: 248233\n",
            "[396]\tvalid_0's rmse: 248249\n",
            "[397]\tvalid_0's rmse: 248232\n",
            "[398]\tvalid_0's rmse: 248226\n",
            "[399]\tvalid_0's rmse: 248148\n",
            "[400]\tvalid_0's rmse: 248212\n",
            "[401]\tvalid_0's rmse: 248180\n",
            "[402]\tvalid_0's rmse: 248159\n",
            "[403]\tvalid_0's rmse: 248046\n",
            "[404]\tvalid_0's rmse: 248046\n",
            "[405]\tvalid_0's rmse: 247969\n",
            "[406]\tvalid_0's rmse: 247987\n",
            "[407]\tvalid_0's rmse: 247927\n",
            "[408]\tvalid_0's rmse: 247898\n",
            "[409]\tvalid_0's rmse: 247901\n",
            "[410]\tvalid_0's rmse: 247954\n",
            "[411]\tvalid_0's rmse: 247967\n",
            "[412]\tvalid_0's rmse: 248007\n",
            "[413]\tvalid_0's rmse: 247980\n",
            "[414]\tvalid_0's rmse: 247995\n",
            "[415]\tvalid_0's rmse: 247926\n",
            "[416]\tvalid_0's rmse: 247927\n",
            "[417]\tvalid_0's rmse: 247909\n",
            "[418]\tvalid_0's rmse: 247920\n",
            "Early stopping, best iteration is:\n",
            "[408]\tvalid_0's rmse: 247898\n"
          ]
        }
      ]
    },
    {
      "cell_type": "code",
      "metadata": {
        "id": "D07YcLoFE8fr",
        "colab": {
          "base_uri": "https://localhost:8080/"
        },
        "outputId": "81065d21-8ba3-4459-f0f1-19b4937eb046"
      },
      "source": [
        "lgbm_r2 = r2_score(lgbm_model.predict(X_test), y_test)\n",
        "print(dt_r2, lgbm_r2)"
      ],
      "execution_count": 45,
      "outputs": [
        {
          "output_type": "stream",
          "name": "stdout",
          "text": [
            "0.4367750922739503 0.8125159566075787\n"
          ]
        }
      ]
    },
    {
      "cell_type": "code",
      "metadata": {
        "id": "-ZVLEyRYD1_E",
        "colab": {
          "base_uri": "https://localhost:8080/"
        },
        "outputId": "8bd0cf4f-a3bd-4cc7-8db3-0fe08342c205"
      },
      "source": [
        "dt_mse = mean_squared_error(melbourne_model.predict(X_test), y_test, squared=False)\n",
        "lgbm_mse = mean_squared_error(lgbm_model.predict(X_test), y_test, squared=False)\n",
        "print(dt_mse, lgbm_mse)"
      ],
      "execution_count": 46,
      "outputs": [
        {
          "output_type": "stream",
          "name": "stdout",
          "text": [
            "470397.4500856799 247897.7466455034\n"
          ]
        }
      ]
    },
    {
      "cell_type": "code",
      "metadata": {
        "id": "PhIiyjHtG4pn"
      },
      "source": [
        ""
      ],
      "execution_count": 46,
      "outputs": []
    }
  ]
}