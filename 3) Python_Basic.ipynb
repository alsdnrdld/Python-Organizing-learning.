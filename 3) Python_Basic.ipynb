{
 "cells": [
  {
   "cell_type": "markdown",
   "metadata": {},
   "source": [
    "# 3. 파이썬 기초 문법"
   ]
  },
  {
   "cell_type": "markdown",
   "metadata": {},
   "source": [
    "### 3.1.반복문"
   ]
  },
  {
   "cell_type": "markdown",
   "metadata": {},
   "source": [
    "`\n",
    "for name in group:`    <-- \"group에서 순서대로 하나씩 꺼낸다. 이때 꺼낸 것을 name 이라고 부른다\"\n",
    "\n",
    "이후 들여쓰기가 끝나는 곳까지 반복 실행\n",
    "    \n",
    "    "
   ]
  },
  {
   "cell_type": "markdown",
   "metadata": {},
   "source": [
    "cf) 리스트 : 그룹으로 묶는 것 Vs 반복문 : 하나씩 꺼내어 작업하는 것."
   ]
  },
  {
   "cell_type": "code",
   "execution_count": 1,
   "metadata": {},
   "outputs": [
    {
     "name": "stdout",
     "output_type": "stream",
     "text": [
      "바나나\n",
      "사과\n",
      "딸기\n",
      "배\n",
      "감\n"
     ]
    }
   ],
   "source": [
    "# 반복문을 통해 리스트에서 원소를 순서대로 하나씩 꺼내어 작업할 수 있습니다. \n",
    "fruits = ['바나나','사과','딸기','배','감']\n",
    "\n",
    "for f in fruits:   # f라는 것을 반복해서 꺼낼건데 그 f에 해당하는 값들은 fruits 리스트에 들어있는 값들이다. \n",
    "                   # 즉 fruits리스트의 원소들을 하나씩 꺼내는 것을 반복하게 된다.\n",
    "    print(f)"
   ]
  },
  {
   "cell_type": "code",
   "execution_count": 2,
   "metadata": {},
   "outputs": [
    {
     "name": "stdout",
     "output_type": "stream",
     "text": [
      "바나나\n",
      "사과\n",
      "딸기\n",
      "배\n",
      "감\n",
      "5\n"
     ]
    }
   ],
   "source": [
    "# 반복문이 실행되는 범위는 들여쓰기를 이용하여 표시합니다. \n",
    "fruits = ['바나나','사과','딸기','배','감']\n",
    "\n",
    "for fruit in fruits:   \n",
    "    print(fruit)\n",
    "    \n",
    "print(5)"
   ]
  },
  {
   "cell_type": "code",
   "execution_count": 4,
   "metadata": {},
   "outputs": [
    {
     "name": "stdout",
     "output_type": "stream",
     "text": [
      "바나나\n",
      "1\n",
      "사과\n",
      "1\n",
      "딸기\n",
      "1\n",
      "배\n",
      "1\n",
      "감\n",
      "1\n",
      "5\n"
     ]
    }
   ],
   "source": [
    "# 반복문이 실행되는 범위는 들여쓰기를 이용하여 표시합니다. \n",
    "fruits = ['바나나','사과','딸기','배','감']\n",
    "for fruit in fruits:   \n",
    "    print(fruit)\n",
    "    \n",
    "    print(1)             # 들여쓰기가 되어있기 때문에 이 라인까지 반복문이 실행됩니다. \n",
    "print(5)"
   ]
  },
  {
   "cell_type": "markdown",
   "metadata": {},
   "source": [
    "### 3.2.조건문"
   ]
  },
  {
   "cell_type": "markdown",
   "metadata": {},
   "source": [
    "`if 조건1:`\n",
    "\n",
    "    조건1이 True 일 경우 실행되는 코드\n",
    "    \n",
    "`elif 조건2:`\n",
    "\n",
    "    조건1이 False 이면서, 조건2가 True 일 경우 실행되는 코드\n",
    "    \n",
    "`else:`\n",
    "\n",
    "    위 조건들이 모두 False 일때, 실행되는 코드"
   ]
  },
  {
   "cell_type": "code",
   "execution_count": 3,
   "metadata": {},
   "outputs": [
    {
     "name": "stdout",
     "output_type": "stream",
     "text": [
      "짝수 입니다\n"
     ]
    }
   ],
   "source": [
    "#  홀 / 짝 을 판단하고 출력해보겠습니다. \n",
    "\n",
    "n = 20   # 자연수 입력\n",
    "\n",
    "if n <= 0:        # 0이하의 수라면 다시 입력하라는 메세지를 출력합니다. \n",
    "    print('1 이상의 자연수를 입력해주세요')\n",
    "elif n % 2 == 0:  # 2로 나누었을때 나머지가 0인 경우 -> 짝수입니다. \n",
    "    print('짝수 입니다')\n",
    "else:             # 2로 나누었을때 나머지가 0이 아닌 경우 -> 홀수 입니다. \n",
    "    print('홀수 입니다')"
   ]
  },
  {
   "cell_type": "markdown",
   "metadata": {},
   "source": [
    "크기비교"
   ]
  },
  {
   "cell_type": "code",
   "execution_count": 6,
   "metadata": {},
   "outputs": [
    {
     "name": "stdout",
     "output_type": "stream",
     "text": [
      "shop_B의 과일 종류가 더 많다\n"
     ]
    }
   ],
   "source": [
    "# > < 부등호를 이용해 크기 비교를 할 수 있습니다. \n",
    "\n",
    "shop_A = ['사과','배','파인애플']\n",
    "shop_B = ['딸기','포도','사과', '배']\n",
    "\n",
    "if len(shop_A) > len(shop_B):\n",
    "    print('shop_A의 과일 종류가 더 많다')\n",
    "elif len(shop_A) < len(shop_B):\n",
    "    print('shop_B의 과일 종류가 더 많다')\n",
    "else:\n",
    "    print('두 매장에서 파는 과일의 종류 수는 동일하다')"
   ]
  },
  {
   "cell_type": "markdown",
   "metadata": {},
   "source": [
    "포함여부"
   ]
  },
  {
   "cell_type": "code",
   "execution_count": 9,
   "metadata": {},
   "outputs": [
    {
     "name": "stdout",
     "output_type": "stream",
     "text": [
      "shop_A 에서 딸기를 판매하지 않는다\n"
     ]
    }
   ],
   "source": [
    "# 원소 in 그룹 을 이용해 포함여부를 점검할 수 있습니다. \n",
    "shop_A = ['사과','배','파인애플']\n",
    "if \"딸기\" in shop_A:\n",
    "    print(\"shop_A 에서 딸기를 판매한다\")\n",
    "else:\n",
    "    print(\"shop_A 에서 딸기를 판매하지 않는다\")"
   ]
  },
  {
   "cell_type": "code",
   "execution_count": 8,
   "metadata": {},
   "outputs": [
    {
     "name": "stdout",
     "output_type": "stream",
     "text": [
      "shop_A 에서 포도를 판매하지 않는다\n"
     ]
    }
   ],
   "source": [
    "# 원소 not in 그룹 을 이용해 불포함여부를 점검할 수 있습니다. \n",
    "shop_A = ['사과','배','파인애플']\n",
    "if \"포도\" not in shop_A:\n",
    "    print(\"shop_A 에서 포도를 판매하지 않는다\")\n",
    "else:\n",
    "    print(\"shop_A 에서 포도를 판매한다\")"
   ]
  },
  {
   "cell_type": "markdown",
   "metadata": {},
   "source": [
    "일치 여부"
   ]
  },
  {
   "cell_type": "code",
   "execution_count": 10,
   "metadata": {},
   "outputs": [
    {
     "name": "stdout",
     "output_type": "stream",
     "text": [
      "A가 B에 포함된다\n"
     ]
    }
   ],
   "source": [
    "# ==  기호를 이용해 같은지 여부를 판단할 수 있습니다. \n",
    "\n",
    "A = '태극기'\n",
    "B = '태극기가 바람에 펄럭입니다'\n",
    "\n",
    "if A == B:\n",
    "    print('완전 동일')\n",
    "elif A in B:\n",
    "    print(\"A가 B에 포함된다\")\n",
    "else:\n",
    "    print(\"다르다\")"
   ]
  },
  {
   "cell_type": "markdown",
   "metadata": {},
   "source": [
    "### 3.3.문자열 포매팅/정리하기"
   ]
  },
  {
   "cell_type": "markdown",
   "metadata": {},
   "source": [
    "문자열 포매팅"
   ]
  },
  {
   "cell_type": "code",
   "execution_count": 4,
   "metadata": {},
   "outputs": [
    {
     "name": "stdout",
     "output_type": "stream",
     "text": [
      "블랙매지션\n",
      "안녕하세요. 블랙매지션님 만나서 반갑습니다.\n"
     ]
    }
   ],
   "source": [
    "# 문자열에서 고정된 값이 아닌, 변수(변하는 값)을 표시하게 할 수도 있습니다. 이를 포매팅이라고 합니다. \n",
    "\n",
    "name = '블랙매지션'\n",
    "sentence = f'안녕하세요. {name}님 만나서 반갑습니다.'\n",
    "\n",
    "print(name)\n",
    "print(sentence)"
   ]
  },
  {
   "cell_type": "code",
   "execution_count": null,
   "metadata": {},
   "outputs": [],
   "source": [
    "for f in fruits:   \n",
    "                 \n",
    "    print(f)"
   ]
  },
  {
   "cell_type": "code",
   "execution_count": 20,
   "metadata": {},
   "outputs": [
    {
     "name": "stdout",
     "output_type": "stream",
     "text": [
      "홍길동\n",
      "안녕하세요. 홍길동님 만나서 반갑습니다.\n"
     ]
    }
   ],
   "source": [
    "# 파이썬 3.6 버전부터  f\"문자열 {변수명}\" 형태로 사용이 가능합니다. \n",
    "# 파이썬 3.5 버전 이하에서는 아래와 같이 사용가능합니다. \n",
    "\n",
    "name = '홍길동'\n",
    "sentence = '안녕하세요. {}님 만나서 반갑습니다.'.format(name)\n",
    "print(name)\n",
    "print(sentence)"
   ]
  },
  {
   "cell_type": "code",
   "execution_count": 23,
   "metadata": {
    "scrolled": true
   },
   "outputs": [
    {
     "name": "stdout",
     "output_type": "stream",
     "text": [
      "안녕하세요. 블랙카오스매지션님 만나서 반갑습니다.\n",
      "--------------------------------------------------\n",
      "안녕하세요. 블랙매지션님 만나서 반갑습니다.\n",
      "--------------------------------------------------\n",
      "안녕하세요. 현자의 돌님 만나서 반갑습니다.\n",
      "--------------------------------------------------\n",
      "안녕하세요. 티마이오스의 눈님 만나서 반갑습니다.\n",
      "--------------------------------------------------\n"
     ]
    }
   ],
   "source": [
    "name1={'블랙매지션','티마이오스의 눈','현자의 돌','블랙카오스매지션'}\n",
    "\n",
    "for s in name1:\n",
    "    print( f'안녕하세요. {s}님 만나서 반갑습니다.')\n",
    "    print('--------------------------------------------------')"
   ]
  },
  {
   "cell_type": "code",
   "execution_count": 24,
   "metadata": {},
   "outputs": [
    {
     "name": "stdout",
     "output_type": "stream",
     "text": [
      "안녕하세요. 블랙카오스매지션님 만나서 반갑습니다.\n",
      "--------------------------------------------------\n",
      "안녕하세요. 블랙매지션님 만나서 반갑습니다.\n",
      "--------------------------------------------------\n",
      "안녕하세요. 현자의 돌님 만나서 반갑습니다.\n",
      "--------------------------------------------------\n",
      "안녕하세요. 티마이오스의 눈님 만나서 반갑습니다.\n",
      "--------------------------------------------------\n"
     ]
    }
   ],
   "source": [
    "for s in name1:\n",
    "    s2 = f'안녕하세요. {s}님 만나서 반갑습니다.'\n",
    "    print(s2)\n",
    "    print('--------------------------------------------------')"
   ]
  },
  {
   "cell_type": "code",
   "execution_count": 27,
   "metadata": {},
   "outputs": [
    {
     "name": "stdout",
     "output_type": "stream",
     "text": [
      "오늘은 12월 25일 입니다\n"
     ]
    }
   ],
   "source": [
    "# 여러개의 변수도 표현 가능합니다. \n",
    "# 이때에는 { } 순서대로 변수를 입력해주어야 합니다. \n",
    "#이때 f를 써주면 안되는데 그 이유는 리스트의 원소를 추출해서 넣어주는 것이 아니고 해당하는 변수를 가져다 쓰는 것이기 때문이다.\n",
    "month = \"12월\"\n",
    "day = \"25일\"\n",
    "\n",
    "sentence = \"오늘은 {} {} 입니다\".format(month, day)   \n",
    "print(sentence)"
   ]
  },
  {
   "cell_type": "markdown",
   "metadata": {},
   "source": [
    "strip()"
   ]
  },
  {
   "cell_type": "code",
   "execution_count": 32,
   "metadata": {},
   "outputs": [
    {
     "name": "stdout",
     "output_type": "stream",
     "text": [
      "\n",
      "\t 태극기가 바람에 펄럭입니다. \n",
      " 하늘 높이 하늘 높이 펄럭입니다. \n"
     ]
    }
   ],
   "source": [
    "# 문자열에서,  줄바꿈문자는 \\n으로,  탭 문자는 \\t 로 표현합니다\n",
    "raw = '\\n\\t 태극기가 바람에 펄럭입니다. \\n 하늘 높이 하늘 높이 펄럭입니다. '\n",
    "print(raw)"
   ]
  },
  {
   "cell_type": "code",
   "execution_count": 33,
   "metadata": {},
   "outputs": [
    {
     "name": "stdout",
     "output_type": "stream",
     "text": [
      "태극기가 바람에 펄럭입니다. \n",
      " 하늘 높이 하늘 높이 펄럭입니다.\n"
     ]
    }
   ],
   "source": [
    "# 문자열.strip() 명령을 통해,  문자열 시작과 끝 부분의 공백문자(줄바꿈/띄어쓰기/탭문자 등)을 제거할 수 있습니다. \n",
    "raw_strip = raw.strip()\n",
    "print(raw_strip)"
   ]
  },
  {
   "cell_type": "markdown",
   "metadata": {},
   "source": [
    "replace(변경전, 변경후)"
   ]
  },
  {
   "cell_type": "code",
   "execution_count": 35,
   "metadata": {},
   "outputs": [
    {
     "name": "stdout",
     "output_type": "stream",
     "text": [
      "태극기가 바람에 펄럭입니다. \n",
      " 창공을 뚫고 창공을 뚫고 펄럭입니다.\n"
     ]
    }
   ],
   "source": [
    "# 문자열.replace( ) 명령을 통해 특정 문자열을 없애거나 변경할 수 있습니다. \n",
    "raw_edit = raw_strip.replace('하늘 높이', '창공을 뚫고')\n",
    "print(raw_edit)"
   ]
  },
  {
   "cell_type": "markdown",
   "metadata": {},
   "source": [
    "split()"
   ]
  },
  {
   "cell_type": "code",
   "execution_count": 29,
   "metadata": {},
   "outputs": [
    {
     "data": {
      "text/plain": [
       "['미국', '중국', '일본', '러시아', '베트남', '태국']"
      ]
     },
     "execution_count": 29,
     "metadata": {},
     "output_type": "execute_result"
    }
   ],
   "source": [
    "# split()을 이용해 특정 문자열을 기준으로 문자열을 나눌 수 있습니다. \n",
    "# split() 결과는 리스트 타입입니다. \n",
    "data = \"미국/중국/일본/러시아/베트남/태국\"\n",
    "data.split('/')"
   ]
  },
  {
   "cell_type": "code",
   "execution_count": 36,
   "metadata": {},
   "outputs": [
    {
     "data": {
      "text/plain": [
       "['미국', '프랑스', '한국', '영국', '이탈리아', '독일']"
      ]
     },
     "execution_count": 36,
     "metadata": {},
     "output_type": "execute_result"
    }
   ],
   "source": [
    "data2=\"미국,프랑스,한국,영국,이탈리아,독일\"\n",
    "data2.split(',')"
   ]
  },
  {
   "cell_type": "code",
   "execution_count": 54,
   "metadata": {},
   "outputs": [
    {
     "data": {
      "text/plain": [
       "['미국,프랑스,한국,영국,이탈리아', '독일']"
      ]
     },
     "execution_count": 54,
     "metadata": {},
     "output_type": "execute_result"
    }
   ],
   "source": [
    "data3=\"미국,프랑스,한국,영국,이탈리아 독일\"\n",
    "data3.split(' ')"
   ]
  },
  {
   "cell_type": "markdown",
   "metadata": {},
   "source": [
    "### 3.4. 함수 만들기"
   ]
  },
  {
   "cell_type": "markdown",
   "metadata": {},
   "source": [
    "반복적으로 사용하는 코드들에 이름을 붙여서 쉽게 사용할 수 있게 하는 것을 함수라고 합니다. "
   ]
  },
  {
   "cell_type": "raw",
   "metadata": {},
   "source": [
    "함수는 아래와 같은 구조를 가지게 됩니다. \n",
    "\n",
    "def 함수이름(변수1, 변수2, ...변수n):  \n",
    "    함수 실행내용  \n",
    "    return 실행결과"
   ]
  },
  {
   "cell_type": "code",
   "execution_count": 55,
   "metadata": {},
   "outputs": [],
   "source": [
    "# 두 수를 곱한 결과 텍스트를 반환하는(알려주는) 함수를 만들어보겠습니다. \n",
    "# 이 코드를 실행하면 컴퓨터는 gob() 이라는 명령어에 대해서 알게 됩니다.\n",
    "# (코드에 이름표를 붙이는 과정이지, 계산을 실행하지는 않습니다. )\n",
    "\n",
    "def gob(a, b):\n",
    "    gob = a*b\n",
    "    text = '{} x {} = {}'.format(a, b, gob) #{}에 a,b,gob 순서대로 값이 대입되게 된다.\n",
    "    return text"
   ]
  },
  {
   "cell_type": "code",
   "execution_count": 62,
   "metadata": {},
   "outputs": [
    {
     "name": "stdout",
     "output_type": "stream",
     "text": [
      "2 x 8 = 16\n"
     ]
    }
   ],
   "source": [
    "# 이번에는 위에서 정의한 함수를 실행해 볼까요\n",
    "\n",
    "a = 2\n",
    "b = 8\n",
    "\n",
    "t = gob(a,b)\n",
    "print(t)"
   ]
  },
  {
   "cell_type": "markdown",
   "metadata": {},
   "source": [
    "## 실습) 구구단 출력하기"
   ]
  },
  {
   "cell_type": "code",
   "execution_count": 63,
   "metadata": {},
   "outputs": [
    {
     "name": "stdout",
     "output_type": "stream",
     "text": [
      "2 x 1 = 2\n",
      "2 x 2 = 4\n",
      "2 x 3 = 6\n",
      "2 x 4 = 8\n",
      "2 x 5 = 10\n",
      "2 x 6 = 12\n",
      "2 x 7 = 14\n",
      "2 x 8 = 16\n",
      "2 x 9 = 18\n",
      "*************\n",
      "3 x 1 = 3\n",
      "3 x 2 = 6\n",
      "3 x 3 = 9\n",
      "3 x 4 = 12\n",
      "3 x 5 = 15\n",
      "3 x 6 = 18\n",
      "3 x 7 = 21\n",
      "3 x 8 = 24\n",
      "3 x 9 = 27\n",
      "*************\n",
      "4 x 1 = 4\n",
      "4 x 2 = 8\n",
      "4 x 3 = 12\n",
      "4 x 4 = 16\n",
      "4 x 5 = 20\n",
      "4 x 6 = 24\n",
      "4 x 7 = 28\n",
      "4 x 8 = 32\n",
      "4 x 9 = 36\n",
      "*************\n",
      "5 x 1 = 5\n",
      "5 x 2 = 10\n",
      "5 x 3 = 15\n",
      "5 x 4 = 20\n",
      "5 x 5 = 25\n",
      "5 x 6 = 30\n",
      "5 x 7 = 35\n",
      "5 x 8 = 40\n",
      "5 x 9 = 45\n",
      "*************\n",
      "6 x 1 = 6\n",
      "6 x 2 = 12\n",
      "6 x 3 = 18\n",
      "6 x 4 = 24\n",
      "6 x 5 = 30\n",
      "6 x 6 = 36\n",
      "6 x 7 = 42\n",
      "6 x 8 = 48\n",
      "6 x 9 = 54\n",
      "*************\n",
      "7 x 1 = 7\n",
      "7 x 2 = 14\n",
      "7 x 3 = 21\n",
      "7 x 4 = 28\n",
      "7 x 5 = 35\n",
      "7 x 6 = 42\n",
      "7 x 7 = 49\n",
      "7 x 8 = 56\n",
      "7 x 9 = 63\n",
      "*************\n",
      "8 x 1 = 8\n",
      "8 x 2 = 16\n",
      "8 x 3 = 24\n",
      "8 x 4 = 32\n",
      "8 x 5 = 40\n",
      "8 x 6 = 48\n",
      "8 x 7 = 56\n",
      "8 x 8 = 64\n",
      "8 x 9 = 72\n",
      "*************\n",
      "9 x 1 = 9\n",
      "9 x 2 = 18\n",
      "9 x 3 = 27\n",
      "9 x 4 = 36\n",
      "9 x 5 = 45\n",
      "9 x 6 = 54\n",
      "9 x 7 = 63\n",
      "9 x 8 = 72\n",
      "9 x 9 = 81\n",
      "*************\n"
     ]
    }
   ],
   "source": [
    "for i in [2,3,4,5,6,7,8,9]:  #i원소 1개 마다 9번의 반복이 일어나게 되는 것이다.\n",
    "    for j in [1,2,3,4,5,6,7,8,9]:\n",
    "        a = gob(i,j) \n",
    "        print(a)\n",
    "    print(\"*\"*13)   # 단 마다 구분하기 위한 구분선"
   ]
  },
  {
   "cell_type": "code",
   "execution_count": null,
   "metadata": {},
   "outputs": [],
   "source": []
  }
 ],
 "metadata": {
  "hide_input": false,
  "kernelspec": {
   "display_name": "Python 3",
   "language": "python",
   "name": "python3"
  },
  "language_info": {
   "codemirror_mode": {
    "name": "ipython",
    "version": 3
   },
   "file_extension": ".py",
   "mimetype": "text/x-python",
   "name": "python",
   "nbconvert_exporter": "python",
   "pygments_lexer": "ipython3",
   "version": "3.8.8"
  },
  "latex_envs": {
   "LaTeX_envs_menu_present": true,
   "autoclose": false,
   "autocomplete": true,
   "bibliofile": "biblio.bib",
   "cite_by": "apalike",
   "current_citInitial": 1,
   "eqLabelWithNumbers": true,
   "eqNumInitial": 1,
   "hotkeys": {
    "equation": "Ctrl-E",
    "itemize": "Ctrl-I"
   },
   "labels_anchors": false,
   "latex_user_defs": false,
   "report_style_numbering": false,
   "user_envs_cfg": false
  },
  "toc": {
   "base_numbering": 1,
   "nav_menu": {},
   "number_sections": true,
   "sideBar": true,
   "skip_h1_title": false,
   "title_cell": "Table of Contents",
   "title_sidebar": "Contents",
   "toc_cell": false,
   "toc_position": {},
   "toc_section_display": true,
   "toc_window_display": false
  }
 },
 "nbformat": 4,
 "nbformat_minor": 2
}
