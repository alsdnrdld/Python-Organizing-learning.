{
 "cells": [
  {
   "cell_type": "markdown",
   "id": "5b36af9f",
   "metadata": {},
   "source": [
    "# 3.3. 문자열 포매팅/ 정리하기"
   ]
  },
  {
   "cell_type": "markdown",
   "id": "81bb93d1",
   "metadata": {},
   "source": [
    "### 문자열 포매팅 : 문자열에서 변수를 표시하게 하는 것 "
   ]
  },
  {
   "cell_type": "markdown",
   "id": "5c420127",
   "metadata": {},
   "source": [
    "   작업될 이름 = f \"문자열 {변수}\"   <-----(python 3.6버전 이상에서 쓰는 방법)\n",
    "   \n",
    "   \n",
    "   작업될 이름 = \"문자열{  }\".format(변수)  <------(python 3.5버전 이하에서 쓰는 방법)  "
   ]
  },
  {
   "cell_type": "code",
   "execution_count": 1,
   "id": "b27c8ad7",
   "metadata": {},
   "outputs": [
    {
     "name": "stdout",
     "output_type": "stream",
     "text": [
      "안녕하세요 김민욱님 만나서 영광입니다\n"
     ]
    }
   ],
   "source": [
    "sentence = '안녕하세요 김민욱님 만나서 영광입니다'\n",
    "print(sentence)"
   ]
  },
  {
   "cell_type": "code",
   "execution_count": 4,
   "id": "f1c6c666",
   "metadata": {},
   "outputs": [
    {
     "name": "stdout",
     "output_type": "stream",
     "text": [
      "안녕하세요 블랙매지션님 만나서 영광입니다\n"
     ]
    }
   ],
   "source": [
    "name=\"블랙매지션\"\n",
    "\n",
    "#python 3.5버전 이하에서 쓰는 방법\n",
    "sentence = \"안녕하세요 {}님 만나서 영광입니다\".format(name)\n",
    "print(sentence)"
   ]
  },
  {
   "cell_type": "code",
   "execution_count": 6,
   "id": "e4bd6e54",
   "metadata": {},
   "outputs": [
    {
     "name": "stdout",
     "output_type": "stream",
     "text": [
      "안녕하세요 블랙매지션님 만나서 영광이랍니다\n"
     ]
    }
   ],
   "source": [
    "#python 3.6버전 이상에서 쓰는 방법\n",
    "name=\"블랙매지션\"\n",
    "sentence = f\"안녕하세요 {name}님 만나서 영광이랍니다\"\n",
    "print(sentence)"
   ]
  },
  {
   "cell_type": "code",
   "execution_count": 7,
   "id": "8786e563",
   "metadata": {},
   "outputs": [],
   "source": [
    "#여러개의 변수도 표현이 가능합니다.\n",
    "#대신 이때는 {}에 입력되고 싶은 순서에 맞게 변수를 입력해주면 됩니다. "
   ]
  },
  {
   "cell_type": "code",
   "execution_count": 8,
   "id": "8a601aee",
   "metadata": {},
   "outputs": [
    {
     "name": "stdout",
     "output_type": "stream",
     "text": [
      "오늘은 6월 25일입니다\n"
     ]
    }
   ],
   "source": [
    "month = \"6월\"\n",
    "day =\"25일\"\n",
    "\n",
    "sentence = f\"오늘은 {month} {day}입니다\"\n",
    "print(sentence)"
   ]
  },
  {
   "cell_type": "markdown",
   "id": "51a80462",
   "metadata": {},
   "source": [
    "### Strip() \n",
    "  : str타입의 데이터들의 처음과 마지막에 존재하는 공백들을 없애버리는 기능을 한다.\n",
    "  \n",
    "      \\n  : 줄 바꾸기\n",
    "      \\t  : 들여쓰기 (탭)"
   ]
  },
  {
   "cell_type": "code",
   "execution_count": 17,
   "id": "0f5b1809",
   "metadata": {},
   "outputs": [
    {
     "name": "stdout",
     "output_type": "stream",
     "text": [
      "\n",
      "\t태극기가 바람에 펄럭입니다. \n",
      " 하늘 높이 하늘높이 펄럭입니다.\n"
     ]
    }
   ],
   "source": [
    "#문자열에서, 줄바꿈문자 \\n으로 텝문자는 \\t 로 구현한다.\n",
    "\n",
    "raw = '\\n\\t태극기가 바람에 펄럭입니다. \\n 하늘 높이 하늘높이 펄럭입니다.'\n",
    "print(raw)"
   ]
  },
  {
   "cell_type": "code",
   "execution_count": 18,
   "id": "2117a0bf",
   "metadata": {},
   "outputs": [
    {
     "name": "stdout",
     "output_type": "stream",
     "text": [
      "태극기가 바람에 펄럭입니다. \n",
      " 하늘 높이 하늘높이 펄럭입니다.\n"
     ]
    }
   ],
   "source": [
    "#문자열.strip()을 이용해 문자열 시작과 끝 부분의 공백문자(줄바꿈/띄어쓰기/탭문자)을 제거할 수 있다.\n",
    "raw_strip = raw.strip()\n",
    "print(raw_strip)"
   ]
  },
  {
   "cell_type": "markdown",
   "id": "ca84d2d3",
   "metadata": {},
   "source": [
    "###  replace()\n",
    "  : 특정 문자열의 부분을 수정하거나 제거할 때 사용한다.\n",
    "       \n",
    "        replace(변경전, 변경할 내용)"
   ]
  },
  {
   "cell_type": "code",
   "execution_count": 19,
   "id": "efee83b0",
   "metadata": {},
   "outputs": [
    {
     "name": "stdout",
     "output_type": "stream",
     "text": [
      "국기가 바람에 펄럭입니다. \n",
      " 하늘 높이 하늘높이 펄럭입니다.\n"
     ]
    }
   ],
   "source": [
    "#문자열.replace() 명령을 통해 특정 문자열을 없애거나 변경할 수 있다.\n",
    "raw_edit = raw_strip.replace(\"태극기\",\"국기\")\n",
    "print(raw_edit)"
   ]
  },
  {
   "cell_type": "markdown",
   "id": "891e53d6",
   "metadata": {},
   "source": [
    "### split()\n",
    " :특정 문자열을 기준으로 잡아 문자열을 나눌 수 있다. split()의 결과는 list타입이 된다."
   ]
  },
  {
   "cell_type": "code",
   "execution_count": 22,
   "id": "947a028b",
   "metadata": {},
   "outputs": [
    {
     "data": {
      "text/plain": [
       "['미국', '중국', '일본', '러시아', '베트남', '태국']"
      ]
     },
     "execution_count": 22,
     "metadata": {},
     "output_type": "execute_result"
    }
   ],
   "source": [
    "#다음 데이터를  \"/\"를 기준으로 분할하시오\n",
    "data = \"미국/중국/일본/러시아/베트남/태국\"\n",
    "data.split(\"/\")"
   ]
  },
  {
   "cell_type": "code",
   "execution_count": null,
   "id": "913ddda9",
   "metadata": {},
   "outputs": [],
   "source": []
  }
 ],
 "metadata": {
  "kernelspec": {
   "display_name": "Python 3",
   "language": "python",
   "name": "python3"
  },
  "language_info": {
   "codemirror_mode": {
    "name": "ipython",
    "version": 3
   },
   "file_extension": ".py",
   "mimetype": "text/x-python",
   "name": "python",
   "nbconvert_exporter": "python",
   "pygments_lexer": "ipython3",
   "version": "3.8.8"
  }
 },
 "nbformat": 4,
 "nbformat_minor": 5
}
