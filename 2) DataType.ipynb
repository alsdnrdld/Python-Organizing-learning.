{
 "cells": [
  {
   "cell_type": "markdown",
   "metadata": {},
   "source": [
    "# 2. 파이썬 자료형"
   ]
  },
  {
   "cell_type": "markdown",
   "metadata": {},
   "source": [
    "### 2.1.변수 = 데이터"
   ]
  },
  {
   "cell_type": "code",
   "execution_count": 12,
   "metadata": {},
   "outputs": [
    {
     "name": "stdout",
     "output_type": "stream",
     "text": [
      "1\n"
     ]
    }
   ],
   "source": [
    "# 변수명 = 값     형태로  변수를 정의할 수 있습니다. \n",
    "x = 1\n",
    "print(x)"
   ]
  },
  {
   "cell_type": "code",
   "execution_count": 13,
   "metadata": {},
   "outputs": [
    {
     "name": "stdout",
     "output_type": "stream",
     "text": [
      "11\n"
     ]
    }
   ],
   "source": [
    "# 셀을 실행할때, 첫번째 줄부터 아래로,   하나의 줄에서는 왼쪽에서부터 오른쪽 순으로 실행됩니다. \n",
    "# 하나의 변수에 여러번 정의가 되는 경우, 가장 마지막에 정의한 것만 기억합니다. \n",
    "\n",
    "y = 3\n",
    "y = 11\n",
    "print(y)"
   ]
  },
  {
   "cell_type": "markdown",
   "metadata": {},
   "source": [
    "### 2.2 숫자형 데이터 타입: int & float"
   ]
  },
  {
   "cell_type": "markdown",
   "metadata": {},
   "source": [
    "type(): 데이터 타입 확인"
   ]
  },
  {
   "cell_type": "code",
   "execution_count": 1,
   "metadata": {},
   "outputs": [
    {
     "data": {
      "text/plain": [
       "int"
      ]
     },
     "execution_count": 1,
     "metadata": {},
     "output_type": "execute_result"
    }
   ],
   "source": [
    "# int: 정수\n",
    "# type()명령을 통해 데이터의 타입을 확인할 수 있습니다. \n",
    "x = 15\n",
    "type(x)"
   ]
  },
  {
   "cell_type": "code",
   "execution_count": 2,
   "metadata": {},
   "outputs": [
    {
     "data": {
      "text/plain": [
       "float"
      ]
     },
     "execution_count": 2,
     "metadata": {},
     "output_type": "execute_result"
    }
   ],
   "source": [
    "# float : 소수점 아래 자리를 가지는 실수\n",
    "y = 9.5\n",
    "type(y)"
   ]
  },
  {
   "cell_type": "code",
   "execution_count": 3,
   "metadata": {
    "scrolled": true
   },
   "outputs": [
    {
     "name": "stdout",
     "output_type": "stream",
     "text": [
      "14\n",
      "4\n",
      "45\n",
      "1.8\n",
      "1\n",
      "4\n"
     ]
    }
   ],
   "source": [
    "# 숫자형 데이터로 사칙 연산을 할 수 있습니다. \n",
    "\n",
    "a = 9\n",
    "b = 5\n",
    "\n",
    "print(a+b)   # 더하기\n",
    "print(a-b)   # 빼기\n",
    "\n",
    "print(a*b)   # 곱하기\n",
    "\n",
    "print(a/b)   # 나누기\n",
    "print(a//b)  # a/b 의 몫\n",
    "print(a%b)   # a/b 의 나머지"
   ]
  },
  {
   "cell_type": "markdown",
   "metadata": {},
   "source": [
    "### 2.3 문자열 데이터 타입: str"
   ]
  },
  {
   "cell_type": "code",
   "execution_count": 7,
   "metadata": {},
   "outputs": [
    {
     "name": "stdout",
     "output_type": "stream",
     "text": [
      "<class 'str'> 가\n",
      "<class 'str'> 55\n"
     ]
    }
   ],
   "source": [
    "# 문자열은  작은 따옴표 (' ') 큰 따옴표 (\" \" ) 를 이용해 표시합니다. \n",
    "s1 = '가'\n",
    "s2 = \"55\"        # 숫자 오십오(55) 가 아니라,  문자 오오(55) 입니다. \n",
    "print(type(s1), s1)\n",
    "print(type(s2), s2)"
   ]
  },
  {
   "cell_type": "code",
   "execution_count": 6,
   "metadata": {},
   "outputs": [
    {
     "name": "stdout",
     "output_type": "stream",
     "text": [
      "산토끼\n"
     ]
    }
   ],
   "source": [
    "# 문자열은 문자 하나하나가 순서대로 나열된 집합입니다. \n",
    "# 문자열 + 문자열 을 통해, 순서대로 연결할 수 있습니다. \n",
    "s3 = '산'\n",
    "s4 = '토끼'\n",
    "print(s3 + s4)"
   ]
  },
  {
   "cell_type": "code",
   "execution_count": null,
   "metadata": {},
   "outputs": [],
   "source": []
  },
  {
   "cell_type": "markdown",
   "metadata": {},
   "source": [
    "### 2.4 리스트 데이터 타입:  list"
   ]
  },
  {
   "cell_type": "markdown",
   "metadata": {},
   "source": [
    "    리스트: 순서대로 나열된 집합으로 여러개의 값을 묶어서 관리하기 쉽게 해 놓은 것\n",
    "    리스트명 = [구성1, 구성2, 구성3]"
   ]
  },
  {
   "cell_type": "code",
   "execution_count": 8,
   "metadata": {},
   "outputs": [
    {
     "data": {
      "text/plain": [
       "[]"
      ]
     },
     "execution_count": 8,
     "metadata": {},
     "output_type": "execute_result"
    }
   ],
   "source": [
    "# 리스트는 [ ] 기호를 이용해 표현합니다. \n",
    "li1 = [ ]   #  비어있는 리스트\n",
    "li1"
   ]
  },
  {
   "cell_type": "code",
   "execution_count": 9,
   "metadata": {},
   "outputs": [
    {
     "data": {
      "text/plain": [
       "['빨강', '파랑', 1, 3, 5]"
      ]
     },
     "execution_count": 9,
     "metadata": {},
     "output_type": "execute_result"
    }
   ],
   "source": [
    "# 리스트가 여러개의 원소를 가질 경우,   콤마(,) 를 이용해 각각의 원소를 구분합니다.\n",
    "# 리스트는 원소로 어떤 데이터도 가질 수 있습니다. \n",
    "li2 = [ \"빨강\", \"파랑\", 1, 3, 5 ]    \n",
    "li2"
   ]
  },
  {
   "cell_type": "markdown",
   "metadata": {},
   "source": [
    "리스트[인덱스번호]"
   ]
  },
  {
   "cell_type": "code",
   "execution_count": 11,
   "metadata": {},
   "outputs": [
    {
     "name": "stdout",
     "output_type": "stream",
     "text": [
      "가\n",
      "다\n",
      "마\n",
      "나\n"
     ]
    }
   ],
   "source": [
    "# 리스트는 순서대로 나열된 집합으로,  순서를 이용해 개별 원소를 선택할 수 있습니다. (인덱싱)\n",
    "\n",
    "li = ['가', '나','다', '라', '마']\n",
    "#      0     1     2    3     4        # 앞/왼쪽 부터 세는 인덱스번호는 0부터 시작 \n",
    "#     -5    -4    -3   -2    -1        # 뒤/오른쪽부터 세는 인덱스번호는 -1부터 시작   \n",
    "\n",
    "print(li[0])   # 왼쪽에서 첫번째(0부터 시작)\n",
    "print(li[2])   # 왼쪽에서 세번째(0부터 시작)\n",
    "print(li[-1])  # 오른쪽에서 첫번째(-1부터 시작)\n",
    "print(li[-4])  # 오른쪽에서 네번째(-1부터 시작)"
   ]
  },
  {
   "cell_type": "markdown",
   "metadata": {},
   "source": [
    "리스트[인덱스번호 : 인덱스번호]"
   ]
  },
  {
   "cell_type": "code",
   "execution_count": 17,
   "metadata": {},
   "outputs": [
    {
     "name": "stdout",
     "output_type": "stream",
     "text": [
      "['나', '다', '라']\n",
      "['나', '다']\n",
      "['가', '나']\n",
      "['다', '라', '마']\n"
     ]
    }
   ],
   "source": [
    "# 인덱스 번호를 이용해 특정 구간을 선택할 수 있습니다.  (슬라이싱)\n",
    "\n",
    "li = ['가', '나','다', '라', '마']\n",
    "#      0     1     2    3     4        # 앞/왼쪽 부터 세는 인덱스번호는 0부터 시작 \n",
    "#     -5    -4    -3   -2    -1        # 뒤/오른쪽부터 세는 인덱스번호는 -1부터 시작   \n",
    "\n",
    "print(li[1: 4])    # 인덱스번호1 에서부터 인덱스번호 4번 직전까지 (4번은 포함하지 않음)\n",
    "print(li[-4: 3])   # 인덱스번호-4 에서부터 인덱스번호 3번 직전까지(3번은 포함하지 않음)\n",
    "print(li[ : 2])    # 처음부터(인덱스번호 표시 생략 가능함) 인덱스번호 2번 직전까지(2번 미포함)\n",
    "print(li[2:  ])     # 인덱스번호 2에서부터 끝까지(인덱스번호 표시 생략 가능함)"
   ]
  },
  {
   "cell_type": "code",
   "execution_count": 18,
   "metadata": {},
   "outputs": [
    {
     "name": "stdout",
     "output_type": "stream",
     "text": [
      "5\n",
      "3\n"
     ]
    }
   ],
   "source": [
    "# len(그룹) 명령을 통해  원소 개수를 셀 수 있습니다. \n",
    "li = ['가', '나','다', '라', '마']\n",
    "print(len(li))\n",
    "ss = \"산토끼\"\n",
    "print(len(ss))"
   ]
  },
  {
   "cell_type": "markdown",
   "metadata": {},
   "source": [
    "리스트 + 리스트"
   ]
  },
  {
   "cell_type": "code",
   "execution_count": 23,
   "metadata": {},
   "outputs": [
    {
     "name": "stdout",
     "output_type": "stream",
     "text": [
      "['사과', '감', '바나나', '파인애플', 1, 3, 5, 7, 9]\n",
      "[1, 3, 5, 7, 9, '사과', '감', '바나나', '파인애플']\n",
      "['사과', '감', '바나나', '파인애플']\n",
      "[1, 3, 5, 7, 9]\n"
     ]
    }
   ],
   "source": [
    "#  + 연산을 이용해 두 리스트의 원소를 하나의 리스트로 병합할 수 있습니다. \n",
    "# 이때, 왼쪽에서부터 순서대로 배열됩니다. \n",
    "\n",
    "li1 = ['사과','감','바나나', '파인애플']\n",
    "li2 = [ 1, 3, 5, 7, 9]\n",
    "\n",
    "print(li1 + li2)     # 왼쪽부터 순서대로 배열됩니다. \n",
    "print(li2 + li1)\n",
    "print(li1)           # 원본 데이터 li1, li2 가 변경되지는 않습니다. \n",
    "print(li2)"
   ]
  },
  {
   "cell_type": "markdown",
   "metadata": {},
   "source": [
    "리스트1.append(리스트2)"
   ]
  },
  {
   "cell_type": "code",
   "execution_count": 26,
   "metadata": {},
   "outputs": [
    {
     "name": "stdout",
     "output_type": "stream",
     "text": [
      "['원숭이', '코끼리', '바나나']\n",
      "['원숭이', '코끼리', '바나나', [2, 4, 6, 8, 10]]\n",
      "4\n",
      "[2, 4, 6, 8, 10]\n"
     ]
    }
   ],
   "source": [
    "#  리스트1.append(리스트2)을 통해,  리스트2를 리스트 1의 마지막(오른쪽에서 첫번째) 원소에 추가합니다. \n",
    "# 이때, 리스트2 전체가 하나의 원소로 들어갑니다\n",
    "\n",
    "li3 = ['원숭이','코끼리','바나나']\n",
    "li4 = [ 2, 4, 6, 8, 10]\n",
    "\n",
    "print(li3)             # li3 조회(추가 전)\n",
    "li3.append(li4)        # li3 의 마지막 원소자리에 li4 가 추가됩니다. \n",
    "print(li3)             # li3 조회(추가 후)\n",
    "print(len(li3))        # li3 리스트의 원소 개수\n",
    "print(li3[-1])         # li3 리스트의 마지막 원소"
   ]
  },
  {
   "cell_type": "markdown",
   "metadata": {},
   "source": [
    "### 2.5 딕셔너리 데이터 타입: dict\n",
    "\n",
    " 변수 = { 변수명 : 값}"
   ]
  },
  {
   "cell_type": "code",
   "execution_count": 35,
   "metadata": {},
   "outputs": [
    {
     "data": {
      "text/plain": [
       "{'일자': '2020-01-01', '이름': '홍길동', '전화번호': '010-9302-9265'}"
      ]
     },
     "execution_count": 35,
     "metadata": {},
     "output_type": "execute_result"
    }
   ],
   "source": [
    "# 딕셔너리는 데이터의 이름(Key)과 값(Value)를 함께 가지고 있는 집합입니다. \n",
    "# 딕셔너리는  {변수명 : 값} 의 형태로 정의합니다. \n",
    "data = {\n",
    "    '일자' : '2020-01-01',\n",
    "    '이름' : '홍길동',\n",
    "    '전화번호' : '010-9302-9265',\n",
    "}\n",
    "data"
   ]
  },
  {
   "cell_type": "code",
   "execution_count": 36,
   "metadata": {},
   "outputs": [
    {
     "data": {
      "text/plain": [
       "dict_keys(['일자', '이름', '전화번호'])"
      ]
     },
     "execution_count": 36,
     "metadata": {},
     "output_type": "execute_result"
    }
   ],
   "source": [
    "# .keys() 명령을 이용해 key 값들을 조회할 수 있습니다. \n",
    "data.keys()"
   ]
  },
  {
   "cell_type": "code",
   "execution_count": 38,
   "metadata": {},
   "outputs": [
    {
     "data": {
      "text/plain": [
       "dict_values(['2020-01-01', '홍길동', '010-9302-9265'])"
      ]
     },
     "execution_count": 38,
     "metadata": {},
     "output_type": "execute_result"
    }
   ],
   "source": [
    "# .values() 명령을 이용해 value 값들을 조회할 수 있습니다.\n",
    "data.values()"
   ]
  },
  {
   "cell_type": "code",
   "execution_count": 39,
   "metadata": {},
   "outputs": [
    {
     "data": {
      "text/plain": [
       "dict_items([('일자', '2020-01-01'), ('이름', '홍길동'), ('전화번호', '010-9302-9265')])"
      ]
     },
     "execution_count": 39,
     "metadata": {},
     "output_type": "execute_result"
    }
   ],
   "source": [
    "# .items() 명령을 통해  key, value 값들을 조회할 수있습니다. \n",
    "data.items()"
   ]
  },
  {
   "cell_type": "code",
   "execution_count": 29,
   "metadata": {},
   "outputs": [
    {
     "name": "stdout",
     "output_type": "stream",
     "text": [
      "홍길동\n"
     ]
    }
   ],
   "source": [
    "# dict[key이름] 를 이용해, 특정 key 값을 조회하거나, 등록할 수 있습니다. \n",
    "print(data['이름'])  # 이름 조회하기"
   ]
  },
  {
   "cell_type": "code",
   "execution_count": 30,
   "metadata": {},
   "outputs": [
    {
     "name": "stdout",
     "output_type": "stream",
     "text": [
      "{'일자': '2020-01-01', '이름': '홍길동', '전화번호': '010-9302-9265', '나이': 20, '성별': '남'}\n"
     ]
    }
   ],
   "source": [
    "# 딕셔너리이름[key] = 추가할 값 을 이용해, 해당 key 값을 조회하거나, 등록할 수 있습니다. \n",
    "data['나이'] = 20      # 데이터 등록하기\n",
    "data['성별'] = '남'    \n",
    "print(data)"
   ]
  }
 ],
 "metadata": {
  "hide_input": false,
  "kernelspec": {
   "display_name": "Python 3",
   "language": "python",
   "name": "python3"
  },
  "language_info": {
   "codemirror_mode": {
    "name": "ipython",
    "version": 3
   },
   "file_extension": ".py",
   "mimetype": "text/x-python",
   "name": "python",
   "nbconvert_exporter": "python",
   "pygments_lexer": "ipython3",
   "version": "3.8.8"
  },
  "latex_envs": {
   "LaTeX_envs_menu_present": true,
   "autoclose": false,
   "autocomplete": true,
   "bibliofile": "biblio.bib",
   "cite_by": "apalike",
   "current_citInitial": 1,
   "eqLabelWithNumbers": true,
   "eqNumInitial": 1,
   "hotkeys": {
    "equation": "Ctrl-E",
    "itemize": "Ctrl-I"
   },
   "labels_anchors": false,
   "latex_user_defs": false,
   "report_style_numbering": false,
   "user_envs_cfg": false
  },
  "toc": {
   "base_numbering": 1,
   "nav_menu": {},
   "number_sections": true,
   "sideBar": true,
   "skip_h1_title": false,
   "title_cell": "Table of Contents",
   "title_sidebar": "Contents",
   "toc_cell": false,
   "toc_position": {},
   "toc_section_display": true,
   "toc_window_display": false
  }
 },
 "nbformat": 4,
 "nbformat_minor": 2
}
