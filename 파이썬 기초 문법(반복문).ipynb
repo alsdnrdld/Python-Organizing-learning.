{
 "cells": [
  {
   "cell_type": "markdown",
   "id": "1bf111be",
   "metadata": {},
   "source": [
    "# 3. 파이썬 기초 문법"
   ]
  },
  {
   "cell_type": "markdown",
   "id": "182f23f7",
   "metadata": {},
   "source": [
    "   "
   ]
  },
  {
   "cell_type": "markdown",
   "id": "455541ff",
   "metadata": {},
   "source": [
    "## 3.1.반복문"
   ]
  },
  {
   "cell_type": "markdown",
   "id": "fcb0d2ae",
   "metadata": {},
   "source": [
    "for 변수 in 그룹: \n",
    "    작업내용"
   ]
  },
  {
   "cell_type": "code",
   "execution_count": 6,
   "id": "56d68ff8",
   "metadata": {},
   "outputs": [],
   "source": [
    "#반복문을 통해 리슨트에서 원소를 순서대로 하나씩 꺼내 작업할 수 있다.\n",
    "#반복문이 실행되는 범위는 들여쓰기를 이용해 구분한다.\n",
    "\n",
    "fruits =['바나나','사과','딸기','배','감']"
   ]
  },
  {
   "cell_type": "code",
   "execution_count": 16,
   "id": "d2e93fec",
   "metadata": {},
   "outputs": [
    {
     "name": "stdout",
     "output_type": "stream",
     "text": [
      "바나나\n",
      "사과\n",
      "딸기\n",
      "배\n",
      "감\n",
      "1\n"
     ]
    }
   ],
   "source": [
    "#반복문을 이용해 과일 이름을 하나씩 출력하시오\n",
    "for name in fruits: \n",
    "    print(name)   #작업내용은 반드시 들여쓰기로 해서 써여한다!!!! 그래야 인식한다.\n",
    "    \n",
    "print(1)"
   ]
  },
  {
   "cell_type": "code",
   "execution_count": 20,
   "id": "305e4ecd",
   "metadata": {},
   "outputs": [
    {
     "name": "stdout",
     "output_type": "stream",
     "text": [
      "바나나\n",
      "1\n",
      "사과\n",
      "1\n",
      "딸기\n",
      "1\n",
      "배\n",
      "1\n",
      "감\n",
      "1\n"
     ]
    }
   ],
   "source": [
    "for name in fruits:\n",
    "    print(name)\n",
    "    print(1)"
   ]
  },
  {
   "cell_type": "markdown",
   "id": "efdb4b27",
   "metadata": {},
   "source": [
    "## 3.2.조건문"
   ]
  },
  {
   "cell_type": "markdown",
   "id": "d6ee5143",
   "metadata": {},
   "source": [
    "if 조건1:\n",
    "\n",
    "      조건1이 True일 경우 실행된다\n",
    "  \n",
    " elif 조건 2: \n",
    " \n",
    "       조건1 이 false 이면서 조건2가 True일때 실행된다.\n",
    "   \n",
    " else :\n",
    " \n",
    "       위 조건들이 모두 false일때 실행된다.\n",
    "   "
   ]
  },
  {
   "cell_type": "code",
   "execution_count": 26,
   "id": "05268937",
   "metadata": {},
   "outputs": [
    {
     "name": "stdout",
     "output_type": "stream",
     "text": [
      "얘는 분명한 짝수라오\n",
      "홀수입니다요\n",
      "1이상의 수를 입력해 바보야\n"
     ]
    }
   ],
   "source": [
    " # 홀수 /짝수를 판단하고 출력하기\n",
    "    \n",
    "n= 20\n",
    "m=11\n",
    "k=0\n",
    "\n",
    "if n<1:\n",
    "    print(\"1이상의 수를 입력해 바보야\")\n",
    "elif n%2==0:\n",
    "    print('얘는 분명한 짝수라오')\n",
    "else:\n",
    "    print('홀수입니다요')\n",
    "  \n",
    "\n",
    "\n",
    "if m<1:\n",
    "    print(\"1이상의 수를 입력해 바보야\")\n",
    "elif m%2==0:\n",
    "    print('얘는 분명한 짝수라오')\n",
    "else:\n",
    "    print('홀수입니다요')\n",
    "\n",
    "    \n",
    "    \n",
    "    \n",
    "if k<1:\n",
    "    print(\"1이상의 수를 입력해 바보야\")\n",
    "elif k%2==0:\n",
    "    print('얘는 분명한 짝수라오')\n",
    "else:\n",
    "    print('홀수입니다요')"
   ]
  },
  {
   "cell_type": "markdown",
   "id": "7a47ddc1",
   "metadata": {},
   "source": [
    "#### 크기비교하기"
   ]
  },
  {
   "cell_type": "code",
   "execution_count": 27,
   "id": "9110f0d1",
   "metadata": {},
   "outputs": [],
   "source": [
    "#부등호를 이용해 크기 비교를 할 수 있다\n",
    "shop_A=['사과','배','파인애플']\n",
    "shop_B=['딸기','포도','사과','배']"
   ]
  },
  {
   "cell_type": "code",
   "execution_count": 30,
   "id": "1b3813e5",
   "metadata": {},
   "outputs": [
    {
     "name": "stdout",
     "output_type": "stream",
     "text": [
      "B가게의 과일의 종류가 훨씬 많답니다\n"
     ]
    }
   ],
   "source": [
    "#어느 가게의 과일의 종류가 더 많은가?\n",
    "\n",
    "if len(shop_A)>len(shop_B):\n",
    "    print('A가게의 과일의 종류가 훨씬 많아요')\n",
    "elif len(shop_A)<len(shop_B):\n",
    "    print('B가게의 과일의 종류가 훨씬 많답니다')\n",
    "else:\n",
    "    print('둘다 똑같이 쥐꼬리만한 종류의 과일만 파는구나~')"
   ]
  },
  {
   "cell_type": "code",
   "execution_count": 33,
   "id": "17789b97",
   "metadata": {},
   "outputs": [
    {
     "data": {
      "text/plain": [
       "False"
      ]
     },
     "execution_count": 33,
     "metadata": {},
     "output_type": "execute_result"
    }
   ],
   "source": [
    "#특정원소 포함여부 알아보는 방법 \n",
    "#\"딸기\" 포함되어 있는지를 점검해보자\n",
    "\n",
    "\"딸기\" in shop_A "
   ]
  },
  {
   "cell_type": "code",
   "execution_count": 34,
   "id": "543b8ad3",
   "metadata": {},
   "outputs": [
    {
     "name": "stdout",
     "output_type": "stream",
     "text": [
      "딸기 없어요\n"
     ]
    }
   ],
   "source": [
    "if \"딸기\" in shop_A:\n",
    "    print(\"딸기 있어요 \")\n",
    "else:\n",
    "    print(\"딸기 없어요\")"
   ]
  },
  {
   "cell_type": "code",
   "execution_count": 35,
   "id": "361c6219",
   "metadata": {},
   "outputs": [
    {
     "data": {
      "text/plain": [
       "True"
      ]
     },
     "execution_count": 35,
     "metadata": {},
     "output_type": "execute_result"
    }
   ],
   "source": [
    "#not in을 이용하면 불포함여부를 알 수 있다\n",
    "\n",
    "\"포도\" not in shop_A"
   ]
  },
  {
   "cell_type": "code",
   "execution_count": 36,
   "id": "b5623f3c",
   "metadata": {},
   "outputs": [
    {
     "name": "stdout",
     "output_type": "stream",
     "text": [
      "포도 같은거 안팜 ㅅㄱ\n"
     ]
    }
   ],
   "source": [
    "if \"포도\" not in shop_A:\n",
    "    print(\"포도 같은거 안팜 ㅅㄱ\")"
   ]
  },
  {
   "cell_type": "markdown",
   "id": "4a381fad",
   "metadata": {},
   "source": [
    "#### 일치 여부"
   ]
  },
  {
   "cell_type": "code",
   "execution_count": 37,
   "id": "dd6fc8fb",
   "metadata": {},
   "outputs": [],
   "source": [
    "# == / in  을 이용하여 같은지 여부를 판단 해보자\n",
    "A = '태극기'\n",
    "B='태극기가 바람에 펄럭입니다'"
   ]
  },
  {
   "cell_type": "code",
   "execution_count": 38,
   "id": "05b5662b",
   "metadata": {},
   "outputs": [
    {
     "name": "stdout",
     "output_type": "stream",
     "text": [
      "A가 B에 포함된다\n"
     ]
    }
   ],
   "source": [
    "#A,B 일치 / 일부 포함 / 다르다 여부를 판단해보자.\n",
    "\n",
    "if A==B:\n",
    "    print('완전일치')\n",
    "elif A in B:\n",
    "    print('A가 B에 포함된다')\n",
    "else:\n",
    "    print('A,B는 완전히 다르다')"
   ]
  },
  {
   "cell_type": "code",
   "execution_count": null,
   "id": "37e6d643",
   "metadata": {},
   "outputs": [],
   "source": []
  }
 ],
 "metadata": {
  "kernelspec": {
   "display_name": "Python 3",
   "language": "python",
   "name": "python3"
  },
  "language_info": {
   "codemirror_mode": {
    "name": "ipython",
    "version": 3
   },
   "file_extension": ".py",
   "mimetype": "text/x-python",
   "name": "python",
   "nbconvert_exporter": "python",
   "pygments_lexer": "ipython3",
   "version": "3.8.8"
  }
 },
 "nbformat": 4,
 "nbformat_minor": 5
}
