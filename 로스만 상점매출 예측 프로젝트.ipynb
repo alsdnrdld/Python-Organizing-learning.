{
 "cells": [
  {
   "cell_type": "code",
   "execution_count": 5,
   "id": "3cc9f638",
   "metadata": {},
   "outputs": [],
   "source": [
    "import os\n",
    "import pandas as pd\n",
    "os.chdir(r'C:\\Users\\Min\\Documents\\Python Scripts\\포트폴리오수업\\프로젝트 2. 로스만 상점매출 예측\\data')"
   ]
  },
  {
   "cell_type": "code",
   "execution_count": 14,
   "id": "5eb492e8",
   "metadata": {},
   "outputs": [],
   "source": [
    "train = pd.read_csv(\"lspoons_train.csv\")\n",
    "test = pd.read_csv(\"lspoons_test.csv\")\n",
    "store = pd.read_csv(\"store.csv\")"
   ]
  },
  {
   "cell_type": "code",
   "execution_count": 15,
   "id": "29cbb8f5",
   "metadata": {},
   "outputs": [
    {
     "data": {
      "text/html": [
       "<div>\n",
       "<style scoped>\n",
       "    .dataframe tbody tr th:only-of-type {\n",
       "        vertical-align: middle;\n",
       "    }\n",
       "\n",
       "    .dataframe tbody tr th {\n",
       "        vertical-align: top;\n",
       "    }\n",
       "\n",
       "    .dataframe thead th {\n",
       "        text-align: right;\n",
       "    }\n",
       "</style>\n",
       "<table border=\"1\" class=\"dataframe\">\n",
       "  <thead>\n",
       "    <tr style=\"text-align: right;\">\n",
       "      <th></th>\n",
       "      <th>id</th>\n",
       "      <th>Store</th>\n",
       "      <th>Date</th>\n",
       "      <th>Sales</th>\n",
       "      <th>Promo</th>\n",
       "      <th>StateHoliday</th>\n",
       "      <th>SchoolHoliday</th>\n",
       "    </tr>\n",
       "  </thead>\n",
       "  <tbody>\n",
       "    <tr>\n",
       "      <th>0</th>\n",
       "      <td>14929</td>\n",
       "      <td>85</td>\n",
       "      <td>2015-05-01</td>\n",
       "      <td>11360</td>\n",
       "      <td>1</td>\n",
       "      <td>a</td>\n",
       "      <td>0</td>\n",
       "    </tr>\n",
       "    <tr>\n",
       "      <th>1</th>\n",
       "      <td>14930</td>\n",
       "      <td>512</td>\n",
       "      <td>2015-05-01</td>\n",
       "      <td>10534</td>\n",
       "      <td>1</td>\n",
       "      <td>a</td>\n",
       "      <td>0</td>\n",
       "    </tr>\n",
       "    <tr>\n",
       "      <th>2</th>\n",
       "      <td>14931</td>\n",
       "      <td>1097</td>\n",
       "      <td>2015-05-01</td>\n",
       "      <td>17039</td>\n",
       "      <td>1</td>\n",
       "      <td>a</td>\n",
       "      <td>0</td>\n",
       "    </tr>\n",
       "    <tr>\n",
       "      <th>3</th>\n",
       "      <td>14932</td>\n",
       "      <td>1</td>\n",
       "      <td>2015-04-30</td>\n",
       "      <td>6228</td>\n",
       "      <td>1</td>\n",
       "      <td>0</td>\n",
       "      <td>0</td>\n",
       "    </tr>\n",
       "    <tr>\n",
       "      <th>4</th>\n",
       "      <td>14933</td>\n",
       "      <td>9</td>\n",
       "      <td>2015-04-30</td>\n",
       "      <td>9717</td>\n",
       "      <td>1</td>\n",
       "      <td>0</td>\n",
       "      <td>0</td>\n",
       "    </tr>\n",
       "  </tbody>\n",
       "</table>\n",
       "</div>"
      ],
      "text/plain": [
       "      id  Store        Date  Sales  Promo StateHoliday  SchoolHoliday\n",
       "0  14929     85  2015-05-01  11360      1            a              0\n",
       "1  14930    512  2015-05-01  10534      1            a              0\n",
       "2  14931   1097  2015-05-01  17039      1            a              0\n",
       "3  14932      1  2015-04-30   6228      1            0              0\n",
       "4  14933      9  2015-04-30   9717      1            0              0"
      ]
     },
     "execution_count": 15,
     "metadata": {},
     "output_type": "execute_result"
    }
   ],
   "source": [
    "train.head()"
   ]
  },
  {
   "cell_type": "markdown",
   "id": "70151f5e",
   "metadata": {},
   "source": [
    "id: \n",
    "store: 각 상점의 고유 번호  \n",
    "sales: 각 상점이 그 날짜에 올린 매출   \n",
    "promo: 해당 날짜에 판매촉진행사를 진행하고 있는가의 여부 ( yes:1, no:0)   "
   ]
  },
  {
   "cell_type": "markdown",
   "id": "0083c7cd",
   "metadata": {},
   "source": [
    "# StateHoliday 변수 변환하기"
   ]
  },
  {
   "cell_type": "markdown",
   "id": "90ea8a2b",
   "metadata": {},
   "source": [
    "기존에 StateHoliday를 StateHoliday의 종류에 따라 분할하기 위해   \n",
    "pd.get_dummies(data= , columns=[])를 사용한다  \n",
    "\n",
    "<strong>pd.get_dummies</strong> <br>\n",
    " + pd.get_dummies 처리 : 결측값을 제외하고 0과 1로 구성된 더미값이 만들어진다. \n",
    " + 결측값 처리(dummy_na = True 옵션) :  Nan을 생성하여 결측값도 인코딩하여 처리해준다."
   ]
  },
  {
   "cell_type": "code",
   "execution_count": 16,
   "id": "3d2b7f66",
   "metadata": {},
   "outputs": [],
   "source": [
    "train = pd.get_dummies(columns=['StateHoliday'],data=train)\n",
    "test = pd.get_dummies(columns=['StateHoliday'],data=test)"
   ]
  },
  {
   "cell_type": "code",
   "execution_count": 18,
   "id": "18fe28d8",
   "metadata": {},
   "outputs": [
    {
     "data": {
      "text/plain": [
       "Index(['id', 'Store', 'Date', 'Sales', 'Promo', 'SchoolHoliday',\n",
       "       'StateHoliday_0', 'StateHoliday_a', 'StateHoliday_b', 'StateHoliday_c'],\n",
       "      dtype='object')"
      ]
     },
     "execution_count": 18,
     "metadata": {},
     "output_type": "execute_result"
    }
   ],
   "source": [
    "train.columns"
   ]
  },
  {
   "cell_type": "code",
   "execution_count": 20,
   "id": "5d03dea0",
   "metadata": {},
   "outputs": [
    {
     "data": {
      "text/html": [
       "<div>\n",
       "<style scoped>\n",
       "    .dataframe tbody tr th:only-of-type {\n",
       "        vertical-align: middle;\n",
       "    }\n",
       "\n",
       "    .dataframe tbody tr th {\n",
       "        vertical-align: top;\n",
       "    }\n",
       "\n",
       "    .dataframe thead th {\n",
       "        text-align: right;\n",
       "    }\n",
       "</style>\n",
       "<table border=\"1\" class=\"dataframe\">\n",
       "  <thead>\n",
       "    <tr style=\"text-align: right;\">\n",
       "      <th></th>\n",
       "      <th>id</th>\n",
       "      <th>Store</th>\n",
       "      <th>Date</th>\n",
       "      <th>Sales</th>\n",
       "      <th>Promo</th>\n",
       "      <th>SchoolHoliday</th>\n",
       "      <th>StateHoliday_0</th>\n",
       "      <th>StateHoliday_a</th>\n",
       "      <th>StateHoliday_b</th>\n",
       "      <th>StateHoliday_c</th>\n",
       "    </tr>\n",
       "  </thead>\n",
       "  <tbody>\n",
       "    <tr>\n",
       "      <th>0</th>\n",
       "      <td>14929</td>\n",
       "      <td>85</td>\n",
       "      <td>2015-05-01</td>\n",
       "      <td>11360</td>\n",
       "      <td>1</td>\n",
       "      <td>0</td>\n",
       "      <td>0</td>\n",
       "      <td>1</td>\n",
       "      <td>0</td>\n",
       "      <td>0</td>\n",
       "    </tr>\n",
       "    <tr>\n",
       "      <th>1</th>\n",
       "      <td>14930</td>\n",
       "      <td>512</td>\n",
       "      <td>2015-05-01</td>\n",
       "      <td>10534</td>\n",
       "      <td>1</td>\n",
       "      <td>0</td>\n",
       "      <td>0</td>\n",
       "      <td>1</td>\n",
       "      <td>0</td>\n",
       "      <td>0</td>\n",
       "    </tr>\n",
       "    <tr>\n",
       "      <th>2</th>\n",
       "      <td>14931</td>\n",
       "      <td>1097</td>\n",
       "      <td>2015-05-01</td>\n",
       "      <td>17039</td>\n",
       "      <td>1</td>\n",
       "      <td>0</td>\n",
       "      <td>0</td>\n",
       "      <td>1</td>\n",
       "      <td>0</td>\n",
       "      <td>0</td>\n",
       "    </tr>\n",
       "    <tr>\n",
       "      <th>3</th>\n",
       "      <td>14932</td>\n",
       "      <td>1</td>\n",
       "      <td>2015-04-30</td>\n",
       "      <td>6228</td>\n",
       "      <td>1</td>\n",
       "      <td>0</td>\n",
       "      <td>1</td>\n",
       "      <td>0</td>\n",
       "      <td>0</td>\n",
       "      <td>0</td>\n",
       "    </tr>\n",
       "    <tr>\n",
       "      <th>4</th>\n",
       "      <td>14933</td>\n",
       "      <td>9</td>\n",
       "      <td>2015-04-30</td>\n",
       "      <td>9717</td>\n",
       "      <td>1</td>\n",
       "      <td>0</td>\n",
       "      <td>1</td>\n",
       "      <td>0</td>\n",
       "      <td>0</td>\n",
       "      <td>0</td>\n",
       "    </tr>\n",
       "  </tbody>\n",
       "</table>\n",
       "</div>"
      ],
      "text/plain": [
       "      id  Store        Date  Sales  Promo  SchoolHoliday  StateHoliday_0  \\\n",
       "0  14929     85  2015-05-01  11360      1              0               0   \n",
       "1  14930    512  2015-05-01  10534      1              0               0   \n",
       "2  14931   1097  2015-05-01  17039      1              0               0   \n",
       "3  14932      1  2015-04-30   6228      1              0               1   \n",
       "4  14933      9  2015-04-30   9717      1              0               1   \n",
       "\n",
       "   StateHoliday_a  StateHoliday_b  StateHoliday_c  \n",
       "0               1               0               0  \n",
       "1               1               0               0  \n",
       "2               1               0               0  \n",
       "3               0               0               0  \n",
       "4               0               0               0  "
      ]
     },
     "execution_count": 20,
     "metadata": {},
     "output_type": "execute_result"
    }
   ],
   "source": [
    "train.head()"
   ]
  },
  {
   "cell_type": "code",
   "execution_count": 19,
   "id": "8a17f5aa",
   "metadata": {},
   "outputs": [
    {
     "data": {
      "text/html": [
       "<div>\n",
       "<style scoped>\n",
       "    .dataframe tbody tr th:only-of-type {\n",
       "        vertical-align: middle;\n",
       "    }\n",
       "\n",
       "    .dataframe tbody tr th {\n",
       "        vertical-align: top;\n",
       "    }\n",
       "\n",
       "    .dataframe thead th {\n",
       "        text-align: right;\n",
       "    }\n",
       "</style>\n",
       "<table border=\"1\" class=\"dataframe\">\n",
       "  <thead>\n",
       "    <tr style=\"text-align: right;\">\n",
       "      <th></th>\n",
       "      <th>id</th>\n",
       "      <th>Store</th>\n",
       "      <th>Date</th>\n",
       "      <th>Promo</th>\n",
       "      <th>SchoolHoliday</th>\n",
       "      <th>StateHoliday_0</th>\n",
       "      <th>StateHoliday_a</th>\n",
       "    </tr>\n",
       "  </thead>\n",
       "  <tbody>\n",
       "    <tr>\n",
       "      <th>0</th>\n",
       "      <td>0</td>\n",
       "      <td>1</td>\n",
       "      <td>2015-07-01</td>\n",
       "      <td>1</td>\n",
       "      <td>0</td>\n",
       "      <td>1</td>\n",
       "      <td>0</td>\n",
       "    </tr>\n",
       "    <tr>\n",
       "      <th>1</th>\n",
       "      <td>1</td>\n",
       "      <td>9</td>\n",
       "      <td>2015-07-01</td>\n",
       "      <td>1</td>\n",
       "      <td>1</td>\n",
       "      <td>1</td>\n",
       "      <td>0</td>\n",
       "    </tr>\n",
       "    <tr>\n",
       "      <th>2</th>\n",
       "      <td>2</td>\n",
       "      <td>11</td>\n",
       "      <td>2015-07-01</td>\n",
       "      <td>1</td>\n",
       "      <td>0</td>\n",
       "      <td>1</td>\n",
       "      <td>0</td>\n",
       "    </tr>\n",
       "    <tr>\n",
       "      <th>3</th>\n",
       "      <td>3</td>\n",
       "      <td>12</td>\n",
       "      <td>2015-07-01</td>\n",
       "      <td>1</td>\n",
       "      <td>0</td>\n",
       "      <td>1</td>\n",
       "      <td>0</td>\n",
       "    </tr>\n",
       "    <tr>\n",
       "      <th>4</th>\n",
       "      <td>4</td>\n",
       "      <td>14</td>\n",
       "      <td>2015-07-01</td>\n",
       "      <td>1</td>\n",
       "      <td>1</td>\n",
       "      <td>1</td>\n",
       "      <td>0</td>\n",
       "    </tr>\n",
       "  </tbody>\n",
       "</table>\n",
       "</div>"
      ],
      "text/plain": [
       "   id  Store        Date  Promo  SchoolHoliday  StateHoliday_0  StateHoliday_a\n",
       "0   0      1  2015-07-01      1              0               1               0\n",
       "1   1      9  2015-07-01      1              1               1               0\n",
       "2   2     11  2015-07-01      1              0               1               0\n",
       "3   3     12  2015-07-01      1              0               1               0\n",
       "4   4     14  2015-07-01      1              1               1               0"
      ]
     },
     "execution_count": 19,
     "metadata": {},
     "output_type": "execute_result"
    }
   ],
   "source": [
    "test.head()"
   ]
  },
  {
   "cell_type": "markdown",
   "id": "d9fec73c",
   "metadata": {},
   "source": [
    "train데이터에는 있는 StateHoliday_b, StateHoliday_c가 test데이터에는 없다 그러면 어떻게 해야하나?  \n",
    "test데이터에 임의로 stateHoliday_b,StateHoliday_c 칼럼을 만들어주면 된다.  \n",
    "test데이터와 train 데이터는 구조가(칼럼의 갯수가) 같아야하므로"
   ]
  },
  {
   "cell_type": "code",
   "execution_count": 25,
   "id": "99fb56b5",
   "metadata": {},
   "outputs": [],
   "source": [
    "test['StateHoliday_b']=0\n",
    "test['StateHoliday_c']=0\n",
    "# StateHoliday_b와 StateHoliday_c는 test에 없는 값이므로 0으로 값을 넣어줘야 한다."
   ]
  },
  {
   "cell_type": "code",
   "execution_count": 26,
   "id": "e8aae0c9",
   "metadata": {},
   "outputs": [
    {
     "data": {
      "text/html": [
       "<div>\n",
       "<style scoped>\n",
       "    .dataframe tbody tr th:only-of-type {\n",
       "        vertical-align: middle;\n",
       "    }\n",
       "\n",
       "    .dataframe tbody tr th {\n",
       "        vertical-align: top;\n",
       "    }\n",
       "\n",
       "    .dataframe thead th {\n",
       "        text-align: right;\n",
       "    }\n",
       "</style>\n",
       "<table border=\"1\" class=\"dataframe\">\n",
       "  <thead>\n",
       "    <tr style=\"text-align: right;\">\n",
       "      <th></th>\n",
       "      <th>id</th>\n",
       "      <th>Store</th>\n",
       "      <th>Date</th>\n",
       "      <th>Promo</th>\n",
       "      <th>SchoolHoliday</th>\n",
       "      <th>StateHoliday_0</th>\n",
       "      <th>StateHoliday_a</th>\n",
       "      <th>StateHoliday_b</th>\n",
       "      <th>StateHoliday_c</th>\n",
       "    </tr>\n",
       "  </thead>\n",
       "  <tbody>\n",
       "    <tr>\n",
       "      <th>0</th>\n",
       "      <td>0</td>\n",
       "      <td>1</td>\n",
       "      <td>2015-07-01</td>\n",
       "      <td>1</td>\n",
       "      <td>0</td>\n",
       "      <td>1</td>\n",
       "      <td>0</td>\n",
       "      <td>0</td>\n",
       "      <td>0</td>\n",
       "    </tr>\n",
       "    <tr>\n",
       "      <th>1</th>\n",
       "      <td>1</td>\n",
       "      <td>9</td>\n",
       "      <td>2015-07-01</td>\n",
       "      <td>1</td>\n",
       "      <td>1</td>\n",
       "      <td>1</td>\n",
       "      <td>0</td>\n",
       "      <td>0</td>\n",
       "      <td>0</td>\n",
       "    </tr>\n",
       "    <tr>\n",
       "      <th>2</th>\n",
       "      <td>2</td>\n",
       "      <td>11</td>\n",
       "      <td>2015-07-01</td>\n",
       "      <td>1</td>\n",
       "      <td>0</td>\n",
       "      <td>1</td>\n",
       "      <td>0</td>\n",
       "      <td>0</td>\n",
       "      <td>0</td>\n",
       "    </tr>\n",
       "    <tr>\n",
       "      <th>3</th>\n",
       "      <td>3</td>\n",
       "      <td>12</td>\n",
       "      <td>2015-07-01</td>\n",
       "      <td>1</td>\n",
       "      <td>0</td>\n",
       "      <td>1</td>\n",
       "      <td>0</td>\n",
       "      <td>0</td>\n",
       "      <td>0</td>\n",
       "    </tr>\n",
       "    <tr>\n",
       "      <th>4</th>\n",
       "      <td>4</td>\n",
       "      <td>14</td>\n",
       "      <td>2015-07-01</td>\n",
       "      <td>1</td>\n",
       "      <td>1</td>\n",
       "      <td>1</td>\n",
       "      <td>0</td>\n",
       "      <td>0</td>\n",
       "      <td>0</td>\n",
       "    </tr>\n",
       "  </tbody>\n",
       "</table>\n",
       "</div>"
      ],
      "text/plain": [
       "   id  Store        Date  Promo  SchoolHoliday  StateHoliday_0  \\\n",
       "0   0      1  2015-07-01      1              0               1   \n",
       "1   1      9  2015-07-01      1              1               1   \n",
       "2   2     11  2015-07-01      1              0               1   \n",
       "3   3     12  2015-07-01      1              0               1   \n",
       "4   4     14  2015-07-01      1              1               1   \n",
       "\n",
       "   StateHoliday_a  StateHoliday_b  StateHoliday_c  \n",
       "0               0               0               0  \n",
       "1               0               0               0  \n",
       "2               0               0               0  \n",
       "3               0               0               0  \n",
       "4               0               0               0  "
      ]
     },
     "execution_count": 26,
     "metadata": {},
     "output_type": "execute_result"
    }
   ],
   "source": [
    "test.head()"
   ]
  },
  {
   "cell_type": "markdown",
   "id": "7c86ddd3",
   "metadata": {},
   "source": [
    "# Date 변수를 활용"
   ]
  },
  {
   "cell_type": "code",
   "execution_count": 31,
   "id": "277591a9",
   "metadata": {},
   "outputs": [
    {
     "data": {
      "text/plain": [
       "dtype('<M8[ns]')"
      ]
     },
     "execution_count": 31,
     "metadata": {},
     "output_type": "execute_result"
    }
   ],
   "source": [
    "pd.to_datetime(train['Date']).dtypes\n",
    "#datetime 형태로 형식을 바꿔주게 된다면 날짜의 요일, 연도, 월, 날짜간 계산, 몇 번째 주인지를 쉽게 알 수 있게 해줄 수 있게 된다."
   ]
  },
  {
   "cell_type": "code",
   "execution_count": 32,
   "id": "106be0e5",
   "metadata": {},
   "outputs": [],
   "source": [
    "train['Date']=pd.to_datetime(train['Date'])\n",
    "test['Date']=pd.to_datetime(test['Date'])"
   ]
  },
  {
   "cell_type": "code",
   "execution_count": 33,
   "id": "a351ae4d",
   "metadata": {},
   "outputs": [
    {
     "data": {
      "text/plain": [
       "0        2015\n",
       "1        2015\n",
       "2        2015\n",
       "3        2015\n",
       "4        2015\n",
       "         ... \n",
       "62239    2014\n",
       "62240    2014\n",
       "62241    2014\n",
       "62242    2014\n",
       "62243    2014\n",
       "Name: Date, Length: 62244, dtype: int64"
      ]
     },
     "execution_count": 33,
     "metadata": {},
     "output_type": "execute_result"
    }
   ],
   "source": [
    "# to_datetime으로 바꾼 데이터 활용하기\n",
    "# 1. 연도 보고싶어:  .dt.year\n",
    "train['Date'].dt.year"
   ]
  },
  {
   "cell_type": "code",
   "execution_count": 38,
   "id": "d73da31e",
   "metadata": {},
   "outputs": [
    {
     "data": {
      "text/plain": [
       "0        4\n",
       "1        4\n",
       "2        4\n",
       "3        3\n",
       "4        3\n",
       "        ..\n",
       "62239    4\n",
       "62240    4\n",
       "62241    4\n",
       "62242    4\n",
       "62243    4\n",
       "Name: Date, Length: 62244, dtype: int64"
      ]
     },
     "execution_count": 38,
     "metadata": {},
     "output_type": "execute_result"
    }
   ],
   "source": [
    "#2.무슨 요일인지 알고 싶어\n",
    "train['Date'].dt.weekday"
   ]
  },
  {
   "cell_type": "code",
   "execution_count": 39,
   "id": "7d9bc3b3",
   "metadata": {},
   "outputs": [
    {
     "data": {
      "text/plain": [
       "0        5\n",
       "1        5\n",
       "2        5\n",
       "3        4\n",
       "4        4\n",
       "        ..\n",
       "62239    8\n",
       "62240    8\n",
       "62241    8\n",
       "62242    8\n",
       "62243    8\n",
       "Name: Date, Length: 62244, dtype: int64"
      ]
     },
     "execution_count": 39,
     "metadata": {},
     "output_type": "execute_result"
    }
   ],
   "source": [
    "# 몇월인지 알고 싶어\n",
    "train['Date'].dt.month"
   ]
  },
  {
   "cell_type": "code",
   "execution_count": 40,
   "id": "97df6426",
   "metadata": {},
   "outputs": [],
   "source": [
    "train['Weekday'] = train['Date'].dt.weekday\n",
    "test['Weekday'] = test['Date'].dt.weekday"
   ]
  },
  {
   "cell_type": "code",
   "execution_count": 41,
   "id": "db144a1d",
   "metadata": {},
   "outputs": [],
   "source": [
    "train['Year'] = train['Date'].dt.year\n",
    "test['Year'] = test['Date'].dt.year"
   ]
  },
  {
   "cell_type": "code",
   "execution_count": 42,
   "id": "c228a166",
   "metadata": {},
   "outputs": [],
   "source": [
    "train['Month'] = train['Date'].dt.month\n",
    "test['Month'] = test['Date'].dt.month"
   ]
  },
  {
   "cell_type": "code",
   "execution_count": 44,
   "id": "02a3c1e9",
   "metadata": {
    "scrolled": true
   },
   "outputs": [
    {
     "data": {
      "text/html": [
       "<div>\n",
       "<style scoped>\n",
       "    .dataframe tbody tr th:only-of-type {\n",
       "        vertical-align: middle;\n",
       "    }\n",
       "\n",
       "    .dataframe tbody tr th {\n",
       "        vertical-align: top;\n",
       "    }\n",
       "\n",
       "    .dataframe thead th {\n",
       "        text-align: right;\n",
       "    }\n",
       "</style>\n",
       "<table border=\"1\" class=\"dataframe\">\n",
       "  <thead>\n",
       "    <tr style=\"text-align: right;\">\n",
       "      <th></th>\n",
       "      <th>id</th>\n",
       "      <th>Store</th>\n",
       "      <th>Date</th>\n",
       "      <th>Sales</th>\n",
       "      <th>Promo</th>\n",
       "      <th>SchoolHoliday</th>\n",
       "      <th>StateHoliday_0</th>\n",
       "      <th>StateHoliday_a</th>\n",
       "      <th>StateHoliday_b</th>\n",
       "      <th>StateHoliday_c</th>\n",
       "      <th>Weekday</th>\n",
       "      <th>Year</th>\n",
       "      <th>Month</th>\n",
       "    </tr>\n",
       "  </thead>\n",
       "  <tbody>\n",
       "    <tr>\n",
       "      <th>0</th>\n",
       "      <td>14929</td>\n",
       "      <td>85</td>\n",
       "      <td>2015-05-01</td>\n",
       "      <td>11360</td>\n",
       "      <td>1</td>\n",
       "      <td>0</td>\n",
       "      <td>0</td>\n",
       "      <td>1</td>\n",
       "      <td>0</td>\n",
       "      <td>0</td>\n",
       "      <td>4</td>\n",
       "      <td>2015</td>\n",
       "      <td>5</td>\n",
       "    </tr>\n",
       "    <tr>\n",
       "      <th>1</th>\n",
       "      <td>14930</td>\n",
       "      <td>512</td>\n",
       "      <td>2015-05-01</td>\n",
       "      <td>10534</td>\n",
       "      <td>1</td>\n",
       "      <td>0</td>\n",
       "      <td>0</td>\n",
       "      <td>1</td>\n",
       "      <td>0</td>\n",
       "      <td>0</td>\n",
       "      <td>4</td>\n",
       "      <td>2015</td>\n",
       "      <td>5</td>\n",
       "    </tr>\n",
       "    <tr>\n",
       "      <th>2</th>\n",
       "      <td>14931</td>\n",
       "      <td>1097</td>\n",
       "      <td>2015-05-01</td>\n",
       "      <td>17039</td>\n",
       "      <td>1</td>\n",
       "      <td>0</td>\n",
       "      <td>0</td>\n",
       "      <td>1</td>\n",
       "      <td>0</td>\n",
       "      <td>0</td>\n",
       "      <td>4</td>\n",
       "      <td>2015</td>\n",
       "      <td>5</td>\n",
       "    </tr>\n",
       "    <tr>\n",
       "      <th>3</th>\n",
       "      <td>14932</td>\n",
       "      <td>1</td>\n",
       "      <td>2015-04-30</td>\n",
       "      <td>6228</td>\n",
       "      <td>1</td>\n",
       "      <td>0</td>\n",
       "      <td>1</td>\n",
       "      <td>0</td>\n",
       "      <td>0</td>\n",
       "      <td>0</td>\n",
       "      <td>3</td>\n",
       "      <td>2015</td>\n",
       "      <td>4</td>\n",
       "    </tr>\n",
       "    <tr>\n",
       "      <th>4</th>\n",
       "      <td>14933</td>\n",
       "      <td>9</td>\n",
       "      <td>2015-04-30</td>\n",
       "      <td>9717</td>\n",
       "      <td>1</td>\n",
       "      <td>0</td>\n",
       "      <td>1</td>\n",
       "      <td>0</td>\n",
       "      <td>0</td>\n",
       "      <td>0</td>\n",
       "      <td>3</td>\n",
       "      <td>2015</td>\n",
       "      <td>4</td>\n",
       "    </tr>\n",
       "  </tbody>\n",
       "</table>\n",
       "</div>"
      ],
      "text/plain": [
       "      id  Store       Date  Sales  Promo  SchoolHoliday  StateHoliday_0  \\\n",
       "0  14929     85 2015-05-01  11360      1              0               0   \n",
       "1  14930    512 2015-05-01  10534      1              0               0   \n",
       "2  14931   1097 2015-05-01  17039      1              0               0   \n",
       "3  14932      1 2015-04-30   6228      1              0               1   \n",
       "4  14933      9 2015-04-30   9717      1              0               1   \n",
       "\n",
       "   StateHoliday_a  StateHoliday_b  StateHoliday_c  Weekday  Year  Month  \n",
       "0               1               0               0        4  2015      5  \n",
       "1               1               0               0        4  2015      5  \n",
       "2               1               0               0        4  2015      5  \n",
       "3               0               0               0        3  2015      4  \n",
       "4               0               0               0        3  2015      4  "
      ]
     },
     "execution_count": 44,
     "metadata": {},
     "output_type": "execute_result"
    }
   ],
   "source": [
    "train.head()"
   ]
  },
  {
   "cell_type": "code",
   "execution_count": 50,
   "id": "01a6e3c9",
   "metadata": {},
   "outputs": [
    {
     "data": {
      "text/html": [
       "<div>\n",
       "<style scoped>\n",
       "    .dataframe tbody tr th:only-of-type {\n",
       "        vertical-align: middle;\n",
       "    }\n",
       "\n",
       "    .dataframe tbody tr th {\n",
       "        vertical-align: top;\n",
       "    }\n",
       "\n",
       "    .dataframe thead th {\n",
       "        text-align: right;\n",
       "    }\n",
       "</style>\n",
       "<table border=\"1\" class=\"dataframe\">\n",
       "  <thead>\n",
       "    <tr style=\"text-align: right;\">\n",
       "      <th></th>\n",
       "      <th>Promo</th>\n",
       "      <th>SchoolHoliday</th>\n",
       "      <th>StateHoliday_0</th>\n",
       "      <th>StateHoliday_a</th>\n",
       "      <th>StateHoliday_b</th>\n",
       "      <th>StateHoliday_c</th>\n",
       "      <th>Weekday</th>\n",
       "      <th>Year</th>\n",
       "      <th>Month</th>\n",
       "    </tr>\n",
       "  </thead>\n",
       "  <tbody>\n",
       "    <tr>\n",
       "      <th>0</th>\n",
       "      <td>1</td>\n",
       "      <td>0</td>\n",
       "      <td>0</td>\n",
       "      <td>1</td>\n",
       "      <td>0</td>\n",
       "      <td>0</td>\n",
       "      <td>4</td>\n",
       "      <td>2015</td>\n",
       "      <td>5</td>\n",
       "    </tr>\n",
       "    <tr>\n",
       "      <th>1</th>\n",
       "      <td>1</td>\n",
       "      <td>0</td>\n",
       "      <td>0</td>\n",
       "      <td>1</td>\n",
       "      <td>0</td>\n",
       "      <td>0</td>\n",
       "      <td>4</td>\n",
       "      <td>2015</td>\n",
       "      <td>5</td>\n",
       "    </tr>\n",
       "    <tr>\n",
       "      <th>2</th>\n",
       "      <td>1</td>\n",
       "      <td>0</td>\n",
       "      <td>0</td>\n",
       "      <td>1</td>\n",
       "      <td>0</td>\n",
       "      <td>0</td>\n",
       "      <td>4</td>\n",
       "      <td>2015</td>\n",
       "      <td>5</td>\n",
       "    </tr>\n",
       "    <tr>\n",
       "      <th>3</th>\n",
       "      <td>1</td>\n",
       "      <td>0</td>\n",
       "      <td>1</td>\n",
       "      <td>0</td>\n",
       "      <td>0</td>\n",
       "      <td>0</td>\n",
       "      <td>3</td>\n",
       "      <td>2015</td>\n",
       "      <td>4</td>\n",
       "    </tr>\n",
       "    <tr>\n",
       "      <th>4</th>\n",
       "      <td>1</td>\n",
       "      <td>0</td>\n",
       "      <td>1</td>\n",
       "      <td>0</td>\n",
       "      <td>0</td>\n",
       "      <td>0</td>\n",
       "      <td>3</td>\n",
       "      <td>2015</td>\n",
       "      <td>4</td>\n",
       "    </tr>\n",
       "    <tr>\n",
       "      <th>...</th>\n",
       "      <td>...</td>\n",
       "      <td>...</td>\n",
       "      <td>...</td>\n",
       "      <td>...</td>\n",
       "      <td>...</td>\n",
       "      <td>...</td>\n",
       "      <td>...</td>\n",
       "      <td>...</td>\n",
       "      <td>...</td>\n",
       "    </tr>\n",
       "    <tr>\n",
       "      <th>62239</th>\n",
       "      <td>1</td>\n",
       "      <td>1</td>\n",
       "      <td>1</td>\n",
       "      <td>0</td>\n",
       "      <td>0</td>\n",
       "      <td>0</td>\n",
       "      <td>4</td>\n",
       "      <td>2014</td>\n",
       "      <td>8</td>\n",
       "    </tr>\n",
       "    <tr>\n",
       "      <th>62240</th>\n",
       "      <td>1</td>\n",
       "      <td>1</td>\n",
       "      <td>1</td>\n",
       "      <td>0</td>\n",
       "      <td>0</td>\n",
       "      <td>0</td>\n",
       "      <td>4</td>\n",
       "      <td>2014</td>\n",
       "      <td>8</td>\n",
       "    </tr>\n",
       "    <tr>\n",
       "      <th>62241</th>\n",
       "      <td>1</td>\n",
       "      <td>1</td>\n",
       "      <td>1</td>\n",
       "      <td>0</td>\n",
       "      <td>0</td>\n",
       "      <td>0</td>\n",
       "      <td>4</td>\n",
       "      <td>2014</td>\n",
       "      <td>8</td>\n",
       "    </tr>\n",
       "    <tr>\n",
       "      <th>62242</th>\n",
       "      <td>1</td>\n",
       "      <td>1</td>\n",
       "      <td>1</td>\n",
       "      <td>0</td>\n",
       "      <td>0</td>\n",
       "      <td>0</td>\n",
       "      <td>4</td>\n",
       "      <td>2014</td>\n",
       "      <td>8</td>\n",
       "    </tr>\n",
       "    <tr>\n",
       "      <th>62243</th>\n",
       "      <td>1</td>\n",
       "      <td>1</td>\n",
       "      <td>1</td>\n",
       "      <td>0</td>\n",
       "      <td>0</td>\n",
       "      <td>0</td>\n",
       "      <td>4</td>\n",
       "      <td>2014</td>\n",
       "      <td>8</td>\n",
       "    </tr>\n",
       "  </tbody>\n",
       "</table>\n",
       "<p>62244 rows × 9 columns</p>\n",
       "</div>"
      ],
      "text/plain": [
       "       Promo  SchoolHoliday  StateHoliday_0  StateHoliday_a  StateHoliday_b  \\\n",
       "0          1              0               0               1               0   \n",
       "1          1              0               0               1               0   \n",
       "2          1              0               0               1               0   \n",
       "3          1              0               1               0               0   \n",
       "4          1              0               1               0               0   \n",
       "...      ...            ...             ...             ...             ...   \n",
       "62239      1              1               1               0               0   \n",
       "62240      1              1               1               0               0   \n",
       "62241      1              1               1               0               0   \n",
       "62242      1              1               1               0               0   \n",
       "62243      1              1               1               0               0   \n",
       "\n",
       "       StateHoliday_c  Weekday  Year  Month  \n",
       "0                   0        4  2015      5  \n",
       "1                   0        4  2015      5  \n",
       "2                   0        4  2015      5  \n",
       "3                   0        3  2015      4  \n",
       "4                   0        3  2015      4  \n",
       "...               ...      ...   ...    ...  \n",
       "62239               0        4  2014      8  \n",
       "62240               0        4  2014      8  \n",
       "62241               0        4  2014      8  \n",
       "62242               0        4  2014      8  \n",
       "62243               0        4  2014      8  \n",
       "\n",
       "[62244 rows x 9 columns]"
      ]
     },
     "execution_count": 50,
     "metadata": {},
     "output_type": "execute_result"
    }
   ],
   "source": [
    "train[['Promo','SchoolHoliday','StateHoliday_0','StateHoliday_a','StateHoliday_b','StateHoliday_c','Weekday','Year','Month']]"
   ]
  },
  {
   "cell_type": "markdown",
   "id": "88697e94",
   "metadata": {},
   "source": [
    "# 베이스라인 모델"
   ]
  },
  {
   "cell_type": "code",
   "execution_count": 46,
   "id": "53786651",
   "metadata": {},
   "outputs": [],
   "source": [
    "from xgboost import XGBRegressor"
   ]
  },
  {
   "cell_type": "code",
   "execution_count": 47,
   "id": "8e95e7b5",
   "metadata": {},
   "outputs": [],
   "source": [
    "xgb = XGBRegressor(n_estimators=300,learning_rate=0.1,random_state=2020)"
   ]
  },
  {
   "cell_type": "code",
   "execution_count": 53,
   "id": "d8189da8",
   "metadata": {},
   "outputs": [
    {
     "data": {
      "text/plain": [
       "XGBRegressor(base_score=0.5, booster='gbtree', colsample_bylevel=1,\n",
       "             colsample_bynode=1, colsample_bytree=1, gamma=0, gpu_id=-1,\n",
       "             importance_type='gain', interaction_constraints='',\n",
       "             learning_rate=0.1, max_delta_step=0, max_depth=6,\n",
       "             min_child_weight=1, missing=nan, monotone_constraints='()',\n",
       "             n_estimators=300, n_jobs=8, num_parallel_tree=1, random_state=2020,\n",
       "             reg_alpha=0, reg_lambda=1, scale_pos_weight=1, subsample=1,\n",
       "             tree_method='exact', validate_parameters=1, verbosity=None)"
      ]
     },
     "execution_count": 53,
     "metadata": {},
     "output_type": "execute_result"
    }
   ],
   "source": [
    "xgb.fit(train[['Promo','SchoolHoliday','StateHoliday_0','StateHoliday_a','StateHoliday_b','StateHoliday_c','Weekday','Year','Month']],train['Sales'])"
   ]
  },
  {
   "cell_type": "code",
   "execution_count": 56,
   "id": "05b11b14",
   "metadata": {},
   "outputs": [],
   "source": [
    "test['Sales']=xgb.predict(test[['Promo','SchoolHoliday','StateHoliday_0',\n",
    "                                'StateHoliday_a','StateHoliday_b','StateHoliday_c',\n",
    "                                'Weekday','Year','Month']])"
   ]
  },
  {
   "cell_type": "code",
   "execution_count": 58,
   "id": "1eb42037",
   "metadata": {},
   "outputs": [],
   "source": [
    "test[['id','Sales']].to_csv('submission.csv',index=False)"
   ]
  },
  {
   "cell_type": "markdown",
   "id": "14796edc",
   "metadata": {},
   "source": [
    "# 변수 선택하기\n",
    " + 변수 중요도를 이용하여 선택\n",
    " + 각각의 input변수가 Sales변수에 얼마나 영향을 미치는지를 수치화 한 것\n"
   ]
  },
  {
   "cell_type": "code",
   "execution_count": 59,
   "id": "6876b438",
   "metadata": {},
   "outputs": [
    {
     "data": {
      "text/plain": [
       "array([7.0119292e-01, 5.6813221e-02, 8.5970303e-03, 3.9727520e-03,\n",
       "       1.7045721e-03, 8.6084956e-06, 8.5364915e-02, 5.7804018e-02,\n",
       "       8.4541962e-02], dtype=float32)"
      ]
     },
     "execution_count": 59,
     "metadata": {},
     "output_type": "execute_result"
    }
   ],
   "source": [
    "xgb.feature_importances_"
   ]
  },
  {
   "cell_type": "code",
   "execution_count": 60,
   "id": "201070ca",
   "metadata": {},
   "outputs": [],
   "source": [
    "input_var =['Promo','SchoolHoliday','StateHoliday_0','StateHoliday_a',\n",
    "            'StateHoliday_b','StateHoliday_c','Weekday','Year','Month']"
   ]
  },
  {
   "cell_type": "code",
   "execution_count": 62,
   "id": "336e3058",
   "metadata": {},
   "outputs": [],
   "source": [
    "#딕셔너리로 해서 DataFrame만들기\n",
    "imp_df = pd.DataFrame({'var':input_var\n",
    "                     ,'imp':xgb.feature_importances_ } )"
   ]
  },
  {
   "cell_type": "code",
   "execution_count": 64,
   "id": "557dd90a",
   "metadata": {},
   "outputs": [],
   "source": [
    "imp_df = imp_df.sort_values(['imp'],ascending=False)"
   ]
  },
  {
   "cell_type": "code",
   "execution_count": 66,
   "id": "6e426b24",
   "metadata": {},
   "outputs": [
    {
     "data": {
      "text/html": [
       "<div>\n",
       "<style scoped>\n",
       "    .dataframe tbody tr th:only-of-type {\n",
       "        vertical-align: middle;\n",
       "    }\n",
       "\n",
       "    .dataframe tbody tr th {\n",
       "        vertical-align: top;\n",
       "    }\n",
       "\n",
       "    .dataframe thead th {\n",
       "        text-align: right;\n",
       "    }\n",
       "</style>\n",
       "<table border=\"1\" class=\"dataframe\">\n",
       "  <thead>\n",
       "    <tr style=\"text-align: right;\">\n",
       "      <th></th>\n",
       "      <th>var</th>\n",
       "      <th>imp</th>\n",
       "    </tr>\n",
       "  </thead>\n",
       "  <tbody>\n",
       "    <tr>\n",
       "      <th>0</th>\n",
       "      <td>Promo</td>\n",
       "      <td>0.701193</td>\n",
       "    </tr>\n",
       "    <tr>\n",
       "      <th>6</th>\n",
       "      <td>Weekday</td>\n",
       "      <td>0.085365</td>\n",
       "    </tr>\n",
       "    <tr>\n",
       "      <th>8</th>\n",
       "      <td>Month</td>\n",
       "      <td>0.084542</td>\n",
       "    </tr>\n",
       "    <tr>\n",
       "      <th>7</th>\n",
       "      <td>Year</td>\n",
       "      <td>0.057804</td>\n",
       "    </tr>\n",
       "    <tr>\n",
       "      <th>1</th>\n",
       "      <td>SchoolHoliday</td>\n",
       "      <td>0.056813</td>\n",
       "    </tr>\n",
       "    <tr>\n",
       "      <th>2</th>\n",
       "      <td>StateHoliday_0</td>\n",
       "      <td>0.008597</td>\n",
       "    </tr>\n",
       "    <tr>\n",
       "      <th>3</th>\n",
       "      <td>StateHoliday_a</td>\n",
       "      <td>0.003973</td>\n",
       "    </tr>\n",
       "    <tr>\n",
       "      <th>4</th>\n",
       "      <td>StateHoliday_b</td>\n",
       "      <td>0.001705</td>\n",
       "    </tr>\n",
       "    <tr>\n",
       "      <th>5</th>\n",
       "      <td>StateHoliday_c</td>\n",
       "      <td>0.000009</td>\n",
       "    </tr>\n",
       "  </tbody>\n",
       "</table>\n",
       "</div>"
      ],
      "text/plain": [
       "              var       imp\n",
       "0           Promo  0.701193\n",
       "6         Weekday  0.085365\n",
       "8           Month  0.084542\n",
       "7            Year  0.057804\n",
       "1   SchoolHoliday  0.056813\n",
       "2  StateHoliday_0  0.008597\n",
       "3  StateHoliday_a  0.003973\n",
       "4  StateHoliday_b  0.001705\n",
       "5  StateHoliday_c  0.000009"
      ]
     },
     "execution_count": 66,
     "metadata": {},
     "output_type": "execute_result"
    }
   ],
   "source": [
    "imp_df"
   ]
  },
  {
   "cell_type": "code",
   "execution_count": 76,
   "id": "6e480ed7",
   "metadata": {},
   "outputs": [
    {
     "data": {
      "image/png": "[encoded data removed]",
      "text/plain": [
       "<Figure size 432x288 with 1 Axes>"
      ]
     },
     "metadata": {
      "needs_background": "light"
     },
     "output_type": "display_data"
    }
   ],
   "source": [
    "import matplotlib.pyplot as plt\n",
    "plt.bar(x=imp_df['var'],height=imp_df['imp'])\n",
    "_=plt.xticks(rotation=45)"
   ]
  },
  {
   "cell_type": "code",
   "execution_count": 77,
   "id": "6545ccec",
   "metadata": {},
   "outputs": [],
   "source": [
    "from sklearn.model_selection import cross_val_score"
   ]
  },
  {
   "cell_type": "code",
   "execution_count": 79,
   "id": "79b90f95",
   "metadata": {},
   "outputs": [
    {
     "data": {
      "text/plain": [
       "array([ -7442398.68110158, -10165475.69817356,  -7896996.52747543])"
      ]
     },
     "execution_count": 79,
     "metadata": {},
     "output_type": "execute_result"
    }
   ],
   "source": [
    "#모델의 성능을 측정하는 라이브러리 cross_cal_score()\n",
    "cross_val_score(xgb,train[input_var],train['Sales'],scoring=\"neg_mean_squared_error\",cv=3)\n",
    "     # 사용된 모델,input변수,목표값, scoring(성능 측정의 단위가 될 값, cv(fold의 갯수)"
   ]
  },
  {
   "cell_type": "code",
   "execution_count": 82,
   "id": "32b014c7",
   "metadata": {},
   "outputs": [
    {
     "data": {
      "text/plain": [
       "array([ -7437417.60656606, -10109891.53781048,  -7579785.74399885])"
      ]
     },
     "execution_count": 82,
     "metadata": {},
     "output_type": "execute_result"
    }
   ],
   "source": [
    "cross_val_score(xgb,train[['Promo','Weekday','Month','Year','SchoolHoliday']],\n",
    "                train['Sales'],\n",
    "                scoring=\"neg_mean_squared_error\",\n",
    "                cv=3)"
   ]
  },
  {
   "cell_type": "code",
   "execution_count": 85,
   "id": "45fb31e3",
   "metadata": {},
   "outputs": [],
   "source": [
    "import numpy as np"
   ]
  },
  {
   "cell_type": "code",
   "execution_count": 87,
   "id": "8839bcc8",
   "metadata": {},
   "outputs": [],
   "source": [
    "score_list=[]\n",
    "selected_varnum=[]"
   ]
  },
  {
   "cell_type": "code",
   "execution_count": 89,
   "id": "76cfcc8b",
   "metadata": {},
   "outputs": [
    {
     "name": "stdout",
     "output_type": "stream",
     "text": [
      "1\n",
      "2\n",
      "3\n",
      "4\n",
      "5\n",
      "6\n",
      "7\n",
      "8\n",
      "9\n"
     ]
    }
   ],
   "source": [
    "for i in range(1,10):\n",
    "    selected_var=imp_df['var'].iloc[:i].to_list()\n",
    "    scores= cross_val_score(xgb,train[selected_var],\n",
    "                train['Sales'],\n",
    "                scoring=\"neg_mean_squared_error\",\n",
    "                cv=3)\n",
    "    score_list.append(-np.mean(scores))\n",
    "    selected_varnum.append(i)\n",
    "    print(i)"
   ]
  },
  {
   "cell_type": "code",
   "execution_count": 96,
   "id": "3fefd24f",
   "metadata": {},
   "outputs": [
    {
     "data": {
      "text/plain": [
       "[<matplotlib.lines.Line2D at 0x2308d9c56a0>]"
      ]
     },
     "execution_count": 96,
     "metadata": {},
     "output_type": "execute_result"
    },
    {
     "data": {
      "image/png": "[encoded data removed]",
      "text/plain": [
       "<Figure size 432x288 with 1 Axes>"
      ]
     },
     "metadata": {
      "needs_background": "light"
     },
     "output_type": "display_data"
    }
   ],
   "source": [
    "plt.plot(selected_varnum,score_list)"
   ]
  },
  {
   "cell_type": "markdown",
   "id": "3861448c",
   "metadata": {},
   "source": [
    "상위 변수 2개만을 썼을 때가 가장 낮은 에러점수를 가지므로 Promo와 Weekday만을 가지고 예측하는 것이 좋다"
   ]
  },
  {
   "cell_type": "code",
   "execution_count": 84,
   "id": "f3ce0d6a",
   "metadata": {},
   "outputs": [
    {
     "data": {
      "text/plain": [
       "array([ -7241548.38898523, -10134534.97381444,  -7116067.92521244])"
      ]
     },
     "execution_count": 84,
     "metadata": {},
     "output_type": "execute_result"
    }
   ],
   "source": [
    "cross_val_score(xgb,train[['Promo','Weekday']],\n",
    "                train['Sales'],\n",
    "                scoring=\"neg_mean_squared_error\",\n",
    "                cv=3)"
   ]
  },
  {
   "cell_type": "code",
   "execution_count": 98,
   "id": "76f84d7a",
   "metadata": {},
   "outputs": [
    {
     "data": {
      "text/plain": [
       "XGBRegressor(base_score=0.5, booster='gbtree', colsample_bylevel=1,\n",
       "             colsample_bynode=1, colsample_bytree=1, gamma=0, gpu_id=-1,\n",
       "             importance_type='gain', interaction_constraints='',\n",
       "             learning_rate=0.1, max_delta_step=0, max_depth=6,\n",
       "             min_child_weight=1, missing=nan, monotone_constraints='()',\n",
       "             n_estimators=300, n_jobs=8, num_parallel_tree=1, random_state=2020,\n",
       "             reg_alpha=0, reg_lambda=1, scale_pos_weight=1, subsample=1,\n",
       "             tree_method='exact', validate_parameters=1, verbosity=None)"
      ]
     },
     "execution_count": 98,
     "metadata": {},
     "output_type": "execute_result"
    }
   ],
   "source": [
    "xgb.fit(train[['Promo','Weekday']],train['Sales'])"
   ]
  },
  {
   "cell_type": "code",
   "execution_count": 99,
   "id": "228244e9",
   "metadata": {},
   "outputs": [],
   "source": [
    "test['Sales']=xgb.predict(test[['Promo','Weekday']])"
   ]
  },
  {
   "cell_type": "code",
   "execution_count": 100,
   "id": "ff75424b",
   "metadata": {},
   "outputs": [],
   "source": [
    "test[['id','Sales']].to_csv(\"submission1.csv\",index=False)"
   ]
  },
  {
   "cell_type": "markdown",
   "id": "99e63bd5",
   "metadata": {},
   "source": [
    "# 보조데이터 사용하기 (Store)"
   ]
  },
  {
   "cell_type": "code",
   "execution_count": 101,
   "id": "9c935d23",
   "metadata": {
    "scrolled": true
   },
   "outputs": [
    {
     "data": {
      "text/html": [
       "<div>\n",
       "<style scoped>\n",
       "    .dataframe tbody tr th:only-of-type {\n",
       "        vertical-align: middle;\n",
       "    }\n",
       "\n",
       "    .dataframe tbody tr th {\n",
       "        vertical-align: top;\n",
       "    }\n",
       "\n",
       "    .dataframe thead th {\n",
       "        text-align: right;\n",
       "    }\n",
       "</style>\n",
       "<table border=\"1\" class=\"dataframe\">\n",
       "  <thead>\n",
       "    <tr style=\"text-align: right;\">\n",
       "      <th></th>\n",
       "      <th>Store</th>\n",
       "      <th>StoreType</th>\n",
       "      <th>Assortment</th>\n",
       "      <th>CompetitionDistance</th>\n",
       "      <th>CompetitionOpenSinceMonth</th>\n",
       "      <th>CompetitionOpenSinceYear</th>\n",
       "      <th>Promo2</th>\n",
       "      <th>Promo2SinceWeek</th>\n",
       "      <th>Promo2SinceYear</th>\n",
       "      <th>PromoInterval</th>\n",
       "    </tr>\n",
       "  </thead>\n",
       "  <tbody>\n",
       "    <tr>\n",
       "      <th>0</th>\n",
       "      <td>1</td>\n",
       "      <td>c</td>\n",
       "      <td>a</td>\n",
       "      <td>1270.0</td>\n",
       "      <td>9.0</td>\n",
       "      <td>2008.0</td>\n",
       "      <td>0</td>\n",
       "      <td>NaN</td>\n",
       "      <td>NaN</td>\n",
       "      <td>NaN</td>\n",
       "    </tr>\n",
       "    <tr>\n",
       "      <th>1</th>\n",
       "      <td>2</td>\n",
       "      <td>a</td>\n",
       "      <td>a</td>\n",
       "      <td>570.0</td>\n",
       "      <td>11.0</td>\n",
       "      <td>2007.0</td>\n",
       "      <td>1</td>\n",
       "      <td>13.0</td>\n",
       "      <td>2010.0</td>\n",
       "      <td>Jan,Apr,Jul,Oct</td>\n",
       "    </tr>\n",
       "    <tr>\n",
       "      <th>2</th>\n",
       "      <td>3</td>\n",
       "      <td>a</td>\n",
       "      <td>a</td>\n",
       "      <td>14130.0</td>\n",
       "      <td>12.0</td>\n",
       "      <td>2006.0</td>\n",
       "      <td>1</td>\n",
       "      <td>14.0</td>\n",
       "      <td>2011.0</td>\n",
       "      <td>Jan,Apr,Jul,Oct</td>\n",
       "    </tr>\n",
       "    <tr>\n",
       "      <th>3</th>\n",
       "      <td>4</td>\n",
       "      <td>c</td>\n",
       "      <td>c</td>\n",
       "      <td>620.0</td>\n",
       "      <td>9.0</td>\n",
       "      <td>2009.0</td>\n",
       "      <td>0</td>\n",
       "      <td>NaN</td>\n",
       "      <td>NaN</td>\n",
       "      <td>NaN</td>\n",
       "    </tr>\n",
       "    <tr>\n",
       "      <th>4</th>\n",
       "      <td>5</td>\n",
       "      <td>a</td>\n",
       "      <td>a</td>\n",
       "      <td>29910.0</td>\n",
       "      <td>4.0</td>\n",
       "      <td>2015.0</td>\n",
       "      <td>0</td>\n",
       "      <td>NaN</td>\n",
       "      <td>NaN</td>\n",
       "      <td>NaN</td>\n",
       "    </tr>\n",
       "    <tr>\n",
       "      <th>...</th>\n",
       "      <td>...</td>\n",
       "      <td>...</td>\n",
       "      <td>...</td>\n",
       "      <td>...</td>\n",
       "      <td>...</td>\n",
       "      <td>...</td>\n",
       "      <td>...</td>\n",
       "      <td>...</td>\n",
       "      <td>...</td>\n",
       "      <td>...</td>\n",
       "    </tr>\n",
       "    <tr>\n",
       "      <th>1110</th>\n",
       "      <td>1111</td>\n",
       "      <td>a</td>\n",
       "      <td>a</td>\n",
       "      <td>1900.0</td>\n",
       "      <td>6.0</td>\n",
       "      <td>2014.0</td>\n",
       "      <td>1</td>\n",
       "      <td>31.0</td>\n",
       "      <td>2013.0</td>\n",
       "      <td>Jan,Apr,Jul,Oct</td>\n",
       "    </tr>\n",
       "    <tr>\n",
       "      <th>1111</th>\n",
       "      <td>1112</td>\n",
       "      <td>c</td>\n",
       "      <td>c</td>\n",
       "      <td>1880.0</td>\n",
       "      <td>4.0</td>\n",
       "      <td>2006.0</td>\n",
       "      <td>0</td>\n",
       "      <td>NaN</td>\n",
       "      <td>NaN</td>\n",
       "      <td>NaN</td>\n",
       "    </tr>\n",
       "    <tr>\n",
       "      <th>1112</th>\n",
       "      <td>1113</td>\n",
       "      <td>a</td>\n",
       "      <td>c</td>\n",
       "      <td>9260.0</td>\n",
       "      <td>NaN</td>\n",
       "      <td>NaN</td>\n",
       "      <td>0</td>\n",
       "      <td>NaN</td>\n",
       "      <td>NaN</td>\n",
       "      <td>NaN</td>\n",
       "    </tr>\n",
       "    <tr>\n",
       "      <th>1113</th>\n",
       "      <td>1114</td>\n",
       "      <td>a</td>\n",
       "      <td>c</td>\n",
       "      <td>870.0</td>\n",
       "      <td>NaN</td>\n",
       "      <td>NaN</td>\n",
       "      <td>0</td>\n",
       "      <td>NaN</td>\n",
       "      <td>NaN</td>\n",
       "      <td>NaN</td>\n",
       "    </tr>\n",
       "    <tr>\n",
       "      <th>1114</th>\n",
       "      <td>1115</td>\n",
       "      <td>d</td>\n",
       "      <td>c</td>\n",
       "      <td>5350.0</td>\n",
       "      <td>NaN</td>\n",
       "      <td>NaN</td>\n",
       "      <td>1</td>\n",
       "      <td>22.0</td>\n",
       "      <td>2012.0</td>\n",
       "      <td>Mar,Jun,Sept,Dec</td>\n",
       "    </tr>\n",
       "  </tbody>\n",
       "</table>\n",
       "<p>1115 rows × 10 columns</p>\n",
       "</div>"
      ],
      "text/plain": [
       "      Store StoreType Assortment  CompetitionDistance  \\\n",
       "0         1         c          a               1270.0   \n",
       "1         2         a          a                570.0   \n",
       "2         3         a          a              14130.0   \n",
       "3         4         c          c                620.0   \n",
       "4         5         a          a              29910.0   \n",
       "...     ...       ...        ...                  ...   \n",
       "1110   1111         a          a               1900.0   \n",
       "1111   1112         c          c               1880.0   \n",
       "1112   1113         a          c               9260.0   \n",
       "1113   1114         a          c                870.0   \n",
       "1114   1115         d          c               5350.0   \n",
       "\n",
       "      CompetitionOpenSinceMonth  CompetitionOpenSinceYear  Promo2  \\\n",
       "0                           9.0                    2008.0       0   \n",
       "1                          11.0                    2007.0       1   \n",
       "2                          12.0                    2006.0       1   \n",
       "3                           9.0                    2009.0       0   \n",
       "4                           4.0                    2015.0       0   \n",
       "...                         ...                       ...     ...   \n",
       "1110                        6.0                    2014.0       1   \n",
       "1111                        4.0                    2006.0       0   \n",
       "1112                        NaN                       NaN       0   \n",
       "1113                        NaN                       NaN       0   \n",
       "1114                        NaN                       NaN       1   \n",
       "\n",
       "      Promo2SinceWeek  Promo2SinceYear     PromoInterval  \n",
       "0                 NaN              NaN               NaN  \n",
       "1                13.0           2010.0   Jan,Apr,Jul,Oct  \n",
       "2                14.0           2011.0   Jan,Apr,Jul,Oct  \n",
       "3                 NaN              NaN               NaN  \n",
       "4                 NaN              NaN               NaN  \n",
       "...               ...              ...               ...  \n",
       "1110             31.0           2013.0   Jan,Apr,Jul,Oct  \n",
       "1111              NaN              NaN               NaN  \n",
       "1112              NaN              NaN               NaN  \n",
       "1113              NaN              NaN               NaN  \n",
       "1114             22.0           2012.0  Mar,Jun,Sept,Dec  \n",
       "\n",
       "[1115 rows x 10 columns]"
      ]
     },
     "execution_count": 101,
     "metadata": {},
     "output_type": "execute_result"
    }
   ],
   "source": [
    "store"
   ]
  },
  {
   "cell_type": "code",
   "execution_count": 102,
   "id": "d8e5de0c",
   "metadata": {},
   "outputs": [
    {
     "data": {
      "text/html": [
       "<div>\n",
       "<style scoped>\n",
       "    .dataframe tbody tr th:only-of-type {\n",
       "        vertical-align: middle;\n",
       "    }\n",
       "\n",
       "    .dataframe tbody tr th {\n",
       "        vertical-align: top;\n",
       "    }\n",
       "\n",
       "    .dataframe thead th {\n",
       "        text-align: right;\n",
       "    }\n",
       "</style>\n",
       "<table border=\"1\" class=\"dataframe\">\n",
       "  <thead>\n",
       "    <tr style=\"text-align: right;\">\n",
       "      <th></th>\n",
       "      <th>id</th>\n",
       "      <th>Store</th>\n",
       "      <th>Date</th>\n",
       "      <th>Sales</th>\n",
       "      <th>Promo</th>\n",
       "      <th>SchoolHoliday</th>\n",
       "      <th>StateHoliday_0</th>\n",
       "      <th>StateHoliday_a</th>\n",
       "      <th>StateHoliday_b</th>\n",
       "      <th>StateHoliday_c</th>\n",
       "      <th>Weekday</th>\n",
       "      <th>Year</th>\n",
       "      <th>Month</th>\n",
       "    </tr>\n",
       "  </thead>\n",
       "  <tbody>\n",
       "    <tr>\n",
       "      <th>3</th>\n",
       "      <td>14932</td>\n",
       "      <td>1</td>\n",
       "      <td>2015-04-30</td>\n",
       "      <td>6228</td>\n",
       "      <td>1</td>\n",
       "      <td>0</td>\n",
       "      <td>1</td>\n",
       "      <td>0</td>\n",
       "      <td>0</td>\n",
       "      <td>0</td>\n",
       "      <td>3</td>\n",
       "      <td>2015</td>\n",
       "      <td>4</td>\n",
       "    </tr>\n",
       "    <tr>\n",
       "      <th>303</th>\n",
       "      <td>15232</td>\n",
       "      <td>1</td>\n",
       "      <td>2015-04-29</td>\n",
       "      <td>5775</td>\n",
       "      <td>1</td>\n",
       "      <td>0</td>\n",
       "      <td>1</td>\n",
       "      <td>0</td>\n",
       "      <td>0</td>\n",
       "      <td>0</td>\n",
       "      <td>2</td>\n",
       "      <td>2015</td>\n",
       "      <td>4</td>\n",
       "    </tr>\n",
       "    <tr>\n",
       "      <th>603</th>\n",
       "      <td>15532</td>\n",
       "      <td>1</td>\n",
       "      <td>2015-04-28</td>\n",
       "      <td>5199</td>\n",
       "      <td>1</td>\n",
       "      <td>0</td>\n",
       "      <td>1</td>\n",
       "      <td>0</td>\n",
       "      <td>0</td>\n",
       "      <td>0</td>\n",
       "      <td>1</td>\n",
       "      <td>2015</td>\n",
       "      <td>4</td>\n",
       "    </tr>\n",
       "    <tr>\n",
       "      <th>903</th>\n",
       "      <td>15832</td>\n",
       "      <td>1</td>\n",
       "      <td>2015-04-27</td>\n",
       "      <td>5575</td>\n",
       "      <td>1</td>\n",
       "      <td>0</td>\n",
       "      <td>1</td>\n",
       "      <td>0</td>\n",
       "      <td>0</td>\n",
       "      <td>0</td>\n",
       "      <td>0</td>\n",
       "      <td>2015</td>\n",
       "      <td>4</td>\n",
       "    </tr>\n",
       "    <tr>\n",
       "      <th>1213</th>\n",
       "      <td>16142</td>\n",
       "      <td>1</td>\n",
       "      <td>2015-04-25</td>\n",
       "      <td>4318</td>\n",
       "      <td>0</td>\n",
       "      <td>0</td>\n",
       "      <td>1</td>\n",
       "      <td>0</td>\n",
       "      <td>0</td>\n",
       "      <td>0</td>\n",
       "      <td>5</td>\n",
       "      <td>2015</td>\n",
       "      <td>4</td>\n",
       "    </tr>\n",
       "    <tr>\n",
       "      <th>...</th>\n",
       "      <td>...</td>\n",
       "      <td>...</td>\n",
       "      <td>...</td>\n",
       "      <td>...</td>\n",
       "      <td>...</td>\n",
       "      <td>...</td>\n",
       "      <td>...</td>\n",
       "      <td>...</td>\n",
       "      <td>...</td>\n",
       "      <td>...</td>\n",
       "      <td>...</td>\n",
       "      <td>...</td>\n",
       "      <td>...</td>\n",
       "    </tr>\n",
       "    <tr>\n",
       "      <th>60975</th>\n",
       "      <td>75904</td>\n",
       "      <td>1</td>\n",
       "      <td>2014-08-06</td>\n",
       "      <td>5337</td>\n",
       "      <td>1</td>\n",
       "      <td>1</td>\n",
       "      <td>1</td>\n",
       "      <td>0</td>\n",
       "      <td>0</td>\n",
       "      <td>0</td>\n",
       "      <td>2</td>\n",
       "      <td>2014</td>\n",
       "      <td>8</td>\n",
       "    </tr>\n",
       "    <tr>\n",
       "      <th>61227</th>\n",
       "      <td>76156</td>\n",
       "      <td>1</td>\n",
       "      <td>2014-08-05</td>\n",
       "      <td>5433</td>\n",
       "      <td>1</td>\n",
       "      <td>1</td>\n",
       "      <td>1</td>\n",
       "      <td>0</td>\n",
       "      <td>0</td>\n",
       "      <td>0</td>\n",
       "      <td>1</td>\n",
       "      <td>2014</td>\n",
       "      <td>8</td>\n",
       "    </tr>\n",
       "    <tr>\n",
       "      <th>61479</th>\n",
       "      <td>76408</td>\n",
       "      <td>1</td>\n",
       "      <td>2014-08-04</td>\n",
       "      <td>5655</td>\n",
       "      <td>1</td>\n",
       "      <td>1</td>\n",
       "      <td>1</td>\n",
       "      <td>0</td>\n",
       "      <td>0</td>\n",
       "      <td>0</td>\n",
       "      <td>0</td>\n",
       "      <td>2014</td>\n",
       "      <td>8</td>\n",
       "    </tr>\n",
       "    <tr>\n",
       "      <th>61740</th>\n",
       "      <td>76669</td>\n",
       "      <td>1</td>\n",
       "      <td>2014-08-02</td>\n",
       "      <td>4731</td>\n",
       "      <td>0</td>\n",
       "      <td>1</td>\n",
       "      <td>1</td>\n",
       "      <td>0</td>\n",
       "      <td>0</td>\n",
       "      <td>0</td>\n",
       "      <td>5</td>\n",
       "      <td>2014</td>\n",
       "      <td>8</td>\n",
       "    </tr>\n",
       "    <tr>\n",
       "      <th>61992</th>\n",
       "      <td>76921</td>\n",
       "      <td>1</td>\n",
       "      <td>2014-08-01</td>\n",
       "      <td>5038</td>\n",
       "      <td>1</td>\n",
       "      <td>1</td>\n",
       "      <td>1</td>\n",
       "      <td>0</td>\n",
       "      <td>0</td>\n",
       "      <td>0</td>\n",
       "      <td>4</td>\n",
       "      <td>2014</td>\n",
       "      <td>8</td>\n",
       "    </tr>\n",
       "  </tbody>\n",
       "</table>\n",
       "<p>228 rows × 13 columns</p>\n",
       "</div>"
      ],
      "text/plain": [
       "          id  Store       Date  Sales  Promo  SchoolHoliday  StateHoliday_0  \\\n",
       "3      14932      1 2015-04-30   6228      1              0               1   \n",
       "303    15232      1 2015-04-29   5775      1              0               1   \n",
       "603    15532      1 2015-04-28   5199      1              0               1   \n",
       "903    15832      1 2015-04-27   5575      1              0               1   \n",
       "1213   16142      1 2015-04-25   4318      0              0               1   \n",
       "...      ...    ...        ...    ...    ...            ...             ...   \n",
       "60975  75904      1 2014-08-06   5337      1              1               1   \n",
       "61227  76156      1 2014-08-05   5433      1              1               1   \n",
       "61479  76408      1 2014-08-04   5655      1              1               1   \n",
       "61740  76669      1 2014-08-02   4731      0              1               1   \n",
       "61992  76921      1 2014-08-01   5038      1              1               1   \n",
       "\n",
       "       StateHoliday_a  StateHoliday_b  StateHoliday_c  Weekday  Year  Month  \n",
       "3                   0               0               0        3  2015      4  \n",
       "303                 0               0               0        2  2015      4  \n",
       "603                 0               0               0        1  2015      4  \n",
       "903                 0               0               0        0  2015      4  \n",
       "1213                0               0               0        5  2015      4  \n",
       "...               ...             ...             ...      ...   ...    ...  \n",
       "60975               0               0               0        2  2014      8  \n",
       "61227               0               0               0        1  2014      8  \n",
       "61479               0               0               0        0  2014      8  \n",
       "61740               0               0               0        5  2014      8  \n",
       "61992               0               0               0        4  2014      8  \n",
       "\n",
       "[228 rows x 13 columns]"
      ]
     },
     "execution_count": 102,
     "metadata": {},
     "output_type": "execute_result"
    }
   ],
   "source": [
    "train.loc[train['Store']==1]"
   ]
  },
  {
   "cell_type": "code",
   "execution_count": 104,
   "id": "043b28f7",
   "metadata": {},
   "outputs": [
    {
     "data": {
      "text/html": [
       "<div>\n",
       "<style scoped>\n",
       "    .dataframe tbody tr th:only-of-type {\n",
       "        vertical-align: middle;\n",
       "    }\n",
       "\n",
       "    .dataframe tbody tr th {\n",
       "        vertical-align: top;\n",
       "    }\n",
       "\n",
       "    .dataframe thead th {\n",
       "        text-align: right;\n",
       "    }\n",
       "</style>\n",
       "<table border=\"1\" class=\"dataframe\">\n",
       "  <thead>\n",
       "    <tr style=\"text-align: right;\">\n",
       "      <th></th>\n",
       "      <th>Store</th>\n",
       "      <th>StoreType</th>\n",
       "      <th>Assortment</th>\n",
       "      <th>CompetitionDistance</th>\n",
       "      <th>CompetitionOpenSinceMonth</th>\n",
       "      <th>CompetitionOpenSinceYear</th>\n",
       "      <th>Promo2</th>\n",
       "      <th>Promo2SinceWeek</th>\n",
       "      <th>Promo2SinceYear</th>\n",
       "      <th>PromoInterval</th>\n",
       "    </tr>\n",
       "  </thead>\n",
       "  <tbody>\n",
       "    <tr>\n",
       "      <th>0</th>\n",
       "      <td>1</td>\n",
       "      <td>c</td>\n",
       "      <td>a</td>\n",
       "      <td>1270.0</td>\n",
       "      <td>9.0</td>\n",
       "      <td>2008.0</td>\n",
       "      <td>0</td>\n",
       "      <td>NaN</td>\n",
       "      <td>NaN</td>\n",
       "      <td>NaN</td>\n",
       "    </tr>\n",
       "  </tbody>\n",
       "</table>\n",
       "</div>"
      ],
      "text/plain": [
       "   Store StoreType Assortment  CompetitionDistance  CompetitionOpenSinceMonth  \\\n",
       "0      1         c          a               1270.0                        9.0   \n",
       "\n",
       "   CompetitionOpenSinceYear  Promo2  Promo2SinceWeek  Promo2SinceYear  \\\n",
       "0                    2008.0       0              NaN              NaN   \n",
       "\n",
       "  PromoInterval  \n",
       "0           NaN  "
      ]
     },
     "execution_count": 104,
     "metadata": {},
     "output_type": "execute_result"
    }
   ],
   "source": [
    "store.loc[store['Store']==1]\n",
    "#store의 고정적인 특징을 나타내는 것이므로 1개의 row만 나오게 된다."
   ]
  },
  {
   "cell_type": "markdown",
   "id": "72c4de01",
   "metadata": {},
   "source": [
    "## store를 기준으로 train과 store를 merge하기"
   ]
  },
  {
   "cell_type": "code",
   "execution_count": 109,
   "id": "5372b7b3",
   "metadata": {},
   "outputs": [],
   "source": [
    "#같은 store값을 가지고 있는 것들끼리 붙여주겠다 merge쓰기\n",
    "train = pd.merge(train,store,on=['Store'],how='left')\n",
    "test = pd.merge(test,store,on=['Store'],how='left')"
   ]
  },
  {
   "cell_type": "code",
   "execution_count": 114,
   "id": "3420c6f7",
   "metadata": {},
   "outputs": [
    {
     "data": {
      "text/html": [
       "<div>\n",
       "<style scoped>\n",
       "    .dataframe tbody tr th:only-of-type {\n",
       "        vertical-align: middle;\n",
       "    }\n",
       "\n",
       "    .dataframe tbody tr th {\n",
       "        vertical-align: top;\n",
       "    }\n",
       "\n",
       "    .dataframe thead th {\n",
       "        text-align: right;\n",
       "    }\n",
       "</style>\n",
       "<table border=\"1\" class=\"dataframe\">\n",
       "  <thead>\n",
       "    <tr style=\"text-align: right;\">\n",
       "      <th></th>\n",
       "      <th>id</th>\n",
       "      <th>Store</th>\n",
       "      <th>Date</th>\n",
       "      <th>Sales</th>\n",
       "      <th>Promo</th>\n",
       "      <th>SchoolHoliday</th>\n",
       "      <th>StateHoliday_0</th>\n",
       "      <th>StateHoliday_a</th>\n",
       "      <th>StateHoliday_b</th>\n",
       "      <th>StateHoliday_c</th>\n",
       "      <th>...</th>\n",
       "      <th>Month</th>\n",
       "      <th>StoreType</th>\n",
       "      <th>Assortment</th>\n",
       "      <th>CompetitionDistance</th>\n",
       "      <th>CompetitionOpenSinceMonth</th>\n",
       "      <th>CompetitionOpenSinceYear</th>\n",
       "      <th>Promo2</th>\n",
       "      <th>Promo2SinceWeek</th>\n",
       "      <th>Promo2SinceYear</th>\n",
       "      <th>PromoInterval</th>\n",
       "    </tr>\n",
       "  </thead>\n",
       "  <tbody>\n",
       "    <tr>\n",
       "      <th>0</th>\n",
       "      <td>14929</td>\n",
       "      <td>85</td>\n",
       "      <td>2015-05-01</td>\n",
       "      <td>11360</td>\n",
       "      <td>1</td>\n",
       "      <td>0</td>\n",
       "      <td>0</td>\n",
       "      <td>1</td>\n",
       "      <td>0</td>\n",
       "      <td>0</td>\n",
       "      <td>...</td>\n",
       "      <td>5</td>\n",
       "      <td>b</td>\n",
       "      <td>a</td>\n",
       "      <td>1870.0</td>\n",
       "      <td>10.0</td>\n",
       "      <td>2011.0</td>\n",
       "      <td>0</td>\n",
       "      <td>NaN</td>\n",
       "      <td>NaN</td>\n",
       "      <td>NaN</td>\n",
       "    </tr>\n",
       "    <tr>\n",
       "      <th>1</th>\n",
       "      <td>14930</td>\n",
       "      <td>512</td>\n",
       "      <td>2015-05-01</td>\n",
       "      <td>10534</td>\n",
       "      <td>1</td>\n",
       "      <td>0</td>\n",
       "      <td>0</td>\n",
       "      <td>1</td>\n",
       "      <td>0</td>\n",
       "      <td>0</td>\n",
       "      <td>...</td>\n",
       "      <td>5</td>\n",
       "      <td>b</td>\n",
       "      <td>b</td>\n",
       "      <td>590.0</td>\n",
       "      <td>NaN</td>\n",
       "      <td>NaN</td>\n",
       "      <td>1</td>\n",
       "      <td>5.0</td>\n",
       "      <td>2013.0</td>\n",
       "      <td>Mar,Jun,Sept,Dec</td>\n",
       "    </tr>\n",
       "    <tr>\n",
       "      <th>2</th>\n",
       "      <td>14931</td>\n",
       "      <td>1097</td>\n",
       "      <td>2015-05-01</td>\n",
       "      <td>17039</td>\n",
       "      <td>1</td>\n",
       "      <td>0</td>\n",
       "      <td>0</td>\n",
       "      <td>1</td>\n",
       "      <td>0</td>\n",
       "      <td>0</td>\n",
       "      <td>...</td>\n",
       "      <td>5</td>\n",
       "      <td>b</td>\n",
       "      <td>b</td>\n",
       "      <td>720.0</td>\n",
       "      <td>3.0</td>\n",
       "      <td>2002.0</td>\n",
       "      <td>0</td>\n",
       "      <td>NaN</td>\n",
       "      <td>NaN</td>\n",
       "      <td>NaN</td>\n",
       "    </tr>\n",
       "    <tr>\n",
       "      <th>3</th>\n",
       "      <td>14932</td>\n",
       "      <td>1</td>\n",
       "      <td>2015-04-30</td>\n",
       "      <td>6228</td>\n",
       "      <td>1</td>\n",
       "      <td>0</td>\n",
       "      <td>1</td>\n",
       "      <td>0</td>\n",
       "      <td>0</td>\n",
       "      <td>0</td>\n",
       "      <td>...</td>\n",
       "      <td>4</td>\n",
       "      <td>c</td>\n",
       "      <td>a</td>\n",
       "      <td>1270.0</td>\n",
       "      <td>9.0</td>\n",
       "      <td>2008.0</td>\n",
       "      <td>0</td>\n",
       "      <td>NaN</td>\n",
       "      <td>NaN</td>\n",
       "      <td>NaN</td>\n",
       "    </tr>\n",
       "    <tr>\n",
       "      <th>4</th>\n",
       "      <td>14933</td>\n",
       "      <td>9</td>\n",
       "      <td>2015-04-30</td>\n",
       "      <td>9717</td>\n",
       "      <td>1</td>\n",
       "      <td>0</td>\n",
       "      <td>1</td>\n",
       "      <td>0</td>\n",
       "      <td>0</td>\n",
       "      <td>0</td>\n",
       "      <td>...</td>\n",
       "      <td>4</td>\n",
       "      <td>a</td>\n",
       "      <td>c</td>\n",
       "      <td>2030.0</td>\n",
       "      <td>8.0</td>\n",
       "      <td>2000.0</td>\n",
       "      <td>0</td>\n",
       "      <td>NaN</td>\n",
       "      <td>NaN</td>\n",
       "      <td>NaN</td>\n",
       "    </tr>\n",
       "  </tbody>\n",
       "</table>\n",
       "<p>5 rows × 22 columns</p>\n",
       "</div>"
      ],
      "text/plain": [
       "      id  Store       Date  Sales  Promo  SchoolHoliday  StateHoliday_0  \\\n",
       "0  14929     85 2015-05-01  11360      1              0               0   \n",
       "1  14930    512 2015-05-01  10534      1              0               0   \n",
       "2  14931   1097 2015-05-01  17039      1              0               0   \n",
       "3  14932      1 2015-04-30   6228      1              0               1   \n",
       "4  14933      9 2015-04-30   9717      1              0               1   \n",
       "\n",
       "   StateHoliday_a  StateHoliday_b  StateHoliday_c  ...  Month  StoreType  \\\n",
       "0               1               0               0  ...      5          b   \n",
       "1               1               0               0  ...      5          b   \n",
       "2               1               0               0  ...      5          b   \n",
       "3               0               0               0  ...      4          c   \n",
       "4               0               0               0  ...      4          a   \n",
       "\n",
       "   Assortment CompetitionDistance CompetitionOpenSinceMonth  \\\n",
       "0           a              1870.0                      10.0   \n",
       "1           b               590.0                       NaN   \n",
       "2           b               720.0                       3.0   \n",
       "3           a              1270.0                       9.0   \n",
       "4           c              2030.0                       8.0   \n",
       "\n",
       "   CompetitionOpenSinceYear  Promo2  Promo2SinceWeek  Promo2SinceYear  \\\n",
       "0                    2011.0       0              NaN              NaN   \n",
       "1                       NaN       1              5.0           2013.0   \n",
       "2                    2002.0       0              NaN              NaN   \n",
       "3                    2008.0       0              NaN              NaN   \n",
       "4                    2000.0       0              NaN              NaN   \n",
       "\n",
       "      PromoInterval  \n",
       "0               NaN  \n",
       "1  Mar,Jun,Sept,Dec  \n",
       "2               NaN  \n",
       "3               NaN  \n",
       "4               NaN  \n",
       "\n",
       "[5 rows x 22 columns]"
      ]
     },
     "execution_count": 114,
     "metadata": {},
     "output_type": "execute_result"
    }
   ],
   "source": [
    "train.head()"
   ]
  },
  {
   "cell_type": "code",
   "execution_count": 111,
   "id": "45fe62c7",
   "metadata": {},
   "outputs": [
    {
     "data": {
      "text/html": [
       "<div>\n",
       "<style scoped>\n",
       "    .dataframe tbody tr th:only-of-type {\n",
       "        vertical-align: middle;\n",
       "    }\n",
       "\n",
       "    .dataframe tbody tr th {\n",
       "        vertical-align: top;\n",
       "    }\n",
       "\n",
       "    .dataframe thead th {\n",
       "        text-align: right;\n",
       "    }\n",
       "</style>\n",
       "<table border=\"1\" class=\"dataframe\">\n",
       "  <thead>\n",
       "    <tr style=\"text-align: right;\">\n",
       "      <th></th>\n",
       "      <th>id</th>\n",
       "      <th>Store</th>\n",
       "      <th>Date</th>\n",
       "      <th>Promo</th>\n",
       "      <th>SchoolHoliday</th>\n",
       "      <th>StateHoliday_0</th>\n",
       "      <th>StateHoliday_a</th>\n",
       "      <th>StateHoliday_b</th>\n",
       "      <th>StateHoliday_c</th>\n",
       "      <th>Weekday</th>\n",
       "      <th>...</th>\n",
       "      <th>Sales</th>\n",
       "      <th>StoreType</th>\n",
       "      <th>Assortment</th>\n",
       "      <th>CompetitionDistance</th>\n",
       "      <th>CompetitionOpenSinceMonth</th>\n",
       "      <th>CompetitionOpenSinceYear</th>\n",
       "      <th>Promo2</th>\n",
       "      <th>Promo2SinceWeek</th>\n",
       "      <th>Promo2SinceYear</th>\n",
       "      <th>PromoInterval</th>\n",
       "    </tr>\n",
       "  </thead>\n",
       "  <tbody>\n",
       "    <tr>\n",
       "      <th>0</th>\n",
       "      <td>0</td>\n",
       "      <td>1</td>\n",
       "      <td>2015-07-01</td>\n",
       "      <td>1</td>\n",
       "      <td>0</td>\n",
       "      <td>1</td>\n",
       "      <td>0</td>\n",
       "      <td>0</td>\n",
       "      <td>0</td>\n",
       "      <td>2</td>\n",
       "      <td>...</td>\n",
       "      <td>7939.036133</td>\n",
       "      <td>c</td>\n",
       "      <td>a</td>\n",
       "      <td>1270.0</td>\n",
       "      <td>9.0</td>\n",
       "      <td>2008.0</td>\n",
       "      <td>0</td>\n",
       "      <td>NaN</td>\n",
       "      <td>NaN</td>\n",
       "      <td>NaN</td>\n",
       "    </tr>\n",
       "    <tr>\n",
       "      <th>1</th>\n",
       "      <td>1</td>\n",
       "      <td>9</td>\n",
       "      <td>2015-07-01</td>\n",
       "      <td>1</td>\n",
       "      <td>1</td>\n",
       "      <td>1</td>\n",
       "      <td>0</td>\n",
       "      <td>0</td>\n",
       "      <td>0</td>\n",
       "      <td>2</td>\n",
       "      <td>...</td>\n",
       "      <td>7939.036133</td>\n",
       "      <td>a</td>\n",
       "      <td>c</td>\n",
       "      <td>2030.0</td>\n",
       "      <td>8.0</td>\n",
       "      <td>2000.0</td>\n",
       "      <td>0</td>\n",
       "      <td>NaN</td>\n",
       "      <td>NaN</td>\n",
       "      <td>NaN</td>\n",
       "    </tr>\n",
       "    <tr>\n",
       "      <th>2</th>\n",
       "      <td>2</td>\n",
       "      <td>11</td>\n",
       "      <td>2015-07-01</td>\n",
       "      <td>1</td>\n",
       "      <td>0</td>\n",
       "      <td>1</td>\n",
       "      <td>0</td>\n",
       "      <td>0</td>\n",
       "      <td>0</td>\n",
       "      <td>2</td>\n",
       "      <td>...</td>\n",
       "      <td>7939.036133</td>\n",
       "      <td>a</td>\n",
       "      <td>c</td>\n",
       "      <td>960.0</td>\n",
       "      <td>11.0</td>\n",
       "      <td>2011.0</td>\n",
       "      <td>1</td>\n",
       "      <td>1.0</td>\n",
       "      <td>2012.0</td>\n",
       "      <td>Jan,Apr,Jul,Oct</td>\n",
       "    </tr>\n",
       "    <tr>\n",
       "      <th>3</th>\n",
       "      <td>3</td>\n",
       "      <td>12</td>\n",
       "      <td>2015-07-01</td>\n",
       "      <td>1</td>\n",
       "      <td>0</td>\n",
       "      <td>1</td>\n",
       "      <td>0</td>\n",
       "      <td>0</td>\n",
       "      <td>0</td>\n",
       "      <td>2</td>\n",
       "      <td>...</td>\n",
       "      <td>7939.036133</td>\n",
       "      <td>a</td>\n",
       "      <td>c</td>\n",
       "      <td>1070.0</td>\n",
       "      <td>NaN</td>\n",
       "      <td>NaN</td>\n",
       "      <td>1</td>\n",
       "      <td>13.0</td>\n",
       "      <td>2010.0</td>\n",
       "      <td>Jan,Apr,Jul,Oct</td>\n",
       "    </tr>\n",
       "    <tr>\n",
       "      <th>4</th>\n",
       "      <td>4</td>\n",
       "      <td>14</td>\n",
       "      <td>2015-07-01</td>\n",
       "      <td>1</td>\n",
       "      <td>1</td>\n",
       "      <td>1</td>\n",
       "      <td>0</td>\n",
       "      <td>0</td>\n",
       "      <td>0</td>\n",
       "      <td>2</td>\n",
       "      <td>...</td>\n",
       "      <td>7939.036133</td>\n",
       "      <td>a</td>\n",
       "      <td>a</td>\n",
       "      <td>1300.0</td>\n",
       "      <td>3.0</td>\n",
       "      <td>2014.0</td>\n",
       "      <td>1</td>\n",
       "      <td>40.0</td>\n",
       "      <td>2011.0</td>\n",
       "      <td>Jan,Apr,Jul,Oct</td>\n",
       "    </tr>\n",
       "  </tbody>\n",
       "</table>\n",
       "<p>5 rows × 22 columns</p>\n",
       "</div>"
      ],
      "text/plain": [
       "   id  Store       Date  Promo  SchoolHoliday  StateHoliday_0  StateHoliday_a  \\\n",
       "0   0      1 2015-07-01      1              0               1               0   \n",
       "1   1      9 2015-07-01      1              1               1               0   \n",
       "2   2     11 2015-07-01      1              0               1               0   \n",
       "3   3     12 2015-07-01      1              0               1               0   \n",
       "4   4     14 2015-07-01      1              1               1               0   \n",
       "\n",
       "   StateHoliday_b  StateHoliday_c  Weekday  ...        Sales  StoreType  \\\n",
       "0               0               0        2  ...  7939.036133          c   \n",
       "1               0               0        2  ...  7939.036133          a   \n",
       "2               0               0        2  ...  7939.036133          a   \n",
       "3               0               0        2  ...  7939.036133          a   \n",
       "4               0               0        2  ...  7939.036133          a   \n",
       "\n",
       "   Assortment CompetitionDistance CompetitionOpenSinceMonth  \\\n",
       "0           a              1270.0                       9.0   \n",
       "1           c              2030.0                       8.0   \n",
       "2           c               960.0                      11.0   \n",
       "3           c              1070.0                       NaN   \n",
       "4           a              1300.0                       3.0   \n",
       "\n",
       "   CompetitionOpenSinceYear  Promo2  Promo2SinceWeek  Promo2SinceYear  \\\n",
       "0                    2008.0       0              NaN              NaN   \n",
       "1                    2000.0       0              NaN              NaN   \n",
       "2                    2011.0       1              1.0           2012.0   \n",
       "3                       NaN       1             13.0           2010.0   \n",
       "4                    2014.0       1             40.0           2011.0   \n",
       "\n",
       "     PromoInterval  \n",
       "0              NaN  \n",
       "1              NaN  \n",
       "2  Jan,Apr,Jul,Oct  \n",
       "3  Jan,Apr,Jul,Oct  \n",
       "4  Jan,Apr,Jul,Oct  \n",
       "\n",
       "[5 rows x 22 columns]"
      ]
     },
     "execution_count": 111,
     "metadata": {},
     "output_type": "execute_result"
    }
   ],
   "source": [
    "test.head()"
   ]
  },
  {
   "cell_type": "markdown",
   "id": "5b4d6e6c",
   "metadata": {},
   "source": [
    "## Feature Engineering"
   ]
  },
  {
   "cell_type": "markdown",
   "id": "c2448f50",
   "metadata": {},
   "source": [
    "### 경쟁사가 몇 개월전에 오픈했는지를 칼럼으로 만들기"
   ]
  },
  {
   "cell_type": "code",
   "execution_count": 116,
   "id": "ffc6c079",
   "metadata": {
    "scrolled": true
   },
   "outputs": [
    {
     "data": {
      "text/plain": [
       "0         48.0\n",
       "1          NaN\n",
       "2        156.0\n",
       "3         84.0\n",
       "4        180.0\n",
       "         ...  \n",
       "62239     36.0\n",
       "62240    120.0\n",
       "62241      0.0\n",
       "62242     96.0\n",
       "62243      NaN\n",
       "Length: 62244, dtype: float64"
      ]
     },
     "execution_count": 116,
     "metadata": {},
     "output_type": "execute_result"
    }
   ],
   "source": [
    "12*(train['Year']-train['CompetitionOpenSinceYear']) # 현재시점에서 몇 개월이나 차이 나는지 알아보는 것"
   ]
  },
  {
   "cell_type": "code",
   "execution_count": 125,
   "id": "d78ff32c",
   "metadata": {},
   "outputs": [],
   "source": [
    "train['CompetitionOpen']=12*(train['Year']-train['CompetitionOpenSinceYear'])+ \\\n",
    "(train['Month']-train['CompetitionOpenSinceMonth'])\n",
    "# 몇 개월전에 경쟁사가 오픈을 했는지를 계산하는 과정\n",
    "\n",
    "\n",
    "test['CompetitionOpen']=12*(test['Year']-test['CompetitionOpenSinceYear'])+ \\\n",
    "(test['Month']-test['CompetitionOpenSinceMonth'])"
   ]
  },
  {
   "cell_type": "markdown",
   "id": "2bceb6a2",
   "metadata": {},
   "source": [
    "### 프로모션이 몇개월 전에 시행됐는지"
   ]
  },
  {
   "cell_type": "code",
   "execution_count": 128,
   "id": "1458d4e6",
   "metadata": {
    "scrolled": false
   },
   "outputs": [
    {
     "name": "stderr",
     "output_type": "stream",
     "text": [
      "<ipython-input-128-8685c675e845>:1: FutureWarning: Series.dt.weekofyear and Series.dt.week have been deprecated.  Please use Series.dt.isocalendar().week instead.\n",
      "  train['WeekOfYear']=train['Date'].dt.weekofyear\n",
      "<ipython-input-128-8685c675e845>:2: FutureWarning: Series.dt.weekofyear and Series.dt.week have been deprecated.  Please use Series.dt.isocalendar().week instead.\n",
      "  test['WeekOfYear']=test['Date'].dt.weekofyear\n"
     ]
    }
   ],
   "source": [
    "train['WeekOfYear']=train['Date'].dt.weekofyear\n",
    "test['WeekOfYear']=test['Date'].dt.weekofyear"
   ]
  },
  {
   "cell_type": "code",
   "execution_count": 131,
   "id": "f8e045dd",
   "metadata": {},
   "outputs": [],
   "source": [
    "#1달은 4주로 이루어 졌으므로 /4를 하게 되면 개월수가 나오게 된다.\n",
    "train['PromoOPen']=12*(train['Year']-train['Promo2SinceYear'])+\\\n",
    "(train['WeekOfYear']-train['Promo2SinceYear'])/4\n",
    "\n",
    "test['PromoOPen']=12*(test['Year']-test['Promo2SinceYear'])+\\\n",
    "(test['WeekOfYear']-test['Promo2SinceYear'])/4"
   ]
  },
  {
   "cell_type": "code",
   "execution_count": 132,
   "id": "582f522a",
   "metadata": {},
   "outputs": [
    {
     "data": {
      "text/plain": [
       "id                                    int64\n",
       "Store                                 int64\n",
       "Date                         datetime64[ns]\n",
       "Sales                                 int64\n",
       "Promo                                 int64\n",
       "SchoolHoliday                         int64\n",
       "StateHoliday_0                        uint8\n",
       "StateHoliday_a                        uint8\n",
       "StateHoliday_b                        uint8\n",
       "StateHoliday_c                        uint8\n",
       "Weekday                               int64\n",
       "Year                                  int64\n",
       "Month                                 int64\n",
       "StoreType                            object\n",
       "Assortment                           object\n",
       "CompetitionDistance                 float64\n",
       "CompetitionOpenSinceMonth           float64\n",
       "CompetitionOpenSinceYear            float64\n",
       "Promo2                                int64\n",
       "Promo2SinceWeek                     float64\n",
       "Promo2SinceYear                     float64\n",
       "PromoInterval                        object\n",
       "CompetitionOpen                     float64\n",
       "WeekOfYear                            int64\n",
       "PromoOPen                           float64\n",
       "dtype: object"
      ]
     },
     "execution_count": 132,
     "metadata": {},
     "output_type": "execute_result"
    }
   ],
   "source": [
    "train.dtypes"
   ]
  },
  {
   "cell_type": "markdown",
   "id": "ea04871c",
   "metadata": {},
   "source": [
    "### dummies를 이용해서 범주형 변수를 onehot으로 바꾸기"
   ]
  },
  {
   "cell_type": "code",
   "execution_count": 135,
   "id": "1f640ccb",
   "metadata": {},
   "outputs": [],
   "source": [
    "# pd.get_dummies는 object타입을 0,1로 onehot인코딩으로 해주는 라이브러리!!\n",
    "train = pd.get_dummies(columns=['StoreType'],data=train)\n",
    "test = pd.get_dummies(columns=['StoreType'],data=test)"
   ]
  },
  {
   "cell_type": "code",
   "execution_count": 136,
   "id": "c1612df7",
   "metadata": {},
   "outputs": [],
   "source": [
    "train = pd.get_dummies(columns=['Assortment'],data=train)\n",
    "test = pd.get_dummies(columns=['Assortment'],data=test)\n",
    "\n",
    "train = pd.get_dummies(columns=['PromoInterval'],data=train)\n",
    "test = pd.get_dummies(columns=['PromoInterval'],data=test)"
   ]
  },
  {
   "cell_type": "code",
   "execution_count": 139,
   "id": "506f4895",
   "metadata": {},
   "outputs": [
    {
     "data": {
      "text/plain": [
       "id                                         int64\n",
       "Store                                      int64\n",
       "Date                              datetime64[ns]\n",
       "Sales                                      int64\n",
       "Promo                                      int64\n",
       "SchoolHoliday                              int64\n",
       "StateHoliday_0                             uint8\n",
       "StateHoliday_a                             uint8\n",
       "StateHoliday_b                             uint8\n",
       "StateHoliday_c                             uint8\n",
       "Weekday                                    int64\n",
       "Year                                       int64\n",
       "Month                                      int64\n",
       "CompetitionDistance                      float64\n",
       "CompetitionOpenSinceMonth                float64\n",
       "CompetitionOpenSinceYear                 float64\n",
       "Promo2                                     int64\n",
       "Promo2SinceWeek                          float64\n",
       "Promo2SinceYear                          float64\n",
       "CompetitionOpen                          float64\n",
       "WeekOfYear                                 int64\n",
       "PromoOPen                                float64\n",
       "StoreType_a                                uint8\n",
       "StoreType_b                                uint8\n",
       "StoreType_c                                uint8\n",
       "StoreType_d                                uint8\n",
       "Assortment_a                               uint8\n",
       "Assortment_b                               uint8\n",
       "Assortment_c                               uint8\n",
       "PromoInterval_Feb,May,Aug,Nov              uint8\n",
       "PromoInterval_Jan,Apr,Jul,Oct              uint8\n",
       "PromoInterval_Mar,Jun,Sept,Dec             uint8\n",
       "dtype: object"
      ]
     },
     "execution_count": 139,
     "metadata": {},
     "output_type": "execute_result"
    }
   ],
   "source": [
    "train.dtypes"
   ]
  },
  {
   "cell_type": "markdown",
   "id": "d2ba0cdb",
   "metadata": {},
   "source": [
    "# 2차 모델링"
   ]
  },
  {
   "cell_type": "code",
   "execution_count": 141,
   "id": "19e946d2",
   "metadata": {},
   "outputs": [
    {
     "data": {
      "text/plain": [
       "Index(['id', 'Store', 'Date', 'Sales', 'Promo', 'SchoolHoliday',\n",
       "       'StateHoliday_0', 'StateHoliday_a', 'StateHoliday_b', 'StateHoliday_c',\n",
       "       'Weekday', 'Year', 'Month', 'CompetitionDistance',\n",
       "       'CompetitionOpenSinceMonth', 'CompetitionOpenSinceYear', 'Promo2',\n",
       "       'Promo2SinceWeek', 'Promo2SinceYear', 'CompetitionOpen', 'WeekOfYear',\n",
       "       'PromoOPen', 'StoreType_a', 'StoreType_b', 'StoreType_c', 'StoreType_d',\n",
       "       'Assortment_a', 'Assortment_b', 'Assortment_c',\n",
       "       'PromoInterval_Feb,May,Aug,Nov', 'PromoInterval_Jan,Apr,Jul,Oct',\n",
       "       'PromoInterval_Mar,Jun,Sept,Dec'],\n",
       "      dtype='object')"
      ]
     },
     "execution_count": 141,
     "metadata": {},
     "output_type": "execute_result"
    }
   ],
   "source": [
    "train.columns"
   ]
  },
  {
   "cell_type": "markdown",
   "id": "73d8f7f5",
   "metadata": {},
   "source": [
    "'CompetitionOpenSinceMonth', 'CompetitionOpenSinceYear'와 Promo2SinceWeek', 'Promo2SinceYear'는 Feature Engineering으로 새로운 칼럼인  'CompetitionOpen', 'PromoOPen' 을 만들었으므로  위 4개는 삭제해준다"
   ]
  },
  {
   "cell_type": "code",
   "execution_count": 151,
   "id": "ec3249aa",
   "metadata": {},
   "outputs": [],
   "source": [
    "input_var=['Promo', 'SchoolHoliday',\n",
    "       'StateHoliday_0', 'StateHoliday_a', 'StateHoliday_b', 'StateHoliday_c',\n",
    "       'Weekday', 'Year', 'Month', 'CompetitionDistance',\n",
    "       'Promo2',\n",
    "       'CompetitionOpen', 'WeekOfYear',\n",
    "       'PromoOPen', 'StoreType_a', 'StoreType_b', 'StoreType_c', 'StoreType_d',\n",
    "       'Assortment_a', 'Assortment_b', 'Assortment_c',\n",
    "       'PromoInterval_Feb,May,Aug,Nov', 'PromoInterval_Jan,Apr,Jul,Oct',\n",
    "       'PromoInterval_Mar,Jun,Sept,Dec']"
   ]
  },
  {
   "cell_type": "code",
   "execution_count": 152,
   "id": "b16a6443",
   "metadata": {},
   "outputs": [],
   "source": [
    "xgb=XGBRegressor(n_estimators=300,learning_rate=0.1,random_state=2020)"
   ]
  },
  {
   "cell_type": "code",
   "execution_count": 153,
   "id": "25dd6d54",
   "metadata": {},
   "outputs": [
    {
     "data": {
      "text/plain": [
       "XGBRegressor(base_score=0.5, booster='gbtree', colsample_bylevel=1,\n",
       "             colsample_bynode=1, colsample_bytree=1, gamma=0, gpu_id=-1,\n",
       "             importance_type='gain', interaction_constraints='',\n",
       "             learning_rate=0.1, max_delta_step=0, max_depth=6,\n",
       "             min_child_weight=1, missing=nan, monotone_constraints='()',\n",
       "             n_estimators=300, n_jobs=8, num_parallel_tree=1, random_state=2020,\n",
       "             reg_alpha=0, reg_lambda=1, scale_pos_weight=1, subsample=1,\n",
       "             tree_method='exact', validate_parameters=1, verbosity=None)"
      ]
     },
     "execution_count": 153,
     "metadata": {},
     "output_type": "execute_result"
    }
   ],
   "source": [
    "xgb.fit(train[input_var],train['Sales'])"
   ]
  },
  {
   "cell_type": "code",
   "execution_count": 157,
   "id": "d96c1c6e",
   "metadata": {},
   "outputs": [
    {
     "data": {
      "text/html": [
       "<div>\n",
       "<style scoped>\n",
       "    .dataframe tbody tr th:only-of-type {\n",
       "        vertical-align: middle;\n",
       "    }\n",
       "\n",
       "    .dataframe tbody tr th {\n",
       "        vertical-align: top;\n",
       "    }\n",
       "\n",
       "    .dataframe thead th {\n",
       "        text-align: right;\n",
       "    }\n",
       "</style>\n",
       "<table border=\"1\" class=\"dataframe\">\n",
       "  <thead>\n",
       "    <tr style=\"text-align: right;\">\n",
       "      <th></th>\n",
       "      <th>var</th>\n",
       "      <th>imp</th>\n",
       "    </tr>\n",
       "  </thead>\n",
       "  <tbody>\n",
       "    <tr>\n",
       "      <th>0</th>\n",
       "      <td>Promo</td>\n",
       "      <td>0.131427</td>\n",
       "    </tr>\n",
       "    <tr>\n",
       "      <th>18</th>\n",
       "      <td>Assortment_a</td>\n",
       "      <td>0.089364</td>\n",
       "    </tr>\n",
       "    <tr>\n",
       "      <th>10</th>\n",
       "      <td>Promo2</td>\n",
       "      <td>0.089099</td>\n",
       "    </tr>\n",
       "    <tr>\n",
       "      <th>9</th>\n",
       "      <td>CompetitionDistance</td>\n",
       "      <td>0.081642</td>\n",
       "    </tr>\n",
       "    <tr>\n",
       "      <th>22</th>\n",
       "      <td>PromoInterval_Jan,Apr,Jul,Oct</td>\n",
       "      <td>0.069595</td>\n",
       "    </tr>\n",
       "    <tr>\n",
       "      <th>16</th>\n",
       "      <td>StoreType_c</td>\n",
       "      <td>0.057189</td>\n",
       "    </tr>\n",
       "    <tr>\n",
       "      <th>11</th>\n",
       "      <td>CompetitionOpen</td>\n",
       "      <td>0.050940</td>\n",
       "    </tr>\n",
       "    <tr>\n",
       "      <th>14</th>\n",
       "      <td>StoreType_a</td>\n",
       "      <td>0.050491</td>\n",
       "    </tr>\n",
       "    <tr>\n",
       "      <th>8</th>\n",
       "      <td>Month</td>\n",
       "      <td>0.044020</td>\n",
       "    </tr>\n",
       "    <tr>\n",
       "      <th>13</th>\n",
       "      <td>PromoOPen</td>\n",
       "      <td>0.042846</td>\n",
       "    </tr>\n",
       "    <tr>\n",
       "      <th>15</th>\n",
       "      <td>StoreType_b</td>\n",
       "      <td>0.042711</td>\n",
       "    </tr>\n",
       "    <tr>\n",
       "      <th>17</th>\n",
       "      <td>StoreType_d</td>\n",
       "      <td>0.041887</td>\n",
       "    </tr>\n",
       "    <tr>\n",
       "      <th>1</th>\n",
       "      <td>SchoolHoliday</td>\n",
       "      <td>0.036667</td>\n",
       "    </tr>\n",
       "    <tr>\n",
       "      <th>21</th>\n",
       "      <td>PromoInterval_Feb,May,Aug,Nov</td>\n",
       "      <td>0.033658</td>\n",
       "    </tr>\n",
       "    <tr>\n",
       "      <th>12</th>\n",
       "      <td>WeekOfYear</td>\n",
       "      <td>0.027737</td>\n",
       "    </tr>\n",
       "    <tr>\n",
       "      <th>20</th>\n",
       "      <td>Assortment_c</td>\n",
       "      <td>0.026772</td>\n",
       "    </tr>\n",
       "    <tr>\n",
       "      <th>6</th>\n",
       "      <td>Weekday</td>\n",
       "      <td>0.026155</td>\n",
       "    </tr>\n",
       "    <tr>\n",
       "      <th>23</th>\n",
       "      <td>PromoInterval_Mar,Jun,Sept,Dec</td>\n",
       "      <td>0.021089</td>\n",
       "    </tr>\n",
       "    <tr>\n",
       "      <th>7</th>\n",
       "      <td>Year</td>\n",
       "      <td>0.013604</td>\n",
       "    </tr>\n",
       "    <tr>\n",
       "      <th>2</th>\n",
       "      <td>StateHoliday_0</td>\n",
       "      <td>0.008056</td>\n",
       "    </tr>\n",
       "    <tr>\n",
       "      <th>4</th>\n",
       "      <td>StateHoliday_b</td>\n",
       "      <td>0.005073</td>\n",
       "    </tr>\n",
       "    <tr>\n",
       "      <th>3</th>\n",
       "      <td>StateHoliday_a</td>\n",
       "      <td>0.004236</td>\n",
       "    </tr>\n",
       "    <tr>\n",
       "      <th>19</th>\n",
       "      <td>Assortment_b</td>\n",
       "      <td>0.003196</td>\n",
       "    </tr>\n",
       "    <tr>\n",
       "      <th>5</th>\n",
       "      <td>StateHoliday_c</td>\n",
       "      <td>0.002546</td>\n",
       "    </tr>\n",
       "  </tbody>\n",
       "</table>\n",
       "</div>"
      ],
      "text/plain": [
       "                               var       imp\n",
       "0                            Promo  0.131427\n",
       "18                    Assortment_a  0.089364\n",
       "10                          Promo2  0.089099\n",
       "9              CompetitionDistance  0.081642\n",
       "22   PromoInterval_Jan,Apr,Jul,Oct  0.069595\n",
       "16                     StoreType_c  0.057189\n",
       "11                 CompetitionOpen  0.050940\n",
       "14                     StoreType_a  0.050491\n",
       "8                            Month  0.044020\n",
       "13                       PromoOPen  0.042846\n",
       "15                     StoreType_b  0.042711\n",
       "17                     StoreType_d  0.041887\n",
       "1                    SchoolHoliday  0.036667\n",
       "21   PromoInterval_Feb,May,Aug,Nov  0.033658\n",
       "12                      WeekOfYear  0.027737\n",
       "20                    Assortment_c  0.026772\n",
       "6                          Weekday  0.026155\n",
       "23  PromoInterval_Mar,Jun,Sept,Dec  0.021089\n",
       "7                             Year  0.013604\n",
       "2                   StateHoliday_0  0.008056\n",
       "4                   StateHoliday_b  0.005073\n",
       "3                   StateHoliday_a  0.004236\n",
       "19                    Assortment_b  0.003196\n",
       "5                   StateHoliday_c  0.002546"
      ]
     },
     "execution_count": 157,
     "metadata": {},
     "output_type": "execute_result"
    }
   ],
   "source": [
    "imp_df=pd.DataFrame({'var':input_var,'imp':xgb.feature_importances_})\n",
    "imp_df=imp_df.sort_values(['imp'],ascending=False)\n",
    "imp_df"
   ]
  },
  {
   "cell_type": "code",
   "execution_count": 168,
   "id": "acc22e27",
   "metadata": {},
   "outputs": [
    {
     "data": {
      "image/png": "[encoded data removed]",
      "text/plain": [
       "<Figure size 1296x720 with 1 Axes>"
      ]
     },
     "metadata": {
      "needs_background": "light"
     },
     "output_type": "display_data"
    }
   ],
   "source": [
    "plt.figure(figsize=(18,10))\n",
    "plt.bar(data=imp_df,x=imp_df['var'],height=imp_df['imp'])\n",
    "plt.xticks(rotation=90)\n",
    "plt.show()"
   ]
  },
  {
   "cell_type": "code",
   "execution_count": 169,
   "id": "994b048f",
   "metadata": {},
   "outputs": [],
   "source": [
    "score_list=[]\n",
    "selected_varnum=[]"
   ]
  },
  {
   "cell_type": "code",
   "execution_count": 172,
   "id": "049ec185",
   "metadata": {},
   "outputs": [
    {
     "name": "stdout",
     "output_type": "stream",
     "text": [
      "1\n",
      "2\n",
      "3\n",
      "4\n",
      "5\n",
      "6\n",
      "7\n",
      "8\n",
      "9\n",
      "10\n",
      "11\n",
      "12\n",
      "13\n",
      "14\n",
      "15\n",
      "16\n",
      "17\n",
      "18\n",
      "19\n",
      "20\n",
      "21\n",
      "22\n",
      "23\n",
      "24\n"
     ]
    }
   ],
   "source": [
    "for i in range(1,25):\n",
    "    selected_var = imp_df['var'].iloc[:i].to_list()\n",
    "    scores = cross_val_score(xgb,\n",
    "                             train[selected_var],\n",
    "                             train['Sales'],\n",
    "                             scoring='neg_mean_squared_error',\n",
    "                             cv=3)\n",
    "    score_list.append(-np.mean(scores))\n",
    "    selected_varnum.append(i)\n",
    "    print(i)"
   ]
  },
  {
   "cell_type": "code",
   "execution_count": 174,
   "id": "86450713",
   "metadata": {},
   "outputs": [
    {
     "data": {
      "text/plain": [
       "[<matplotlib.lines.Line2D at 0x23090a820a0>]"
      ]
     },
     "execution_count": 174,
     "metadata": {},
     "output_type": "execute_result"
    },
    {
     "data": {
      "image/png": "[encoded data removed]",
      "text/plain": [
       "<Figure size 432x288 with 1 Axes>"
      ]
     },
     "metadata": {
      "needs_background": "light"
     },
     "output_type": "display_data"
    }
   ],
   "source": [
    "plt.plot(selected_varnum,score_list)"
   ]
  },
  {
   "cell_type": "code",
   "execution_count": 177,
   "id": "ad1f1297",
   "metadata": {},
   "outputs": [],
   "source": [
    "input_var = imp_df['var'].iloc[:17].tolist()"
   ]
  },
  {
   "cell_type": "code",
   "execution_count": 178,
   "id": "d7a29e83",
   "metadata": {},
   "outputs": [
    {
     "data": {
      "text/plain": [
       "['Promo',\n",
       " 'Assortment_a',\n",
       " 'Promo2',\n",
       " 'CompetitionDistance',\n",
       " 'PromoInterval_Jan,Apr,Jul,Oct',\n",
       " 'StoreType_c',\n",
       " 'CompetitionOpen',\n",
       " 'StoreType_a',\n",
       " 'Month',\n",
       " 'PromoOPen',\n",
       " 'StoreType_b',\n",
       " 'StoreType_d',\n",
       " 'SchoolHoliday',\n",
       " 'PromoInterval_Feb,May,Aug,Nov',\n",
       " 'WeekOfYear',\n",
       " 'Assortment_c',\n",
       " 'Weekday']"
      ]
     },
     "execution_count": 178,
     "metadata": {},
     "output_type": "execute_result"
    }
   ],
   "source": [
    "input_var"
   ]
  },
  {
   "cell_type": "code",
   "execution_count": 179,
   "id": "137a788f",
   "metadata": {},
   "outputs": [
    {
     "data": {
      "text/plain": [
       "array([-1851049.62506742, -3120322.91076385, -1672187.01095951])"
      ]
     },
     "execution_count": 179,
     "metadata": {},
     "output_type": "execute_result"
    }
   ],
   "source": [
    "cross_val_score(xgb,train[input_var],train['Sales'],scoring=\"neg_mean_squared_error\",cv=3)"
   ]
  },
  {
   "cell_type": "code",
   "execution_count": 180,
   "id": "cbbd33a8",
   "metadata": {},
   "outputs": [],
   "source": [
    "xgb.fit(train[input_var],train['Sales'])\n",
    "test['Sales']=xgb.predict(test[input_var])\n",
    "test[['id','Sales']].to_csv('submission2.csv',index=False)"
   ]
  },
  {
   "cell_type": "code",
   "execution_count": 181,
   "id": "9b54a6b8",
   "metadata": {},
   "outputs": [
    {
     "data": {
      "text/html": [
       "<div>\n",
       "<style scoped>\n",
       "    .dataframe tbody tr th:only-of-type {\n",
       "        vertical-align: middle;\n",
       "    }\n",
       "\n",
       "    .dataframe tbody tr th {\n",
       "        vertical-align: top;\n",
       "    }\n",
       "\n",
       "    .dataframe thead th {\n",
       "        text-align: right;\n",
       "    }\n",
       "</style>\n",
       "<table border=\"1\" class=\"dataframe\">\n",
       "  <thead>\n",
       "    <tr style=\"text-align: right;\">\n",
       "      <th></th>\n",
       "      <th>id</th>\n",
       "      <th>Sales</th>\n",
       "    </tr>\n",
       "  </thead>\n",
       "  <tbody>\n",
       "    <tr>\n",
       "      <th>0</th>\n",
       "      <td>0</td>\n",
       "      <td>5605.755859</td>\n",
       "    </tr>\n",
       "    <tr>\n",
       "      <th>1</th>\n",
       "      <td>1</td>\n",
       "      <td>7990.736816</td>\n",
       "    </tr>\n",
       "    <tr>\n",
       "      <th>2</th>\n",
       "      <td>2</td>\n",
       "      <td>9236.215820</td>\n",
       "    </tr>\n",
       "    <tr>\n",
       "      <th>3</th>\n",
       "      <td>3</td>\n",
       "      <td>9743.019531</td>\n",
       "    </tr>\n",
       "    <tr>\n",
       "      <th>4</th>\n",
       "      <td>4</td>\n",
       "      <td>6356.464355</td>\n",
       "    </tr>\n",
       "    <tr>\n",
       "      <th>...</th>\n",
       "      <td>...</td>\n",
       "      <td>...</td>\n",
       "    </tr>\n",
       "    <tr>\n",
       "      <th>14924</th>\n",
       "      <td>14924</td>\n",
       "      <td>5129.421387</td>\n",
       "    </tr>\n",
       "    <tr>\n",
       "      <th>14925</th>\n",
       "      <td>14925</td>\n",
       "      <td>5183.373535</td>\n",
       "    </tr>\n",
       "    <tr>\n",
       "      <th>14926</th>\n",
       "      <td>14926</td>\n",
       "      <td>4554.812012</td>\n",
       "    </tr>\n",
       "    <tr>\n",
       "      <th>14927</th>\n",
       "      <td>14927</td>\n",
       "      <td>9583.489258</td>\n",
       "    </tr>\n",
       "    <tr>\n",
       "      <th>14928</th>\n",
       "      <td>14928</td>\n",
       "      <td>7005.643066</td>\n",
       "    </tr>\n",
       "  </tbody>\n",
       "</table>\n",
       "<p>14929 rows × 2 columns</p>\n",
       "</div>"
      ],
      "text/plain": [
       "          id        Sales\n",
       "0          0  5605.755859\n",
       "1          1  7990.736816\n",
       "2          2  9236.215820\n",
       "3          3  9743.019531\n",
       "4          4  6356.464355\n",
       "...      ...          ...\n",
       "14924  14924  5129.421387\n",
       "14925  14925  5183.373535\n",
       "14926  14926  4554.812012\n",
       "14927  14927  9583.489258\n",
       "14928  14928  7005.643066\n",
       "\n",
       "[14929 rows x 2 columns]"
      ]
     },
     "execution_count": 181,
     "metadata": {},
     "output_type": "execute_result"
    }
   ],
   "source": [
    "test[['id','Sales']]"
   ]
  },
  {
   "cell_type": "markdown",
   "id": "db1c205b",
   "metadata": {},
   "source": [
    "# 파라미터 튜닝"
   ]
  },
  {
   "cell_type": "code",
   "execution_count": 196,
   "id": "b47227b5",
   "metadata": {},
   "outputs": [],
   "source": [
    "estim_list=[100,200,300,400,500,600,700,800,900]\n",
    "score_list = []"
   ]
  },
  {
   "cell_type": "code",
   "execution_count": 197,
   "id": "98675e04",
   "metadata": {
    "scrolled": false
   },
   "outputs": [
    {
     "name": "stdout",
     "output_type": "stream",
     "text": [
      "100\n",
      "200\n",
      "300\n",
      "400\n",
      "500\n",
      "600\n",
      "700\n",
      "800\n",
      "900\n"
     ]
    }
   ],
   "source": [
    "for i in estim_list:\n",
    "    xgb= XGBRegressor(n_estimators=i,learning_rate=0.1,random_state=2020)\n",
    "    scores = cross_val_score(xgb,train[input_var],train['Sales'],scoring='neg_mean_squared_error',cv=3)\n",
    "    score_list.append(-np.mean(scores))\n",
    "    print(i)"
   ]
  },
  {
   "cell_type": "code",
   "execution_count": 198,
   "id": "39b14117",
   "metadata": {},
   "outputs": [
    {
     "data": {
      "text/plain": [
       "[2905744.881706961,\n",
       " 2354600.5332349725,\n",
       " 2214519.848930258,\n",
       " 2155336.921444779,\n",
       " 2129548.7516120225,\n",
       " 2112979.9368336876,\n",
       " 2101530.995047157,\n",
       " 2097030.697714243,\n",
       " 2096721.7315713328]"
      ]
     },
     "execution_count": 198,
     "metadata": {},
     "output_type": "execute_result"
    }
   ],
   "source": [
    "score_list"
   ]
  },
  {
   "cell_type": "code",
   "execution_count": 199,
   "id": "c0adde95",
   "metadata": {},
   "outputs": [
    {
     "data": {
      "text/plain": [
       "[<matplotlib.lines.Line2D at 0x23091e45190>]"
      ]
     },
     "execution_count": 199,
     "metadata": {},
     "output_type": "execute_result"
    },
    {
     "data": {
      "image/png": "[encoded data removed]",
      "text/plain": [
       "<Figure size 432x288 with 1 Axes>"
      ]
     },
     "metadata": {
      "needs_background": "light"
     },
     "output_type": "display_data"
    }
   ],
   "source": [
    "plt.plot(estim_list,score_list)"
   ]
  },
  {
   "cell_type": "code",
   "execution_count": 200,
   "id": "41c610c9",
   "metadata": {},
   "outputs": [],
   "source": [
    " xgb= XGBRegressor(n_estimators=700,learning_rate=0.1,random_state=2020)"
   ]
  },
  {
   "cell_type": "code",
   "execution_count": 201,
   "id": "9162501c",
   "metadata": {},
   "outputs": [
    {
     "data": {
      "text/html": [
       "<div>\n",
       "<style scoped>\n",
       "    .dataframe tbody tr th:only-of-type {\n",
       "        vertical-align: middle;\n",
       "    }\n",
       "\n",
       "    .dataframe tbody tr th {\n",
       "        vertical-align: top;\n",
       "    }\n",
       "\n",
       "    .dataframe thead th {\n",
       "        text-align: right;\n",
       "    }\n",
       "</style>\n",
       "<table border=\"1\" class=\"dataframe\">\n",
       "  <thead>\n",
       "    <tr style=\"text-align: right;\">\n",
       "      <th></th>\n",
       "      <th>id</th>\n",
       "      <th>Sales</th>\n",
       "    </tr>\n",
       "  </thead>\n",
       "  <tbody>\n",
       "    <tr>\n",
       "      <th>0</th>\n",
       "      <td>0</td>\n",
       "      <td>5095.570801</td>\n",
       "    </tr>\n",
       "    <tr>\n",
       "      <th>1</th>\n",
       "      <td>1</td>\n",
       "      <td>8001.262207</td>\n",
       "    </tr>\n",
       "    <tr>\n",
       "      <th>2</th>\n",
       "      <td>2</td>\n",
       "      <td>9038.793945</td>\n",
       "    </tr>\n",
       "    <tr>\n",
       "      <th>3</th>\n",
       "      <td>3</td>\n",
       "      <td>10162.818359</td>\n",
       "    </tr>\n",
       "    <tr>\n",
       "      <th>4</th>\n",
       "      <td>4</td>\n",
       "      <td>6459.084961</td>\n",
       "    </tr>\n",
       "    <tr>\n",
       "      <th>...</th>\n",
       "      <td>...</td>\n",
       "      <td>...</td>\n",
       "    </tr>\n",
       "    <tr>\n",
       "      <th>14924</th>\n",
       "      <td>14924</td>\n",
       "      <td>5143.839355</td>\n",
       "    </tr>\n",
       "    <tr>\n",
       "      <th>14925</th>\n",
       "      <td>14925</td>\n",
       "      <td>5718.734375</td>\n",
       "    </tr>\n",
       "    <tr>\n",
       "      <th>14926</th>\n",
       "      <td>14926</td>\n",
       "      <td>4892.499512</td>\n",
       "    </tr>\n",
       "    <tr>\n",
       "      <th>14927</th>\n",
       "      <td>14927</td>\n",
       "      <td>10152.786133</td>\n",
       "    </tr>\n",
       "    <tr>\n",
       "      <th>14928</th>\n",
       "      <td>14928</td>\n",
       "      <td>7862.203125</td>\n",
       "    </tr>\n",
       "  </tbody>\n",
       "</table>\n",
       "<p>14929 rows × 2 columns</p>\n",
       "</div>"
      ],
      "text/plain": [
       "          id         Sales\n",
       "0          0   5095.570801\n",
       "1          1   8001.262207\n",
       "2          2   9038.793945\n",
       "3          3  10162.818359\n",
       "4          4   6459.084961\n",
       "...      ...           ...\n",
       "14924  14924   5143.839355\n",
       "14925  14925   5718.734375\n",
       "14926  14926   4892.499512\n",
       "14927  14927  10152.786133\n",
       "14928  14928   7862.203125\n",
       "\n",
       "[14929 rows x 2 columns]"
      ]
     },
     "execution_count": 201,
     "metadata": {},
     "output_type": "execute_result"
    }
   ],
   "source": [
    "xgb.fit(train[input_var],train['Sales'])\n",
    "test['Sales']=xgb.predict(test[input_var])\n",
    "test[['id','Sales']]"
   ]
  },
  {
   "cell_type": "code",
   "execution_count": 203,
   "id": "cbfad4bc",
   "metadata": {},
   "outputs": [],
   "source": [
    "test[['id','Sales']].to_csv('submission3.csv',index=False)"
   ]
  },
  {
   "cell_type": "code",
   "execution_count": null,
   "id": "4e838dd4",
   "metadata": {},
   "outputs": [],
   "source": []
  }
 ],
 "metadata": {
  "hide_input": false,
  "kernelspec": {
   "display_name": "Python 3",
   "language": "python",
   "name": "python3"
  },
  "language_info": {
   "codemirror_mode": {
    "name": "ipython",
    "version": 3
   },
   "file_extension": ".py",
   "mimetype": "text/x-python",
   "name": "python",
   "nbconvert_exporter": "python",
   "pygments_lexer": "ipython3",
   "version": "3.8.8"
  },
  "latex_envs": {
   "LaTeX_envs_menu_present": true,
   "autoclose": false,
   "autocomplete": true,
   "bibliofile": "biblio.bib",
   "cite_by": "apalike",
   "current_citInitial": 1,
   "eqLabelWithNumbers": true,
   "eqNumInitial": 1,
   "hotkeys": {
    "equation": "Ctrl-E",
    "itemize": "Ctrl-I"
   },
   "labels_anchors": false,
   "latex_user_defs": false,
   "report_style_numbering": false,
   "user_envs_cfg": false
  },
  "toc": {
   "base_numbering": 1,
   "nav_menu": {},
   "number_sections": true,
   "sideBar": true,
   "skip_h1_title": false,
   "title_cell": "Table of Contents",
   "title_sidebar": "Contents",
   "toc_cell": false,
   "toc_position": {
    "height": "calc(100% - 180px)",
    "left": "10px",
    "top": "150px",
    "width": "245.945px"
   },
   "toc_section_display": true,
   "toc_window_display": false
  }
 },
 "nbformat": 4,
 "nbformat_minor": 5
}
