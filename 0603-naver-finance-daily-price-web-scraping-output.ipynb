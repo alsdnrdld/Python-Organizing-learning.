{
 "cells": [
  {
   "cell_type": "markdown",
   "metadata": {
    "id": "pOdYzjmEAGhg"
   },
   "source": [
    "## 네이버 금융 개별종목 수집\n",
    "* FinanceDataReader를 통해 수집했던 데이터를 네이버 증권 웹 페이지를 통해 직접 수집합니다.\n",
    "\n",
    "\n",
    "### Keyword\n",
    "\n",
    "* html 파일 읽어오기\n",
    "    * pd.read_html(url, encoding=\"cp949\")\n",
    "\n",
    "* 결측 데이터 제거하기(axis 0:행, 1:열)\n",
    "    * table[0].dropna()\n",
    "\n",
    "* 데이터 프레임 합치기\n",
    "    * pd.concat([df1, df2, df3])\n",
    "\n",
    "* 중복데이터 제거\n",
    "    * df.drop_duplicates()\n",
    "\n",
    "* 과학적 기수법\n",
    "    * 1.210000e+02 => 121\n",
    "\n",
    "* 날짜 column의 첫 row값 확인\n",
    "    * date = df.iloc[0][\"날짜\"]\n",
    "\n",
    "* 파일로 저장하기 \n",
    "    * df.to_csv(file_name, index=False)\n",
    "\n",
    "* 파일 읽어오기\n",
    "    * pd.read_csv(file_name)"
   ]
  },
  {
   "cell_type": "markdown",
   "metadata": {
    "id": "-lIn4AdJTMkA"
   },
   "source": [
    "## 수집할 페이지 보기\n",
    "\n",
    "* 네이버 금융 국내증시 : https://finance.naver.com/sise/\n",
    "* 2020년 주요 상장종목\n",
    "    * 하이브 : https://finance.naver.com/item/main.nhn?code=352820\n",
    "    * 카카오게임즈 : https://finance.naver.com/item/main.nhn?code=293490\n",
    "    * SK바이오팜 : https://finance.naver.com/item/main.nhn?code=326030"
   ]
  },
  {
   "cell_type": "markdown",
   "metadata": {},
   "source": [
    "## 라이브러리 로드"
   ]
  },
  {
   "cell_type": "code",
   "execution_count": 1,
   "metadata": {
    "id": "6Mm8vuymTMkA"
   },
   "outputs": [],
   "source": [
    "# 라이브러리 로드\n",
    "import pandas as pd"
   ]
  },
  {
   "cell_type": "markdown",
   "metadata": {},
   "source": [
    "## 수집할 URL 정하기"
   ]
  },
  {
   "cell_type": "code",
   "execution_count": 2,
   "metadata": {
    "id": "QzZJoAvoTMkA"
   },
   "outputs": [
    {
     "data": {
      "text/plain": [
       "'https://finance.naver.com/item/sise_day.nhn?code=352820&page=1'"
      ]
     },
     "execution_count": 2,
     "metadata": {},
     "output_type": "execute_result"
    }
   ],
   "source": [
    "# 종목번호와 상장사 이름을 item_code와 item_name으로 설정\n",
    "item_code = \"352820\"\n",
    "item_name = \"하이브\"\n",
    "\n",
    "# item_code = \"326030\"\n",
    "# item_name = \"SK바이오팜\"\n",
    "\n",
    "# 종목 URL 만들기\n",
    "# url = \"https://finance.naver.com/item/sise.nhn?code=352820\"\n",
    "url = \"https://finance.naver.com/item/sise_day.nhn?code=352820&page=1\"\n",
    "url"
   ]
  },
  {
   "cell_type": "markdown",
   "metadata": {},
   "source": [
    "## requests를 통한 HTTP 요청\n",
    "* [Requests: HTTP for Humans™ — Requests documentation](https://requests.readthedocs.io/en/master/)\n",
    "* [Quickstart — Requests documentation # custom-headers](https://requests.readthedocs.io/en/latest/user/quickstart/#custom-headers)"
   ]
  },
  {
   "cell_type": "code",
   "execution_count": 3,
   "metadata": {},
   "outputs": [],
   "source": [
    "import requests"
   ]
  },
  {
   "cell_type": "code",
   "execution_count": 4,
   "metadata": {},
   "outputs": [
    {
     "name": "stdout",
     "output_type": "stream",
     "text": [
      "https://finance.naver.com/item/sise_day.nhn?code=352820&page=1\n"
     ]
    }
   ],
   "source": [
    "print(url)"
   ]
  },
  {
   "cell_type": "code",
   "execution_count": 5,
   "metadata": {},
   "outputs": [
    {
     "data": {
      "text/plain": [
       "{'user-agent': 'Mozilla/5.0 (Macintosh; Intel Mac OS X 10_15_7) AppleWebKit/537.36 (KHTML, like Gecko) Chrome/91.0.4472.114 Safari/537.36'}"
      ]
     },
     "execution_count": 5,
     "metadata": {},
     "output_type": "execute_result"
    }
   ],
   "source": [
    "headers = {\"user-agent\": \"Mozilla/5.0 (Macintosh; Intel Mac OS X 10_15_7) AppleWebKit/537.36 (KHTML, like Gecko) Chrome/91.0.4472.114 Safari/537.36\"\n",
    "}\n",
    "headers"
   ]
  },
  {
   "cell_type": "code",
   "execution_count": 6,
   "metadata": {},
   "outputs": [
    {
     "data": {
      "text/plain": [
       "dict"
      ]
     },
     "execution_count": 6,
     "metadata": {},
     "output_type": "execute_result"
    }
   ],
   "source": [
    "type(headers)"
   ]
  },
  {
   "cell_type": "code",
   "execution_count": 7,
   "metadata": {},
   "outputs": [
    {
     "data": {
      "text/plain": [
       "<Response [200]>"
      ]
     },
     "execution_count": 7,
     "metadata": {},
     "output_type": "execute_result"
    }
   ],
   "source": [
    "# requests.post\n",
    "reponse = requests.get(url, headers=headers)\n",
    "reponse"
   ]
  },
  {
   "cell_type": "code",
   "execution_count": 8,
   "metadata": {},
   "outputs": [],
   "source": [
    "# reponse.text"
   ]
  },
  {
   "cell_type": "markdown",
   "metadata": {},
   "source": [
    "## BeautifulSoup 을 통한 table 태그 찾기"
   ]
  },
  {
   "cell_type": "code",
   "execution_count": 9,
   "metadata": {},
   "outputs": [],
   "source": [
    "from bs4 import BeautifulSoup as bs"
   ]
  },
  {
   "cell_type": "code",
   "execution_count": 10,
   "metadata": {},
   "outputs": [],
   "source": [
    "html = bs(reponse.text, \"lxml\")"
   ]
  },
  {
   "cell_type": "code",
   "execution_count": 11,
   "metadata": {},
   "outputs": [
    {
     "data": {
      "text/plain": [
       "2"
      ]
     },
     "execution_count": 11,
     "metadata": {},
     "output_type": "execute_result"
    }
   ],
   "source": [
    "temp = html.select(\"table\")\n",
    "len(temp)"
   ]
  },
  {
   "cell_type": "markdown",
   "metadata": {},
   "source": [
    "## pandas 코드 한 줄로 데이터 수집하기"
   ]
  },
  {
   "cell_type": "code",
   "execution_count": 12,
   "metadata": {},
   "outputs": [
    {
     "name": "stdout",
     "output_type": "stream",
     "text": [
      "https://finance.naver.com/item/sise_day.nhn?code=352820&page=1\n"
     ]
    }
   ],
   "source": [
    "print(url)"
   ]
  },
  {
   "cell_type": "code",
   "execution_count": 13,
   "metadata": {
    "scrolled": true
   },
   "outputs": [
    {
     "data": {
      "text/plain": [
       "[<table cellspacing=\"0\" class=\"type2\">\n",
       " <tr>\n",
       " <th>날짜</th>\n",
       " <th>종가</th>\n",
       " <th>전일비</th>\n",
       " <th>시가</th>\n",
       " <th>고가</th>\n",
       " <th>저가</th>\n",
       " <th>거래량</th>\n",
       " </tr>\n",
       " <tr>\n",
       " <td colspan=\"7\" height=\"8\"></td>\n",
       " </tr>\n",
       " <tr onmouseout=\"mouseOut(this)\" onmouseover=\"mouseOver(this)\">\n",
       " <td align=\"center\"><span class=\"tah p10 gray03\">2021.06.24</span></td>\n",
       " <td class=\"num\"><span class=\"tah p11\">322,000</span></td>\n",
       " <td class=\"num\">\n",
       " <img alt=\"상승\" height=\"6\" src=\"https://ssl.pstatic.net/imgstock/images/images4/ico_up.gif\" style=\"margin-right:4px;\" width=\"7\"/><span class=\"tah p11 red02\">\n",
       " \t\t\t\t500\n",
       " \t\t\t\t</span>\n",
       " </td>\n",
       " <td class=\"num\"><span class=\"tah p11\">326,000</span></td>\n",
       " <td class=\"num\"><span class=\"tah p11\">329,500</span></td>\n",
       " <td class=\"num\"><span class=\"tah p11\">317,500</span></td>\n",
       " <td class=\"num\"><span class=\"tah p11\">373,105</span></td>\n",
       " </tr>\n",
       " <tr onmouseout=\"mouseOut(this)\" onmouseover=\"mouseOver(this)\">\n",
       " <td align=\"center\"><span class=\"tah p10 gray03\">2021.06.23</span></td>\n",
       " <td class=\"num\"><span class=\"tah p11\">321,500</span></td>\n",
       " <td class=\"num\">\n",
       " <img alt=\"하락\" height=\"6\" src=\"https://ssl.pstatic.net/imgstock/images/images4/ico_down.gif\" style=\"margin-right:4px;\" width=\"7\"/><span class=\"tah p11 nv01\">\n",
       " \t\t\t\t3,000\n",
       " \t\t\t\t</span>\n",
       " </td>\n",
       " <td class=\"num\"><span class=\"tah p11\">334,500</span></td>\n",
       " <td class=\"num\"><span class=\"tah p11\">337,000</span></td>\n",
       " <td class=\"num\"><span class=\"tah p11\">318,500</span></td>\n",
       " <td class=\"num\"><span class=\"tah p11\">687,701</span></td>\n",
       " </tr>\n",
       " <tr onmouseout=\"mouseOut(this)\" onmouseover=\"mouseOver(this)\">\n",
       " <td align=\"center\"><span class=\"tah p10 gray03\">2021.06.22</span></td>\n",
       " <td class=\"num\"><span class=\"tah p11\">324,500</span></td>\n",
       " <td class=\"num\">\n",
       " <img alt=\"상승\" height=\"6\" src=\"https://ssl.pstatic.net/imgstock/images/images4/ico_up.gif\" style=\"margin-right:4px;\" width=\"7\"/><span class=\"tah p11 red02\">\n",
       " \t\t\t\t16,500\n",
       " \t\t\t\t</span>\n",
       " </td>\n",
       " <td class=\"num\"><span class=\"tah p11\">311,000</span></td>\n",
       " <td class=\"num\"><span class=\"tah p11\">324,500</span></td>\n",
       " <td class=\"num\"><span class=\"tah p11\">311,000</span></td>\n",
       " <td class=\"num\"><span class=\"tah p11\">607,966</span></td>\n",
       " </tr>\n",
       " <tr onmouseout=\"mouseOut(this)\" onmouseover=\"mouseOver(this)\">\n",
       " <td align=\"center\"><span class=\"tah p10 gray03\">2021.06.21</span></td>\n",
       " <td class=\"num\"><span class=\"tah p11\">308,000</span></td>\n",
       " <td class=\"num\">\n",
       " <img alt=\"하락\" height=\"6\" src=\"https://ssl.pstatic.net/imgstock/images/images4/ico_down.gif\" style=\"margin-right:4px;\" width=\"7\"/><span class=\"tah p11 nv01\">\n",
       " \t\t\t\t5,000\n",
       " \t\t\t\t</span>\n",
       " </td>\n",
       " <td class=\"num\"><span class=\"tah p11\">313,000</span></td>\n",
       " <td class=\"num\"><span class=\"tah p11\">321,000</span></td>\n",
       " <td class=\"num\"><span class=\"tah p11\">299,500</span></td>\n",
       " <td class=\"num\"><span class=\"tah p11\">556,480</span></td>\n",
       " </tr>\n",
       " <tr onmouseout=\"mouseOut(this)\" onmouseover=\"mouseOver(this)\">\n",
       " <td align=\"center\"><span class=\"tah p10 gray03\">2021.06.18</span></td>\n",
       " <td class=\"num\"><span class=\"tah p11\">313,000</span></td>\n",
       " <td class=\"num\">\n",
       " <img alt=\"상승\" height=\"6\" src=\"https://ssl.pstatic.net/imgstock/images/images4/ico_up.gif\" style=\"margin-right:4px;\" width=\"7\"/><span class=\"tah p11 red02\">\n",
       " \t\t\t\t16,000\n",
       " \t\t\t\t</span>\n",
       " </td>\n",
       " <td class=\"num\"><span class=\"tah p11\">298,500</span></td>\n",
       " <td class=\"num\"><span class=\"tah p11\">326,500</span></td>\n",
       " <td class=\"num\"><span class=\"tah p11\">297,500</span></td>\n",
       " <td class=\"num\"><span class=\"tah p11\">1,630,734</span></td>\n",
       " </tr>\n",
       " <tr>\n",
       " <td colspan=\"7\" height=\"8\"></td>\n",
       " </tr>\n",
       " <tr>\n",
       " <td bgcolor=\"#e1e1e1\" colspan=\"7\" height=\"1\"></td>\n",
       " </tr>\n",
       " <tr>\n",
       " <td colspan=\"7\" height=\"8\"></td>\n",
       " </tr>\n",
       " <tr onmouseout=\"mouseOut(this)\" onmouseover=\"mouseOver(this)\">\n",
       " <td align=\"center\"><span class=\"tah p10 gray03\">2021.06.17</span></td>\n",
       " <td class=\"num\"><span class=\"tah p11\">297,000</span></td>\n",
       " <td class=\"num\">\n",
       " <img alt=\"상승\" height=\"6\" src=\"https://ssl.pstatic.net/imgstock/images/images4/ico_up.gif\" style=\"margin-right:4px;\" width=\"7\"/><span class=\"tah p11 red02\">\n",
       " \t\t\t\t5,000\n",
       " \t\t\t\t</span>\n",
       " </td>\n",
       " <td class=\"num\"><span class=\"tah p11\">292,000</span></td>\n",
       " <td class=\"num\"><span class=\"tah p11\">301,000</span></td>\n",
       " <td class=\"num\"><span class=\"tah p11\">289,000</span></td>\n",
       " <td class=\"num\"><span class=\"tah p11\">567,305</span></td>\n",
       " </tr>\n",
       " <tr onmouseout=\"mouseOut(this)\" onmouseover=\"mouseOver(this)\">\n",
       " <td align=\"center\"><span class=\"tah p10 gray03\">2021.06.16</span></td>\n",
       " <td class=\"num\"><span class=\"tah p11\">292,000</span></td>\n",
       " <td class=\"num\">\n",
       " <img alt=\"상승\" height=\"6\" src=\"https://ssl.pstatic.net/imgstock/images/images4/ico_up.gif\" style=\"margin-right:4px;\" width=\"7\"/><span class=\"tah p11 red02\">\n",
       " \t\t\t\t3,000\n",
       " \t\t\t\t</span>\n",
       " </td>\n",
       " <td class=\"num\"><span class=\"tah p11\">290,500</span></td>\n",
       " <td class=\"num\"><span class=\"tah p11\">298,000</span></td>\n",
       " <td class=\"num\"><span class=\"tah p11\">287,000</span></td>\n",
       " <td class=\"num\"><span class=\"tah p11\">478,261</span></td>\n",
       " </tr>\n",
       " <tr onmouseout=\"mouseOut(this)\" onmouseover=\"mouseOver(this)\">\n",
       " <td align=\"center\"><span class=\"tah p10 gray03\">2021.06.15</span></td>\n",
       " <td class=\"num\"><span class=\"tah p11\">289,000</span></td>\n",
       " <td class=\"num\">\n",
       " <img alt=\"상승\" height=\"6\" src=\"https://ssl.pstatic.net/imgstock/images/images4/ico_up.gif\" style=\"margin-right:4px;\" width=\"7\"/><span class=\"tah p11 red02\">\n",
       " \t\t\t\t7,000\n",
       " \t\t\t\t</span>\n",
       " </td>\n",
       " <td class=\"num\"><span class=\"tah p11\">285,000</span></td>\n",
       " <td class=\"num\"><span class=\"tah p11\">293,000</span></td>\n",
       " <td class=\"num\"><span class=\"tah p11\">279,500</span></td>\n",
       " <td class=\"num\"><span class=\"tah p11\">461,455</span></td>\n",
       " </tr>\n",
       " <tr onmouseout=\"mouseOut(this)\" onmouseover=\"mouseOver(this)\">\n",
       " <td align=\"center\"><span class=\"tah p10 gray03\">2021.06.14</span></td>\n",
       " <td class=\"num\"><span class=\"tah p11\">282,000</span></td>\n",
       " <td class=\"num\">\n",
       " <img alt=\"상승\" height=\"6\" src=\"https://ssl.pstatic.net/imgstock/images/images4/ico_up.gif\" style=\"margin-right:4px;\" width=\"7\"/><span class=\"tah p11 red02\">\n",
       " \t\t\t\t6,500\n",
       " \t\t\t\t</span>\n",
       " </td>\n",
       " <td class=\"num\"><span class=\"tah p11\">277,000</span></td>\n",
       " <td class=\"num\"><span class=\"tah p11\">286,000</span></td>\n",
       " <td class=\"num\"><span class=\"tah p11\">276,500</span></td>\n",
       " <td class=\"num\"><span class=\"tah p11\">502,504</span></td>\n",
       " </tr>\n",
       " <tr onmouseout=\"mouseOut(this)\" onmouseover=\"mouseOver(this)\">\n",
       " <td align=\"center\"><span class=\"tah p10 gray03\">2021.06.11</span></td>\n",
       " <td class=\"num\"><span class=\"tah p11\">275,500</span></td>\n",
       " <td class=\"num\">\n",
       " <img alt=\"상승\" height=\"6\" src=\"https://ssl.pstatic.net/imgstock/images/images4/ico_up.gif\" style=\"margin-right:4px;\" width=\"7\"/><span class=\"tah p11 red02\">\n",
       " \t\t\t\t3,000\n",
       " \t\t\t\t</span>\n",
       " </td>\n",
       " <td class=\"num\"><span class=\"tah p11\">272,500</span></td>\n",
       " <td class=\"num\"><span class=\"tah p11\">277,500</span></td>\n",
       " <td class=\"num\"><span class=\"tah p11\">271,500</span></td>\n",
       " <td class=\"num\"><span class=\"tah p11\">324,529</span></td>\n",
       " </tr>\n",
       " <tr>\n",
       " <td colspan=\"7\" height=\"8\"></td>\n",
       " </tr>\n",
       " </table>,\n",
       " <table align=\"center\" class=\"Nnavi\" summary=\"페이지 네비게이션 리스트\">\n",
       " <caption>페이지 네비게이션</caption>\n",
       " <tr>\n",
       " <td class=\"on\">\n",
       " <a href=\"/item/sise_day.nhn?code=352820&amp;page=1\">1</a>\n",
       " </td>\n",
       " <td>\n",
       " <a href=\"/item/sise_day.nhn?code=352820&amp;page=2\">2</a>\n",
       " </td>\n",
       " <td>\n",
       " <a href=\"/item/sise_day.nhn?code=352820&amp;page=3\">3</a>\n",
       " </td>\n",
       " <td>\n",
       " <a href=\"/item/sise_day.nhn?code=352820&amp;page=4\">4</a>\n",
       " </td>\n",
       " <td>\n",
       " <a href=\"/item/sise_day.nhn?code=352820&amp;page=5\">5</a>\n",
       " </td>\n",
       " <td>\n",
       " <a href=\"/item/sise_day.nhn?code=352820&amp;page=6\">6</a>\n",
       " </td>\n",
       " <td>\n",
       " <a href=\"/item/sise_day.nhn?code=352820&amp;page=7\">7</a>\n",
       " </td>\n",
       " <td>\n",
       " <a href=\"/item/sise_day.nhn?code=352820&amp;page=8\">8</a>\n",
       " </td>\n",
       " <td>\n",
       " <a href=\"/item/sise_day.nhn?code=352820&amp;page=9\">9</a>\n",
       " </td>\n",
       " <td>\n",
       " <a href=\"/item/sise_day.nhn?code=352820&amp;page=10\">10</a>\n",
       " </td>\n",
       " <td class=\"pgR\">\n",
       " <a href=\"/item/sise_day.nhn?code=352820&amp;page=11\">\n",
       " \t\t\t\t다음<img alt=\"\" border=\"0\" height=\"5\" src=\"https://ssl.pstatic.net/static/n/cmn/bu_pgarR.gif\" width=\"3\"/>\n",
       " </a>\n",
       " </td>\n",
       " <td class=\"pgRR\">\n",
       " <a href=\"/item/sise_day.nhn?code=352820&amp;page=18\">맨뒤\n",
       " \t\t\t\t<img alt=\"\" border=\"0\" height=\"5\" src=\"https://ssl.pstatic.net/static/n/cmn/bu_pgarRR.gif\" width=\"8\"/>\n",
       " </a>\n",
       " </td>\n",
       " </tr>\n",
       " </table>]"
      ]
     },
     "execution_count": 13,
     "metadata": {},
     "output_type": "execute_result"
    }
   ],
   "source": [
    "temp"
   ]
  },
  {
   "cell_type": "code",
   "execution_count": 14,
   "metadata": {
    "id": "T3e0Jt0mTMkA"
   },
   "outputs": [
    {
     "data": {
      "text/plain": [
       "2"
      ]
     },
     "execution_count": 14,
     "metadata": {},
     "output_type": "execute_result"
    }
   ],
   "source": [
    "# read_html을 이용하여 url의 page내의 값을 DataFrame으로 받아옵니다.\n",
    "# cp949는 한글 인코딩을 위해 사용합니다. 기본 인코딩 설정은 utf-8 이며, \n",
    "# 네이버의 일별 시세는 cp949 인코딩으로 불러올 수 있습니다.\n",
    "# 데이터를 로드 했을 때 한글 인코딩이 깨진다면 대부분 cp949 로 불러올 수 있습니다.\n",
    "# table\n",
    "\n",
    "table = pd.read_html(str(temp))\n",
    "len(table)"
   ]
  },
  {
   "cell_type": "code",
   "execution_count": 15,
   "metadata": {
    "id": "GQ_LCYp0TMkA"
   },
   "outputs": [
    {
     "data": {
      "text/html": [
       "<div>\n",
       "<style scoped>\n",
       "    .dataframe tbody tr th:only-of-type {\n",
       "        vertical-align: middle;\n",
       "    }\n",
       "\n",
       "    .dataframe tbody tr th {\n",
       "        vertical-align: top;\n",
       "    }\n",
       "\n",
       "    .dataframe thead th {\n",
       "        text-align: right;\n",
       "    }\n",
       "</style>\n",
       "<table border=\"1\" class=\"dataframe\">\n",
       "  <thead>\n",
       "    <tr style=\"text-align: right;\">\n",
       "      <th></th>\n",
       "      <th>날짜</th>\n",
       "      <th>종가</th>\n",
       "      <th>전일비</th>\n",
       "      <th>시가</th>\n",
       "      <th>고가</th>\n",
       "      <th>저가</th>\n",
       "      <th>거래량</th>\n",
       "    </tr>\n",
       "  </thead>\n",
       "  <tbody>\n",
       "    <tr>\n",
       "      <th>0</th>\n",
       "      <td>NaN</td>\n",
       "      <td>NaN</td>\n",
       "      <td>NaN</td>\n",
       "      <td>NaN</td>\n",
       "      <td>NaN</td>\n",
       "      <td>NaN</td>\n",
       "      <td>NaN</td>\n",
       "    </tr>\n",
       "    <tr>\n",
       "      <th>1</th>\n",
       "      <td>2021.06.24</td>\n",
       "      <td>322000.0</td>\n",
       "      <td>500.0</td>\n",
       "      <td>326000.0</td>\n",
       "      <td>329500.0</td>\n",
       "      <td>317500.0</td>\n",
       "      <td>373105.0</td>\n",
       "    </tr>\n",
       "    <tr>\n",
       "      <th>2</th>\n",
       "      <td>2021.06.23</td>\n",
       "      <td>321500.0</td>\n",
       "      <td>3000.0</td>\n",
       "      <td>334500.0</td>\n",
       "      <td>337000.0</td>\n",
       "      <td>318500.0</td>\n",
       "      <td>687701.0</td>\n",
       "    </tr>\n",
       "    <tr>\n",
       "      <th>3</th>\n",
       "      <td>2021.06.22</td>\n",
       "      <td>324500.0</td>\n",
       "      <td>16500.0</td>\n",
       "      <td>311000.0</td>\n",
       "      <td>324500.0</td>\n",
       "      <td>311000.0</td>\n",
       "      <td>607966.0</td>\n",
       "    </tr>\n",
       "    <tr>\n",
       "      <th>4</th>\n",
       "      <td>2021.06.21</td>\n",
       "      <td>308000.0</td>\n",
       "      <td>5000.0</td>\n",
       "      <td>313000.0</td>\n",
       "      <td>321000.0</td>\n",
       "      <td>299500.0</td>\n",
       "      <td>556480.0</td>\n",
       "    </tr>\n",
       "    <tr>\n",
       "      <th>5</th>\n",
       "      <td>2021.06.18</td>\n",
       "      <td>313000.0</td>\n",
       "      <td>16000.0</td>\n",
       "      <td>298500.0</td>\n",
       "      <td>326500.0</td>\n",
       "      <td>297500.0</td>\n",
       "      <td>1630734.0</td>\n",
       "    </tr>\n",
       "    <tr>\n",
       "      <th>6</th>\n",
       "      <td>NaN</td>\n",
       "      <td>NaN</td>\n",
       "      <td>NaN</td>\n",
       "      <td>NaN</td>\n",
       "      <td>NaN</td>\n",
       "      <td>NaN</td>\n",
       "      <td>NaN</td>\n",
       "    </tr>\n",
       "    <tr>\n",
       "      <th>7</th>\n",
       "      <td>NaN</td>\n",
       "      <td>NaN</td>\n",
       "      <td>NaN</td>\n",
       "      <td>NaN</td>\n",
       "      <td>NaN</td>\n",
       "      <td>NaN</td>\n",
       "      <td>NaN</td>\n",
       "    </tr>\n",
       "    <tr>\n",
       "      <th>8</th>\n",
       "      <td>NaN</td>\n",
       "      <td>NaN</td>\n",
       "      <td>NaN</td>\n",
       "      <td>NaN</td>\n",
       "      <td>NaN</td>\n",
       "      <td>NaN</td>\n",
       "      <td>NaN</td>\n",
       "    </tr>\n",
       "    <tr>\n",
       "      <th>9</th>\n",
       "      <td>2021.06.17</td>\n",
       "      <td>297000.0</td>\n",
       "      <td>5000.0</td>\n",
       "      <td>292000.0</td>\n",
       "      <td>301000.0</td>\n",
       "      <td>289000.0</td>\n",
       "      <td>567305.0</td>\n",
       "    </tr>\n",
       "    <tr>\n",
       "      <th>10</th>\n",
       "      <td>2021.06.16</td>\n",
       "      <td>292000.0</td>\n",
       "      <td>3000.0</td>\n",
       "      <td>290500.0</td>\n",
       "      <td>298000.0</td>\n",
       "      <td>287000.0</td>\n",
       "      <td>478261.0</td>\n",
       "    </tr>\n",
       "    <tr>\n",
       "      <th>11</th>\n",
       "      <td>2021.06.15</td>\n",
       "      <td>289000.0</td>\n",
       "      <td>7000.0</td>\n",
       "      <td>285000.0</td>\n",
       "      <td>293000.0</td>\n",
       "      <td>279500.0</td>\n",
       "      <td>461455.0</td>\n",
       "    </tr>\n",
       "    <tr>\n",
       "      <th>12</th>\n",
       "      <td>2021.06.14</td>\n",
       "      <td>282000.0</td>\n",
       "      <td>6500.0</td>\n",
       "      <td>277000.0</td>\n",
       "      <td>286000.0</td>\n",
       "      <td>276500.0</td>\n",
       "      <td>502504.0</td>\n",
       "    </tr>\n",
       "    <tr>\n",
       "      <th>13</th>\n",
       "      <td>2021.06.11</td>\n",
       "      <td>275500.0</td>\n",
       "      <td>3000.0</td>\n",
       "      <td>272500.0</td>\n",
       "      <td>277500.0</td>\n",
       "      <td>271500.0</td>\n",
       "      <td>324529.0</td>\n",
       "    </tr>\n",
       "    <tr>\n",
       "      <th>14</th>\n",
       "      <td>NaN</td>\n",
       "      <td>NaN</td>\n",
       "      <td>NaN</td>\n",
       "      <td>NaN</td>\n",
       "      <td>NaN</td>\n",
       "      <td>NaN</td>\n",
       "      <td>NaN</td>\n",
       "    </tr>\n",
       "  </tbody>\n",
       "</table>\n",
       "</div>"
      ],
      "text/plain": [
       "            날짜        종가      전일비        시가        고가        저가        거래량\n",
       "0          NaN       NaN      NaN       NaN       NaN       NaN        NaN\n",
       "1   2021.06.24  322000.0    500.0  326000.0  329500.0  317500.0   373105.0\n",
       "2   2021.06.23  321500.0   3000.0  334500.0  337000.0  318500.0   687701.0\n",
       "3   2021.06.22  324500.0  16500.0  311000.0  324500.0  311000.0   607966.0\n",
       "4   2021.06.21  308000.0   5000.0  313000.0  321000.0  299500.0   556480.0\n",
       "5   2021.06.18  313000.0  16000.0  298500.0  326500.0  297500.0  1630734.0\n",
       "6          NaN       NaN      NaN       NaN       NaN       NaN        NaN\n",
       "7          NaN       NaN      NaN       NaN       NaN       NaN        NaN\n",
       "8          NaN       NaN      NaN       NaN       NaN       NaN        NaN\n",
       "9   2021.06.17  297000.0   5000.0  292000.0  301000.0  289000.0   567305.0\n",
       "10  2021.06.16  292000.0   3000.0  290500.0  298000.0  287000.0   478261.0\n",
       "11  2021.06.15  289000.0   7000.0  285000.0  293000.0  279500.0   461455.0\n",
       "12  2021.06.14  282000.0   6500.0  277000.0  286000.0  276500.0   502504.0\n",
       "13  2021.06.11  275500.0   3000.0  272500.0  277500.0  271500.0   324529.0\n",
       "14         NaN       NaN      NaN       NaN       NaN       NaN        NaN"
      ]
     },
     "execution_count": 15,
     "metadata": {},
     "output_type": "execute_result"
    }
   ],
   "source": [
    "# table[0]와 table[1]을 확인하여 보면 table[0]에 필요한 데이터들이 있습니다.\n",
    "df_temp = table[0]\n",
    "df_temp"
   ]
  },
  {
   "cell_type": "code",
   "execution_count": 16,
   "metadata": {
    "id": "0gI1rNUbTMkA"
   },
   "outputs": [
    {
     "data": {
      "text/html": [
       "<div>\n",
       "<style scoped>\n",
       "    .dataframe tbody tr th:only-of-type {\n",
       "        vertical-align: middle;\n",
       "    }\n",
       "\n",
       "    .dataframe tbody tr th {\n",
       "        vertical-align: top;\n",
       "    }\n",
       "\n",
       "    .dataframe thead th {\n",
       "        text-align: right;\n",
       "    }\n",
       "</style>\n",
       "<table border=\"1\" class=\"dataframe\">\n",
       "  <thead>\n",
       "    <tr style=\"text-align: right;\">\n",
       "      <th></th>\n",
       "      <th>날짜</th>\n",
       "      <th>종가</th>\n",
       "      <th>전일비</th>\n",
       "      <th>시가</th>\n",
       "      <th>고가</th>\n",
       "      <th>저가</th>\n",
       "      <th>거래량</th>\n",
       "    </tr>\n",
       "  </thead>\n",
       "  <tbody>\n",
       "    <tr>\n",
       "      <th>1</th>\n",
       "      <td>2021.06.24</td>\n",
       "      <td>322000.0</td>\n",
       "      <td>500.0</td>\n",
       "      <td>326000.0</td>\n",
       "      <td>329500.0</td>\n",
       "      <td>317500.0</td>\n",
       "      <td>373105.0</td>\n",
       "    </tr>\n",
       "    <tr>\n",
       "      <th>2</th>\n",
       "      <td>2021.06.23</td>\n",
       "      <td>321500.0</td>\n",
       "      <td>3000.0</td>\n",
       "      <td>334500.0</td>\n",
       "      <td>337000.0</td>\n",
       "      <td>318500.0</td>\n",
       "      <td>687701.0</td>\n",
       "    </tr>\n",
       "    <tr>\n",
       "      <th>3</th>\n",
       "      <td>2021.06.22</td>\n",
       "      <td>324500.0</td>\n",
       "      <td>16500.0</td>\n",
       "      <td>311000.0</td>\n",
       "      <td>324500.0</td>\n",
       "      <td>311000.0</td>\n",
       "      <td>607966.0</td>\n",
       "    </tr>\n",
       "    <tr>\n",
       "      <th>4</th>\n",
       "      <td>2021.06.21</td>\n",
       "      <td>308000.0</td>\n",
       "      <td>5000.0</td>\n",
       "      <td>313000.0</td>\n",
       "      <td>321000.0</td>\n",
       "      <td>299500.0</td>\n",
       "      <td>556480.0</td>\n",
       "    </tr>\n",
       "    <tr>\n",
       "      <th>5</th>\n",
       "      <td>2021.06.18</td>\n",
       "      <td>313000.0</td>\n",
       "      <td>16000.0</td>\n",
       "      <td>298500.0</td>\n",
       "      <td>326500.0</td>\n",
       "      <td>297500.0</td>\n",
       "      <td>1630734.0</td>\n",
       "    </tr>\n",
       "    <tr>\n",
       "      <th>9</th>\n",
       "      <td>2021.06.17</td>\n",
       "      <td>297000.0</td>\n",
       "      <td>5000.0</td>\n",
       "      <td>292000.0</td>\n",
       "      <td>301000.0</td>\n",
       "      <td>289000.0</td>\n",
       "      <td>567305.0</td>\n",
       "    </tr>\n",
       "    <tr>\n",
       "      <th>10</th>\n",
       "      <td>2021.06.16</td>\n",
       "      <td>292000.0</td>\n",
       "      <td>3000.0</td>\n",
       "      <td>290500.0</td>\n",
       "      <td>298000.0</td>\n",
       "      <td>287000.0</td>\n",
       "      <td>478261.0</td>\n",
       "    </tr>\n",
       "    <tr>\n",
       "      <th>11</th>\n",
       "      <td>2021.06.15</td>\n",
       "      <td>289000.0</td>\n",
       "      <td>7000.0</td>\n",
       "      <td>285000.0</td>\n",
       "      <td>293000.0</td>\n",
       "      <td>279500.0</td>\n",
       "      <td>461455.0</td>\n",
       "    </tr>\n",
       "    <tr>\n",
       "      <th>12</th>\n",
       "      <td>2021.06.14</td>\n",
       "      <td>282000.0</td>\n",
       "      <td>6500.0</td>\n",
       "      <td>277000.0</td>\n",
       "      <td>286000.0</td>\n",
       "      <td>276500.0</td>\n",
       "      <td>502504.0</td>\n",
       "    </tr>\n",
       "    <tr>\n",
       "      <th>13</th>\n",
       "      <td>2021.06.11</td>\n",
       "      <td>275500.0</td>\n",
       "      <td>3000.0</td>\n",
       "      <td>272500.0</td>\n",
       "      <td>277500.0</td>\n",
       "      <td>271500.0</td>\n",
       "      <td>324529.0</td>\n",
       "    </tr>\n",
       "  </tbody>\n",
       "</table>\n",
       "</div>"
      ],
      "text/plain": [
       "            날짜        종가      전일비        시가        고가        저가        거래량\n",
       "1   2021.06.24  322000.0    500.0  326000.0  329500.0  317500.0   373105.0\n",
       "2   2021.06.23  321500.0   3000.0  334500.0  337000.0  318500.0   687701.0\n",
       "3   2021.06.22  324500.0  16500.0  311000.0  324500.0  311000.0   607966.0\n",
       "4   2021.06.21  308000.0   5000.0  313000.0  321000.0  299500.0   556480.0\n",
       "5   2021.06.18  313000.0  16000.0  298500.0  326500.0  297500.0  1630734.0\n",
       "9   2021.06.17  297000.0   5000.0  292000.0  301000.0  289000.0   567305.0\n",
       "10  2021.06.16  292000.0   3000.0  290500.0  298000.0  287000.0   478261.0\n",
       "11  2021.06.15  289000.0   7000.0  285000.0  293000.0  279500.0   461455.0\n",
       "12  2021.06.14  282000.0   6500.0  277000.0  286000.0  276500.0   502504.0\n",
       "13  2021.06.11  275500.0   3000.0  272500.0  277500.0  271500.0   324529.0"
      ]
     },
     "execution_count": 16,
     "metadata": {},
     "output_type": "execute_result"
    }
   ],
   "source": [
    "# dropna를 통해 결측치가 들어있는 row를 제거합니다.\n",
    "df_day = df_temp.dropna()\n",
    "df_day"
   ]
  },
  {
   "cell_type": "markdown",
   "metadata": {
    "id": "CKhsb94wTMkA"
   },
   "source": [
    "## 페이지별 데이터 수집 함수 만들기"
   ]
  },
  {
   "cell_type": "code",
   "execution_count": 17,
   "metadata": {},
   "outputs": [
    {
     "data": {
      "text/plain": [
       "'https://finance.naver.com/item/sise_day.nhn?code=352820&page=1'"
      ]
     },
     "execution_count": 17,
     "metadata": {},
     "output_type": "execute_result"
    }
   ],
   "source": [
    "url"
   ]
  },
  {
   "cell_type": "code",
   "execution_count": 18,
   "metadata": {},
   "outputs": [
    {
     "data": {
      "text/plain": [
       "{'user-agent': 'Mozilla/5.0 (Macintosh; Intel Mac OS X 10_15_7) AppleWebKit/537.36 (KHTML, like Gecko) Chrome/91.0.4472.114 Safari/537.36'}"
      ]
     },
     "execution_count": 18,
     "metadata": {},
     "output_type": "execute_result"
    }
   ],
   "source": [
    "headers"
   ]
  },
  {
   "cell_type": "code",
   "execution_count": 19,
   "metadata": {
    "id": "gJugcyoiTMkA"
   },
   "outputs": [],
   "source": [
    "# 종목 번호를 이용해 page에 따라 데이터를 읽어오는 함수\n",
    "# \"\"\" 는 이 두개 사이의 행들은 주석 처리되며, 함수의 docstring 으로 사용됩니다.\n",
    "\n",
    "def get_day_list(item_code, page_no):\n",
    "    \"\"\"\n",
    "    일자별 시세를 페이지별로 수집\n",
    "    \"\"\" \n",
    "    url = f\"https://finance.naver.com/item/sise_day.nhn?code={item_code}&page={page_no}\"\n",
    "    headers = {'user-agent': 'Mozilla/5.0 (Macintosh; Intel Mac OS X 10_15_7) AppleWebKit/537.36 (KHTML, like Gecko) Chrome/91.0.4472.114 Safari/537.36'}\n",
    "    response = requests.get(url, headers=headers)\n",
    "    html = bs(response.text, \"lxml\")\n",
    "    temp = html.select(\"table\")\n",
    "    df_day = pd.read_html(str(temp))\n",
    "    df_day = df_day[0].dropna()\n",
    "    return df_day"
   ]
  },
  {
   "cell_type": "code",
   "execution_count": 20,
   "metadata": {
    "id": "evjinapgTMkA"
   },
   "outputs": [
    {
     "data": {
      "text/html": [
       "<div>\n",
       "<style scoped>\n",
       "    .dataframe tbody tr th:only-of-type {\n",
       "        vertical-align: middle;\n",
       "    }\n",
       "\n",
       "    .dataframe tbody tr th {\n",
       "        vertical-align: top;\n",
       "    }\n",
       "\n",
       "    .dataframe thead th {\n",
       "        text-align: right;\n",
       "    }\n",
       "</style>\n",
       "<table border=\"1\" class=\"dataframe\">\n",
       "  <thead>\n",
       "    <tr style=\"text-align: right;\">\n",
       "      <th></th>\n",
       "      <th>날짜</th>\n",
       "      <th>종가</th>\n",
       "      <th>전일비</th>\n",
       "      <th>시가</th>\n",
       "      <th>고가</th>\n",
       "      <th>저가</th>\n",
       "      <th>거래량</th>\n",
       "    </tr>\n",
       "  </thead>\n",
       "  <tbody>\n",
       "    <tr>\n",
       "      <th>1</th>\n",
       "      <td>2021.06.24</td>\n",
       "      <td>81200.0</td>\n",
       "      <td>1100.0</td>\n",
       "      <td>80400.0</td>\n",
       "      <td>81400.0</td>\n",
       "      <td>80100.0</td>\n",
       "      <td>18482196.0</td>\n",
       "    </tr>\n",
       "    <tr>\n",
       "      <th>2</th>\n",
       "      <td>2021.06.23</td>\n",
       "      <td>80100.0</td>\n",
       "      <td>100.0</td>\n",
       "      <td>80500.0</td>\n",
       "      <td>80600.0</td>\n",
       "      <td>79900.0</td>\n",
       "      <td>13856548.0</td>\n",
       "    </tr>\n",
       "    <tr>\n",
       "      <th>3</th>\n",
       "      <td>2021.06.22</td>\n",
       "      <td>80000.0</td>\n",
       "      <td>100.0</td>\n",
       "      <td>80200.0</td>\n",
       "      <td>80300.0</td>\n",
       "      <td>79900.0</td>\n",
       "      <td>11773365.0</td>\n",
       "    </tr>\n",
       "    <tr>\n",
       "      <th>4</th>\n",
       "      <td>2021.06.21</td>\n",
       "      <td>79900.0</td>\n",
       "      <td>600.0</td>\n",
       "      <td>79700.0</td>\n",
       "      <td>80000.0</td>\n",
       "      <td>79600.0</td>\n",
       "      <td>16063340.0</td>\n",
       "    </tr>\n",
       "    <tr>\n",
       "      <th>5</th>\n",
       "      <td>2021.06.18</td>\n",
       "      <td>80500.0</td>\n",
       "      <td>400.0</td>\n",
       "      <td>81100.0</td>\n",
       "      <td>81100.0</td>\n",
       "      <td>80500.0</td>\n",
       "      <td>14916721.0</td>\n",
       "    </tr>\n",
       "    <tr>\n",
       "      <th>9</th>\n",
       "      <td>2021.06.17</td>\n",
       "      <td>80900.0</td>\n",
       "      <td>900.0</td>\n",
       "      <td>81100.0</td>\n",
       "      <td>81300.0</td>\n",
       "      <td>80700.0</td>\n",
       "      <td>14007385.0</td>\n",
       "    </tr>\n",
       "    <tr>\n",
       "      <th>10</th>\n",
       "      <td>2021.06.16</td>\n",
       "      <td>81800.0</td>\n",
       "      <td>900.0</td>\n",
       "      <td>81500.0</td>\n",
       "      <td>81900.0</td>\n",
       "      <td>81100.0</td>\n",
       "      <td>14999855.0</td>\n",
       "    </tr>\n",
       "    <tr>\n",
       "      <th>11</th>\n",
       "      <td>2021.06.15</td>\n",
       "      <td>80900.0</td>\n",
       "      <td>400.0</td>\n",
       "      <td>80900.0</td>\n",
       "      <td>81200.0</td>\n",
       "      <td>80600.0</td>\n",
       "      <td>10075685.0</td>\n",
       "    </tr>\n",
       "    <tr>\n",
       "      <th>12</th>\n",
       "      <td>2021.06.14</td>\n",
       "      <td>80500.0</td>\n",
       "      <td>500.0</td>\n",
       "      <td>80800.0</td>\n",
       "      <td>80900.0</td>\n",
       "      <td>80500.0</td>\n",
       "      <td>10550078.0</td>\n",
       "    </tr>\n",
       "    <tr>\n",
       "      <th>13</th>\n",
       "      <td>2021.06.11</td>\n",
       "      <td>81000.0</td>\n",
       "      <td>0.0</td>\n",
       "      <td>81200.0</td>\n",
       "      <td>81700.0</td>\n",
       "      <td>80700.0</td>\n",
       "      <td>14087962.0</td>\n",
       "    </tr>\n",
       "  </tbody>\n",
       "</table>\n",
       "</div>"
      ],
      "text/plain": [
       "            날짜       종가     전일비       시가       고가       저가         거래량\n",
       "1   2021.06.24  81200.0  1100.0  80400.0  81400.0  80100.0  18482196.0\n",
       "2   2021.06.23  80100.0   100.0  80500.0  80600.0  79900.0  13856548.0\n",
       "3   2021.06.22  80000.0   100.0  80200.0  80300.0  79900.0  11773365.0\n",
       "4   2021.06.21  79900.0   600.0  79700.0  80000.0  79600.0  16063340.0\n",
       "5   2021.06.18  80500.0   400.0  81100.0  81100.0  80500.0  14916721.0\n",
       "9   2021.06.17  80900.0   900.0  81100.0  81300.0  80700.0  14007385.0\n",
       "10  2021.06.16  81800.0   900.0  81500.0  81900.0  81100.0  14999855.0\n",
       "11  2021.06.15  80900.0   400.0  80900.0  81200.0  80600.0  10075685.0\n",
       "12  2021.06.14  80500.0   500.0  80800.0  80900.0  80500.0  10550078.0\n",
       "13  2021.06.11  81000.0     0.0  81200.0  81700.0  80700.0  14087962.0"
      ]
     },
     "execution_count": 20,
     "metadata": {},
     "output_type": "execute_result"
    }
   ],
   "source": [
    "# 함수가 잘 만들어졌는지 확인하기\n",
    "page_no = 1\n",
    "item_code = \"005930\"\n",
    "get_day_list(item_code, page_no)"
   ]
  },
  {
   "cell_type": "markdown",
   "metadata": {
    "id": "uuaac8XTTMkA"
   },
   "source": [
    "## 반복문을 통한 전체 일자 데이터 수집하기\n",
    "* (주의) 기간이 긴 데이터를 수집할때는 서버에 부담을 주지 않기 위해 time.sleep()값을 주세요."
   ]
  },
  {
   "cell_type": "code",
   "execution_count": 21,
   "metadata": {},
   "outputs": [
    {
     "data": {
      "text/plain": [
       "0.6419680762140925"
      ]
     },
     "execution_count": 21,
     "metadata": {},
     "output_type": "execute_result"
    }
   ],
   "source": [
    "import numpy as np\n",
    "random_sleep = np.random.uniform(0, 1)\n",
    "random_sleep"
   ]
  },
  {
   "cell_type": "code",
   "execution_count": 22,
   "metadata": {
    "id": "EQs1C6C_TMkA"
   },
   "outputs": [
    {
     "name": "stderr",
     "output_type": "stream",
     "text": [
      "100%|██████████| 10/10 [00:04<00:00,  2.06it/s]\n"
     ]
    }
   ],
   "source": [
    "import time\n",
    "from tqdm import trange\n",
    "# web page 시작번호\n",
    "page_no = 1\n",
    "start_page = 1\n",
    "end_page = 10\n",
    "# 데이터를 저장할 빈 변수 선언\n",
    "item_list = []\n",
    "for page_no in trange(start_page, end_page + 1):\n",
    "    df_temp_day = get_day_list(item_code, page_no)\n",
    "    item_list.append(df_temp_day)\n",
    "    # 랜덤하게 0~1초 사이에서 쉬면서 가져옵니다.\n",
    "    random_sleep = np.random.uniform(0, 1)\n",
    "    time.sleep(random_sleep)"
   ]
  },
  {
   "cell_type": "code",
   "execution_count": 23,
   "metadata": {},
   "outputs": [
    {
     "data": {
      "text/plain": [
       "10"
      ]
     },
     "execution_count": 23,
     "metadata": {},
     "output_type": "execute_result"
    }
   ],
   "source": [
    "len(item_list)"
   ]
  },
  {
   "cell_type": "markdown",
   "metadata": {
    "id": "iEFBJv5XTMkA"
   },
   "source": [
    "## 수집한 데이터 하나의 데이터프레임으로 합치기\n",
    "\n",
    "<img src=\"https://pandas.pydata.org/docs/_images/merging_concat_basic.png\">\n",
    "\n",
    "* [Merge, join, concatenate and compare documentation](https://pandas.pydata.org/docs/user_guide/merging.html#merge-join-concatenate-and-compare)"
   ]
  },
  {
   "cell_type": "code",
   "execution_count": 24,
   "metadata": {
    "id": "mUcxeTMFTMkA"
   },
   "outputs": [],
   "source": [
    "# DataFrame들이 list의 형태로 저장된 것을 concat을 이용하여 합치면서 하나의 DataFrame으로 만듭니다.\n",
    "df = pd.concat(item_list)"
   ]
  },
  {
   "cell_type": "markdown",
   "metadata": {},
   "source": [
    "<img src=\"https://pandas.pydata.org/docs/_images/02_io_readwrite.svg\">"
   ]
  },
  {
   "cell_type": "code",
   "execution_count": 25,
   "metadata": {
    "id": "Ep3NWfM-TMkA"
   },
   "outputs": [
    {
     "data": {
      "text/html": [
       "<div>\n",
       "<style scoped>\n",
       "    .dataframe tbody tr th:only-of-type {\n",
       "        vertical-align: middle;\n",
       "    }\n",
       "\n",
       "    .dataframe tbody tr th {\n",
       "        vertical-align: top;\n",
       "    }\n",
       "\n",
       "    .dataframe thead th {\n",
       "        text-align: right;\n",
       "    }\n",
       "</style>\n",
       "<table border=\"1\" class=\"dataframe\">\n",
       "  <thead>\n",
       "    <tr style=\"text-align: right;\">\n",
       "      <th></th>\n",
       "      <th>날짜</th>\n",
       "      <th>종가</th>\n",
       "      <th>전일비</th>\n",
       "      <th>시가</th>\n",
       "      <th>고가</th>\n",
       "      <th>저가</th>\n",
       "      <th>거래량</th>\n",
       "    </tr>\n",
       "  </thead>\n",
       "  <tbody>\n",
       "    <tr>\n",
       "      <th>1</th>\n",
       "      <td>2021.06.24</td>\n",
       "      <td>81200.0</td>\n",
       "      <td>1100.0</td>\n",
       "      <td>80400.0</td>\n",
       "      <td>81400.0</td>\n",
       "      <td>80100.0</td>\n",
       "      <td>18482196.0</td>\n",
       "    </tr>\n",
       "    <tr>\n",
       "      <th>2</th>\n",
       "      <td>2021.06.23</td>\n",
       "      <td>80100.0</td>\n",
       "      <td>100.0</td>\n",
       "      <td>80500.0</td>\n",
       "      <td>80600.0</td>\n",
       "      <td>79900.0</td>\n",
       "      <td>13856548.0</td>\n",
       "    </tr>\n",
       "    <tr>\n",
       "      <th>3</th>\n",
       "      <td>2021.06.22</td>\n",
       "      <td>80000.0</td>\n",
       "      <td>100.0</td>\n",
       "      <td>80200.0</td>\n",
       "      <td>80300.0</td>\n",
       "      <td>79900.0</td>\n",
       "      <td>11773365.0</td>\n",
       "    </tr>\n",
       "    <tr>\n",
       "      <th>4</th>\n",
       "      <td>2021.06.21</td>\n",
       "      <td>79900.0</td>\n",
       "      <td>600.0</td>\n",
       "      <td>79700.0</td>\n",
       "      <td>80000.0</td>\n",
       "      <td>79600.0</td>\n",
       "      <td>16063340.0</td>\n",
       "    </tr>\n",
       "    <tr>\n",
       "      <th>5</th>\n",
       "      <td>2021.06.18</td>\n",
       "      <td>80500.0</td>\n",
       "      <td>400.0</td>\n",
       "      <td>81100.0</td>\n",
       "      <td>81100.0</td>\n",
       "      <td>80500.0</td>\n",
       "      <td>14916721.0</td>\n",
       "    </tr>\n",
       "  </tbody>\n",
       "</table>\n",
       "</div>"
      ],
      "text/plain": [
       "           날짜       종가     전일비       시가       고가       저가         거래량\n",
       "1  2021.06.24  81200.0  1100.0  80400.0  81400.0  80100.0  18482196.0\n",
       "2  2021.06.23  80100.0   100.0  80500.0  80600.0  79900.0  13856548.0\n",
       "3  2021.06.22  80000.0   100.0  80200.0  80300.0  79900.0  11773365.0\n",
       "4  2021.06.21  79900.0   600.0  79700.0  80000.0  79600.0  16063340.0\n",
       "5  2021.06.18  80500.0   400.0  81100.0  81100.0  80500.0  14916721.0"
      ]
     },
     "execution_count": 25,
     "metadata": {},
     "output_type": "execute_result"
    }
   ],
   "source": [
    "# head와 tail로 데이터의 일부를 가져와서 봅니다.\n",
    "df.head()"
   ]
  },
  {
   "cell_type": "code",
   "execution_count": 26,
   "metadata": {
    "id": "hHcKUo8iTMkA"
   },
   "outputs": [
    {
     "data": {
      "text/html": [
       "<div>\n",
       "<style scoped>\n",
       "    .dataframe tbody tr th:only-of-type {\n",
       "        vertical-align: middle;\n",
       "    }\n",
       "\n",
       "    .dataframe tbody tr th {\n",
       "        vertical-align: top;\n",
       "    }\n",
       "\n",
       "    .dataframe thead th {\n",
       "        text-align: right;\n",
       "    }\n",
       "</style>\n",
       "<table border=\"1\" class=\"dataframe\">\n",
       "  <thead>\n",
       "    <tr style=\"text-align: right;\">\n",
       "      <th></th>\n",
       "      <th>날짜</th>\n",
       "      <th>종가</th>\n",
       "      <th>전일비</th>\n",
       "      <th>시가</th>\n",
       "      <th>고가</th>\n",
       "      <th>저가</th>\n",
       "      <th>거래량</th>\n",
       "    </tr>\n",
       "  </thead>\n",
       "  <tbody>\n",
       "    <tr>\n",
       "      <th>9</th>\n",
       "      <td>2021.02.04</td>\n",
       "      <td>82500.0</td>\n",
       "      <td>2100.0</td>\n",
       "      <td>83500.0</td>\n",
       "      <td>83800.0</td>\n",
       "      <td>82100.0</td>\n",
       "      <td>24171688.0</td>\n",
       "    </tr>\n",
       "    <tr>\n",
       "      <th>10</th>\n",
       "      <td>2021.02.03</td>\n",
       "      <td>84600.0</td>\n",
       "      <td>200.0</td>\n",
       "      <td>84800.0</td>\n",
       "      <td>85400.0</td>\n",
       "      <td>83400.0</td>\n",
       "      <td>22112205.0</td>\n",
       "    </tr>\n",
       "    <tr>\n",
       "      <th>11</th>\n",
       "      <td>2021.02.02</td>\n",
       "      <td>84400.0</td>\n",
       "      <td>1400.0</td>\n",
       "      <td>84100.0</td>\n",
       "      <td>86400.0</td>\n",
       "      <td>83700.0</td>\n",
       "      <td>26302077.0</td>\n",
       "    </tr>\n",
       "    <tr>\n",
       "      <th>12</th>\n",
       "      <td>2021.02.01</td>\n",
       "      <td>83000.0</td>\n",
       "      <td>1000.0</td>\n",
       "      <td>81700.0</td>\n",
       "      <td>83400.0</td>\n",
       "      <td>81000.0</td>\n",
       "      <td>28046832.0</td>\n",
       "    </tr>\n",
       "    <tr>\n",
       "      <th>13</th>\n",
       "      <td>2021.01.29</td>\n",
       "      <td>82000.0</td>\n",
       "      <td>1700.0</td>\n",
       "      <td>84500.0</td>\n",
       "      <td>85000.0</td>\n",
       "      <td>82000.0</td>\n",
       "      <td>39615978.0</td>\n",
       "    </tr>\n",
       "  </tbody>\n",
       "</table>\n",
       "</div>"
      ],
      "text/plain": [
       "            날짜       종가     전일비       시가       고가       저가         거래량\n",
       "9   2021.02.04  82500.0  2100.0  83500.0  83800.0  82100.0  24171688.0\n",
       "10  2021.02.03  84600.0   200.0  84800.0  85400.0  83400.0  22112205.0\n",
       "11  2021.02.02  84400.0  1400.0  84100.0  86400.0  83700.0  26302077.0\n",
       "12  2021.02.01  83000.0  1000.0  81700.0  83400.0  81000.0  28046832.0\n",
       "13  2021.01.29  82000.0  1700.0  84500.0  85000.0  82000.0  39615978.0"
      ]
     },
     "execution_count": 26,
     "metadata": {},
     "output_type": "execute_result"
    }
   ],
   "source": [
    "df.tail()"
   ]
  },
  {
   "cell_type": "markdown",
   "metadata": {
    "id": "DdML6w8yTMkA"
   },
   "source": [
    "## 데이터프레임에 종목코드와 종목명을 추가하기\n",
    "* 파생변수 만들기"
   ]
  },
  {
   "cell_type": "code",
   "execution_count": 27,
   "metadata": {
    "id": "-yIDnlZHTMkA"
   },
   "outputs": [],
   "source": [
    "# '종목코드'와 '종목명' column을 추가하면서 각각 item_code와 item_name 값을 입력합니다.\n",
    "df[\"종목코드\"] = item_code\n",
    "df[\"종목명\"] = item_name"
   ]
  },
  {
   "cell_type": "code",
   "execution_count": 28,
   "metadata": {
    "id": "bwDA0C4PTMkA"
   },
   "outputs": [
    {
     "data": {
      "text/html": [
       "<div>\n",
       "<style scoped>\n",
       "    .dataframe tbody tr th:only-of-type {\n",
       "        vertical-align: middle;\n",
       "    }\n",
       "\n",
       "    .dataframe tbody tr th {\n",
       "        vertical-align: top;\n",
       "    }\n",
       "\n",
       "    .dataframe thead th {\n",
       "        text-align: right;\n",
       "    }\n",
       "</style>\n",
       "<table border=\"1\" class=\"dataframe\">\n",
       "  <thead>\n",
       "    <tr style=\"text-align: right;\">\n",
       "      <th></th>\n",
       "      <th>날짜</th>\n",
       "      <th>종가</th>\n",
       "      <th>전일비</th>\n",
       "      <th>시가</th>\n",
       "      <th>고가</th>\n",
       "      <th>저가</th>\n",
       "      <th>거래량</th>\n",
       "      <th>종목코드</th>\n",
       "      <th>종목명</th>\n",
       "    </tr>\n",
       "  </thead>\n",
       "  <tbody>\n",
       "    <tr>\n",
       "      <th>1</th>\n",
       "      <td>2021.06.24</td>\n",
       "      <td>81200.0</td>\n",
       "      <td>1100.0</td>\n",
       "      <td>80400.0</td>\n",
       "      <td>81400.0</td>\n",
       "      <td>80100.0</td>\n",
       "      <td>18482196.0</td>\n",
       "      <td>005930</td>\n",
       "      <td>하이브</td>\n",
       "    </tr>\n",
       "  </tbody>\n",
       "</table>\n",
       "</div>"
      ],
      "text/plain": [
       "           날짜       종가     전일비       시가       고가       저가         거래량    종목코드  \\\n",
       "1  2021.06.24  81200.0  1100.0  80400.0  81400.0  80100.0  18482196.0  005930   \n",
       "\n",
       "   종목명  \n",
       "1  하이브  "
      ]
     },
     "execution_count": 28,
     "metadata": {},
     "output_type": "execute_result"
    }
   ],
   "source": [
    "df.head(1)"
   ]
  },
  {
   "cell_type": "markdown",
   "metadata": {
    "id": "3RlnKPE1TMkA"
   },
   "source": [
    "## 컬럼 순서 변경하기"
   ]
  },
  {
   "cell_type": "code",
   "execution_count": 29,
   "metadata": {
    "id": "JblNSbuRTMkA"
   },
   "outputs": [],
   "source": [
    "# DataFrame에서 column 들의 이름을 순서를 조정하여 column순서를 변경할 수 있습니다.\n"
   ]
  },
  {
   "cell_type": "code",
   "execution_count": 30,
   "metadata": {},
   "outputs": [],
   "source": [
    "cols = ['종목코드', '종목명', '날짜', '종가', '전일비', '시가', '고가', '저가', '거래량']\n",
    "df = df[cols]"
   ]
  },
  {
   "cell_type": "markdown",
   "metadata": {
    "id": "_-SXjeiSTMkA"
   },
   "source": [
    "## 중복데이터 제거하기\n",
    "* drop_duplicates 를 통해 중복된 데이터가 있다면 제거합니다."
   ]
  },
  {
   "cell_type": "code",
   "execution_count": 31,
   "metadata": {
    "id": "F0VZGMNRTMkA"
   },
   "outputs": [
    {
     "name": "stdout",
     "output_type": "stream",
     "text": [
      "(100, 9)\n",
      "(100, 9)\n"
     ]
    }
   ],
   "source": [
    "# drop_duplicates : row들 끼리 data를 비교하여 같은 값이 있으면 row중 하나를 삭제\n",
    "# df.shape를 전/후로 출력하여 삭제된 row가 있는지 확인\n",
    "print(df.shape)\n",
    "df = df.drop_duplicates()\n",
    "print(df.shape)"
   ]
  },
  {
   "cell_type": "markdown",
   "metadata": {
    "id": "viEbEi4iTMkB"
   },
   "source": [
    "## 기술통계값 구하기"
   ]
  },
  {
   "cell_type": "code",
   "execution_count": 32,
   "metadata": {
    "id": "Q-gV-QPPTMkB"
   },
   "outputs": [
    {
     "data": {
      "text/html": [
       "<div>\n",
       "<style scoped>\n",
       "    .dataframe tbody tr th:only-of-type {\n",
       "        vertical-align: middle;\n",
       "    }\n",
       "\n",
       "    .dataframe tbody tr th {\n",
       "        vertical-align: top;\n",
       "    }\n",
       "\n",
       "    .dataframe thead th {\n",
       "        text-align: right;\n",
       "    }\n",
       "</style>\n",
       "<table border=\"1\" class=\"dataframe\">\n",
       "  <thead>\n",
       "    <tr style=\"text-align: right;\">\n",
       "      <th></th>\n",
       "      <th>종가</th>\n",
       "      <th>전일비</th>\n",
       "      <th>시가</th>\n",
       "      <th>고가</th>\n",
       "      <th>저가</th>\n",
       "      <th>거래량</th>\n",
       "    </tr>\n",
       "  </thead>\n",
       "  <tbody>\n",
       "    <tr>\n",
       "      <th>count</th>\n",
       "      <td>100.000000</td>\n",
       "      <td>100.000000</td>\n",
       "      <td>100.000000</td>\n",
       "      <td>100.000000</td>\n",
       "      <td>100.000000</td>\n",
       "      <td>1.000000e+02</td>\n",
       "    </tr>\n",
       "    <tr>\n",
       "      <th>mean</th>\n",
       "      <td>82118.000000</td>\n",
       "      <td>721.000000</td>\n",
       "      <td>82267.000000</td>\n",
       "      <td>82809.000000</td>\n",
       "      <td>81610.000000</td>\n",
       "      <td>1.864049e+07</td>\n",
       "    </tr>\n",
       "    <tr>\n",
       "      <th>std</th>\n",
       "      <td>1551.954128</td>\n",
       "      <td>639.490801</td>\n",
       "      <td>1617.458725</td>\n",
       "      <td>1633.988428</td>\n",
       "      <td>1436.993213</td>\n",
       "      <td>6.099834e+06</td>\n",
       "    </tr>\n",
       "    <tr>\n",
       "      <th>min</th>\n",
       "      <td>78500.000000</td>\n",
       "      <td>0.000000</td>\n",
       "      <td>78900.000000</td>\n",
       "      <td>79600.000000</td>\n",
       "      <td>78400.000000</td>\n",
       "      <td>1.007568e+07</td>\n",
       "    </tr>\n",
       "    <tr>\n",
       "      <th>25%</th>\n",
       "      <td>81000.000000</td>\n",
       "      <td>200.000000</td>\n",
       "      <td>81075.000000</td>\n",
       "      <td>81600.000000</td>\n",
       "      <td>80700.000000</td>\n",
       "      <td>1.408057e+07</td>\n",
       "    </tr>\n",
       "    <tr>\n",
       "      <th>50%</th>\n",
       "      <td>82000.000000</td>\n",
       "      <td>600.000000</td>\n",
       "      <td>82300.000000</td>\n",
       "      <td>82800.000000</td>\n",
       "      <td>81600.000000</td>\n",
       "      <td>1.736746e+07</td>\n",
       "    </tr>\n",
       "    <tr>\n",
       "      <th>75%</th>\n",
       "      <td>83000.000000</td>\n",
       "      <td>1000.000000</td>\n",
       "      <td>83300.000000</td>\n",
       "      <td>84000.000000</td>\n",
       "      <td>82525.000000</td>\n",
       "      <td>2.091418e+07</td>\n",
       "    </tr>\n",
       "    <tr>\n",
       "      <th>max</th>\n",
       "      <td>86000.000000</td>\n",
       "      <td>3300.000000</td>\n",
       "      <td>86200.000000</td>\n",
       "      <td>86400.000000</td>\n",
       "      <td>85400.000000</td>\n",
       "      <td>3.961598e+07</td>\n",
       "    </tr>\n",
       "  </tbody>\n",
       "</table>\n",
       "</div>"
      ],
      "text/plain": [
       "                 종가          전일비            시가            고가            저가  \\\n",
       "count    100.000000   100.000000    100.000000    100.000000    100.000000   \n",
       "mean   82118.000000   721.000000  82267.000000  82809.000000  81610.000000   \n",
       "std     1551.954128   639.490801   1617.458725   1633.988428   1436.993213   \n",
       "min    78500.000000     0.000000  78900.000000  79600.000000  78400.000000   \n",
       "25%    81000.000000   200.000000  81075.000000  81600.000000  80700.000000   \n",
       "50%    82000.000000   600.000000  82300.000000  82800.000000  81600.000000   \n",
       "75%    83000.000000  1000.000000  83300.000000  84000.000000  82525.000000   \n",
       "max    86000.000000  3300.000000  86200.000000  86400.000000  85400.000000   \n",
       "\n",
       "                거래량  \n",
       "count  1.000000e+02  \n",
       "mean   1.864049e+07  \n",
       "std    6.099834e+06  \n",
       "min    1.007568e+07  \n",
       "25%    1.408057e+07  \n",
       "50%    1.736746e+07  \n",
       "75%    2.091418e+07  \n",
       "max    3.961598e+07  "
      ]
     },
     "execution_count": 32,
     "metadata": {},
     "output_type": "execute_result"
    }
   ],
   "source": [
    "# describe는 기본적으로 수치데이터에 대한 기술통계값을 구하게 됩니다.\n",
    "df.describe()"
   ]
  },
  {
   "cell_type": "markdown",
   "metadata": {},
   "source": [
    "* 참고 : E notation\n",
    "[과학적 기수법 - 위키백과, 우리 모두의 백과사전](https://ko.wikipedia.org/wiki/%EA%B3%BC%ED%95%99%EC%A0%81_%EA%B8%B0%EC%88%98%EB%B2%95)\n",
    "\n",
    "과학적 기수법, 과학적 표기법(scientific notation, scientific form, standard index form, standard form)은 너무 크거나 너무 작은 숫자들을 십진법으로 편하게 작성하여 표현하는 방법이다. 과학자, 수학자, 공학자들이 공통적으로 사용하는데, 부분적인 이유는 특정한 산술을 단순화시켜 주기 때문이다. 과학 계산기에서는 \"SCI\" 디스플레이 모드라는 이름으로 알려져 있다."
   ]
  },
  {
   "cell_type": "code",
   "execution_count": 33,
   "metadata": {},
   "outputs": [
    {
     "data": {
      "text/plain": [
       "39615980.0"
      ]
     },
     "execution_count": 33,
     "metadata": {},
     "output_type": "execute_result"
    }
   ],
   "source": [
    "# 거래량의 과학적 기수법 읽기\n",
    "3.961598e+07"
   ]
  },
  {
   "cell_type": "markdown",
   "metadata": {
    "id": "Ql0phnyuTMkB"
   },
   "source": [
    "## 최근 날짜 구해서 파일명 만들기"
   ]
  },
  {
   "cell_type": "code",
   "execution_count": 34,
   "metadata": {},
   "outputs": [
    {
     "data": {
      "text/html": [
       "<div>\n",
       "<style scoped>\n",
       "    .dataframe tbody tr th:only-of-type {\n",
       "        vertical-align: middle;\n",
       "    }\n",
       "\n",
       "    .dataframe tbody tr th {\n",
       "        vertical-align: top;\n",
       "    }\n",
       "\n",
       "    .dataframe thead th {\n",
       "        text-align: right;\n",
       "    }\n",
       "</style>\n",
       "<table border=\"1\" class=\"dataframe\">\n",
       "  <thead>\n",
       "    <tr style=\"text-align: right;\">\n",
       "      <th></th>\n",
       "      <th>종목코드</th>\n",
       "      <th>종목명</th>\n",
       "      <th>날짜</th>\n",
       "      <th>종가</th>\n",
       "      <th>전일비</th>\n",
       "      <th>시가</th>\n",
       "      <th>고가</th>\n",
       "      <th>저가</th>\n",
       "      <th>거래량</th>\n",
       "    </tr>\n",
       "  </thead>\n",
       "  <tbody>\n",
       "    <tr>\n",
       "      <th>1</th>\n",
       "      <td>005930</td>\n",
       "      <td>하이브</td>\n",
       "      <td>2021.06.24</td>\n",
       "      <td>81200.0</td>\n",
       "      <td>1100.0</td>\n",
       "      <td>80400.0</td>\n",
       "      <td>81400.0</td>\n",
       "      <td>80100.0</td>\n",
       "      <td>18482196.0</td>\n",
       "    </tr>\n",
       "  </tbody>\n",
       "</table>\n",
       "</div>"
      ],
      "text/plain": [
       "     종목코드  종목명          날짜       종가     전일비       시가       고가       저가  \\\n",
       "1  005930  하이브  2021.06.24  81200.0  1100.0  80400.0  81400.0  80100.0   \n",
       "\n",
       "          거래량  \n",
       "1  18482196.0  "
      ]
     },
     "execution_count": 34,
     "metadata": {},
     "output_type": "execute_result"
    }
   ],
   "source": [
    "df.head(1)"
   ]
  },
  {
   "cell_type": "code",
   "execution_count": 35,
   "metadata": {
    "id": "_dyLUpVVTMkB"
   },
   "outputs": [
    {
     "data": {
      "text/plain": [
       "'2021-06-24'"
      ]
     },
     "execution_count": 35,
     "metadata": {},
     "output_type": "execute_result"
    }
   ],
   "source": [
    "# 날짜 column의 첫 row값 확인\n",
    "date = df.iloc[0][\"날짜\"]\n",
    "date = date.replace(\".\", \"-\")\n",
    "date"
   ]
  },
  {
   "cell_type": "code",
   "execution_count": 36,
   "metadata": {
    "id": "teInPugvTMkB"
   },
   "outputs": [],
   "source": [
    "# 종목명, 종목코드, 날짜를 이름으로 하는 csv 파일명 만들기\n",
    "file_name = f\"daily-price-{date}.csv\""
   ]
  },
  {
   "cell_type": "markdown",
   "metadata": {
    "id": "1LXe-dutTMkB"
   },
   "source": [
    "## 파일로 저장하기"
   ]
  },
  {
   "cell_type": "code",
   "execution_count": 37,
   "metadata": {
    "id": "dBRXOwIxTMkB"
   },
   "outputs": [],
   "source": [
    "# 파일로 저장하기 \n",
    "# index=False 로 데이터프레임의 기본 index 는 저장하지 않도록 합니다.\n",
    "df.to_csv(file_name, index=False)"
   ]
  },
  {
   "cell_type": "code",
   "execution_count": 38,
   "metadata": {
    "id": "EEfm9Yk9TMkB"
   },
   "outputs": [
    {
     "data": {
      "text/html": [
       "<div>\n",
       "<style scoped>\n",
       "    .dataframe tbody tr th:only-of-type {\n",
       "        vertical-align: middle;\n",
       "    }\n",
       "\n",
       "    .dataframe tbody tr th {\n",
       "        vertical-align: top;\n",
       "    }\n",
       "\n",
       "    .dataframe thead th {\n",
       "        text-align: right;\n",
       "    }\n",
       "</style>\n",
       "<table border=\"1\" class=\"dataframe\">\n",
       "  <thead>\n",
       "    <tr style=\"text-align: right;\">\n",
       "      <th></th>\n",
       "      <th>종목코드</th>\n",
       "      <th>종목명</th>\n",
       "      <th>날짜</th>\n",
       "      <th>종가</th>\n",
       "      <th>전일비</th>\n",
       "      <th>시가</th>\n",
       "      <th>고가</th>\n",
       "      <th>저가</th>\n",
       "      <th>거래량</th>\n",
       "    </tr>\n",
       "  </thead>\n",
       "  <tbody>\n",
       "    <tr>\n",
       "      <th>0</th>\n",
       "      <td>5930</td>\n",
       "      <td>하이브</td>\n",
       "      <td>2021.06.24</td>\n",
       "      <td>81200.0</td>\n",
       "      <td>1100.0</td>\n",
       "      <td>80400.0</td>\n",
       "      <td>81400.0</td>\n",
       "      <td>80100.0</td>\n",
       "      <td>18482196.0</td>\n",
       "    </tr>\n",
       "    <tr>\n",
       "      <th>1</th>\n",
       "      <td>5930</td>\n",
       "      <td>하이브</td>\n",
       "      <td>2021.06.23</td>\n",
       "      <td>80100.0</td>\n",
       "      <td>100.0</td>\n",
       "      <td>80500.0</td>\n",
       "      <td>80600.0</td>\n",
       "      <td>79900.0</td>\n",
       "      <td>13856548.0</td>\n",
       "    </tr>\n",
       "    <tr>\n",
       "      <th>2</th>\n",
       "      <td>5930</td>\n",
       "      <td>하이브</td>\n",
       "      <td>2021.06.22</td>\n",
       "      <td>80000.0</td>\n",
       "      <td>100.0</td>\n",
       "      <td>80200.0</td>\n",
       "      <td>80300.0</td>\n",
       "      <td>79900.0</td>\n",
       "      <td>11773365.0</td>\n",
       "    </tr>\n",
       "    <tr>\n",
       "      <th>3</th>\n",
       "      <td>5930</td>\n",
       "      <td>하이브</td>\n",
       "      <td>2021.06.21</td>\n",
       "      <td>79900.0</td>\n",
       "      <td>600.0</td>\n",
       "      <td>79700.0</td>\n",
       "      <td>80000.0</td>\n",
       "      <td>79600.0</td>\n",
       "      <td>16063340.0</td>\n",
       "    </tr>\n",
       "    <tr>\n",
       "      <th>4</th>\n",
       "      <td>5930</td>\n",
       "      <td>하이브</td>\n",
       "      <td>2021.06.18</td>\n",
       "      <td>80500.0</td>\n",
       "      <td>400.0</td>\n",
       "      <td>81100.0</td>\n",
       "      <td>81100.0</td>\n",
       "      <td>80500.0</td>\n",
       "      <td>14916721.0</td>\n",
       "    </tr>\n",
       "    <tr>\n",
       "      <th>...</th>\n",
       "      <td>...</td>\n",
       "      <td>...</td>\n",
       "      <td>...</td>\n",
       "      <td>...</td>\n",
       "      <td>...</td>\n",
       "      <td>...</td>\n",
       "      <td>...</td>\n",
       "      <td>...</td>\n",
       "      <td>...</td>\n",
       "    </tr>\n",
       "    <tr>\n",
       "      <th>95</th>\n",
       "      <td>5930</td>\n",
       "      <td>하이브</td>\n",
       "      <td>2021.02.04</td>\n",
       "      <td>82500.0</td>\n",
       "      <td>2100.0</td>\n",
       "      <td>83500.0</td>\n",
       "      <td>83800.0</td>\n",
       "      <td>82100.0</td>\n",
       "      <td>24171688.0</td>\n",
       "    </tr>\n",
       "    <tr>\n",
       "      <th>96</th>\n",
       "      <td>5930</td>\n",
       "      <td>하이브</td>\n",
       "      <td>2021.02.03</td>\n",
       "      <td>84600.0</td>\n",
       "      <td>200.0</td>\n",
       "      <td>84800.0</td>\n",
       "      <td>85400.0</td>\n",
       "      <td>83400.0</td>\n",
       "      <td>22112205.0</td>\n",
       "    </tr>\n",
       "    <tr>\n",
       "      <th>97</th>\n",
       "      <td>5930</td>\n",
       "      <td>하이브</td>\n",
       "      <td>2021.02.02</td>\n",
       "      <td>84400.0</td>\n",
       "      <td>1400.0</td>\n",
       "      <td>84100.0</td>\n",
       "      <td>86400.0</td>\n",
       "      <td>83700.0</td>\n",
       "      <td>26302077.0</td>\n",
       "    </tr>\n",
       "    <tr>\n",
       "      <th>98</th>\n",
       "      <td>5930</td>\n",
       "      <td>하이브</td>\n",
       "      <td>2021.02.01</td>\n",
       "      <td>83000.0</td>\n",
       "      <td>1000.0</td>\n",
       "      <td>81700.0</td>\n",
       "      <td>83400.0</td>\n",
       "      <td>81000.0</td>\n",
       "      <td>28046832.0</td>\n",
       "    </tr>\n",
       "    <tr>\n",
       "      <th>99</th>\n",
       "      <td>5930</td>\n",
       "      <td>하이브</td>\n",
       "      <td>2021.01.29</td>\n",
       "      <td>82000.0</td>\n",
       "      <td>1700.0</td>\n",
       "      <td>84500.0</td>\n",
       "      <td>85000.0</td>\n",
       "      <td>82000.0</td>\n",
       "      <td>39615978.0</td>\n",
       "    </tr>\n",
       "  </tbody>\n",
       "</table>\n",
       "<p>100 rows × 9 columns</p>\n",
       "</div>"
      ],
      "text/plain": [
       "    종목코드  종목명          날짜       종가     전일비       시가       고가       저가  \\\n",
       "0   5930  하이브  2021.06.24  81200.0  1100.0  80400.0  81400.0  80100.0   \n",
       "1   5930  하이브  2021.06.23  80100.0   100.0  80500.0  80600.0  79900.0   \n",
       "2   5930  하이브  2021.06.22  80000.0   100.0  80200.0  80300.0  79900.0   \n",
       "3   5930  하이브  2021.06.21  79900.0   600.0  79700.0  80000.0  79600.0   \n",
       "4   5930  하이브  2021.06.18  80500.0   400.0  81100.0  81100.0  80500.0   \n",
       "..   ...  ...         ...      ...     ...      ...      ...      ...   \n",
       "95  5930  하이브  2021.02.04  82500.0  2100.0  83500.0  83800.0  82100.0   \n",
       "96  5930  하이브  2021.02.03  84600.0   200.0  84800.0  85400.0  83400.0   \n",
       "97  5930  하이브  2021.02.02  84400.0  1400.0  84100.0  86400.0  83700.0   \n",
       "98  5930  하이브  2021.02.01  83000.0  1000.0  81700.0  83400.0  81000.0   \n",
       "99  5930  하이브  2021.01.29  82000.0  1700.0  84500.0  85000.0  82000.0   \n",
       "\n",
       "           거래량  \n",
       "0   18482196.0  \n",
       "1   13856548.0  \n",
       "2   11773365.0  \n",
       "3   16063340.0  \n",
       "4   14916721.0  \n",
       "..         ...  \n",
       "95  24171688.0  \n",
       "96  22112205.0  \n",
       "97  26302077.0  \n",
       "98  28046832.0  \n",
       "99  39615978.0  \n",
       "\n",
       "[100 rows x 9 columns]"
      ]
     },
     "execution_count": 38,
     "metadata": {},
     "output_type": "execute_result"
    }
   ],
   "source": [
    "# 제대로 저장되었는지 파일을 읽어서 확인합니다.\n",
    "pd.read_csv(file_name)"
   ]
  },
  {
   "cell_type": "markdown",
   "metadata": {},
   "source": [
    "## 전체 과정을 하나의 함수로 만들기"
   ]
  },
  {
   "cell_type": "code",
   "execution_count": 39,
   "metadata": {},
   "outputs": [],
   "source": [
    "def get_item_list(item_code, item_name):\n",
    "    \"\"\"\n",
    "    일별 시세를 수집하는 함수\n",
    "    \"\"\"\n",
    "    # web page 시작번호\n",
    "    page_no = 1\n",
    "    # 데이터를 저장할 빈 변수 선언\n",
    "    item_list = []\n",
    "\n",
    "    while True:\n",
    "        temp = get_day_list(item_code, page_no)\n",
    "        item_list.append(temp)\n",
    "\n",
    "        page_no = page_no + 1\n",
    "        time.sleep(0.1)\n",
    "\n",
    "        #if temp.shape[0] < 10:\n",
    "        if page_no > 10:\n",
    "            break\n",
    "            \n",
    "    df = pd.concat(item_list)\n",
    "    df[\"종목코드\"] = item_code\n",
    "    df[\"종목명\"] = item_name\n",
    "    cols = ['종목코드', '종목명', '날짜', '종가', '전일비', '시가', '고가', '저가', '거래량']\n",
    "    df = df[cols]\n",
    "\n",
    "    return df"
   ]
  },
  {
   "cell_type": "code",
   "execution_count": 40,
   "metadata": {},
   "outputs": [
    {
     "data": {
      "text/html": [
       "<div>\n",
       "<style scoped>\n",
       "    .dataframe tbody tr th:only-of-type {\n",
       "        vertical-align: middle;\n",
       "    }\n",
       "\n",
       "    .dataframe tbody tr th {\n",
       "        vertical-align: top;\n",
       "    }\n",
       "\n",
       "    .dataframe thead th {\n",
       "        text-align: right;\n",
       "    }\n",
       "</style>\n",
       "<table border=\"1\" class=\"dataframe\">\n",
       "  <thead>\n",
       "    <tr style=\"text-align: right;\">\n",
       "      <th></th>\n",
       "      <th>종목코드</th>\n",
       "      <th>종목명</th>\n",
       "      <th>날짜</th>\n",
       "      <th>종가</th>\n",
       "      <th>전일비</th>\n",
       "      <th>시가</th>\n",
       "      <th>고가</th>\n",
       "      <th>저가</th>\n",
       "      <th>거래량</th>\n",
       "    </tr>\n",
       "  </thead>\n",
       "  <tbody>\n",
       "    <tr>\n",
       "      <th>1</th>\n",
       "      <td>326030</td>\n",
       "      <td>SK바이오팜</td>\n",
       "      <td>2021.06.24</td>\n",
       "      <td>122000.0</td>\n",
       "      <td>500.0</td>\n",
       "      <td>121500.0</td>\n",
       "      <td>123000.0</td>\n",
       "      <td>121000.0</td>\n",
       "      <td>223915.0</td>\n",
       "    </tr>\n",
       "    <tr>\n",
       "      <th>2</th>\n",
       "      <td>326030</td>\n",
       "      <td>SK바이오팜</td>\n",
       "      <td>2021.06.23</td>\n",
       "      <td>121500.0</td>\n",
       "      <td>500.0</td>\n",
       "      <td>121000.0</td>\n",
       "      <td>123000.0</td>\n",
       "      <td>119500.0</td>\n",
       "      <td>257022.0</td>\n",
       "    </tr>\n",
       "    <tr>\n",
       "      <th>3</th>\n",
       "      <td>326030</td>\n",
       "      <td>SK바이오팜</td>\n",
       "      <td>2021.06.22</td>\n",
       "      <td>121000.0</td>\n",
       "      <td>2500.0</td>\n",
       "      <td>125000.0</td>\n",
       "      <td>125500.0</td>\n",
       "      <td>120500.0</td>\n",
       "      <td>442181.0</td>\n",
       "    </tr>\n",
       "    <tr>\n",
       "      <th>4</th>\n",
       "      <td>326030</td>\n",
       "      <td>SK바이오팜</td>\n",
       "      <td>2021.06.21</td>\n",
       "      <td>123500.0</td>\n",
       "      <td>4000.0</td>\n",
       "      <td>127500.0</td>\n",
       "      <td>128500.0</td>\n",
       "      <td>123000.0</td>\n",
       "      <td>446269.0</td>\n",
       "    </tr>\n",
       "    <tr>\n",
       "      <th>5</th>\n",
       "      <td>326030</td>\n",
       "      <td>SK바이오팜</td>\n",
       "      <td>2021.06.18</td>\n",
       "      <td>127500.0</td>\n",
       "      <td>1000.0</td>\n",
       "      <td>127000.0</td>\n",
       "      <td>127500.0</td>\n",
       "      <td>124500.0</td>\n",
       "      <td>423591.0</td>\n",
       "    </tr>\n",
       "    <tr>\n",
       "      <th>...</th>\n",
       "      <td>...</td>\n",
       "      <td>...</td>\n",
       "      <td>...</td>\n",
       "      <td>...</td>\n",
       "      <td>...</td>\n",
       "      <td>...</td>\n",
       "      <td>...</td>\n",
       "      <td>...</td>\n",
       "      <td>...</td>\n",
       "    </tr>\n",
       "    <tr>\n",
       "      <th>9</th>\n",
       "      <td>326030</td>\n",
       "      <td>SK바이오팜</td>\n",
       "      <td>2021.02.04</td>\n",
       "      <td>149500.0</td>\n",
       "      <td>0.0</td>\n",
       "      <td>149500.0</td>\n",
       "      <td>149500.0</td>\n",
       "      <td>147500.0</td>\n",
       "      <td>128877.0</td>\n",
       "    </tr>\n",
       "    <tr>\n",
       "      <th>10</th>\n",
       "      <td>326030</td>\n",
       "      <td>SK바이오팜</td>\n",
       "      <td>2021.02.03</td>\n",
       "      <td>149500.0</td>\n",
       "      <td>0.0</td>\n",
       "      <td>149500.0</td>\n",
       "      <td>150000.0</td>\n",
       "      <td>147000.0</td>\n",
       "      <td>205471.0</td>\n",
       "    </tr>\n",
       "    <tr>\n",
       "      <th>11</th>\n",
       "      <td>326030</td>\n",
       "      <td>SK바이오팜</td>\n",
       "      <td>2021.02.02</td>\n",
       "      <td>149500.0</td>\n",
       "      <td>500.0</td>\n",
       "      <td>150500.0</td>\n",
       "      <td>150500.0</td>\n",
       "      <td>149000.0</td>\n",
       "      <td>191541.0</td>\n",
       "    </tr>\n",
       "    <tr>\n",
       "      <th>12</th>\n",
       "      <td>326030</td>\n",
       "      <td>SK바이오팜</td>\n",
       "      <td>2021.02.01</td>\n",
       "      <td>149000.0</td>\n",
       "      <td>4000.0</td>\n",
       "      <td>147500.0</td>\n",
       "      <td>151000.0</td>\n",
       "      <td>145500.0</td>\n",
       "      <td>319412.0</td>\n",
       "    </tr>\n",
       "    <tr>\n",
       "      <th>13</th>\n",
       "      <td>326030</td>\n",
       "      <td>SK바이오팜</td>\n",
       "      <td>2021.01.29</td>\n",
       "      <td>145000.0</td>\n",
       "      <td>3000.0</td>\n",
       "      <td>149000.0</td>\n",
       "      <td>149500.0</td>\n",
       "      <td>144500.0</td>\n",
       "      <td>256485.0</td>\n",
       "    </tr>\n",
       "  </tbody>\n",
       "</table>\n",
       "<p>100 rows × 9 columns</p>\n",
       "</div>"
      ],
      "text/plain": [
       "      종목코드     종목명          날짜        종가     전일비        시가        고가  \\\n",
       "1   326030  SK바이오팜  2021.06.24  122000.0   500.0  121500.0  123000.0   \n",
       "2   326030  SK바이오팜  2021.06.23  121500.0   500.0  121000.0  123000.0   \n",
       "3   326030  SK바이오팜  2021.06.22  121000.0  2500.0  125000.0  125500.0   \n",
       "4   326030  SK바이오팜  2021.06.21  123500.0  4000.0  127500.0  128500.0   \n",
       "5   326030  SK바이오팜  2021.06.18  127500.0  1000.0  127000.0  127500.0   \n",
       "..     ...     ...         ...       ...     ...       ...       ...   \n",
       "9   326030  SK바이오팜  2021.02.04  149500.0     0.0  149500.0  149500.0   \n",
       "10  326030  SK바이오팜  2021.02.03  149500.0     0.0  149500.0  150000.0   \n",
       "11  326030  SK바이오팜  2021.02.02  149500.0   500.0  150500.0  150500.0   \n",
       "12  326030  SK바이오팜  2021.02.01  149000.0  4000.0  147500.0  151000.0   \n",
       "13  326030  SK바이오팜  2021.01.29  145000.0  3000.0  149000.0  149500.0   \n",
       "\n",
       "          저가       거래량  \n",
       "1   121000.0  223915.0  \n",
       "2   119500.0  257022.0  \n",
       "3   120500.0  442181.0  \n",
       "4   123000.0  446269.0  \n",
       "5   124500.0  423591.0  \n",
       "..       ...       ...  \n",
       "9   147500.0  128877.0  \n",
       "10  147000.0  205471.0  \n",
       "11  149000.0  191541.0  \n",
       "12  145500.0  319412.0  \n",
       "13  144500.0  256485.0  \n",
       "\n",
       "[100 rows x 9 columns]"
      ]
     },
     "execution_count": 40,
     "metadata": {},
     "output_type": "execute_result"
    }
   ],
   "source": [
    "# item_code = \"352820\"\n",
    "# item_name = \"하이브\"\n",
    "\n",
    "item_code = \"326030\"\n",
    "item_name = \"SK바이오팜\"\n",
    "\n",
    "get_item_list(item_code, item_name)"
   ]
  },
  {
   "cell_type": "markdown",
   "metadata": {},
   "source": [
    "## 내가 만든 함수의 기능과 소스코드가 궁금하다면?"
   ]
  },
  {
   "cell_type": "code",
   "execution_count": 41,
   "metadata": {},
   "outputs": [],
   "source": [
    "# 도움말 보기\n",
    "# get_item_list?\n"
   ]
  },
  {
   "cell_type": "code",
   "execution_count": 42,
   "metadata": {},
   "outputs": [],
   "source": [
    "# 소스코드 보기\n",
    "# get_item_list??\n"
   ]
  },
  {
   "cell_type": "code",
   "execution_count": null,
   "metadata": {},
   "outputs": [],
   "source": []
  }
 ],
 "metadata": {
  "colab": {
   "collapsed_sections": [],
   "name": "3. 네이버금융 개별종목 수집.ipynb",
   "provenance": [],
   "toc_visible": true
  },
  "hide_input": false,
  "kernelspec": {
   "display_name": "Python 3",
   "language": "python",
   "name": "python3"
  },
  "language_info": {
   "codemirror_mode": {
    "name": "ipython",
    "version": 3
   },
   "file_extension": ".py",
   "mimetype": "text/x-python",
   "name": "python",
   "nbconvert_exporter": "python",
   "pygments_lexer": "ipython3",
   "version": "3.8.8"
  },
  "latex_envs": {
   "LaTeX_envs_menu_present": true,
   "autoclose": false,
   "autocomplete": true,
   "bibliofile": "biblio.bib",
   "cite_by": "apalike",
   "current_citInitial": 1,
   "eqLabelWithNumbers": true,
   "eqNumInitial": 1,
   "hotkeys": {
    "equation": "Ctrl-E",
    "itemize": "Ctrl-I"
   },
   "labels_anchors": false,
   "latex_user_defs": false,
   "report_style_numbering": false,
   "user_envs_cfg": false
  },
  "toc": {
   "base_numbering": 1,
   "nav_menu": {},
   "number_sections": true,
   "sideBar": true,
   "skip_h1_title": false,
   "title_cell": "Table of Contents",
   "title_sidebar": "Contents",
   "toc_cell": false,
   "toc_position": {
    "height": "calc(100% - 180px)",
    "left": "10px",
    "top": "150px",
    "width": "204.8px"
   },
   "toc_section_display": true,
   "toc_window_display": true
  },
  "varInspector": {
   "cols": {
    "lenName": 16,
    "lenType": 16,
    "lenVar": 40
   },
   "kernels_config": {
    "python": {
     "delete_cmd_postfix": "",
     "delete_cmd_prefix": "del ",
     "library": "var_list.py",
     "varRefreshCmd": "print(var_dic_list())"
    },
    "r": {
     "delete_cmd_postfix": ") ",
     "delete_cmd_prefix": "rm(",
     "library": "var_list.r",
     "varRefreshCmd": "cat(var_dic_list()) "
    }
   },
   "types_to_exclude": [
    "module",
    "function",
    "builtin_function_or_method",
    "instance",
    "_Feature"
   ],
   "window_display": false
  }
 },
 "nbformat": 4,
 "nbformat_minor": 1
}
