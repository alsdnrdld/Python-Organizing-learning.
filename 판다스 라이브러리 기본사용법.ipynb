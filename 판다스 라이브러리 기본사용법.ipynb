{
 "cells": [
  {
   "cell_type": "markdown",
   "id": "40bddb45",
   "metadata": {},
   "source": [
    "# 판다스(pandas)"
   ]
  },
  {
   "cell_type": "markdown",
   "id": "dfcdcb01",
   "metadata": {},
   "source": [
    "## 1. pandas 불러오기"
   ]
  },
  {
   "cell_type": "markdown",
   "id": "e560b643",
   "metadata": {},
   "source": [
    "import 라이브러리 명령을 통해 라이브러리를 불러오고,\n",
    "\n",
    "뒤에 'as 줄임말' 이라는 명령을 통해  '줄임말'로 간단하게 이름을 변경하여 사용 할 수 있다."
   ]
  },
  {
   "cell_type": "code",
   "execution_count": null,
   "id": "8f61fa2d",
   "metadata": {},
   "outputs": [],
   "source": []
  },
  {
   "cell_type": "code",
   "execution_count": null,
   "id": "2601d3d9",
   "metadata": {},
   "outputs": [],
   "source": []
  }
 ],
 "metadata": {
  "kernelspec": {
   "display_name": "Python 3",
   "language": "python",
   "name": "python3"
  },
  "language_info": {
   "codemirror_mode": {
    "name": "ipython",
    "version": 3
   },
   "file_extension": ".py",
   "mimetype": "text/x-python",
   "name": "python",
   "nbconvert_exporter": "python",
   "pygments_lexer": "ipython3",
   "version": "3.8.8"
  }
 },
 "nbformat": 4,
 "nbformat_minor": 5
}
