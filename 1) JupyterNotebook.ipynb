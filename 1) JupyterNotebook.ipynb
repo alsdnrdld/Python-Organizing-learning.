{
 "cells": [
  {
   "cell_type": "markdown",
   "metadata": {},
   "source": [
    "# 1.쥬피터노트북\n",
    "\n",
    " - 쥬피터 노트북 특징: 셀 단위 입력 / 실행 / 결과 확인"
   ]
  },
  {
   "cell_type": "markdown",
   "metadata": {},
   "source": [
    "### 1.1 입력/실행하기"
   ]
  },
  {
   "cell_type": "code",
   "execution_count": null,
   "metadata": {},
   "outputs": [],
   "source": [
    "# 아래의 코드를 실행해볼께요.  실행은 시프트(Shift) + 엔터(Enter) 로 합니다. \n",
    "print(\"안녕하세요\")     # print() 는 화면에 출력해주는 명령어에요"
   ]
  },
  {
   "cell_type": "code",
   "execution_count": null,
   "metadata": {},
   "outputs": [],
   "source": [
    "# 회색의 네모 박스가 하나의 셀 입니다. \n",
    "# 셀에 내용을 입력하고, 실행할 수 있습니다. "
   ]
  },
  {
   "cell_type": "code",
   "execution_count": null,
   "metadata": {},
   "outputs": [],
   "source": [
    "# 아래 줄 사이에  아래 식을 입력해볼까요? \n",
    "#   5  +   3\n",
    "# ----------------------------------------#\n",
    "\n",
    "\n",
    "\n",
    "# ---------------------------------------- # \n",
    "# 입력하셨으면 실행해볼께요. 실행은 시프트(shift) + 엔터(Enter)"
   ]
  },
  {
   "cell_type": "markdown",
   "metadata": {},
   "source": [
    "### 1.2. 셀  컨트롤: 추가  / 삭제"
   ]
  },
  {
   "cell_type": "markdown",
   "metadata": {},
   "source": [
    " - 셀 추가(a, b): 셀 선택 후 esc 를 눌러서 커맨드 모드 \n",
    "     - 'a' 입력시   현재 셀 위(above)에 셀 추가 \n",
    "     - 'b' 입력시 현재 셀 아래(below)에 셀 추가 \n",
    "     \n",
    " - 셀 삭제(dd) : d 버튼을 연속으로 2번 "
   ]
  },
  {
   "cell_type": "code",
   "execution_count": null,
   "metadata": {},
   "outputs": [],
   "source": [
    "# 'a' 를 눌러서 바로 위에 셀 추가를 해보세요"
   ]
  },
  {
   "cell_type": "code",
   "execution_count": null,
   "metadata": {},
   "outputs": [],
   "source": [
    "# 'b' 를 눌러서 바로 아래에 셀 추가를 해보세요"
   ]
  },
  {
   "cell_type": "code",
   "execution_count": null,
   "metadata": {},
   "outputs": [],
   "source": [
    "####  삭제 할 내용 ######\n",
    "# 'dd'  를 눌러서 현재 셀을 삭제 해보세요"
   ]
  },
  {
   "cell_type": "markdown",
   "metadata": {},
   "source": [
    "### 1.3.주석 사용하기(#)"
   ]
  },
  {
   "cell_type": "code",
   "execution_count": null,
   "metadata": {},
   "outputs": [],
   "source": [
    "# 현재 셀을 실행해볼께요.  실행은 시프트 + 엔터\n",
    "\n",
    "5 + 10"
   ]
  },
  {
   "cell_type": "code",
   "execution_count": null,
   "metadata": {},
   "outputs": [],
   "source": [
    "# 현재 셀을 실행해볼께요.  실행은 시프트 + 엔터\n",
    "\n",
    "# 5 + 10"
   ]
  },
  {
   "cell_type": "code",
   "execution_count": null,
   "metadata": {},
   "outputs": [],
   "source": [
    "# 동일한 내용( 5+ 10)  인데, 하나는 실행되고 하나는 실행되지 않습니다. \n"
   ]
  },
  {
   "cell_type": "code",
   "execution_count": null,
   "metadata": {},
   "outputs": [],
   "source": [
    "#   <-- 이 기호(샵) 이후의 내용들은 컴퓨터가  해석하지 않고 읽어줍니다.  \"주석\" 이라고 해요\n",
    "\n",
    "print('#을 입력하면 주석으로 표시되어 컴퓨터는 무시합니다')     # 코드 뒷부분도 주석 가능\n",
    "print(3+4)     "
   ]
  },
  {
   "cell_type": "markdown",
   "metadata": {},
   "source": [
    "### ※ 주석 만드는 법\n",
    " 1. `#` 뒤에 원하는 내용 기입하기\n",
    " 1.  주석처리 원하는 행을 선택 후(복수도 가능) `컨트롤 + '/' `\n",
    "     * 다시 한번 더 할 경우 취소도 가능\n",
    "     * 복수의 행도 가능하기에, 코드 실행여부 확인 및 수정 작업시 매우 유용하게 사용 가능합니다. "
   ]
  },
  {
   "cell_type": "markdown",
   "metadata": {},
   "source": [
    "### 1.4 기타 Tip"
   ]
  },
  {
   "cell_type": "markdown",
   "metadata": {},
   "source": [
    "* 라인 넘버 보기 : 메뉴 --> View --> Toggle line numbers 활성화"
   ]
  },
  {
   "cell_type": "markdown",
   "metadata": {},
   "source": [
    "* 하나의 셀 에는 두 가지 모드가 있습니다. \n",
    "\n",
    "        - 더블 클릭 혹은 엔터를 입력하면 -->  편집 모드: 셀 안에 입력 가능\n",
    "        - ESC 를 누르시면 --> 커맨드 모드: 셀 추가, 삭제 등 편집 가능\n"
   ]
  },
  {
   "cell_type": "markdown",
   "metadata": {},
   "source": [
    "* 메뉴바의 Help Keyboard shortcut 을 입력하면 기능 확인 가능"
   ]
  },
  {
   "cell_type": "markdown",
   "metadata": {},
   "source": [
    "* 코드 실행이 되지 않을 경우!\n",
    "\n",
    "    셀 타입이 code 로 되어있는지 확인해주세요~ (메뉴 --> 셀 --> 셀 타입)"
   ]
  },
  {
   "cell_type": "markdown",
   "metadata": {},
   "source": [
    "----"
   ]
  }
 ],
 "metadata": {
  "kernelspec": {
   "display_name": "Python 3",
   "language": "python",
   "name": "python3"
  },
  "language_info": {
   "codemirror_mode": {
    "name": "ipython",
    "version": 3
   },
   "file_extension": ".py",
   "mimetype": "text/x-python",
   "name": "python",
   "nbconvert_exporter": "python",
   "pygments_lexer": "ipython3",
   "version": "3.7.4"
  }
 },
 "nbformat": 4,
 "nbformat_minor": 2
}
