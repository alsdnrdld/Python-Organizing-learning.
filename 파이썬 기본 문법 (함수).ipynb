{
 "cells": [
  {
   "cell_type": "markdown",
   "id": "a808d888",
   "metadata": {},
   "source": [
    "# 3.4. 함수 만들기\n",
    " 반복적으로 사용하는 코드들에 이름을 붙여서 쉽게 사용할 수 있게 하는 것을 함수라 한다."
   ]
  },
  {
   "cell_type": "markdown",
   "id": "60767100",
   "metadata": {},
   "source": [
    " 함수는 다음과 같은 구조를 가지게 된다.\n",
    " \n",
    " def 함수이름 (변수1, 변수2, 변수3,.....,변수n):\n",
    "     \n",
    "     실행내용1\n",
    "     실행내용2\n",
    "     실해내용3\n",
    "     실행내용4\n",
    "     \n",
    "     return 실행결과"
   ]
  },
  {
   "cell_type": "code",
   "execution_count": 2,
   "id": "5a23d5ac",
   "metadata": {},
   "outputs": [],
   "source": [
    "#두 수를 곱한 결과를 반환하는 함수를 만드시오\n",
    "\n",
    "def gob(a,b):\n",
    "    result=a*b\n",
    "    return result"
   ]
  },
  {
   "cell_type": "code",
   "execution_count": 3,
   "id": "be023009",
   "metadata": {},
   "outputs": [
    {
     "name": "stdout",
     "output_type": "stream",
     "text": [
      "10\n"
     ]
    }
   ],
   "source": [
    "a=2\n",
    "b=5\n",
    "\n",
    "result = gob(a,b)\n",
    "print(result)"
   ]
  },
  {
   "cell_type": "markdown",
   "id": "7ae128af",
   "metadata": {},
   "source": [
    "## 실습) 구구단 출력하기"
   ]
  },
  {
   "cell_type": "code",
   "execution_count": 19,
   "id": "dfa7dc7d",
   "metadata": {},
   "outputs": [
    {
     "name": "stdout",
     "output_type": "stream",
     "text": [
      "2 X 1 = 2\n",
      "2 X 2 = 4\n",
      "2 X 3 = 6\n",
      "2 X 4 = 8\n",
      "2 X 5 = 10\n",
      "2 X 6 = 12\n",
      "2 X 7 = 14\n",
      "2 X 8 = 16\n",
      "2 X 9 = 18\n",
      "-------------\n",
      "3 X 1 = 3\n",
      "3 X 2 = 6\n",
      "3 X 3 = 9\n",
      "3 X 4 = 12\n",
      "3 X 5 = 15\n",
      "3 X 6 = 18\n",
      "3 X 7 = 21\n",
      "3 X 8 = 24\n",
      "3 X 9 = 27\n",
      "-------------\n",
      "4 X 1 = 4\n",
      "4 X 2 = 8\n",
      "4 X 3 = 12\n",
      "4 X 4 = 16\n",
      "4 X 5 = 20\n",
      "4 X 6 = 24\n",
      "4 X 7 = 28\n",
      "4 X 8 = 32\n",
      "4 X 9 = 36\n",
      "-------------\n",
      "5 X 1 = 5\n",
      "5 X 2 = 10\n",
      "5 X 3 = 15\n",
      "5 X 4 = 20\n",
      "5 X 5 = 25\n",
      "5 X 6 = 30\n",
      "5 X 7 = 35\n",
      "5 X 8 = 40\n",
      "5 X 9 = 45\n",
      "-------------\n",
      "6 X 1 = 6\n",
      "6 X 2 = 12\n",
      "6 X 3 = 18\n",
      "6 X 4 = 24\n",
      "6 X 5 = 30\n",
      "6 X 6 = 36\n",
      "6 X 7 = 42\n",
      "6 X 8 = 48\n",
      "6 X 9 = 54\n",
      "-------------\n",
      "7 X 1 = 7\n",
      "7 X 2 = 14\n",
      "7 X 3 = 21\n",
      "7 X 4 = 28\n",
      "7 X 5 = 35\n",
      "7 X 6 = 42\n",
      "7 X 7 = 49\n",
      "7 X 8 = 56\n",
      "7 X 9 = 63\n",
      "-------------\n",
      "8 X 1 = 8\n",
      "8 X 2 = 16\n",
      "8 X 3 = 24\n",
      "8 X 4 = 32\n",
      "8 X 5 = 40\n",
      "8 X 6 = 48\n",
      "8 X 7 = 56\n",
      "8 X 8 = 64\n",
      "8 X 9 = 72\n",
      "-------------\n",
      "9 X 1 = 9\n",
      "9 X 2 = 18\n",
      "9 X 3 = 27\n",
      "9 X 4 = 36\n",
      "9 X 5 = 45\n",
      "9 X 6 = 54\n",
      "9 X 7 = 63\n",
      "9 X 8 = 72\n",
      "9 X 9 = 81\n",
      "-------------\n"
     ]
    }
   ],
   "source": [
    "#반복문, 포매팅, 함수를 활용하여 2단~9단의 구구단을 출력하자\n",
    "\n",
    "\n",
    "for a in [2,3,4,5,6,7,8,9]:\n",
    "    for b in [1,2,3,4,5,6,7,8,9]:   #[ ]에서 원소를 하나씩 꺼내어 b에 입력하게 만드는 반복문\n",
    "      #print(a,b,gob(a,b))\n",
    "      sentence = f\"{a} X {b} = {gob(a,b)}\"\n",
    "      print(sentence)\n",
    "    print('-------------')\n",
    "#주의 할 점 : '---------'가 for b와 같은 들여쓰기로 맞춰져 있어야 한다 print(sentence)와 같은 들여쓰기로 맞춰지게되면 \n",
    "#b의 원소가 실행 될 때마다  -----가 생기게 된다 우리가 원하는 것은 원소 a원소의 반복문이 끝날 때마다 구분을 해주는 것이므로\n",
    "#a의 반복 횟수만큼 실행되게 해야한다 그래서 for b와 같은 들여쓰기를 해줘야 한다."
   ]
  },
  {
   "cell_type": "code",
   "execution_count": null,
   "id": "de48a08d",
   "metadata": {},
   "outputs": [],
   "source": []
  },
  {
   "cell_type": "code",
   "execution_count": null,
   "id": "e881b003",
   "metadata": {},
   "outputs": [],
   "source": []
  }
 ],
 "metadata": {
  "kernelspec": {
   "display_name": "Python 3",
   "language": "python",
   "name": "python3"
  },
  "language_info": {
   "codemirror_mode": {
    "name": "ipython",
    "version": 3
   },
   "file_extension": ".py",
   "mimetype": "text/x-python",
   "name": "python",
   "nbconvert_exporter": "python",
   "pygments_lexer": "ipython3",
   "version": "3.8.8"
  }
 },
 "nbformat": 4,
 "nbformat_minor": 5
}
